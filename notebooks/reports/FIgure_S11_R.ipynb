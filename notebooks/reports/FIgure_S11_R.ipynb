{
 "cells": [
  {
   "cell_type": "code",
   "execution_count": null,
   "metadata": {
    "vscode": {
     "languageId": "r"
    }
   },
   "outputs": [
    {
     "ename": "",
     "evalue": "",
     "output_type": "error",
     "traceback": [
      "\u001b[1;31mFailed to start the Kernel. \n",
      "\u001b[1;31mError in dyn.load(file, DLLpath = DLLpath, ...) : \n",
      "\u001b[1;31m  unable to load shared object '/Library/Frameworks/R.framework/Versions/4.1/Resources/library/digest/libs/digest.so':\n",
      "\u001b[1;31m  dlopen(/Library/Frameworks/R.framework/Versions/4.1/Resources/library/digest/libs/digest.so, 0x0006): Library not loaded: '/usr/local/opt/gcc/lib/gcc/11/libstdc++.6.dylib'\n",
      "\u001b[1;31m  Referenced from: '/Library/Frameworks/R.framework/Versions/4.1/Resources/library/digest/libs/digest.so'\n",
      "\u001b[1;31m  Reason: tried: '/usr/local/opt/gcc/lib/gcc/11/libstdc++.6.dylib' (no such file), '/Library/Frameworks/R.framework/Resources/lib/libstdc++.6.dylib' (no such file), '/Library/Java/JavaVirtualMachines/jdk1.8.0_241.jdk/Contents/Home/jre/lib/server/libstdc++.6.dylib' (no such file)\n",
      "\u001b[1;31mCalls: loadNamespace ... namespaceImport -> loadNamespace -> library.dynam -> dyn.load\n",
      "\u001b[1;31mExecution halted. \n",
      "\u001b[1;31mView Jupyter <a href='command:jupyter.viewOutput'>log</a> for further details."
     ]
    }
   ],
   "source": [
    "library(RColorBrewer)\n",
    "library(ape)\n",
    "library(ggplot2)\n",
    "library(ggtree)"
   ]
  },
  {
   "cell_type": "code",
   "execution_count": null,
   "metadata": {
    "vscode": {
     "languageId": "r"
    }
   },
   "outputs": [],
   "source": []
  }
 ],
 "metadata": {
  "kernelspec": {
   "display_name": "R 3.6.2",
   "language": "R",
   "name": "ir3.6.2"
  },
  "language_info": {
   "name": "R"
  },
  "orig_nbformat": 4
 },
 "nbformat": 4,
 "nbformat_minor": 2
}
