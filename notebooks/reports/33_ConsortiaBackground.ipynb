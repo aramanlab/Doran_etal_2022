{
 "cells": [
  {
   "cell_type": "code",
   "execution_count": 1,
   "metadata": {},
   "outputs": [],
   "source": [
    "using DrWatson\n",
    "@quickactivate projectdir()\n",
    "\n",
    "using CSV,DataFrames\n",
    "using StatsBase\n",
    "using StatsPlots\n",
    "theme(:default, grid=false, tickdir=:out, label=:none)"
   ]
  },
  {
   "cell_type": "code",
   "execution_count": 2,
   "metadata": {},
   "outputs": [
    {
     "data": {
      "text/plain": [
       "\"/Users/bend/projects/Doran_etal_2022/data/exp_raw/BBConsortia\""
      ]
     },
     "metadata": {},
     "output_type": "display_data"
    }
   ],
   "source": [
    "ddir = datadir(\"exp_raw\", \"BBConsortia\")"
   ]
  },
  {
   "cell_type": "code",
   "execution_count": 3,
   "metadata": {},
   "outputs": [],
   "source": [
    "smpmap = CSV.read(joinpath(ddir, \"DFI_HMMF_1256_biobank-evnin_EW021622-5c6e08.tsv\"), DataFrame; delim=\"\\t\");\n",
    "df = CSV.read(joinpath(ddir, \"removed_qcs_quant_results_20220301_PFBBr_EVIT1256_20220304.csv\"), DataFrame);\n",
    "df = leftjoin(smpmap, df, on=:HMMF_sampleid => :sampleid);"
   ]
  },
  {
   "cell_type": "code",
   "execution_count": 4,
   "metadata": {},
   "outputs": [
    {
     "data": {
      "text/plain": [
       "3-element Vector{String}:\n",
       " \"DFI.2.45\"\n",
       " \"DFI.1.234\"\n",
       " \"CON.062\""
      ]
     },
     "metadata": {},
     "output_type": "display_data"
    }
   ],
   "source": [
    "keepids = [\n",
    "    \"DFI.2.45\",\n",
    "    \"DFI.1.234\",\n",
    "    \"CON.062\",\n",
    "    # \"blank\",\n",
    "]"
   ]
  },
  {
   "cell_type": "code",
   "execution_count": 5,
   "metadata": {},
   "outputs": [
    {
     "data": {
      "text/html": [
       "<div><div style = \"float: left;\"><span>2×6 DataFrame</span></div><div style = \"clear: both;\"></div></div><div class = \"data-frame\" style = \"overflow-x: scroll;\"><table class = \"data-frame\" style = \"margin-bottom: 6px;\"><thead><tr class = \"header\"><th class = \"rowNumber\" style = \"font-weight: bold; text-align: right;\">Row</th><th style = \"text-align: left;\">msk_id</th><th style = \"text-align: left;\">condition</th><th style = \"text-align: left;\">Acetate_mean</th><th style = \"text-align: left;\">Butyrate_mean</th><th style = \"text-align: left;\">Propionate_mean</th><th style = \"text-align: left;\">Succinate_mean</th></tr><tr class = \"subheader headerLastRow\"><th class = \"rowNumber\" style = \"font-weight: bold; text-align: right;\"></th><th title = \"String15\" style = \"text-align: left;\">String15</th><th title = \"Int64\" style = \"text-align: left;\">Int64</th><th title = \"Float64\" style = \"text-align: left;\">Float64</th><th title = \"Float64\" style = \"text-align: left;\">Float64</th><th title = \"Float64\" style = \"text-align: left;\">Float64</th><th title = \"Float64\" style = \"text-align: left;\">Float64</th></tr></thead><tbody><tr><td class = \"rowNumber\" style = \"font-weight: bold; text-align: right;\">1</td><td style = \"text-align: left;\">blank</td><td style = \"text-align: right;\">0</td><td style = \"text-align: right;\">4.34333</td><td style = \"text-align: right;\">0.14</td><td style = \"text-align: right;\">0.14</td><td style = \"text-align: right;\">0.833333</td></tr><tr><td class = \"rowNumber\" style = \"font-weight: bold; text-align: right;\">2</td><td style = \"text-align: left;\">blank</td><td style = \"text-align: right;\">5</td><td style = \"text-align: right;\">4.29667</td><td style = \"text-align: right;\">0.126667</td><td style = \"text-align: right;\">0.143333</td><td style = \"text-align: right;\">0.82</td></tr></tbody></table></div>"
      ],
      "text/latex": [
       "\\begin{tabular}{r|cccccc}\n",
       "\t& msk\\_id & condition & Acetate\\_mean & Butyrate\\_mean & Propionate\\_mean & Succinate\\_mean\\\\\n",
       "\t\\hline\n",
       "\t& String15 & Int64 & Float64 & Float64 & Float64 & Float64\\\\\n",
       "\t\\hline\n",
       "\t1 & blank & 0 & 4.34333 & 0.14 & 0.14 & 0.833333 \\\\\n",
       "\t2 & blank & 5 & 4.29667 & 0.126667 & 0.143333 & 0.82 \\\\\n",
       "\\end{tabular}\n"
      ],
      "text/plain": [
       "\u001b[1m2×6 DataFrame\u001b[0m\n",
       "\u001b[1m Row \u001b[0m│\u001b[1m msk_id   \u001b[0m\u001b[1m condition \u001b[0m\u001b[1m Acetate_mean \u001b[0m\u001b[1m Butyrate_mean \u001b[0m\u001b[1m Propionate_mean \u001b[0m\u001b[1m Succ\u001b[0m ⋯\n",
       "     │\u001b[90m String15 \u001b[0m\u001b[90m Int64     \u001b[0m\u001b[90m Float64      \u001b[0m\u001b[90m Float64       \u001b[0m\u001b[90m Float64         \u001b[0m\u001b[90m Floa\u001b[0m ⋯\n",
       "─────┼──────────────────────────────────────────────────────────────────────────\n",
       "   1 │ blank             0       4.34333       0.14             0.14           ⋯\n",
       "   2 │ blank             5       4.29667       0.126667         0.143333\n",
       "\u001b[36m                                                                1 column omitted\u001b[0m"
      ]
     },
     "metadata": {},
     "output_type": "display_data"
    }
   ],
   "source": [
    "subset(df, :msk_id => ByRow(∈([\"blank\"]))) |> \n",
    "    df -> sort(df, [:msk_id, \"taurocholic_acid__ug.ml\"]) |>\n",
    "    df -> select(df, \n",
    "        :msk_id,\n",
    "        \"taurocholic_acid__ug.ml\" => :condition,\n",
    "        :Acetate,\n",
    "        :Butyrate, \n",
    "        :Propionate,\n",
    "        :Succinate,\n",
    "    ) |>\n",
    "    df -> groupby(df, [:msk_id, :condition]) |>\n",
    "    df -> combine(df, [:Acetate, :Butyrate,:Propionate, :Succinate] .=> mean)"
   ]
  },
  {
   "cell_type": "code",
   "execution_count": 6,
   "metadata": {},
   "outputs": [
    {
     "data": {
      "text/html": [
       "<div><div style = \"float: left;\"><span>18×7 DataFrame</span></div><div style = \"clear: both;\"></div></div><div class = \"data-frame\" style = \"overflow-x: scroll;\"><table class = \"data-frame\" style = \"margin-bottom: 6px;\"><thead><tr class = \"header\"><th class = \"rowNumber\" style = \"font-weight: bold; text-align: right;\">Row</th><th style = \"text-align: left;\">msk_id</th><th style = \"text-align: left;\">condition</th><th style = \"text-align: left;\">Acetate</th><th style = \"text-align: left;\">Butyrate</th><th style = \"text-align: left;\">Propionate</th><th style = \"text-align: left;\">Succinate</th><th style = \"text-align: left;\">Acetate_log2FC</th></tr><tr class = \"subheader headerLastRow\"><th class = \"rowNumber\" style = \"font-weight: bold; text-align: right;\"></th><th title = \"String15\" style = \"text-align: left;\">String15</th><th title = \"Int64\" style = \"text-align: left;\">Int64</th><th title = \"Union{Missing, Float64}\" style = \"text-align: left;\">Float64?</th><th title = \"Union{Missing, Float64}\" style = \"text-align: left;\">Float64?</th><th title = \"Union{Missing, Float64}\" style = \"text-align: left;\">Float64?</th><th title = \"Union{Missing, Float64}\" style = \"text-align: left;\">Float64?</th><th title = \"Float64\" style = \"text-align: left;\">Float64</th></tr></thead><tbody><tr><td class = \"rowNumber\" style = \"font-weight: bold; text-align: right;\">1</td><td style = \"text-align: left;\">CON.062</td><td style = \"text-align: right;\">0</td><td style = \"text-align: right;\">23.54</td><td style = \"text-align: right;\">0.11</td><td style = \"text-align: right;\">0.11</td><td style = \"text-align: right;\">0.79</td><td style = \"text-align: right;\">2.45271</td></tr><tr><td class = \"rowNumber\" style = \"font-weight: bold; text-align: right;\">2</td><td style = \"text-align: left;\">CON.062</td><td style = \"text-align: right;\">0</td><td style = \"text-align: right;\">24.1</td><td style = \"text-align: right;\">0.12</td><td style = \"text-align: right;\">0.11</td><td style = \"text-align: right;\">0.84</td><td style = \"text-align: right;\">2.48662</td></tr><tr><td class = \"rowNumber\" style = \"font-weight: bold; text-align: right;\">3</td><td style = \"text-align: left;\">CON.062</td><td style = \"text-align: right;\">0</td><td style = \"text-align: right;\">30.43</td><td style = \"text-align: right;\">0.16</td><td style = \"text-align: right;\">0.12</td><td style = \"text-align: right;\">1.03</td><td style = \"text-align: right;\">2.82309</td></tr><tr><td class = \"rowNumber\" style = \"font-weight: bold; text-align: right;\">4</td><td style = \"text-align: left;\">CON.062</td><td style = \"text-align: right;\">5</td><td style = \"text-align: right;\">23.44</td><td style = \"text-align: right;\">0.13</td><td style = \"text-align: right;\">0.12</td><td style = \"text-align: right;\">0.83</td><td style = \"text-align: right;\">2.44656</td></tr><tr><td class = \"rowNumber\" style = \"font-weight: bold; text-align: right;\">5</td><td style = \"text-align: left;\">CON.062</td><td style = \"text-align: right;\">5</td><td style = \"text-align: right;\">22.47</td><td style = \"text-align: right;\">0.11</td><td style = \"text-align: right;\">0.13</td><td style = \"text-align: right;\">0.78</td><td style = \"text-align: right;\">2.38559</td></tr><tr><td class = \"rowNumber\" style = \"font-weight: bold; text-align: right;\">6</td><td style = \"text-align: left;\">CON.062</td><td style = \"text-align: right;\">5</td><td style = \"text-align: right;\">24.69</td><td style = \"text-align: right;\">0.12</td><td style = \"text-align: right;\">0.1</td><td style = \"text-align: right;\">0.9</td><td style = \"text-align: right;\">2.52152</td></tr><tr><td class = \"rowNumber\" style = \"font-weight: bold; text-align: right;\">7</td><td style = \"text-align: left;\">DFI.1.234</td><td style = \"text-align: right;\">0</td><td style = \"text-align: right;\">25.71</td><td style = \"text-align: right;\">0.14</td><td style = \"text-align: right;\">0.14</td><td style = \"text-align: right;\">0.83</td><td style = \"text-align: right;\">2.57992</td></tr><tr><td class = \"rowNumber\" style = \"font-weight: bold; text-align: right;\">8</td><td style = \"text-align: left;\">DFI.1.234</td><td style = \"text-align: right;\">0</td><td style = \"text-align: right;\">24.34</td><td style = \"text-align: right;\">0.12</td><td style = \"text-align: right;\">0.1</td><td style = \"text-align: right;\">0.7</td><td style = \"text-align: right;\">2.50092</td></tr><tr><td class = \"rowNumber\" style = \"font-weight: bold; text-align: right;\">9</td><td style = \"text-align: left;\">DFI.1.234</td><td style = \"text-align: right;\">0</td><td style = \"text-align: right;\">24.17</td><td style = \"text-align: right;\">0.13</td><td style = \"text-align: right;\">0.11</td><td style = \"text-align: right;\">0.75</td><td style = \"text-align: right;\">2.49081</td></tr><tr><td class = \"rowNumber\" style = \"font-weight: bold; text-align: right;\">10</td><td style = \"text-align: left;\">DFI.1.234</td><td style = \"text-align: right;\">5</td><td style = \"text-align: right;\">22.47</td><td style = \"text-align: right;\">0.14</td><td style = \"text-align: right;\">0.13</td><td style = \"text-align: right;\">0.81</td><td style = \"text-align: right;\">2.38559</td></tr><tr><td class = \"rowNumber\" style = \"font-weight: bold; text-align: right;\">11</td><td style = \"text-align: left;\">DFI.1.234</td><td style = \"text-align: right;\">5</td><td style = \"text-align: right;\">17.36</td><td style = \"text-align: right;\">0.11</td><td style = \"text-align: right;\">0.12</td><td style = \"text-align: right;\">0.76</td><td style = \"text-align: right;\">2.01336</td></tr><tr><td class = \"rowNumber\" style = \"font-weight: bold; text-align: right;\">12</td><td style = \"text-align: left;\">DFI.1.234</td><td style = \"text-align: right;\">5</td><td style = \"text-align: right;\">17.21</td><td style = \"text-align: right;\">0.13</td><td style = \"text-align: right;\">0.11</td><td style = \"text-align: right;\">0.7</td><td style = \"text-align: right;\">2.00084</td></tr><tr><td class = \"rowNumber\" style = \"font-weight: bold; text-align: right;\">13</td><td style = \"text-align: left;\">DFI.2.45</td><td style = \"text-align: right;\">0</td><td style = \"text-align: right;\">21.09</td><td style = \"text-align: right;\">0.12</td><td style = \"text-align: right;\">0.12</td><td style = \"text-align: right;\">0.84</td><td style = \"text-align: right;\">2.29415</td></tr><tr><td class = \"rowNumber\" style = \"font-weight: bold; text-align: right;\">14</td><td style = \"text-align: left;\">DFI.2.45</td><td style = \"text-align: right;\">0</td><td style = \"text-align: right;\">20.55</td><td style = \"text-align: right;\">0.1</td><td style = \"text-align: right;\">0.11</td><td style = \"text-align: right;\">0.82</td><td style = \"text-align: right;\">2.25673</td></tr><tr><td class = \"rowNumber\" style = \"font-weight: bold; text-align: right;\">15</td><td style = \"text-align: left;\">DFI.2.45</td><td style = \"text-align: right;\">0</td><td style = \"text-align: right;\">21.09</td><td style = \"text-align: right;\">0.12</td><td style = \"text-align: right;\">0.13</td><td style = \"text-align: right;\">0.82</td><td style = \"text-align: right;\">2.29415</td></tr><tr><td class = \"rowNumber\" style = \"font-weight: bold; text-align: right;\">16</td><td style = \"text-align: left;\">DFI.2.45</td><td style = \"text-align: right;\">5</td><td style = \"text-align: right;\">22.72</td><td style = \"text-align: right;\">0.11</td><td style = \"text-align: right;\">0.14</td><td style = \"text-align: right;\">0.89</td><td style = \"text-align: right;\">2.40155</td></tr><tr><td class = \"rowNumber\" style = \"font-weight: bold; text-align: right;\">17</td><td style = \"text-align: left;\">DFI.2.45</td><td style = \"text-align: right;\">5</td><td style = \"text-align: right;\">20.4</td><td style = \"text-align: right;\">0.12</td><td style = \"text-align: right;\">0.12</td><td style = \"text-align: right;\">0.86</td><td style = \"text-align: right;\">2.24616</td></tr><tr><td class = \"rowNumber\" style = \"font-weight: bold; text-align: right;\">18</td><td style = \"text-align: left;\">DFI.2.45</td><td style = \"text-align: right;\">5</td><td style = \"text-align: right;\">20.84</td><td style = \"text-align: right;\">0.12</td><td style = \"text-align: right;\">0.13</td><td style = \"text-align: right;\">0.81</td><td style = \"text-align: right;\">2.27695</td></tr></tbody></table></div>"
      ],
      "text/latex": [
       "\\begin{tabular}{r|ccccccc}\n",
       "\t& msk\\_id & condition & Acetate & Butyrate & Propionate & Succinate & Acetate\\_log2FC\\\\\n",
       "\t\\hline\n",
       "\t& String15 & Int64 & Float64? & Float64? & Float64? & Float64? & Float64\\\\\n",
       "\t\\hline\n",
       "\t1 & CON.062 & 0 & 23.54 & 0.11 & 0.11 & 0.79 & 2.45271 \\\\\n",
       "\t2 & CON.062 & 0 & 24.1 & 0.12 & 0.11 & 0.84 & 2.48662 \\\\\n",
       "\t3 & CON.062 & 0 & 30.43 & 0.16 & 0.12 & 1.03 & 2.82309 \\\\\n",
       "\t4 & CON.062 & 5 & 23.44 & 0.13 & 0.12 & 0.83 & 2.44656 \\\\\n",
       "\t5 & CON.062 & 5 & 22.47 & 0.11 & 0.13 & 0.78 & 2.38559 \\\\\n",
       "\t6 & CON.062 & 5 & 24.69 & 0.12 & 0.1 & 0.9 & 2.52152 \\\\\n",
       "\t7 & DFI.1.234 & 0 & 25.71 & 0.14 & 0.14 & 0.83 & 2.57992 \\\\\n",
       "\t8 & DFI.1.234 & 0 & 24.34 & 0.12 & 0.1 & 0.7 & 2.50092 \\\\\n",
       "\t9 & DFI.1.234 & 0 & 24.17 & 0.13 & 0.11 & 0.75 & 2.49081 \\\\\n",
       "\t10 & DFI.1.234 & 5 & 22.47 & 0.14 & 0.13 & 0.81 & 2.38559 \\\\\n",
       "\t11 & DFI.1.234 & 5 & 17.36 & 0.11 & 0.12 & 0.76 & 2.01336 \\\\\n",
       "\t12 & DFI.1.234 & 5 & 17.21 & 0.13 & 0.11 & 0.7 & 2.00084 \\\\\n",
       "\t13 & DFI.2.45 & 0 & 21.09 & 0.12 & 0.12 & 0.84 & 2.29415 \\\\\n",
       "\t14 & DFI.2.45 & 0 & 20.55 & 0.1 & 0.11 & 0.82 & 2.25673 \\\\\n",
       "\t15 & DFI.2.45 & 0 & 21.09 & 0.12 & 0.13 & 0.82 & 2.29415 \\\\\n",
       "\t16 & DFI.2.45 & 5 & 22.72 & 0.11 & 0.14 & 0.89 & 2.40155 \\\\\n",
       "\t17 & DFI.2.45 & 5 & 20.4 & 0.12 & 0.12 & 0.86 & 2.24616 \\\\\n",
       "\t18 & DFI.2.45 & 5 & 20.84 & 0.12 & 0.13 & 0.81 & 2.27695 \\\\\n",
       "\\end{tabular}\n"
      ],
      "text/plain": [
       "\u001b[1m18×7 DataFrame\u001b[0m\n",
       "\u001b[1m Row \u001b[0m│\u001b[1m msk_id    \u001b[0m\u001b[1m condition \u001b[0m\u001b[1m Acetate  \u001b[0m\u001b[1m Butyrate \u001b[0m\u001b[1m Propionate \u001b[0m\u001b[1m Succinate \u001b[0m\u001b[1m Acetat\u001b[0m ⋯\n",
       "     │\u001b[90m String15  \u001b[0m\u001b[90m Int64     \u001b[0m\u001b[90m Float64? \u001b[0m\u001b[90m Float64? \u001b[0m\u001b[90m Float64?   \u001b[0m\u001b[90m Float64?  \u001b[0m\u001b[90m Float6\u001b[0m ⋯\n",
       "─────┼──────────────────────────────────────────────────────────────────────────\n",
       "   1 │ CON.062            0     23.54      0.11        0.11       0.79         ⋯\n",
       "   2 │ CON.062            0     24.1       0.12        0.11       0.84\n",
       "   3 │ CON.062            0     30.43      0.16        0.12       1.03\n",
       "   4 │ CON.062            5     23.44      0.13        0.12       0.83\n",
       "   5 │ CON.062            5     22.47      0.11        0.13       0.78         ⋯\n",
       "   6 │ CON.062            5     24.69      0.12        0.1        0.9\n",
       "   7 │ DFI.1.234          0     25.71      0.14        0.14       0.83\n",
       "   8 │ DFI.1.234          0     24.34      0.12        0.1        0.7\n",
       "  ⋮  │     ⋮          ⋮         ⋮         ⋮          ⋮           ⋮             ⋱\n",
       "  12 │ DFI.1.234          5     17.21      0.13        0.11       0.7          ⋯\n",
       "  13 │ DFI.2.45           0     21.09      0.12        0.12       0.84\n",
       "  14 │ DFI.2.45           0     20.55      0.1         0.11       0.82\n",
       "  15 │ DFI.2.45           0     21.09      0.12        0.13       0.82\n",
       "  16 │ DFI.2.45           5     22.72      0.11        0.14       0.89         ⋯\n",
       "  17 │ DFI.2.45           5     20.4       0.12        0.12       0.86\n",
       "  18 │ DFI.2.45           5     20.84      0.12        0.13       0.81\n",
       "\u001b[36m                                                     1 column and 3 rows omitted\u001b[0m"
      ]
     },
     "metadata": {},
     "output_type": "display_data"
    }
   ],
   "source": [
    "pltdf = subset(df, :msk_id => ByRow(∈(keepids))) |> \n",
    "    df -> sort(df, [:msk_id, \"taurocholic_acid__ug.ml\"]) |>\n",
    "    df -> select(df, \n",
    "        :msk_id,\n",
    "        \"taurocholic_acid__ug.ml\" => :condition,\n",
    "        :Acetate,\n",
    "        :Butyrate, \n",
    "        :Propionate,\n",
    "        :Succinate,\n",
    "    ) |>\n",
    "    df -> transform(df,\n",
    "        :Acetate => ByRow(x->log2(x/4.3)) => :Acetate_log2FC\n",
    "    )"
   ]
  },
  {
   "cell_type": "code",
   "execution_count": 8,
   "metadata": {},
   "outputs": [
    {
     "data": {
      "image/png": "[encoded data removed]",
      "image/svg+xml": [
       "<?xml version=\"1.0\" encoding=\"utf-8\"?>\n",
       "<svg xmlns=\"http://www.w3.org/2000/svg\" xmlns:xlink=\"http://www.w3.org/1999/xlink\" width=\"600\" height=\"400\" viewBox=\"0 0 2400 1600\">\n",
       "<defs>\n",
       "  <clipPath id=\"clip790\">\n",
       "    <rect x=\"0\" y=\"0\" width=\"2400\" height=\"1600\"/>\n",
       "  </clipPath>\n",
       "</defs>\n",
       "<path clip-path=\"url(#clip790)\" d=\"M0 1600 L2400 1600 L2400 0 L0 0  Z\" fill=\"#ffffff\" fill-rule=\"evenodd\" fill-opacity=\"1\"/>\n",
       "<defs>\n",
       "  <clipPath id=\"clip791\">\n",
       "    <rect x=\"480\" y=\"0\" width=\"1681\" height=\"1600\"/>\n",
       "  </clipPath>\n",
       "</defs>\n",
       "<path clip-path=\"url(#clip790)\" d=\"M219.38 1486.45 L2352.76 1486.45 L2352.76 47.2441 L219.38 47.2441  Z\" fill=\"#ffffff\" fill-rule=\"evenodd\" fill-opacity=\"1\"/>\n",
       "<defs>\n",
       "  <clipPath id=\"clip792\">\n",
       "    <rect x=\"219\" y=\"47\" width=\"2134\" height=\"1440\"/>\n",
       "  </clipPath>\n",
       "</defs>\n",
       "<polyline clip-path=\"url(#clip790)\" style=\"stroke:#000000; stroke-linecap:round; stroke-linejoin:round; stroke-width:4; stroke-opacity:1; fill:none\" points=\"219.38,1486.45 2352.76,1486.45 \"/>\n",
       "<polyline clip-path=\"url(#clip790)\" style=\"stroke:#000000; stroke-linecap:round; stroke-linejoin:round; stroke-width:4; stroke-opacity:1; fill:none\" points=\"567.276,1486.45 567.276,1505.35 \"/>\n",
       "<polyline clip-path=\"url(#clip790)\" style=\"stroke:#000000; stroke-linecap:round; stroke-linejoin:round; stroke-width:4; stroke-opacity:1; fill:none\" points=\"1286.07,1486.45 1286.07,1505.35 \"/>\n",
       "<polyline clip-path=\"url(#clip790)\" style=\"stroke:#000000; stroke-linecap:round; stroke-linejoin:round; stroke-width:4; stroke-opacity:1; fill:none\" points=\"2004.86,1486.45 2004.86,1505.35 \"/>\n",
       "<path clip-path=\"url(#clip790)\" d=\"M477.16 1527.73 L477.16 1554.61 L482.809 1554.61 Q489.961 1554.61 493.271 1551.36 Q496.605 1548.12 496.605 1541.13 Q496.605 1534.19 493.271 1530.97 Q489.961 1527.73 482.809 1527.73 L477.16 1527.73 M472.485 1523.89 L482.091 1523.89 Q492.137 1523.89 496.836 1528.08 Q501.535 1532.24 501.535 1541.13 Q501.535 1550.07 496.813 1554.26 Q492.091 1558.45 482.091 1558.45 L472.485 1558.45 L472.485 1523.89 Z\" fill=\"#000000\" fill-rule=\"nonzero\" fill-opacity=\"1\" /><path clip-path=\"url(#clip790)\" d=\"M508.989 1523.89 L528.85 1523.89 L528.85 1527.82 L513.665 1527.82 L513.665 1538.01 L527.368 1538.01 L527.368 1541.94 L513.665 1541.94 L513.665 1558.45 L508.989 1558.45 L508.989 1523.89 Z\" fill=\"#000000\" fill-rule=\"nonzero\" fill-opacity=\"1\" /><path clip-path=\"url(#clip790)\" d=\"M536.257 1523.89 L540.933 1523.89 L540.933 1558.45 L536.257 1558.45 L536.257 1523.89 Z\" fill=\"#000000\" fill-rule=\"nonzero\" fill-opacity=\"1\" /><path clip-path=\"url(#clip790)\" d=\"M550.655 1552.57 L555.54 1552.57 L555.54 1558.45 L550.655 1558.45 L550.655 1552.57 Z\" fill=\"#000000\" fill-rule=\"nonzero\" fill-opacity=\"1\" /><path clip-path=\"url(#clip790)\" d=\"M569.753 1554.51 L586.072 1554.51 L586.072 1558.45 L564.128 1558.45 L564.128 1554.51 Q566.79 1551.76 571.373 1547.13 Q575.979 1542.48 577.16 1541.13 Q579.405 1538.61 580.285 1536.87 Q581.188 1535.11 581.188 1533.42 Q581.188 1530.67 579.243 1528.93 Q577.322 1527.2 574.22 1527.2 Q572.021 1527.2 569.567 1527.96 Q567.137 1528.73 564.359 1530.28 L564.359 1525.55 Q567.183 1524.42 569.637 1523.84 Q572.09 1523.26 574.127 1523.26 Q579.498 1523.26 582.692 1525.95 Q585.887 1528.63 585.887 1533.12 Q585.887 1535.25 585.076 1537.17 Q584.289 1539.07 582.183 1541.67 Q581.604 1542.34 578.502 1545.55 Q575.401 1548.75 569.753 1554.51 Z\" fill=\"#000000\" fill-rule=\"nonzero\" fill-opacity=\"1\" /><path clip-path=\"url(#clip790)\" d=\"M595.887 1552.57 L600.771 1552.57 L600.771 1558.45 L595.887 1558.45 L595.887 1552.57 Z\" fill=\"#000000\" fill-rule=\"nonzero\" fill-opacity=\"1\" /><path clip-path=\"url(#clip790)\" d=\"M623.803 1527.96 L611.998 1546.41 L623.803 1546.41 L623.803 1527.96 M622.576 1523.89 L628.456 1523.89 L628.456 1546.41 L633.386 1546.41 L633.386 1550.3 L628.456 1550.3 L628.456 1558.45 L623.803 1558.45 L623.803 1550.3 L608.201 1550.3 L608.201 1545.79 L622.576 1523.89 Z\" fill=\"#000000\" fill-rule=\"nonzero\" fill-opacity=\"1\" /><path clip-path=\"url(#clip790)\" d=\"M641.164 1523.89 L659.521 1523.89 L659.521 1527.82 L645.447 1527.82 L645.447 1536.3 Q646.465 1535.95 647.484 1535.79 Q648.502 1535.6 649.521 1535.6 Q655.308 1535.6 658.687 1538.77 Q662.067 1541.94 662.067 1547.36 Q662.067 1552.94 658.595 1556.04 Q655.122 1559.12 648.803 1559.12 Q646.627 1559.12 644.359 1558.75 Q642.113 1558.38 639.706 1557.64 L639.706 1552.94 Q641.789 1554.07 644.011 1554.63 Q646.234 1555.18 648.71 1555.18 Q652.715 1555.18 655.053 1553.08 Q657.391 1550.97 657.391 1547.36 Q657.391 1543.75 655.053 1541.64 Q652.715 1539.54 648.71 1539.54 Q646.835 1539.54 644.96 1539.95 Q643.109 1540.37 641.164 1541.25 L641.164 1523.89 Z\" fill=\"#000000\" fill-rule=\"nonzero\" fill-opacity=\"1\" /><path clip-path=\"url(#clip790)\" d=\"M1180.13 1527.73 L1180.13 1554.61 L1185.78 1554.61 Q1192.93 1554.61 1196.24 1551.36 Q1199.58 1548.12 1199.58 1541.13 Q1199.58 1534.19 1196.24 1530.97 Q1192.93 1527.73 1185.78 1527.73 L1180.13 1527.73 M1175.46 1523.89 L1185.06 1523.89 Q1195.11 1523.89 1199.81 1528.08 Q1204.51 1532.24 1204.51 1541.13 Q1204.51 1550.07 1199.78 1554.26 Q1195.06 1558.45 1185.06 1558.45 L1175.46 1558.45 L1175.46 1523.89 Z\" fill=\"#000000\" fill-rule=\"nonzero\" fill-opacity=\"1\" /><path clip-path=\"url(#clip790)\" d=\"M1211.96 1523.89 L1231.82 1523.89 L1231.82 1527.82 L1216.64 1527.82 L1216.64 1538.01 L1230.34 1538.01 L1230.34 1541.94 L1216.64 1541.94 L1216.64 1558.45 L1211.96 1558.45 L1211.96 1523.89 Z\" fill=\"#000000\" fill-rule=\"nonzero\" fill-opacity=\"1\" /><path clip-path=\"url(#clip790)\" d=\"M1239.23 1523.89 L1243.9 1523.89 L1243.9 1558.45 L1239.23 1558.45 L1239.23 1523.89 Z\" fill=\"#000000\" fill-rule=\"nonzero\" fill-opacity=\"1\" /><path clip-path=\"url(#clip790)\" d=\"M1253.63 1552.57 L1258.51 1552.57 L1258.51 1558.45 L1253.63 1558.45 L1253.63 1552.57 Z\" fill=\"#000000\" fill-rule=\"nonzero\" fill-opacity=\"1\" /><path clip-path=\"url(#clip790)\" d=\"M1269.51 1554.51 L1277.14 1554.51 L1277.14 1528.15 L1268.83 1529.81 L1268.83 1525.55 L1277.1 1523.89 L1281.77 1523.89 L1281.77 1554.51 L1289.41 1554.51 L1289.41 1558.45 L1269.51 1558.45 L1269.51 1554.51 Z\" fill=\"#000000\" fill-rule=\"nonzero\" fill-opacity=\"1\" /><path clip-path=\"url(#clip790)\" d=\"M1298.86 1552.57 L1303.74 1552.57 L1303.74 1558.45 L1298.86 1558.45 L1298.86 1552.57 Z\" fill=\"#000000\" fill-rule=\"nonzero\" fill-opacity=\"1\" /><path clip-path=\"url(#clip790)\" d=\"M1317.95 1554.51 L1334.27 1554.51 L1334.27 1558.45 L1312.33 1558.45 L1312.33 1554.51 Q1314.99 1551.76 1319.57 1547.13 Q1324.18 1542.48 1325.36 1541.13 Q1327.61 1538.61 1328.49 1536.87 Q1329.39 1535.11 1329.39 1533.42 Q1329.39 1530.67 1327.45 1528.93 Q1325.52 1527.2 1322.42 1527.2 Q1320.22 1527.2 1317.77 1527.96 Q1315.34 1528.73 1312.56 1530.28 L1312.56 1525.55 Q1315.39 1524.42 1317.84 1523.84 Q1320.29 1523.26 1322.33 1523.26 Q1327.7 1523.26 1330.89 1525.95 Q1334.09 1528.63 1334.09 1533.12 Q1334.09 1535.25 1333.28 1537.17 Q1332.49 1539.07 1330.38 1541.67 Q1329.81 1542.34 1326.7 1545.55 Q1323.6 1548.75 1317.95 1554.51 Z\" fill=\"#000000\" fill-rule=\"nonzero\" fill-opacity=\"1\" /><path clip-path=\"url(#clip790)\" d=\"M1358.26 1539.81 Q1361.61 1540.53 1363.49 1542.8 Q1365.38 1545.07 1365.38 1548.4 Q1365.38 1553.52 1361.87 1556.32 Q1358.35 1559.12 1351.87 1559.12 Q1349.69 1559.12 1347.38 1558.68 Q1345.08 1558.26 1342.63 1557.41 L1342.63 1552.89 Q1344.57 1554.03 1346.89 1554.61 Q1349.2 1555.18 1351.73 1555.18 Q1356.13 1555.18 1358.42 1553.45 Q1360.73 1551.71 1360.73 1548.4 Q1360.73 1545.35 1358.58 1543.63 Q1356.45 1541.9 1352.63 1541.9 L1348.6 1541.9 L1348.6 1538.05 L1352.82 1538.05 Q1356.26 1538.05 1358.09 1536.69 Q1359.92 1535.3 1359.92 1532.71 Q1359.92 1530.05 1358.02 1528.63 Q1356.15 1527.2 1352.63 1527.2 Q1350.71 1527.2 1348.51 1527.61 Q1346.31 1528.03 1343.67 1528.91 L1343.67 1524.74 Q1346.33 1524 1348.65 1523.63 Q1350.99 1523.26 1353.05 1523.26 Q1358.37 1523.26 1361.47 1525.69 Q1364.57 1528.1 1364.57 1532.22 Q1364.57 1535.09 1362.93 1537.08 Q1361.29 1539.05 1358.26 1539.81 Z\" fill=\"#000000\" fill-rule=\"nonzero\" fill-opacity=\"1\" /><path clip-path=\"url(#clip790)\" d=\"M1387.1 1527.96 L1375.29 1546.41 L1387.1 1546.41 L1387.1 1527.96 M1385.87 1523.89 L1391.75 1523.89 L1391.75 1546.41 L1396.68 1546.41 L1396.68 1550.3 L1391.75 1550.3 L1391.75 1558.45 L1387.1 1558.45 L1387.1 1550.3 L1371.5 1550.3 L1371.5 1545.79 L1385.87 1523.89 Z\" fill=\"#000000\" fill-rule=\"nonzero\" fill-opacity=\"1\" /><path clip-path=\"url(#clip790)\" d=\"M1930.72 1526.55 L1930.72 1531.48 Q1928.36 1529.28 1925.67 1528.19 Q1923.01 1527.11 1920 1527.11 Q1914.07 1527.11 1910.93 1530.74 Q1907.78 1534.35 1907.78 1541.2 Q1907.78 1548.03 1910.93 1551.67 Q1914.07 1555.28 1920 1555.28 Q1923.01 1555.28 1925.67 1554.19 Q1928.36 1553.1 1930.72 1550.9 L1930.72 1555.79 Q1928.26 1557.45 1925.51 1558.29 Q1922.78 1559.12 1919.72 1559.12 Q1911.87 1559.12 1907.36 1554.33 Q1902.85 1549.51 1902.85 1541.2 Q1902.85 1532.87 1907.36 1528.08 Q1911.87 1523.26 1919.72 1523.26 Q1922.82 1523.26 1925.56 1524.1 Q1928.31 1524.91 1930.72 1526.55 Z\" fill=\"#000000\" fill-rule=\"nonzero\" fill-opacity=\"1\" /><path clip-path=\"url(#clip790)\" d=\"M1951.97 1527.06 Q1946.87 1527.06 1943.87 1530.86 Q1940.88 1534.65 1940.88 1541.2 Q1940.88 1547.73 1943.87 1551.53 Q1946.87 1555.32 1951.97 1555.32 Q1957.06 1555.32 1960.02 1551.53 Q1963.01 1547.73 1963.01 1541.2 Q1963.01 1534.65 1960.02 1530.86 Q1957.06 1527.06 1951.97 1527.06 M1951.97 1523.26 Q1959.24 1523.26 1963.59 1528.15 Q1967.94 1533.01 1967.94 1541.2 Q1967.94 1549.37 1963.59 1554.26 Q1959.24 1559.12 1951.97 1559.12 Q1944.68 1559.12 1940.3 1554.26 Q1935.95 1549.4 1935.95 1541.2 Q1935.95 1533.01 1940.3 1528.15 Q1944.68 1523.26 1951.97 1523.26 Z\" fill=\"#000000\" fill-rule=\"nonzero\" fill-opacity=\"1\" /><path clip-path=\"url(#clip790)\" d=\"M1975.25 1523.89 L1981.55 1523.89 L1996.87 1552.8 L1996.87 1523.89 L2001.41 1523.89 L2001.41 1558.45 L1995.12 1558.45 L1979.79 1529.54 L1979.79 1558.45 L1975.25 1558.45 L1975.25 1523.89 Z\" fill=\"#000000\" fill-rule=\"nonzero\" fill-opacity=\"1\" /><path clip-path=\"url(#clip790)\" d=\"M2011.13 1552.57 L2016.02 1552.57 L2016.02 1558.45 L2011.13 1558.45 L2011.13 1552.57 Z\" fill=\"#000000\" fill-rule=\"nonzero\" fill-opacity=\"1\" /><path clip-path=\"url(#clip790)\" d=\"M2036.2 1526.97 Q2032.59 1526.97 2030.76 1530.53 Q2028.96 1534.07 2028.96 1541.2 Q2028.96 1548.31 2030.76 1551.87 Q2032.59 1555.42 2036.2 1555.42 Q2039.84 1555.42 2041.64 1551.87 Q2043.47 1548.31 2043.47 1541.2 Q2043.47 1534.07 2041.64 1530.53 Q2039.84 1526.97 2036.2 1526.97 M2036.2 1523.26 Q2042.01 1523.26 2045.07 1527.87 Q2048.15 1532.45 2048.15 1541.2 Q2048.15 1549.93 2045.07 1554.54 Q2042.01 1559.12 2036.2 1559.12 Q2030.39 1559.12 2027.31 1554.54 Q2024.26 1549.93 2024.26 1541.2 Q2024.26 1532.45 2027.31 1527.87 Q2030.39 1523.26 2036.2 1523.26 Z\" fill=\"#000000\" fill-rule=\"nonzero\" fill-opacity=\"1\" /><path clip-path=\"url(#clip790)\" d=\"M2066.94 1539.3 Q2063.8 1539.3 2061.94 1541.46 Q2060.11 1543.61 2060.11 1547.36 Q2060.11 1551.09 2061.94 1553.26 Q2063.8 1555.42 2066.94 1555.42 Q2070.09 1555.42 2071.92 1553.26 Q2073.77 1551.09 2073.77 1547.36 Q2073.77 1543.61 2071.92 1541.46 Q2070.09 1539.3 2066.94 1539.3 M2076.23 1524.65 L2076.23 1528.91 Q2074.47 1528.08 2072.66 1527.64 Q2070.88 1527.2 2069.12 1527.2 Q2064.49 1527.2 2062.04 1530.32 Q2059.61 1533.45 2059.26 1539.77 Q2060.62 1537.75 2062.68 1536.69 Q2064.74 1535.6 2067.22 1535.6 Q2072.43 1535.6 2075.44 1538.77 Q2078.47 1541.92 2078.47 1547.36 Q2078.47 1552.68 2075.32 1555.9 Q2072.17 1559.12 2066.94 1559.12 Q2060.95 1559.12 2057.78 1554.54 Q2054.61 1549.93 2054.61 1541.2 Q2054.61 1533.01 2058.49 1528.15 Q2062.38 1523.26 2068.93 1523.26 Q2070.69 1523.26 2072.48 1523.61 Q2074.28 1523.96 2076.23 1524.65 Z\" fill=\"#000000\" fill-rule=\"nonzero\" fill-opacity=\"1\" /><path clip-path=\"url(#clip790)\" d=\"M2090.55 1554.51 L2106.87 1554.51 L2106.87 1558.45 L2084.93 1558.45 L2084.93 1554.51 Q2087.59 1551.76 2092.17 1547.13 Q2096.78 1542.48 2097.96 1541.13 Q2100.21 1538.61 2101.09 1536.87 Q2101.99 1535.11 2101.99 1533.42 Q2101.99 1530.67 2100.05 1528.93 Q2098.12 1527.2 2095.02 1527.2 Q2092.82 1527.2 2090.37 1527.96 Q2087.94 1528.73 2085.16 1530.28 L2085.16 1525.55 Q2087.98 1524.42 2090.44 1523.84 Q2092.89 1523.26 2094.93 1523.26 Q2100.3 1523.26 2103.49 1525.95 Q2106.69 1528.63 2106.69 1533.12 Q2106.69 1535.25 2105.88 1537.17 Q2105.09 1539.07 2102.98 1541.67 Q2102.41 1542.34 2099.3 1545.55 Q2096.2 1548.75 2090.55 1554.51 Z\" fill=\"#000000\" fill-rule=\"nonzero\" fill-opacity=\"1\" /><polyline clip-path=\"url(#clip790)\" style=\"stroke:#000000; stroke-linecap:round; stroke-linejoin:round; stroke-width:4; stroke-opacity:1; fill:none\" points=\"219.38,1486.45 219.38,47.2441 \"/>\n",
       "<polyline clip-path=\"url(#clip790)\" style=\"stroke:#000000; stroke-linecap:round; stroke-linejoin:round; stroke-width:4; stroke-opacity:1; fill:none\" points=\"219.38,1486.45 200.483,1486.45 \"/>\n",
       "<polyline clip-path=\"url(#clip790)\" style=\"stroke:#000000; stroke-linecap:round; stroke-linejoin:round; stroke-width:4; stroke-opacity:1; fill:none\" points=\"219.38,1231.55 200.483,1231.55 \"/>\n",
       "<polyline clip-path=\"url(#clip790)\" style=\"stroke:#000000; stroke-linecap:round; stroke-linejoin:round; stroke-width:4; stroke-opacity:1; fill:none\" points=\"219.38,976.65 200.483,976.65 \"/>\n",
       "<polyline clip-path=\"url(#clip790)\" style=\"stroke:#000000; stroke-linecap:round; stroke-linejoin:round; stroke-width:4; stroke-opacity:1; fill:none\" points=\"219.38,721.751 200.483,721.751 \"/>\n",
       "<polyline clip-path=\"url(#clip790)\" style=\"stroke:#000000; stroke-linecap:round; stroke-linejoin:round; stroke-width:4; stroke-opacity:1; fill:none\" points=\"219.38,466.852 200.483,466.852 \"/>\n",
       "<polyline clip-path=\"url(#clip790)\" style=\"stroke:#000000; stroke-linecap:round; stroke-linejoin:round; stroke-width:4; stroke-opacity:1; fill:none\" points=\"219.38,211.953 200.483,211.953 \"/>\n",
       "<path clip-path=\"url(#clip790)\" d=\"M108.205 1472.25 Q104.593 1472.25 102.765 1475.81 Q100.959 1479.35 100.959 1486.48 Q100.959 1493.59 102.765 1497.15 Q104.593 1500.7 108.205 1500.7 Q111.839 1500.7 113.644 1497.15 Q115.473 1493.59 115.473 1486.48 Q115.473 1479.35 113.644 1475.81 Q111.839 1472.25 108.205 1472.25 M108.205 1468.54 Q114.015 1468.54 117.07 1473.15 Q120.149 1477.73 120.149 1486.48 Q120.149 1495.21 117.07 1499.82 Q114.015 1504.4 108.205 1504.4 Q102.394 1504.4 99.3157 1499.82 Q96.2602 1495.21 96.2602 1486.48 Q96.2602 1477.73 99.3157 1473.15 Q102.394 1468.54 108.205 1468.54 Z\" fill=\"#000000\" fill-rule=\"nonzero\" fill-opacity=\"1\" /><path clip-path=\"url(#clip790)\" d=\"M128.366 1497.85 L133.251 1497.85 L133.251 1503.73 L128.366 1503.73 L128.366 1497.85 Z\" fill=\"#000000\" fill-rule=\"nonzero\" fill-opacity=\"1\" /><path clip-path=\"url(#clip790)\" d=\"M153.436 1472.25 Q149.825 1472.25 147.996 1475.81 Q146.19 1479.35 146.19 1486.48 Q146.19 1493.59 147.996 1497.15 Q149.825 1500.7 153.436 1500.7 Q157.07 1500.7 158.876 1497.15 Q160.704 1493.59 160.704 1486.48 Q160.704 1479.35 158.876 1475.81 Q157.07 1472.25 153.436 1472.25 M153.436 1468.54 Q159.246 1468.54 162.301 1473.15 Q165.38 1477.73 165.38 1486.48 Q165.38 1495.21 162.301 1499.82 Q159.246 1504.4 153.436 1504.4 Q147.626 1504.4 144.547 1499.82 Q141.491 1495.21 141.491 1486.48 Q141.491 1477.73 144.547 1473.15 Q147.626 1468.54 153.436 1468.54 Z\" fill=\"#000000\" fill-rule=\"nonzero\" fill-opacity=\"1\" /><path clip-path=\"url(#clip790)\" d=\"M109.2 1217.35 Q105.589 1217.35 103.76 1220.91 Q101.955 1224.45 101.955 1231.58 Q101.955 1238.69 103.76 1242.25 Q105.589 1245.8 109.2 1245.8 Q112.834 1245.8 114.64 1242.25 Q116.468 1238.69 116.468 1231.58 Q116.468 1224.45 114.64 1220.91 Q112.834 1217.35 109.2 1217.35 M109.2 1213.64 Q115.01 1213.64 118.066 1218.25 Q121.144 1222.83 121.144 1231.58 Q121.144 1240.31 118.066 1244.92 Q115.01 1249.5 109.2 1249.5 Q103.39 1249.5 100.311 1244.92 Q97.2555 1240.31 97.2555 1231.58 Q97.2555 1222.83 100.311 1218.25 Q103.39 1213.64 109.2 1213.64 Z\" fill=\"#000000\" fill-rule=\"nonzero\" fill-opacity=\"1\" /><path clip-path=\"url(#clip790)\" d=\"M129.362 1242.95 L134.246 1242.95 L134.246 1248.83 L129.362 1248.83 L129.362 1242.95 Z\" fill=\"#000000\" fill-rule=\"nonzero\" fill-opacity=\"1\" /><path clip-path=\"url(#clip790)\" d=\"M144.477 1214.27 L162.834 1214.27 L162.834 1218.2 L148.76 1218.2 L148.76 1226.68 Q149.778 1226.33 150.797 1226.17 Q151.815 1225.98 152.834 1225.98 Q158.621 1225.98 162.001 1229.15 Q165.38 1232.32 165.38 1237.74 Q165.38 1243.32 161.908 1246.42 Q158.436 1249.5 152.116 1249.5 Q149.94 1249.5 147.672 1249.13 Q145.427 1248.76 143.019 1248.02 L143.019 1243.32 Q145.102 1244.45 147.325 1245.01 Q149.547 1245.56 152.024 1245.56 Q156.028 1245.56 158.366 1243.46 Q160.704 1241.35 160.704 1237.74 Q160.704 1234.13 158.366 1232.02 Q156.028 1229.92 152.024 1229.92 Q150.149 1229.92 148.274 1230.33 Q146.422 1230.75 144.477 1231.63 L144.477 1214.27 Z\" fill=\"#000000\" fill-rule=\"nonzero\" fill-opacity=\"1\" /><path clip-path=\"url(#clip790)\" d=\"M99.0148 989.995 L106.654 989.995 L106.654 963.629 L98.3435 965.296 L98.3435 961.036 L106.607 959.37 L111.283 959.37 L111.283 989.995 L118.922 989.995 L118.922 993.93 L99.0148 993.93 L99.0148 989.995 Z\" fill=\"#000000\" fill-rule=\"nonzero\" fill-opacity=\"1\" /><path clip-path=\"url(#clip790)\" d=\"M128.366 988.05 L133.251 988.05 L133.251 993.93 L128.366 993.93 L128.366 988.05 Z\" fill=\"#000000\" fill-rule=\"nonzero\" fill-opacity=\"1\" /><path clip-path=\"url(#clip790)\" d=\"M153.436 962.448 Q149.825 962.448 147.996 966.013 Q146.19 969.555 146.19 976.684 Q146.19 983.791 147.996 987.356 Q149.825 990.897 153.436 990.897 Q157.07 990.897 158.876 987.356 Q160.704 983.791 160.704 976.684 Q160.704 969.555 158.876 966.013 Q157.07 962.448 153.436 962.448 M153.436 958.745 Q159.246 958.745 162.301 963.351 Q165.38 967.935 165.38 976.684 Q165.38 985.411 162.301 990.018 Q159.246 994.601 153.436 994.601 Q147.626 994.601 144.547 990.018 Q141.491 985.411 141.491 976.684 Q141.491 967.935 144.547 963.351 Q147.626 958.745 153.436 958.745 Z\" fill=\"#000000\" fill-rule=\"nonzero\" fill-opacity=\"1\" /><path clip-path=\"url(#clip790)\" d=\"M100.01 735.096 L107.649 735.096 L107.649 708.73 L99.3388 710.397 L99.3388 706.137 L107.603 704.471 L112.279 704.471 L112.279 735.096 L119.917 735.096 L119.917 739.031 L100.01 739.031 L100.01 735.096 Z\" fill=\"#000000\" fill-rule=\"nonzero\" fill-opacity=\"1\" /><path clip-path=\"url(#clip790)\" d=\"M129.362 733.151 L134.246 733.151 L134.246 739.031 L129.362 739.031 L129.362 733.151 Z\" fill=\"#000000\" fill-rule=\"nonzero\" fill-opacity=\"1\" /><path clip-path=\"url(#clip790)\" d=\"M144.477 704.471 L162.834 704.471 L162.834 708.406 L148.76 708.406 L148.76 716.878 Q149.778 716.531 150.797 716.369 Q151.815 716.184 152.834 716.184 Q158.621 716.184 162.001 719.355 Q165.38 722.526 165.38 727.943 Q165.38 733.521 161.908 736.623 Q158.436 739.702 152.116 739.702 Q149.94 739.702 147.672 739.332 Q145.427 738.961 143.019 738.221 L143.019 733.521 Q145.102 734.656 147.325 735.211 Q149.547 735.767 152.024 735.767 Q156.028 735.767 158.366 733.66 Q160.704 731.554 160.704 727.943 Q160.704 724.332 158.366 722.225 Q156.028 720.119 152.024 720.119 Q150.149 720.119 148.274 720.535 Q146.422 720.952 144.477 721.832 L144.477 704.471 Z\" fill=\"#000000\" fill-rule=\"nonzero\" fill-opacity=\"1\" /><path clip-path=\"url(#clip790)\" d=\"M102.232 480.196 L118.552 480.196 L118.552 484.132 L96.6074 484.132 L96.6074 480.196 Q99.2694 477.442 103.853 472.812 Q108.459 468.16 109.64 466.817 Q111.885 464.294 112.765 462.558 Q113.667 460.798 113.667 459.109 Q113.667 456.354 111.723 454.618 Q109.802 452.882 106.7 452.882 Q104.501 452.882 102.047 453.646 Q99.6166 454.41 96.8389 455.961 L96.8389 451.238 Q99.6629 450.104 102.117 449.525 Q104.57 448.947 106.607 448.947 Q111.978 448.947 115.172 451.632 Q118.367 454.317 118.367 458.808 Q118.367 460.937 117.556 462.859 Q116.769 464.757 114.663 467.349 Q114.084 468.021 110.982 471.238 Q107.88 474.433 102.232 480.196 Z\" fill=\"#000000\" fill-rule=\"nonzero\" fill-opacity=\"1\" /><path clip-path=\"url(#clip790)\" d=\"M128.366 478.252 L133.251 478.252 L133.251 484.132 L128.366 484.132 L128.366 478.252 Z\" fill=\"#000000\" fill-rule=\"nonzero\" fill-opacity=\"1\" /><path clip-path=\"url(#clip790)\" d=\"M153.436 452.65 Q149.825 452.65 147.996 456.215 Q146.19 459.757 146.19 466.886 Q146.19 473.993 147.996 477.558 Q149.825 481.099 153.436 481.099 Q157.07 481.099 158.876 477.558 Q160.704 473.993 160.704 466.886 Q160.704 459.757 158.876 456.215 Q157.07 452.65 153.436 452.65 M153.436 448.947 Q159.246 448.947 162.301 453.553 Q165.38 458.136 165.38 466.886 Q165.38 475.613 162.301 480.22 Q159.246 484.803 153.436 484.803 Q147.626 484.803 144.547 480.22 Q141.491 475.613 141.491 466.886 Q141.491 458.136 144.547 453.553 Q147.626 448.947 153.436 448.947 Z\" fill=\"#000000\" fill-rule=\"nonzero\" fill-opacity=\"1\" /><path clip-path=\"url(#clip790)\" d=\"M103.228 225.297 L119.547 225.297 L119.547 229.233 L97.6027 229.233 L97.6027 225.297 Q100.265 222.543 104.848 217.913 Q109.455 213.26 110.635 211.918 Q112.88 209.395 113.76 207.659 Q114.663 205.899 114.663 204.21 Q114.663 201.455 112.718 199.719 Q110.797 197.983 107.695 197.983 Q105.496 197.983 103.043 198.747 Q100.612 199.511 97.8342 201.061 L97.8342 196.339 Q100.658 195.205 103.112 194.626 Q105.566 194.048 107.603 194.048 Q112.973 194.048 116.167 196.733 Q119.362 199.418 119.362 203.909 Q119.362 206.038 118.552 207.96 Q117.765 209.858 115.658 212.45 Q115.08 213.122 111.978 216.339 Q108.876 219.534 103.228 225.297 Z\" fill=\"#000000\" fill-rule=\"nonzero\" fill-opacity=\"1\" /><path clip-path=\"url(#clip790)\" d=\"M129.362 223.353 L134.246 223.353 L134.246 229.233 L129.362 229.233 L129.362 223.353 Z\" fill=\"#000000\" fill-rule=\"nonzero\" fill-opacity=\"1\" /><path clip-path=\"url(#clip790)\" d=\"M144.477 194.673 L162.834 194.673 L162.834 198.608 L148.76 198.608 L148.76 207.08 Q149.778 206.733 150.797 206.571 Q151.815 206.386 152.834 206.386 Q158.621 206.386 162.001 209.557 Q165.38 212.728 165.38 218.145 Q165.38 223.723 161.908 226.825 Q158.436 229.904 152.116 229.904 Q149.94 229.904 147.672 229.534 Q145.427 229.163 143.019 228.422 L143.019 223.723 Q145.102 224.858 147.325 225.413 Q149.547 225.969 152.024 225.969 Q156.028 225.969 158.366 223.862 Q160.704 221.756 160.704 218.145 Q160.704 214.534 158.366 212.427 Q156.028 210.321 152.024 210.321 Q150.149 210.321 148.274 210.737 Q146.422 211.154 144.477 212.034 L144.477 194.673 Z\" fill=\"#000000\" fill-rule=\"nonzero\" fill-opacity=\"1\" /><path clip-path=\"url(#clip790)\" d=\"M22.818 1015.01 L46.4666 1023.73 L46.4666 1006.26 L22.818 1015.01 M16.4842 1018.64 L16.4842 1011.35 L64.0042 993.242 L64.0042 999.926 L51.8138 1004.26 L51.8138 1025.68 L64.0042 1030 L64.0042 1036.78 L16.4842 1018.64 Z\" fill=\"#000000\" fill-rule=\"nonzero\" fill-opacity=\"1\" /><path clip-path=\"url(#clip790)\" d=\"M29.7248 962.05 L35.1993 962.05 Q33.8307 964.533 33.1623 967.047 Q32.4621 969.53 32.4621 972.076 Q32.4621 977.774 36.0905 980.925 Q39.6872 984.076 46.212 984.076 Q52.7369 984.076 56.3653 980.925 Q59.9619 977.774 59.9619 972.076 Q59.9619 969.53 59.2935 967.047 Q58.5933 964.533 57.2247 962.05 L62.6355 962.05 Q63.7814 964.501 64.3543 967.143 Q64.9272 969.753 64.9272 972.713 Q64.9272 980.766 59.8664 985.508 Q54.8057 990.25 46.212 990.25 Q37.491 990.25 32.4939 985.476 Q27.4968 980.67 27.4968 972.331 Q27.4968 969.626 28.0697 967.047 Q28.6108 964.469 29.7248 962.05 Z\" fill=\"#000000\" fill-rule=\"nonzero\" fill-opacity=\"1\" /><path clip-path=\"url(#clip790)\" d=\"M44.7161 921.374 L47.5806 921.374 L47.5806 948.3 Q53.6281 947.919 56.8109 944.672 Q59.9619 941.394 59.9619 935.569 Q59.9619 932.195 59.1344 929.044 Q58.3069 925.861 56.6518 922.742 L62.1899 922.742 Q63.5267 925.893 64.227 929.203 Q64.9272 932.513 64.9272 935.919 Q64.9272 944.449 59.9619 949.446 Q54.9967 954.412 46.5303 954.412 Q37.7774 954.412 32.6531 949.701 Q27.4968 944.958 27.4968 936.938 Q27.4968 929.744 32.1438 925.575 Q36.7589 921.374 44.7161 921.374 M42.9973 927.23 Q38.1912 927.294 35.3266 929.935 Q32.4621 932.545 32.4621 936.874 Q32.4621 941.776 35.2312 944.736 Q38.0002 947.664 43.0292 948.109 L42.9973 927.23 Z\" fill=\"#000000\" fill-rule=\"nonzero\" fill-opacity=\"1\" /><path clip-path=\"url(#clip790)\" d=\"M18.2347 905.969 L28.3562 905.969 L28.3562 893.905 L32.9077 893.905 L32.9077 905.969 L52.2594 905.969 Q56.6199 905.969 57.8613 904.791 Q59.1026 903.581 59.1026 899.921 L59.1026 893.905 L64.0042 893.905 L64.0042 899.921 Q64.0042 906.701 61.4897 909.279 Q58.9434 911.857 52.2594 911.857 L32.9077 911.857 L32.9077 916.154 L28.3562 916.154 L28.3562 911.857 L18.2347 911.857 L18.2347 905.969 Z\" fill=\"#000000\" fill-rule=\"nonzero\" fill-opacity=\"1\" /><path clip-path=\"url(#clip790)\" d=\"M46.0847 870.002 Q46.0847 877.1 47.7079 879.837 Q49.3312 882.575 53.2461 882.575 Q56.3653 882.575 58.2114 880.538 Q60.0256 878.469 60.0256 874.936 Q60.0256 870.066 56.5881 867.138 Q53.1188 864.178 47.3897 864.178 L46.0847 864.178 L46.0847 870.002 M43.6657 858.321 L64.0042 858.321 L64.0042 864.178 L58.5933 864.178 Q61.8398 866.183 63.3994 869.175 Q64.9272 872.167 64.9272 876.495 Q64.9272 881.97 61.8716 885.216 Q58.7843 888.431 53.6281 888.431 Q47.6125 888.431 44.5569 884.421 Q41.5014 880.378 41.5014 872.389 L41.5014 864.178 L40.9285 864.178 Q36.8862 864.178 34.6901 866.851 Q32.4621 869.493 32.4621 874.299 Q32.4621 877.355 33.1941 880.251 Q33.9262 883.147 35.3903 885.821 L29.9795 885.821 Q28.7381 882.606 28.1334 879.583 Q27.4968 876.559 27.4968 873.694 Q27.4968 865.96 31.5072 862.141 Q35.5176 858.321 43.6657 858.321 Z\" fill=\"#000000\" fill-rule=\"nonzero\" fill-opacity=\"1\" /><path clip-path=\"url(#clip790)\" d=\"M18.2347 840.465 L28.3562 840.465 L28.3562 828.402 L32.9077 828.402 L32.9077 840.465 L52.2594 840.465 Q56.6199 840.465 57.8613 839.288 Q59.1026 838.078 59.1026 834.418 L59.1026 828.402 L64.0042 828.402 L64.0042 834.418 Q64.0042 841.197 61.4897 843.776 Q58.9434 846.354 52.2594 846.354 L32.9077 846.354 L32.9077 850.651 L28.3562 850.651 L28.3562 846.354 L18.2347 846.354 L18.2347 840.465 Z\" fill=\"#000000\" fill-rule=\"nonzero\" fill-opacity=\"1\" /><path clip-path=\"url(#clip790)\" d=\"M44.7161 790.208 L47.5806 790.208 L47.5806 817.135 Q53.6281 816.753 56.8109 813.507 Q59.9619 810.228 59.9619 804.404 Q59.9619 801.03 59.1344 797.879 Q58.3069 794.696 56.6518 791.577 L62.1899 791.577 Q63.5267 794.728 64.227 798.038 Q64.9272 801.348 64.9272 804.754 Q64.9272 813.284 59.9619 818.281 Q54.9967 823.246 46.5303 823.246 Q37.7774 823.246 32.6531 818.536 Q27.4968 813.793 27.4968 805.772 Q27.4968 798.579 32.1438 794.409 Q36.7589 790.208 44.7161 790.208 M42.9973 796.065 Q38.1912 796.128 35.3266 798.77 Q32.4621 801.38 32.4621 805.709 Q32.4621 810.61 35.2312 813.57 Q38.0002 816.498 43.0292 816.944 L42.9973 796.065 Z\" fill=\"#000000\" fill-rule=\"nonzero\" fill-opacity=\"1\" /><path clip-path=\"url(#clip790)\" d=\"M14.5426 745.807 Q21.8632 750.072 29.0246 752.141 Q36.186 754.21 43.5384 754.21 Q50.8908 754.21 58.1159 752.141 Q65.3091 750.041 72.5979 745.807 L72.5979 750.9 Q65.1182 755.674 57.8931 758.061 Q50.668 760.417 43.5384 760.417 Q36.4406 760.417 29.2474 758.061 Q22.0542 755.706 14.5426 750.9 L14.5426 745.807 Z\" fill=\"#000000\" fill-rule=\"nonzero\" fill-opacity=\"1\" /><path clip-path=\"url(#clip790)\" d=\"M14.479 734.445 L14.479 728.588 L64.0042 728.588 L64.0042 734.445 L14.479 734.445 Z\" fill=\"#000000\" fill-rule=\"nonzero\" fill-opacity=\"1\" /><path clip-path=\"url(#clip790)\" d=\"M32.4621 702.521 Q32.4621 707.231 36.1542 709.968 Q39.8145 712.706 46.212 712.706 Q52.6095 712.706 56.3017 710 Q59.9619 707.263 59.9619 702.521 Q59.9619 697.842 56.2698 695.104 Q52.5777 692.367 46.212 692.367 Q39.8781 692.367 36.186 695.104 Q32.4621 697.842 32.4621 702.521 M27.4968 702.521 Q27.4968 694.882 32.4621 690.521 Q37.4273 686.161 46.212 686.161 Q54.9649 686.161 59.9619 690.521 Q64.9272 694.882 64.9272 702.521 Q64.9272 710.191 59.9619 714.552 Q54.9649 718.88 46.212 718.88 Q37.4273 718.88 32.4621 714.552 Q27.4968 710.191 27.4968 702.521 Z\" fill=\"#000000\" fill-rule=\"nonzero\" fill-opacity=\"1\" /><path clip-path=\"url(#clip790)\" d=\"M45.7664 652.995 Q39.4007 652.995 35.8996 655.637 Q32.3984 658.247 32.3984 662.989 Q32.3984 667.7 35.8996 670.342 Q39.4007 672.952 45.7664 672.952 Q52.1003 672.952 55.6014 670.342 Q59.1026 667.7 59.1026 662.989 Q59.1026 658.247 55.6014 655.637 Q52.1003 652.995 45.7664 652.995 M59.58 647.139 Q68.683 647.139 73.1071 651.181 Q77.5631 655.223 77.5631 663.562 Q77.5631 666.65 77.0857 669.387 Q76.6401 672.124 75.6852 674.702 L69.9879 674.702 Q71.3884 672.124 72.0568 669.61 Q72.7252 667.095 72.7252 664.485 Q72.7252 658.724 69.7015 655.86 Q66.7096 652.995 60.6303 652.995 L57.7339 652.995 Q60.885 654.81 62.4446 657.642 Q64.0042 660.475 64.0042 664.422 Q64.0042 670.978 59.0071 674.989 Q54.01 678.999 45.7664 678.999 Q37.491 678.999 32.4939 674.989 Q27.4968 670.978 27.4968 664.422 Q27.4968 660.475 29.0564 657.642 Q30.616 654.81 33.7671 652.995 L28.3562 652.995 L28.3562 647.139 L59.58 647.139 Z\" fill=\"#000000\" fill-rule=\"nonzero\" fill-opacity=\"1\" /><path clip-path=\"url(#clip790)\" d=\"M58.5933 628.71 L58.5933 606.271 L64.0042 606.271 L64.0042 636.444 L58.5933 636.444 Q54.8057 632.784 48.44 626.482 Q42.0425 620.148 40.1964 618.525 Q36.7271 615.438 34.34 614.228 Q31.921 612.987 29.5975 612.987 Q25.8099 612.987 23.4228 615.66 Q21.0356 618.302 21.0356 622.567 Q21.0356 625.591 22.086 628.965 Q23.1363 632.307 25.2688 636.126 L18.7758 636.126 Q17.2162 632.243 16.4205 628.869 Q15.6248 625.495 15.6248 622.695 Q15.6248 615.31 19.3169 610.918 Q23.009 606.526 29.1837 606.526 Q32.112 606.526 34.7537 607.64 Q37.3637 608.722 40.9285 611.618 Q41.8515 612.414 46.2757 616.679 Q50.668 620.944 58.5933 628.71 Z\" fill=\"#000000\" fill-rule=\"nonzero\" fill-opacity=\"1\" /><path clip-path=\"url(#clip790)\" d=\"M16.4842 593.349 L16.4842 566.04 L21.895 566.04 L21.895 586.919 L35.8996 586.919 L35.8996 568.077 L41.3104 568.077 L41.3104 586.919 L64.0042 586.919 L64.0042 593.349 L16.4842 593.349 Z\" fill=\"#000000\" fill-rule=\"nonzero\" fill-opacity=\"1\" /><path clip-path=\"url(#clip790)\" d=\"M20.1444 520.27 L26.9239 520.27 Q23.9002 523.517 22.4043 527.209 Q20.9083 530.869 20.9083 535.007 Q20.9083 543.155 25.9054 547.484 Q30.8707 551.812 40.2919 551.812 Q49.6813 551.812 54.6784 547.484 Q59.6436 543.155 59.6436 535.007 Q59.6436 530.869 58.1477 527.209 Q56.6518 523.517 53.6281 520.27 L60.3439 520.27 Q62.6355 523.644 63.7814 527.432 Q64.9272 531.188 64.9272 535.389 Q64.9272 546.179 58.3387 552.385 Q51.7183 558.592 40.2919 558.592 Q28.8336 558.592 22.2451 552.385 Q15.6248 546.179 15.6248 535.389 Q15.6248 531.124 16.7706 527.368 Q17.8846 523.581 20.1444 520.27 Z\" fill=\"#000000\" fill-rule=\"nonzero\" fill-opacity=\"1\" /><path clip-path=\"url(#clip790)\" d=\"M14.5426 511.517 L14.5426 506.425 Q22.0542 501.651 29.2474 499.295 Q36.4406 496.908 43.5384 496.908 Q50.668 496.908 57.8931 499.295 Q65.1182 501.651 72.5979 506.425 L72.5979 511.517 Q65.3091 507.284 58.1159 505.215 Q50.8908 503.115 43.5384 503.115 Q36.186 503.115 29.0246 505.215 Q21.8632 507.284 14.5426 511.517 Z\" fill=\"#000000\" fill-rule=\"nonzero\" fill-opacity=\"1\" /><path clip-path=\"url(#clip792)\" d=\"M279.759 316.487 L279.759 1486.45 L854.793 1486.45 L854.793 316.487 L279.759 316.487 L279.759 316.487  Z\" fill=\"#009af9\" fill-rule=\"evenodd\" fill-opacity=\"1\"/>\n",
       "<polyline clip-path=\"url(#clip792)\" style=\"stroke:#000000; stroke-linecap:round; stroke-linejoin:round; stroke-width:4; stroke-opacity:1; fill:none\" points=\"279.759,316.487 279.759,1486.45 854.793,1486.45 854.793,316.487 279.759,316.487 \"/>\n",
       "<path clip-path=\"url(#clip792)\" d=\"M998.551 299.346 L998.551 1486.45 L1573.58 1486.45 L1573.58 299.346 L998.551 299.346 L998.551 299.346  Z\" fill=\"#009af9\" fill-rule=\"evenodd\" fill-opacity=\"1\"/>\n",
       "<polyline clip-path=\"url(#clip792)\" style=\"stroke:#000000; stroke-linecap:round; stroke-linejoin:round; stroke-width:4; stroke-opacity:1; fill:none\" points=\"998.551,299.346 998.551,1486.45 1573.58,1486.45 1573.58,299.346 998.551,299.346 \"/>\n",
       "<path clip-path=\"url(#clip792)\" d=\"M1717.34 202.089 L1717.34 1486.45 L2292.38 1486.45 L2292.38 202.089 L1717.34 202.089 L1717.34 202.089  Z\" fill=\"#009af9\" fill-rule=\"evenodd\" fill-opacity=\"1\"/>\n",
       "<polyline clip-path=\"url(#clip792)\" style=\"stroke:#000000; stroke-linecap:round; stroke-linejoin:round; stroke-width:4; stroke-opacity:1; fill:none\" points=\"1717.34,202.089 1717.34,1486.45 2292.38,1486.45 2292.38,202.089 1717.34,202.089 \"/>\n",
       "<circle clip-path=\"url(#clip792)\" style=\"fill:#009af9; stroke:none; fill-opacity:0\" cx=\"567.276\" cy=\"316.487\" r=\"2\"/>\n",
       "<circle clip-path=\"url(#clip792)\" style=\"fill:#009af9; stroke:none; fill-opacity:0\" cx=\"1286.07\" cy=\"299.346\" r=\"2\"/>\n",
       "<circle clip-path=\"url(#clip792)\" style=\"fill:#009af9; stroke:none; fill-opacity:0\" cx=\"2004.86\" cy=\"202.089\" r=\"2\"/>\n",
       "<polyline clip-path=\"url(#clip792)\" style=\"stroke:#000000; stroke-linecap:round; stroke-linejoin:round; stroke-width:4; stroke-opacity:1; fill:none\" points=\"567.276,344.9 567.276,288.075 \"/>\n",
       "<polyline clip-path=\"url(#clip792)\" style=\"stroke:#000000; stroke-linecap:round; stroke-linejoin:round; stroke-width:4; stroke-opacity:1; fill:none\" points=\"1286.07,430.161 1286.07,168.531 \"/>\n",
       "<polyline clip-path=\"url(#clip792)\" style=\"stroke:#000000; stroke-linecap:round; stroke-linejoin:round; stroke-width:4; stroke-opacity:1; fill:none\" points=\"2004.86,281.382 2004.86,122.795 \"/>\n",
       "<line clip-path=\"url(#clip792)\" x1=\"583.276\" y1=\"344.9\" x2=\"551.276\" y2=\"344.9\" style=\"stroke:#000000; stroke-width:4; stroke-opacity:1\"/>\n",
       "<line clip-path=\"url(#clip792)\" x1=\"583.276\" y1=\"288.075\" x2=\"551.276\" y2=\"288.075\" style=\"stroke:#000000; stroke-width:4; stroke-opacity:1\"/>\n",
       "<line clip-path=\"url(#clip792)\" x1=\"1302.07\" y1=\"430.161\" x2=\"1270.07\" y2=\"430.161\" style=\"stroke:#000000; stroke-width:4; stroke-opacity:1\"/>\n",
       "<line clip-path=\"url(#clip792)\" x1=\"1302.07\" y1=\"168.531\" x2=\"1270.07\" y2=\"168.531\" style=\"stroke:#000000; stroke-width:4; stroke-opacity:1\"/>\n",
       "<line clip-path=\"url(#clip792)\" x1=\"2020.86\" y1=\"281.382\" x2=\"1988.86\" y2=\"281.382\" style=\"stroke:#000000; stroke-width:4; stroke-opacity:1\"/>\n",
       "<line clip-path=\"url(#clip792)\" x1=\"2020.86\" y1=\"122.795\" x2=\"1988.86\" y2=\"122.795\" style=\"stroke:#000000; stroke-width:4; stroke-opacity:1\"/>\n",
       "<circle clip-path=\"url(#clip792)\" cx=\"2004.86\" cy=\"236.063\" r=\"14.4\" fill=\"#000000\" fill-rule=\"evenodd\" fill-opacity=\"1\" stroke=\"none\"/>\n",
       "<circle clip-path=\"url(#clip792)\" cx=\"2004.86\" cy=\"218.771\" r=\"14.4\" fill=\"#000000\" fill-rule=\"evenodd\" fill-opacity=\"1\" stroke=\"none\"/>\n",
       "<circle clip-path=\"url(#clip792)\" cx=\"2004.86\" cy=\"47.2441\" r=\"14.4\" fill=\"#000000\" fill-rule=\"evenodd\" fill-opacity=\"1\" stroke=\"none\"/>\n",
       "<circle clip-path=\"url(#clip792)\" cx=\"2004.86\" cy=\"239.194\" r=\"14.4\" fill=\"#000000\" fill-rule=\"evenodd\" fill-opacity=\"1\" stroke=\"none\"/>\n",
       "<circle clip-path=\"url(#clip792)\" cx=\"2004.86\" cy=\"270.278\" r=\"14.4\" fill=\"#000000\" fill-rule=\"evenodd\" fill-opacity=\"1\" stroke=\"none\"/>\n",
       "<circle clip-path=\"url(#clip792)\" cx=\"2004.86\" cy=\"200.983\" r=\"14.4\" fill=\"#000000\" fill-rule=\"evenodd\" fill-opacity=\"1\" stroke=\"none\"/>\n",
       "<circle clip-path=\"url(#clip792)\" cx=\"1286.07\" cy=\"171.209\" r=\"14.4\" fill=\"#000000\" fill-rule=\"evenodd\" fill-opacity=\"1\" stroke=\"none\"/>\n",
       "<circle clip-path=\"url(#clip792)\" cx=\"1286.07\" cy=\"211.483\" r=\"14.4\" fill=\"#000000\" fill-rule=\"evenodd\" fill-opacity=\"1\" stroke=\"none\"/>\n",
       "<circle clip-path=\"url(#clip792)\" cx=\"1286.07\" cy=\"216.638\" r=\"14.4\" fill=\"#000000\" fill-rule=\"evenodd\" fill-opacity=\"1\" stroke=\"none\"/>\n",
       "<circle clip-path=\"url(#clip792)\" cx=\"1286.07\" cy=\"270.278\" r=\"14.4\" fill=\"#000000\" fill-rule=\"evenodd\" fill-opacity=\"1\" stroke=\"none\"/>\n",
       "<circle clip-path=\"url(#clip792)\" cx=\"1286.07\" cy=\"460.042\" r=\"14.4\" fill=\"#000000\" fill-rule=\"evenodd\" fill-opacity=\"1\" stroke=\"none\"/>\n",
       "<circle clip-path=\"url(#clip792)\" cx=\"1286.07\" cy=\"466.424\" r=\"14.4\" fill=\"#000000\" fill-rule=\"evenodd\" fill-opacity=\"1\" stroke=\"none\"/>\n",
       "<circle clip-path=\"url(#clip792)\" cx=\"567.276\" cy=\"316.894\" r=\"14.4\" fill=\"#000000\" fill-rule=\"evenodd\" fill-opacity=\"1\" stroke=\"none\"/>\n",
       "<circle clip-path=\"url(#clip792)\" cx=\"567.276\" cy=\"335.971\" r=\"14.4\" fill=\"#000000\" fill-rule=\"evenodd\" fill-opacity=\"1\" stroke=\"none\"/>\n",
       "<circle clip-path=\"url(#clip792)\" cx=\"567.276\" cy=\"316.894\" r=\"14.4\" fill=\"#000000\" fill-rule=\"evenodd\" fill-opacity=\"1\" stroke=\"none\"/>\n",
       "<circle clip-path=\"url(#clip792)\" cx=\"567.276\" cy=\"262.14\" r=\"14.4\" fill=\"#000000\" fill-rule=\"evenodd\" fill-opacity=\"1\" stroke=\"none\"/>\n",
       "<circle clip-path=\"url(#clip792)\" cx=\"567.276\" cy=\"341.359\" r=\"14.4\" fill=\"#000000\" fill-rule=\"evenodd\" fill-opacity=\"1\" stroke=\"none\"/>\n",
       "<circle clip-path=\"url(#clip792)\" cx=\"567.276\" cy=\"325.665\" r=\"14.4\" fill=\"#000000\" fill-rule=\"evenodd\" fill-opacity=\"1\" stroke=\"none\"/>\n",
       "</svg>\n"
      ],
      "text/html": [
       "<?xml version=\"1.0\" encoding=\"utf-8\"?>\n",
       "<svg xmlns=\"http://www.w3.org/2000/svg\" xmlns:xlink=\"http://www.w3.org/1999/xlink\" width=\"600\" height=\"400\" viewBox=\"0 0 2400 1600\">\n",
       "<defs>\n",
       "  <clipPath id=\"clip840\">\n",
       "    <rect x=\"0\" y=\"0\" width=\"2400\" height=\"1600\"/>\n",
       "  </clipPath>\n",
       "</defs>\n",
       "<path clip-path=\"url(#clip840)\" d=\"M0 1600 L2400 1600 L2400 0 L0 0  Z\" fill=\"#ffffff\" fill-rule=\"evenodd\" fill-opacity=\"1\"/>\n",
       "<defs>\n",
       "  <clipPath id=\"clip841\">\n",
       "    <rect x=\"480\" y=\"0\" width=\"1681\" height=\"1600\"/>\n",
       "  </clipPath>\n",
       "</defs>\n",
       "<path clip-path=\"url(#clip840)\" d=\"M219.38 1486.45 L2352.76 1486.45 L2352.76 47.2441 L219.38 47.2441  Z\" fill=\"#ffffff\" fill-rule=\"evenodd\" fill-opacity=\"1\"/>\n",
       "<defs>\n",
       "  <clipPath id=\"clip842\">\n",
       "    <rect x=\"219\" y=\"47\" width=\"2134\" height=\"1440\"/>\n",
       "  </clipPath>\n",
       "</defs>\n",
       "<polyline clip-path=\"url(#clip840)\" style=\"stroke:#000000; stroke-linecap:round; stroke-linejoin:round; stroke-width:4; stroke-opacity:1; fill:none\" points=\"219.38,1486.45 2352.76,1486.45 \"/>\n",
       "<polyline clip-path=\"url(#clip840)\" style=\"stroke:#000000; stroke-linecap:round; stroke-linejoin:round; stroke-width:4; stroke-opacity:1; fill:none\" points=\"567.276,1486.45 567.276,1505.35 \"/>\n",
       "<polyline clip-path=\"url(#clip840)\" style=\"stroke:#000000; stroke-linecap:round; stroke-linejoin:round; stroke-width:4; stroke-opacity:1; fill:none\" points=\"1286.07,1486.45 1286.07,1505.35 \"/>\n",
       "<polyline clip-path=\"url(#clip840)\" style=\"stroke:#000000; stroke-linecap:round; stroke-linejoin:round; stroke-width:4; stroke-opacity:1; fill:none\" points=\"2004.86,1486.45 2004.86,1505.35 \"/>\n",
       "<path clip-path=\"url(#clip840)\" d=\"M477.16 1527.73 L477.16 1554.61 L482.809 1554.61 Q489.961 1554.61 493.271 1551.36 Q496.605 1548.12 496.605 1541.13 Q496.605 1534.19 493.271 1530.97 Q489.961 1527.73 482.809 1527.73 L477.16 1527.73 M472.485 1523.89 L482.091 1523.89 Q492.137 1523.89 496.836 1528.08 Q501.535 1532.24 501.535 1541.13 Q501.535 1550.07 496.813 1554.26 Q492.091 1558.45 482.091 1558.45 L472.485 1558.45 L472.485 1523.89 Z\" fill=\"#000000\" fill-rule=\"nonzero\" fill-opacity=\"1\" /><path clip-path=\"url(#clip840)\" d=\"M508.989 1523.89 L528.85 1523.89 L528.85 1527.82 L513.665 1527.82 L513.665 1538.01 L527.368 1538.01 L527.368 1541.94 L513.665 1541.94 L513.665 1558.45 L508.989 1558.45 L508.989 1523.89 Z\" fill=\"#000000\" fill-rule=\"nonzero\" fill-opacity=\"1\" /><path clip-path=\"url(#clip840)\" d=\"M536.257 1523.89 L540.933 1523.89 L540.933 1558.45 L536.257 1558.45 L536.257 1523.89 Z\" fill=\"#000000\" fill-rule=\"nonzero\" fill-opacity=\"1\" /><path clip-path=\"url(#clip840)\" d=\"M550.655 1552.57 L555.54 1552.57 L555.54 1558.45 L550.655 1558.45 L550.655 1552.57 Z\" fill=\"#000000\" fill-rule=\"nonzero\" fill-opacity=\"1\" /><path clip-path=\"url(#clip840)\" d=\"M569.753 1554.51 L586.072 1554.51 L586.072 1558.45 L564.128 1558.45 L564.128 1554.51 Q566.79 1551.76 571.373 1547.13 Q575.979 1542.48 577.16 1541.13 Q579.405 1538.61 580.285 1536.87 Q581.188 1535.11 581.188 1533.42 Q581.188 1530.67 579.243 1528.93 Q577.322 1527.2 574.22 1527.2 Q572.021 1527.2 569.567 1527.96 Q567.137 1528.73 564.359 1530.28 L564.359 1525.55 Q567.183 1524.42 569.637 1523.84 Q572.09 1523.26 574.127 1523.26 Q579.498 1523.26 582.692 1525.95 Q585.887 1528.63 585.887 1533.12 Q585.887 1535.25 585.076 1537.17 Q584.289 1539.07 582.183 1541.67 Q581.604 1542.34 578.502 1545.55 Q575.401 1548.75 569.753 1554.51 Z\" fill=\"#000000\" fill-rule=\"nonzero\" fill-opacity=\"1\" /><path clip-path=\"url(#clip840)\" d=\"M595.887 1552.57 L600.771 1552.57 L600.771 1558.45 L595.887 1558.45 L595.887 1552.57 Z\" fill=\"#000000\" fill-rule=\"nonzero\" fill-opacity=\"1\" /><path clip-path=\"url(#clip840)\" d=\"M623.803 1527.96 L611.998 1546.41 L623.803 1546.41 L623.803 1527.96 M622.576 1523.89 L628.456 1523.89 L628.456 1546.41 L633.386 1546.41 L633.386 1550.3 L628.456 1550.3 L628.456 1558.45 L623.803 1558.45 L623.803 1550.3 L608.201 1550.3 L608.201 1545.79 L622.576 1523.89 Z\" fill=\"#000000\" fill-rule=\"nonzero\" fill-opacity=\"1\" /><path clip-path=\"url(#clip840)\" d=\"M641.164 1523.89 L659.521 1523.89 L659.521 1527.82 L645.447 1527.82 L645.447 1536.3 Q646.465 1535.95 647.484 1535.79 Q648.502 1535.6 649.521 1535.6 Q655.308 1535.6 658.687 1538.77 Q662.067 1541.94 662.067 1547.36 Q662.067 1552.94 658.595 1556.04 Q655.122 1559.12 648.803 1559.12 Q646.627 1559.12 644.359 1558.75 Q642.113 1558.38 639.706 1557.64 L639.706 1552.94 Q641.789 1554.07 644.011 1554.63 Q646.234 1555.18 648.71 1555.18 Q652.715 1555.18 655.053 1553.08 Q657.391 1550.97 657.391 1547.36 Q657.391 1543.75 655.053 1541.64 Q652.715 1539.54 648.71 1539.54 Q646.835 1539.54 644.96 1539.95 Q643.109 1540.37 641.164 1541.25 L641.164 1523.89 Z\" fill=\"#000000\" fill-rule=\"nonzero\" fill-opacity=\"1\" /><path clip-path=\"url(#clip840)\" d=\"M1180.13 1527.73 L1180.13 1554.61 L1185.78 1554.61 Q1192.93 1554.61 1196.24 1551.36 Q1199.58 1548.12 1199.58 1541.13 Q1199.58 1534.19 1196.24 1530.97 Q1192.93 1527.73 1185.78 1527.73 L1180.13 1527.73 M1175.46 1523.89 L1185.06 1523.89 Q1195.11 1523.89 1199.81 1528.08 Q1204.51 1532.24 1204.51 1541.13 Q1204.51 1550.07 1199.78 1554.26 Q1195.06 1558.45 1185.06 1558.45 L1175.46 1558.45 L1175.46 1523.89 Z\" fill=\"#000000\" fill-rule=\"nonzero\" fill-opacity=\"1\" /><path clip-path=\"url(#clip840)\" d=\"M1211.96 1523.89 L1231.82 1523.89 L1231.82 1527.82 L1216.64 1527.82 L1216.64 1538.01 L1230.34 1538.01 L1230.34 1541.94 L1216.64 1541.94 L1216.64 1558.45 L1211.96 1558.45 L1211.96 1523.89 Z\" fill=\"#000000\" fill-rule=\"nonzero\" fill-opacity=\"1\" /><path clip-path=\"url(#clip840)\" d=\"M1239.23 1523.89 L1243.9 1523.89 L1243.9 1558.45 L1239.23 1558.45 L1239.23 1523.89 Z\" fill=\"#000000\" fill-rule=\"nonzero\" fill-opacity=\"1\" /><path clip-path=\"url(#clip840)\" d=\"M1253.63 1552.57 L1258.51 1552.57 L1258.51 1558.45 L1253.63 1558.45 L1253.63 1552.57 Z\" fill=\"#000000\" fill-rule=\"nonzero\" fill-opacity=\"1\" /><path clip-path=\"url(#clip840)\" d=\"M1269.51 1554.51 L1277.14 1554.51 L1277.14 1528.15 L1268.83 1529.81 L1268.83 1525.55 L1277.1 1523.89 L1281.77 1523.89 L1281.77 1554.51 L1289.41 1554.51 L1289.41 1558.45 L1269.51 1558.45 L1269.51 1554.51 Z\" fill=\"#000000\" fill-rule=\"nonzero\" fill-opacity=\"1\" /><path clip-path=\"url(#clip840)\" d=\"M1298.86 1552.57 L1303.74 1552.57 L1303.74 1558.45 L1298.86 1558.45 L1298.86 1552.57 Z\" fill=\"#000000\" fill-rule=\"nonzero\" fill-opacity=\"1\" /><path clip-path=\"url(#clip840)\" d=\"M1317.95 1554.51 L1334.27 1554.51 L1334.27 1558.45 L1312.33 1558.45 L1312.33 1554.51 Q1314.99 1551.76 1319.57 1547.13 Q1324.18 1542.48 1325.36 1541.13 Q1327.61 1538.61 1328.49 1536.87 Q1329.39 1535.11 1329.39 1533.42 Q1329.39 1530.67 1327.45 1528.93 Q1325.52 1527.2 1322.42 1527.2 Q1320.22 1527.2 1317.77 1527.96 Q1315.34 1528.73 1312.56 1530.28 L1312.56 1525.55 Q1315.39 1524.42 1317.84 1523.84 Q1320.29 1523.26 1322.33 1523.26 Q1327.7 1523.26 1330.89 1525.95 Q1334.09 1528.63 1334.09 1533.12 Q1334.09 1535.25 1333.28 1537.17 Q1332.49 1539.07 1330.38 1541.67 Q1329.81 1542.34 1326.7 1545.55 Q1323.6 1548.75 1317.95 1554.51 Z\" fill=\"#000000\" fill-rule=\"nonzero\" fill-opacity=\"1\" /><path clip-path=\"url(#clip840)\" d=\"M1358.26 1539.81 Q1361.61 1540.53 1363.49 1542.8 Q1365.38 1545.07 1365.38 1548.4 Q1365.38 1553.52 1361.87 1556.32 Q1358.35 1559.12 1351.87 1559.12 Q1349.69 1559.12 1347.38 1558.68 Q1345.08 1558.26 1342.63 1557.41 L1342.63 1552.89 Q1344.57 1554.03 1346.89 1554.61 Q1349.2 1555.18 1351.73 1555.18 Q1356.13 1555.18 1358.42 1553.45 Q1360.73 1551.71 1360.73 1548.4 Q1360.73 1545.35 1358.58 1543.63 Q1356.45 1541.9 1352.63 1541.9 L1348.6 1541.9 L1348.6 1538.05 L1352.82 1538.05 Q1356.26 1538.05 1358.09 1536.69 Q1359.92 1535.3 1359.92 1532.71 Q1359.92 1530.05 1358.02 1528.63 Q1356.15 1527.2 1352.63 1527.2 Q1350.71 1527.2 1348.51 1527.61 Q1346.31 1528.03 1343.67 1528.91 L1343.67 1524.74 Q1346.33 1524 1348.65 1523.63 Q1350.99 1523.26 1353.05 1523.26 Q1358.37 1523.26 1361.47 1525.69 Q1364.57 1528.1 1364.57 1532.22 Q1364.57 1535.09 1362.93 1537.08 Q1361.29 1539.05 1358.26 1539.81 Z\" fill=\"#000000\" fill-rule=\"nonzero\" fill-opacity=\"1\" /><path clip-path=\"url(#clip840)\" d=\"M1387.1 1527.96 L1375.29 1546.41 L1387.1 1546.41 L1387.1 1527.96 M1385.87 1523.89 L1391.75 1523.89 L1391.75 1546.41 L1396.68 1546.41 L1396.68 1550.3 L1391.75 1550.3 L1391.75 1558.45 L1387.1 1558.45 L1387.1 1550.3 L1371.5 1550.3 L1371.5 1545.79 L1385.87 1523.89 Z\" fill=\"#000000\" fill-rule=\"nonzero\" fill-opacity=\"1\" /><path clip-path=\"url(#clip840)\" d=\"M1930.72 1526.55 L1930.72 1531.48 Q1928.36 1529.28 1925.67 1528.19 Q1923.01 1527.11 1920 1527.11 Q1914.07 1527.11 1910.93 1530.74 Q1907.78 1534.35 1907.78 1541.2 Q1907.78 1548.03 1910.93 1551.67 Q1914.07 1555.28 1920 1555.28 Q1923.01 1555.28 1925.67 1554.19 Q1928.36 1553.1 1930.72 1550.9 L1930.72 1555.79 Q1928.26 1557.45 1925.51 1558.29 Q1922.78 1559.12 1919.72 1559.12 Q1911.87 1559.12 1907.36 1554.33 Q1902.85 1549.51 1902.85 1541.2 Q1902.85 1532.87 1907.36 1528.08 Q1911.87 1523.26 1919.72 1523.26 Q1922.82 1523.26 1925.56 1524.1 Q1928.31 1524.91 1930.72 1526.55 Z\" fill=\"#000000\" fill-rule=\"nonzero\" fill-opacity=\"1\" /><path clip-path=\"url(#clip840)\" d=\"M1951.97 1527.06 Q1946.87 1527.06 1943.87 1530.86 Q1940.88 1534.65 1940.88 1541.2 Q1940.88 1547.73 1943.87 1551.53 Q1946.87 1555.32 1951.97 1555.32 Q1957.06 1555.32 1960.02 1551.53 Q1963.01 1547.73 1963.01 1541.2 Q1963.01 1534.65 1960.02 1530.86 Q1957.06 1527.06 1951.97 1527.06 M1951.97 1523.26 Q1959.24 1523.26 1963.59 1528.15 Q1967.94 1533.01 1967.94 1541.2 Q1967.94 1549.37 1963.59 1554.26 Q1959.24 1559.12 1951.97 1559.12 Q1944.68 1559.12 1940.3 1554.26 Q1935.95 1549.4 1935.95 1541.2 Q1935.95 1533.01 1940.3 1528.15 Q1944.68 1523.26 1951.97 1523.26 Z\" fill=\"#000000\" fill-rule=\"nonzero\" fill-opacity=\"1\" /><path clip-path=\"url(#clip840)\" d=\"M1975.25 1523.89 L1981.55 1523.89 L1996.87 1552.8 L1996.87 1523.89 L2001.41 1523.89 L2001.41 1558.45 L1995.12 1558.45 L1979.79 1529.54 L1979.79 1558.45 L1975.25 1558.45 L1975.25 1523.89 Z\" fill=\"#000000\" fill-rule=\"nonzero\" fill-opacity=\"1\" /><path clip-path=\"url(#clip840)\" d=\"M2011.13 1552.57 L2016.02 1552.57 L2016.02 1558.45 L2011.13 1558.45 L2011.13 1552.57 Z\" fill=\"#000000\" fill-rule=\"nonzero\" fill-opacity=\"1\" /><path clip-path=\"url(#clip840)\" d=\"M2036.2 1526.97 Q2032.59 1526.97 2030.76 1530.53 Q2028.96 1534.07 2028.96 1541.2 Q2028.96 1548.31 2030.76 1551.87 Q2032.59 1555.42 2036.2 1555.42 Q2039.84 1555.42 2041.64 1551.87 Q2043.47 1548.31 2043.47 1541.2 Q2043.47 1534.07 2041.64 1530.53 Q2039.84 1526.97 2036.2 1526.97 M2036.2 1523.26 Q2042.01 1523.26 2045.07 1527.87 Q2048.15 1532.45 2048.15 1541.2 Q2048.15 1549.93 2045.07 1554.54 Q2042.01 1559.12 2036.2 1559.12 Q2030.39 1559.12 2027.31 1554.54 Q2024.26 1549.93 2024.26 1541.2 Q2024.26 1532.45 2027.31 1527.87 Q2030.39 1523.26 2036.2 1523.26 Z\" fill=\"#000000\" fill-rule=\"nonzero\" fill-opacity=\"1\" /><path clip-path=\"url(#clip840)\" d=\"M2066.94 1539.3 Q2063.8 1539.3 2061.94 1541.46 Q2060.11 1543.61 2060.11 1547.36 Q2060.11 1551.09 2061.94 1553.26 Q2063.8 1555.42 2066.94 1555.42 Q2070.09 1555.42 2071.92 1553.26 Q2073.77 1551.09 2073.77 1547.36 Q2073.77 1543.61 2071.92 1541.46 Q2070.09 1539.3 2066.94 1539.3 M2076.23 1524.65 L2076.23 1528.91 Q2074.47 1528.08 2072.66 1527.64 Q2070.88 1527.2 2069.12 1527.2 Q2064.49 1527.2 2062.04 1530.32 Q2059.61 1533.45 2059.26 1539.77 Q2060.62 1537.75 2062.68 1536.69 Q2064.74 1535.6 2067.22 1535.6 Q2072.43 1535.6 2075.44 1538.77 Q2078.47 1541.92 2078.47 1547.36 Q2078.47 1552.68 2075.32 1555.9 Q2072.17 1559.12 2066.94 1559.12 Q2060.95 1559.12 2057.78 1554.54 Q2054.61 1549.93 2054.61 1541.2 Q2054.61 1533.01 2058.49 1528.15 Q2062.38 1523.26 2068.93 1523.26 Q2070.69 1523.26 2072.48 1523.61 Q2074.28 1523.96 2076.23 1524.65 Z\" fill=\"#000000\" fill-rule=\"nonzero\" fill-opacity=\"1\" /><path clip-path=\"url(#clip840)\" d=\"M2090.55 1554.51 L2106.87 1554.51 L2106.87 1558.45 L2084.93 1558.45 L2084.93 1554.51 Q2087.59 1551.76 2092.17 1547.13 Q2096.78 1542.48 2097.96 1541.13 Q2100.21 1538.61 2101.09 1536.87 Q2101.99 1535.11 2101.99 1533.42 Q2101.99 1530.67 2100.05 1528.93 Q2098.12 1527.2 2095.02 1527.2 Q2092.82 1527.2 2090.37 1527.96 Q2087.94 1528.73 2085.16 1530.28 L2085.16 1525.55 Q2087.98 1524.42 2090.44 1523.84 Q2092.89 1523.26 2094.93 1523.26 Q2100.3 1523.26 2103.49 1525.95 Q2106.69 1528.63 2106.69 1533.12 Q2106.69 1535.25 2105.88 1537.17 Q2105.09 1539.07 2102.98 1541.67 Q2102.41 1542.34 2099.3 1545.55 Q2096.2 1548.75 2090.55 1554.51 Z\" fill=\"#000000\" fill-rule=\"nonzero\" fill-opacity=\"1\" /><polyline clip-path=\"url(#clip840)\" style=\"stroke:#000000; stroke-linecap:round; stroke-linejoin:round; stroke-width:4; stroke-opacity:1; fill:none\" points=\"219.38,1486.45 219.38,47.2441 \"/>\n",
       "<polyline clip-path=\"url(#clip840)\" style=\"stroke:#000000; stroke-linecap:round; stroke-linejoin:round; stroke-width:4; stroke-opacity:1; fill:none\" points=\"219.38,1486.45 200.483,1486.45 \"/>\n",
       "<polyline clip-path=\"url(#clip840)\" style=\"stroke:#000000; stroke-linecap:round; stroke-linejoin:round; stroke-width:4; stroke-opacity:1; fill:none\" points=\"219.38,1231.55 200.483,1231.55 \"/>\n",
       "<polyline clip-path=\"url(#clip840)\" style=\"stroke:#000000; stroke-linecap:round; stroke-linejoin:round; stroke-width:4; stroke-opacity:1; fill:none\" points=\"219.38,976.65 200.483,976.65 \"/>\n",
       "<polyline clip-path=\"url(#clip840)\" style=\"stroke:#000000; stroke-linecap:round; stroke-linejoin:round; stroke-width:4; stroke-opacity:1; fill:none\" points=\"219.38,721.751 200.483,721.751 \"/>\n",
       "<polyline clip-path=\"url(#clip840)\" style=\"stroke:#000000; stroke-linecap:round; stroke-linejoin:round; stroke-width:4; stroke-opacity:1; fill:none\" points=\"219.38,466.852 200.483,466.852 \"/>\n",
       "<polyline clip-path=\"url(#clip840)\" style=\"stroke:#000000; stroke-linecap:round; stroke-linejoin:round; stroke-width:4; stroke-opacity:1; fill:none\" points=\"219.38,211.953 200.483,211.953 \"/>\n",
       "<path clip-path=\"url(#clip840)\" d=\"M108.205 1472.25 Q104.593 1472.25 102.765 1475.81 Q100.959 1479.35 100.959 1486.48 Q100.959 1493.59 102.765 1497.15 Q104.593 1500.7 108.205 1500.7 Q111.839 1500.7 113.644 1497.15 Q115.473 1493.59 115.473 1486.48 Q115.473 1479.35 113.644 1475.81 Q111.839 1472.25 108.205 1472.25 M108.205 1468.54 Q114.015 1468.54 117.07 1473.15 Q120.149 1477.73 120.149 1486.48 Q120.149 1495.21 117.07 1499.82 Q114.015 1504.4 108.205 1504.4 Q102.394 1504.4 99.3157 1499.82 Q96.2602 1495.21 96.2602 1486.48 Q96.2602 1477.73 99.3157 1473.15 Q102.394 1468.54 108.205 1468.54 Z\" fill=\"#000000\" fill-rule=\"nonzero\" fill-opacity=\"1\" /><path clip-path=\"url(#clip840)\" d=\"M128.366 1497.85 L133.251 1497.85 L133.251 1503.73 L128.366 1503.73 L128.366 1497.85 Z\" fill=\"#000000\" fill-rule=\"nonzero\" fill-opacity=\"1\" /><path clip-path=\"url(#clip840)\" d=\"M153.436 1472.25 Q149.825 1472.25 147.996 1475.81 Q146.19 1479.35 146.19 1486.48 Q146.19 1493.59 147.996 1497.15 Q149.825 1500.7 153.436 1500.7 Q157.07 1500.7 158.876 1497.15 Q160.704 1493.59 160.704 1486.48 Q160.704 1479.35 158.876 1475.81 Q157.07 1472.25 153.436 1472.25 M153.436 1468.54 Q159.246 1468.54 162.301 1473.15 Q165.38 1477.73 165.38 1486.48 Q165.38 1495.21 162.301 1499.82 Q159.246 1504.4 153.436 1504.4 Q147.626 1504.4 144.547 1499.82 Q141.491 1495.21 141.491 1486.48 Q141.491 1477.73 144.547 1473.15 Q147.626 1468.54 153.436 1468.54 Z\" fill=\"#000000\" fill-rule=\"nonzero\" fill-opacity=\"1\" /><path clip-path=\"url(#clip840)\" d=\"M109.2 1217.35 Q105.589 1217.35 103.76 1220.91 Q101.955 1224.45 101.955 1231.58 Q101.955 1238.69 103.76 1242.25 Q105.589 1245.8 109.2 1245.8 Q112.834 1245.8 114.64 1242.25 Q116.468 1238.69 116.468 1231.58 Q116.468 1224.45 114.64 1220.91 Q112.834 1217.35 109.2 1217.35 M109.2 1213.64 Q115.01 1213.64 118.066 1218.25 Q121.144 1222.83 121.144 1231.58 Q121.144 1240.31 118.066 1244.92 Q115.01 1249.5 109.2 1249.5 Q103.39 1249.5 100.311 1244.92 Q97.2555 1240.31 97.2555 1231.58 Q97.2555 1222.83 100.311 1218.25 Q103.39 1213.64 109.2 1213.64 Z\" fill=\"#000000\" fill-rule=\"nonzero\" fill-opacity=\"1\" /><path clip-path=\"url(#clip840)\" d=\"M129.362 1242.95 L134.246 1242.95 L134.246 1248.83 L129.362 1248.83 L129.362 1242.95 Z\" fill=\"#000000\" fill-rule=\"nonzero\" fill-opacity=\"1\" /><path clip-path=\"url(#clip840)\" d=\"M144.477 1214.27 L162.834 1214.27 L162.834 1218.2 L148.76 1218.2 L148.76 1226.68 Q149.778 1226.33 150.797 1226.17 Q151.815 1225.98 152.834 1225.98 Q158.621 1225.98 162.001 1229.15 Q165.38 1232.32 165.38 1237.74 Q165.38 1243.32 161.908 1246.42 Q158.436 1249.5 152.116 1249.5 Q149.94 1249.5 147.672 1249.13 Q145.427 1248.76 143.019 1248.02 L143.019 1243.32 Q145.102 1244.45 147.325 1245.01 Q149.547 1245.56 152.024 1245.56 Q156.028 1245.56 158.366 1243.46 Q160.704 1241.35 160.704 1237.74 Q160.704 1234.13 158.366 1232.02 Q156.028 1229.92 152.024 1229.92 Q150.149 1229.92 148.274 1230.33 Q146.422 1230.75 144.477 1231.63 L144.477 1214.27 Z\" fill=\"#000000\" fill-rule=\"nonzero\" fill-opacity=\"1\" /><path clip-path=\"url(#clip840)\" d=\"M99.0148 989.995 L106.654 989.995 L106.654 963.629 L98.3435 965.296 L98.3435 961.036 L106.607 959.37 L111.283 959.37 L111.283 989.995 L118.922 989.995 L118.922 993.93 L99.0148 993.93 L99.0148 989.995 Z\" fill=\"#000000\" fill-rule=\"nonzero\" fill-opacity=\"1\" /><path clip-path=\"url(#clip840)\" d=\"M128.366 988.05 L133.251 988.05 L133.251 993.93 L128.366 993.93 L128.366 988.05 Z\" fill=\"#000000\" fill-rule=\"nonzero\" fill-opacity=\"1\" /><path clip-path=\"url(#clip840)\" d=\"M153.436 962.448 Q149.825 962.448 147.996 966.013 Q146.19 969.555 146.19 976.684 Q146.19 983.791 147.996 987.356 Q149.825 990.897 153.436 990.897 Q157.07 990.897 158.876 987.356 Q160.704 983.791 160.704 976.684 Q160.704 969.555 158.876 966.013 Q157.07 962.448 153.436 962.448 M153.436 958.745 Q159.246 958.745 162.301 963.351 Q165.38 967.935 165.38 976.684 Q165.38 985.411 162.301 990.018 Q159.246 994.601 153.436 994.601 Q147.626 994.601 144.547 990.018 Q141.491 985.411 141.491 976.684 Q141.491 967.935 144.547 963.351 Q147.626 958.745 153.436 958.745 Z\" fill=\"#000000\" fill-rule=\"nonzero\" fill-opacity=\"1\" /><path clip-path=\"url(#clip840)\" d=\"M100.01 735.096 L107.649 735.096 L107.649 708.73 L99.3388 710.397 L99.3388 706.137 L107.603 704.471 L112.279 704.471 L112.279 735.096 L119.917 735.096 L119.917 739.031 L100.01 739.031 L100.01 735.096 Z\" fill=\"#000000\" fill-rule=\"nonzero\" fill-opacity=\"1\" /><path clip-path=\"url(#clip840)\" d=\"M129.362 733.151 L134.246 733.151 L134.246 739.031 L129.362 739.031 L129.362 733.151 Z\" fill=\"#000000\" fill-rule=\"nonzero\" fill-opacity=\"1\" /><path clip-path=\"url(#clip840)\" d=\"M144.477 704.471 L162.834 704.471 L162.834 708.406 L148.76 708.406 L148.76 716.878 Q149.778 716.531 150.797 716.369 Q151.815 716.184 152.834 716.184 Q158.621 716.184 162.001 719.355 Q165.38 722.526 165.38 727.943 Q165.38 733.521 161.908 736.623 Q158.436 739.702 152.116 739.702 Q149.94 739.702 147.672 739.332 Q145.427 738.961 143.019 738.221 L143.019 733.521 Q145.102 734.656 147.325 735.211 Q149.547 735.767 152.024 735.767 Q156.028 735.767 158.366 733.66 Q160.704 731.554 160.704 727.943 Q160.704 724.332 158.366 722.225 Q156.028 720.119 152.024 720.119 Q150.149 720.119 148.274 720.535 Q146.422 720.952 144.477 721.832 L144.477 704.471 Z\" fill=\"#000000\" fill-rule=\"nonzero\" fill-opacity=\"1\" /><path clip-path=\"url(#clip840)\" d=\"M102.232 480.196 L118.552 480.196 L118.552 484.132 L96.6074 484.132 L96.6074 480.196 Q99.2694 477.442 103.853 472.812 Q108.459 468.16 109.64 466.817 Q111.885 464.294 112.765 462.558 Q113.667 460.798 113.667 459.109 Q113.667 456.354 111.723 454.618 Q109.802 452.882 106.7 452.882 Q104.501 452.882 102.047 453.646 Q99.6166 454.41 96.8389 455.961 L96.8389 451.238 Q99.6629 450.104 102.117 449.525 Q104.57 448.947 106.607 448.947 Q111.978 448.947 115.172 451.632 Q118.367 454.317 118.367 458.808 Q118.367 460.937 117.556 462.859 Q116.769 464.757 114.663 467.349 Q114.084 468.021 110.982 471.238 Q107.88 474.433 102.232 480.196 Z\" fill=\"#000000\" fill-rule=\"nonzero\" fill-opacity=\"1\" /><path clip-path=\"url(#clip840)\" d=\"M128.366 478.252 L133.251 478.252 L133.251 484.132 L128.366 484.132 L128.366 478.252 Z\" fill=\"#000000\" fill-rule=\"nonzero\" fill-opacity=\"1\" /><path clip-path=\"url(#clip840)\" d=\"M153.436 452.65 Q149.825 452.65 147.996 456.215 Q146.19 459.757 146.19 466.886 Q146.19 473.993 147.996 477.558 Q149.825 481.099 153.436 481.099 Q157.07 481.099 158.876 477.558 Q160.704 473.993 160.704 466.886 Q160.704 459.757 158.876 456.215 Q157.07 452.65 153.436 452.65 M153.436 448.947 Q159.246 448.947 162.301 453.553 Q165.38 458.136 165.38 466.886 Q165.38 475.613 162.301 480.22 Q159.246 484.803 153.436 484.803 Q147.626 484.803 144.547 480.22 Q141.491 475.613 141.491 466.886 Q141.491 458.136 144.547 453.553 Q147.626 448.947 153.436 448.947 Z\" fill=\"#000000\" fill-rule=\"nonzero\" fill-opacity=\"1\" /><path clip-path=\"url(#clip840)\" d=\"M103.228 225.297 L119.547 225.297 L119.547 229.233 L97.6027 229.233 L97.6027 225.297 Q100.265 222.543 104.848 217.913 Q109.455 213.26 110.635 211.918 Q112.88 209.395 113.76 207.659 Q114.663 205.899 114.663 204.21 Q114.663 201.455 112.718 199.719 Q110.797 197.983 107.695 197.983 Q105.496 197.983 103.043 198.747 Q100.612 199.511 97.8342 201.061 L97.8342 196.339 Q100.658 195.205 103.112 194.626 Q105.566 194.048 107.603 194.048 Q112.973 194.048 116.167 196.733 Q119.362 199.418 119.362 203.909 Q119.362 206.038 118.552 207.96 Q117.765 209.858 115.658 212.45 Q115.08 213.122 111.978 216.339 Q108.876 219.534 103.228 225.297 Z\" fill=\"#000000\" fill-rule=\"nonzero\" fill-opacity=\"1\" /><path clip-path=\"url(#clip840)\" d=\"M129.362 223.353 L134.246 223.353 L134.246 229.233 L129.362 229.233 L129.362 223.353 Z\" fill=\"#000000\" fill-rule=\"nonzero\" fill-opacity=\"1\" /><path clip-path=\"url(#clip840)\" d=\"M144.477 194.673 L162.834 194.673 L162.834 198.608 L148.76 198.608 L148.76 207.08 Q149.778 206.733 150.797 206.571 Q151.815 206.386 152.834 206.386 Q158.621 206.386 162.001 209.557 Q165.38 212.728 165.38 218.145 Q165.38 223.723 161.908 226.825 Q158.436 229.904 152.116 229.904 Q149.94 229.904 147.672 229.534 Q145.427 229.163 143.019 228.422 L143.019 223.723 Q145.102 224.858 147.325 225.413 Q149.547 225.969 152.024 225.969 Q156.028 225.969 158.366 223.862 Q160.704 221.756 160.704 218.145 Q160.704 214.534 158.366 212.427 Q156.028 210.321 152.024 210.321 Q150.149 210.321 148.274 210.737 Q146.422 211.154 144.477 212.034 L144.477 194.673 Z\" fill=\"#000000\" fill-rule=\"nonzero\" fill-opacity=\"1\" /><path clip-path=\"url(#clip840)\" d=\"M22.818 1015.01 L46.4666 1023.73 L46.4666 1006.26 L22.818 1015.01 M16.4842 1018.64 L16.4842 1011.35 L64.0042 993.242 L64.0042 999.926 L51.8138 1004.26 L51.8138 1025.68 L64.0042 1030 L64.0042 1036.78 L16.4842 1018.64 Z\" fill=\"#000000\" fill-rule=\"nonzero\" fill-opacity=\"1\" /><path clip-path=\"url(#clip840)\" d=\"M29.7248 962.05 L35.1993 962.05 Q33.8307 964.533 33.1623 967.047 Q32.4621 969.53 32.4621 972.076 Q32.4621 977.774 36.0905 980.925 Q39.6872 984.076 46.212 984.076 Q52.7369 984.076 56.3653 980.925 Q59.9619 977.774 59.9619 972.076 Q59.9619 969.53 59.2935 967.047 Q58.5933 964.533 57.2247 962.05 L62.6355 962.05 Q63.7814 964.501 64.3543 967.143 Q64.9272 969.753 64.9272 972.713 Q64.9272 980.766 59.8664 985.508 Q54.8057 990.25 46.212 990.25 Q37.491 990.25 32.4939 985.476 Q27.4968 980.67 27.4968 972.331 Q27.4968 969.626 28.0697 967.047 Q28.6108 964.469 29.7248 962.05 Z\" fill=\"#000000\" fill-rule=\"nonzero\" fill-opacity=\"1\" /><path clip-path=\"url(#clip840)\" d=\"M44.7161 921.374 L47.5806 921.374 L47.5806 948.3 Q53.6281 947.919 56.8109 944.672 Q59.9619 941.394 59.9619 935.569 Q59.9619 932.195 59.1344 929.044 Q58.3069 925.861 56.6518 922.742 L62.1899 922.742 Q63.5267 925.893 64.227 929.203 Q64.9272 932.513 64.9272 935.919 Q64.9272 944.449 59.9619 949.446 Q54.9967 954.412 46.5303 954.412 Q37.7774 954.412 32.6531 949.701 Q27.4968 944.958 27.4968 936.938 Q27.4968 929.744 32.1438 925.575 Q36.7589 921.374 44.7161 921.374 M42.9973 927.23 Q38.1912 927.294 35.3266 929.935 Q32.4621 932.545 32.4621 936.874 Q32.4621 941.776 35.2312 944.736 Q38.0002 947.664 43.0292 948.109 L42.9973 927.23 Z\" fill=\"#000000\" fill-rule=\"nonzero\" fill-opacity=\"1\" /><path clip-path=\"url(#clip840)\" d=\"M18.2347 905.969 L28.3562 905.969 L28.3562 893.905 L32.9077 893.905 L32.9077 905.969 L52.2594 905.969 Q56.6199 905.969 57.8613 904.791 Q59.1026 903.581 59.1026 899.921 L59.1026 893.905 L64.0042 893.905 L64.0042 899.921 Q64.0042 906.701 61.4897 909.279 Q58.9434 911.857 52.2594 911.857 L32.9077 911.857 L32.9077 916.154 L28.3562 916.154 L28.3562 911.857 L18.2347 911.857 L18.2347 905.969 Z\" fill=\"#000000\" fill-rule=\"nonzero\" fill-opacity=\"1\" /><path clip-path=\"url(#clip840)\" d=\"M46.0847 870.002 Q46.0847 877.1 47.7079 879.837 Q49.3312 882.575 53.2461 882.575 Q56.3653 882.575 58.2114 880.538 Q60.0256 878.469 60.0256 874.936 Q60.0256 870.066 56.5881 867.138 Q53.1188 864.178 47.3897 864.178 L46.0847 864.178 L46.0847 870.002 M43.6657 858.321 L64.0042 858.321 L64.0042 864.178 L58.5933 864.178 Q61.8398 866.183 63.3994 869.175 Q64.9272 872.167 64.9272 876.495 Q64.9272 881.97 61.8716 885.216 Q58.7843 888.431 53.6281 888.431 Q47.6125 888.431 44.5569 884.421 Q41.5014 880.378 41.5014 872.389 L41.5014 864.178 L40.9285 864.178 Q36.8862 864.178 34.6901 866.851 Q32.4621 869.493 32.4621 874.299 Q32.4621 877.355 33.1941 880.251 Q33.9262 883.147 35.3903 885.821 L29.9795 885.821 Q28.7381 882.606 28.1334 879.583 Q27.4968 876.559 27.4968 873.694 Q27.4968 865.96 31.5072 862.141 Q35.5176 858.321 43.6657 858.321 Z\" fill=\"#000000\" fill-rule=\"nonzero\" fill-opacity=\"1\" /><path clip-path=\"url(#clip840)\" d=\"M18.2347 840.465 L28.3562 840.465 L28.3562 828.402 L32.9077 828.402 L32.9077 840.465 L52.2594 840.465 Q56.6199 840.465 57.8613 839.288 Q59.1026 838.078 59.1026 834.418 L59.1026 828.402 L64.0042 828.402 L64.0042 834.418 Q64.0042 841.197 61.4897 843.776 Q58.9434 846.354 52.2594 846.354 L32.9077 846.354 L32.9077 850.651 L28.3562 850.651 L28.3562 846.354 L18.2347 846.354 L18.2347 840.465 Z\" fill=\"#000000\" fill-rule=\"nonzero\" fill-opacity=\"1\" /><path clip-path=\"url(#clip840)\" d=\"M44.7161 790.208 L47.5806 790.208 L47.5806 817.135 Q53.6281 816.753 56.8109 813.507 Q59.9619 810.228 59.9619 804.404 Q59.9619 801.03 59.1344 797.879 Q58.3069 794.696 56.6518 791.577 L62.1899 791.577 Q63.5267 794.728 64.227 798.038 Q64.9272 801.348 64.9272 804.754 Q64.9272 813.284 59.9619 818.281 Q54.9967 823.246 46.5303 823.246 Q37.7774 823.246 32.6531 818.536 Q27.4968 813.793 27.4968 805.772 Q27.4968 798.579 32.1438 794.409 Q36.7589 790.208 44.7161 790.208 M42.9973 796.065 Q38.1912 796.128 35.3266 798.77 Q32.4621 801.38 32.4621 805.709 Q32.4621 810.61 35.2312 813.57 Q38.0002 816.498 43.0292 816.944 L42.9973 796.065 Z\" fill=\"#000000\" fill-rule=\"nonzero\" fill-opacity=\"1\" /><path clip-path=\"url(#clip840)\" d=\"M14.5426 745.807 Q21.8632 750.072 29.0246 752.141 Q36.186 754.21 43.5384 754.21 Q50.8908 754.21 58.1159 752.141 Q65.3091 750.041 72.5979 745.807 L72.5979 750.9 Q65.1182 755.674 57.8931 758.061 Q50.668 760.417 43.5384 760.417 Q36.4406 760.417 29.2474 758.061 Q22.0542 755.706 14.5426 750.9 L14.5426 745.807 Z\" fill=\"#000000\" fill-rule=\"nonzero\" fill-opacity=\"1\" /><path clip-path=\"url(#clip840)\" d=\"M14.479 734.445 L14.479 728.588 L64.0042 728.588 L64.0042 734.445 L14.479 734.445 Z\" fill=\"#000000\" fill-rule=\"nonzero\" fill-opacity=\"1\" /><path clip-path=\"url(#clip840)\" d=\"M32.4621 702.521 Q32.4621 707.231 36.1542 709.968 Q39.8145 712.706 46.212 712.706 Q52.6095 712.706 56.3017 710 Q59.9619 707.263 59.9619 702.521 Q59.9619 697.842 56.2698 695.104 Q52.5777 692.367 46.212 692.367 Q39.8781 692.367 36.186 695.104 Q32.4621 697.842 32.4621 702.521 M27.4968 702.521 Q27.4968 694.882 32.4621 690.521 Q37.4273 686.161 46.212 686.161 Q54.9649 686.161 59.9619 690.521 Q64.9272 694.882 64.9272 702.521 Q64.9272 710.191 59.9619 714.552 Q54.9649 718.88 46.212 718.88 Q37.4273 718.88 32.4621 714.552 Q27.4968 710.191 27.4968 702.521 Z\" fill=\"#000000\" fill-rule=\"nonzero\" fill-opacity=\"1\" /><path clip-path=\"url(#clip840)\" d=\"M45.7664 652.995 Q39.4007 652.995 35.8996 655.637 Q32.3984 658.247 32.3984 662.989 Q32.3984 667.7 35.8996 670.342 Q39.4007 672.952 45.7664 672.952 Q52.1003 672.952 55.6014 670.342 Q59.1026 667.7 59.1026 662.989 Q59.1026 658.247 55.6014 655.637 Q52.1003 652.995 45.7664 652.995 M59.58 647.139 Q68.683 647.139 73.1071 651.181 Q77.5631 655.223 77.5631 663.562 Q77.5631 666.65 77.0857 669.387 Q76.6401 672.124 75.6852 674.702 L69.9879 674.702 Q71.3884 672.124 72.0568 669.61 Q72.7252 667.095 72.7252 664.485 Q72.7252 658.724 69.7015 655.86 Q66.7096 652.995 60.6303 652.995 L57.7339 652.995 Q60.885 654.81 62.4446 657.642 Q64.0042 660.475 64.0042 664.422 Q64.0042 670.978 59.0071 674.989 Q54.01 678.999 45.7664 678.999 Q37.491 678.999 32.4939 674.989 Q27.4968 670.978 27.4968 664.422 Q27.4968 660.475 29.0564 657.642 Q30.616 654.81 33.7671 652.995 L28.3562 652.995 L28.3562 647.139 L59.58 647.139 Z\" fill=\"#000000\" fill-rule=\"nonzero\" fill-opacity=\"1\" /><path clip-path=\"url(#clip840)\" d=\"M58.5933 628.71 L58.5933 606.271 L64.0042 606.271 L64.0042 636.444 L58.5933 636.444 Q54.8057 632.784 48.44 626.482 Q42.0425 620.148 40.1964 618.525 Q36.7271 615.438 34.34 614.228 Q31.921 612.987 29.5975 612.987 Q25.8099 612.987 23.4228 615.66 Q21.0356 618.302 21.0356 622.567 Q21.0356 625.591 22.086 628.965 Q23.1363 632.307 25.2688 636.126 L18.7758 636.126 Q17.2162 632.243 16.4205 628.869 Q15.6248 625.495 15.6248 622.695 Q15.6248 615.31 19.3169 610.918 Q23.009 606.526 29.1837 606.526 Q32.112 606.526 34.7537 607.64 Q37.3637 608.722 40.9285 611.618 Q41.8515 612.414 46.2757 616.679 Q50.668 620.944 58.5933 628.71 Z\" fill=\"#000000\" fill-rule=\"nonzero\" fill-opacity=\"1\" /><path clip-path=\"url(#clip840)\" d=\"M16.4842 593.349 L16.4842 566.04 L21.895 566.04 L21.895 586.919 L35.8996 586.919 L35.8996 568.077 L41.3104 568.077 L41.3104 586.919 L64.0042 586.919 L64.0042 593.349 L16.4842 593.349 Z\" fill=\"#000000\" fill-rule=\"nonzero\" fill-opacity=\"1\" /><path clip-path=\"url(#clip840)\" d=\"M20.1444 520.27 L26.9239 520.27 Q23.9002 523.517 22.4043 527.209 Q20.9083 530.869 20.9083 535.007 Q20.9083 543.155 25.9054 547.484 Q30.8707 551.812 40.2919 551.812 Q49.6813 551.812 54.6784 547.484 Q59.6436 543.155 59.6436 535.007 Q59.6436 530.869 58.1477 527.209 Q56.6518 523.517 53.6281 520.27 L60.3439 520.27 Q62.6355 523.644 63.7814 527.432 Q64.9272 531.188 64.9272 535.389 Q64.9272 546.179 58.3387 552.385 Q51.7183 558.592 40.2919 558.592 Q28.8336 558.592 22.2451 552.385 Q15.6248 546.179 15.6248 535.389 Q15.6248 531.124 16.7706 527.368 Q17.8846 523.581 20.1444 520.27 Z\" fill=\"#000000\" fill-rule=\"nonzero\" fill-opacity=\"1\" /><path clip-path=\"url(#clip840)\" d=\"M14.5426 511.517 L14.5426 506.425 Q22.0542 501.651 29.2474 499.295 Q36.4406 496.908 43.5384 496.908 Q50.668 496.908 57.8931 499.295 Q65.1182 501.651 72.5979 506.425 L72.5979 511.517 Q65.3091 507.284 58.1159 505.215 Q50.8908 503.115 43.5384 503.115 Q36.186 503.115 29.0246 505.215 Q21.8632 507.284 14.5426 511.517 Z\" fill=\"#000000\" fill-rule=\"nonzero\" fill-opacity=\"1\" /><path clip-path=\"url(#clip842)\" d=\"M279.759 316.487 L279.759 1486.45 L854.793 1486.45 L854.793 316.487 L279.759 316.487 L279.759 316.487  Z\" fill=\"#009af9\" fill-rule=\"evenodd\" fill-opacity=\"1\"/>\n",
       "<polyline clip-path=\"url(#clip842)\" style=\"stroke:#000000; stroke-linecap:round; stroke-linejoin:round; stroke-width:4; stroke-opacity:1; fill:none\" points=\"279.759,316.487 279.759,1486.45 854.793,1486.45 854.793,316.487 279.759,316.487 \"/>\n",
       "<path clip-path=\"url(#clip842)\" d=\"M998.551 299.346 L998.551 1486.45 L1573.58 1486.45 L1573.58 299.346 L998.551 299.346 L998.551 299.346  Z\" fill=\"#009af9\" fill-rule=\"evenodd\" fill-opacity=\"1\"/>\n",
       "<polyline clip-path=\"url(#clip842)\" style=\"stroke:#000000; stroke-linecap:round; stroke-linejoin:round; stroke-width:4; stroke-opacity:1; fill:none\" points=\"998.551,299.346 998.551,1486.45 1573.58,1486.45 1573.58,299.346 998.551,299.346 \"/>\n",
       "<path clip-path=\"url(#clip842)\" d=\"M1717.34 202.089 L1717.34 1486.45 L2292.38 1486.45 L2292.38 202.089 L1717.34 202.089 L1717.34 202.089  Z\" fill=\"#009af9\" fill-rule=\"evenodd\" fill-opacity=\"1\"/>\n",
       "<polyline clip-path=\"url(#clip842)\" style=\"stroke:#000000; stroke-linecap:round; stroke-linejoin:round; stroke-width:4; stroke-opacity:1; fill:none\" points=\"1717.34,202.089 1717.34,1486.45 2292.38,1486.45 2292.38,202.089 1717.34,202.089 \"/>\n",
       "<circle clip-path=\"url(#clip842)\" style=\"fill:#009af9; stroke:none; fill-opacity:0\" cx=\"567.276\" cy=\"316.487\" r=\"2\"/>\n",
       "<circle clip-path=\"url(#clip842)\" style=\"fill:#009af9; stroke:none; fill-opacity:0\" cx=\"1286.07\" cy=\"299.346\" r=\"2\"/>\n",
       "<circle clip-path=\"url(#clip842)\" style=\"fill:#009af9; stroke:none; fill-opacity:0\" cx=\"2004.86\" cy=\"202.089\" r=\"2\"/>\n",
       "<polyline clip-path=\"url(#clip842)\" style=\"stroke:#000000; stroke-linecap:round; stroke-linejoin:round; stroke-width:4; stroke-opacity:1; fill:none\" points=\"567.276,344.9 567.276,288.075 \"/>\n",
       "<polyline clip-path=\"url(#clip842)\" style=\"stroke:#000000; stroke-linecap:round; stroke-linejoin:round; stroke-width:4; stroke-opacity:1; fill:none\" points=\"1286.07,430.161 1286.07,168.531 \"/>\n",
       "<polyline clip-path=\"url(#clip842)\" style=\"stroke:#000000; stroke-linecap:round; stroke-linejoin:round; stroke-width:4; stroke-opacity:1; fill:none\" points=\"2004.86,281.382 2004.86,122.795 \"/>\n",
       "<line clip-path=\"url(#clip842)\" x1=\"583.276\" y1=\"344.9\" x2=\"551.276\" y2=\"344.9\" style=\"stroke:#000000; stroke-width:4; stroke-opacity:1\"/>\n",
       "<line clip-path=\"url(#clip842)\" x1=\"583.276\" y1=\"288.075\" x2=\"551.276\" y2=\"288.075\" style=\"stroke:#000000; stroke-width:4; stroke-opacity:1\"/>\n",
       "<line clip-path=\"url(#clip842)\" x1=\"1302.07\" y1=\"430.161\" x2=\"1270.07\" y2=\"430.161\" style=\"stroke:#000000; stroke-width:4; stroke-opacity:1\"/>\n",
       "<line clip-path=\"url(#clip842)\" x1=\"1302.07\" y1=\"168.531\" x2=\"1270.07\" y2=\"168.531\" style=\"stroke:#000000; stroke-width:4; stroke-opacity:1\"/>\n",
       "<line clip-path=\"url(#clip842)\" x1=\"2020.86\" y1=\"281.382\" x2=\"1988.86\" y2=\"281.382\" style=\"stroke:#000000; stroke-width:4; stroke-opacity:1\"/>\n",
       "<line clip-path=\"url(#clip842)\" x1=\"2020.86\" y1=\"122.795\" x2=\"1988.86\" y2=\"122.795\" style=\"stroke:#000000; stroke-width:4; stroke-opacity:1\"/>\n",
       "<circle clip-path=\"url(#clip842)\" cx=\"2004.86\" cy=\"236.063\" r=\"14.4\" fill=\"#000000\" fill-rule=\"evenodd\" fill-opacity=\"1\" stroke=\"none\"/>\n",
       "<circle clip-path=\"url(#clip842)\" cx=\"2004.86\" cy=\"218.771\" r=\"14.4\" fill=\"#000000\" fill-rule=\"evenodd\" fill-opacity=\"1\" stroke=\"none\"/>\n",
       "<circle clip-path=\"url(#clip842)\" cx=\"2004.86\" cy=\"47.2441\" r=\"14.4\" fill=\"#000000\" fill-rule=\"evenodd\" fill-opacity=\"1\" stroke=\"none\"/>\n",
       "<circle clip-path=\"url(#clip842)\" cx=\"2004.86\" cy=\"239.194\" r=\"14.4\" fill=\"#000000\" fill-rule=\"evenodd\" fill-opacity=\"1\" stroke=\"none\"/>\n",
       "<circle clip-path=\"url(#clip842)\" cx=\"2004.86\" cy=\"270.278\" r=\"14.4\" fill=\"#000000\" fill-rule=\"evenodd\" fill-opacity=\"1\" stroke=\"none\"/>\n",
       "<circle clip-path=\"url(#clip842)\" cx=\"2004.86\" cy=\"200.983\" r=\"14.4\" fill=\"#000000\" fill-rule=\"evenodd\" fill-opacity=\"1\" stroke=\"none\"/>\n",
       "<circle clip-path=\"url(#clip842)\" cx=\"1286.07\" cy=\"171.209\" r=\"14.4\" fill=\"#000000\" fill-rule=\"evenodd\" fill-opacity=\"1\" stroke=\"none\"/>\n",
       "<circle clip-path=\"url(#clip842)\" cx=\"1286.07\" cy=\"211.483\" r=\"14.4\" fill=\"#000000\" fill-rule=\"evenodd\" fill-opacity=\"1\" stroke=\"none\"/>\n",
       "<circle clip-path=\"url(#clip842)\" cx=\"1286.07\" cy=\"216.638\" r=\"14.4\" fill=\"#000000\" fill-rule=\"evenodd\" fill-opacity=\"1\" stroke=\"none\"/>\n",
       "<circle clip-path=\"url(#clip842)\" cx=\"1286.07\" cy=\"270.278\" r=\"14.4\" fill=\"#000000\" fill-rule=\"evenodd\" fill-opacity=\"1\" stroke=\"none\"/>\n",
       "<circle clip-path=\"url(#clip842)\" cx=\"1286.07\" cy=\"460.042\" r=\"14.4\" fill=\"#000000\" fill-rule=\"evenodd\" fill-opacity=\"1\" stroke=\"none\"/>\n",
       "<circle clip-path=\"url(#clip842)\" cx=\"1286.07\" cy=\"466.424\" r=\"14.4\" fill=\"#000000\" fill-rule=\"evenodd\" fill-opacity=\"1\" stroke=\"none\"/>\n",
       "<circle clip-path=\"url(#clip842)\" cx=\"567.276\" cy=\"316.894\" r=\"14.4\" fill=\"#000000\" fill-rule=\"evenodd\" fill-opacity=\"1\" stroke=\"none\"/>\n",
       "<circle clip-path=\"url(#clip842)\" cx=\"567.276\" cy=\"335.971\" r=\"14.4\" fill=\"#000000\" fill-rule=\"evenodd\" fill-opacity=\"1\" stroke=\"none\"/>\n",
       "<circle clip-path=\"url(#clip842)\" cx=\"567.276\" cy=\"316.894\" r=\"14.4\" fill=\"#000000\" fill-rule=\"evenodd\" fill-opacity=\"1\" stroke=\"none\"/>\n",
       "<circle clip-path=\"url(#clip842)\" cx=\"567.276\" cy=\"262.14\" r=\"14.4\" fill=\"#000000\" fill-rule=\"evenodd\" fill-opacity=\"1\" stroke=\"none\"/>\n",
       "<circle clip-path=\"url(#clip842)\" cx=\"567.276\" cy=\"341.359\" r=\"14.4\" fill=\"#000000\" fill-rule=\"evenodd\" fill-opacity=\"1\" stroke=\"none\"/>\n",
       "<circle clip-path=\"url(#clip842)\" cx=\"567.276\" cy=\"325.665\" r=\"14.4\" fill=\"#000000\" fill-rule=\"evenodd\" fill-opacity=\"1\" stroke=\"none\"/>\n",
       "</svg>\n"
      ]
     },
     "metadata": {},
     "output_type": "display_data"
    }
   ],
   "source": [
    "plot(ylabel=\"Acetate (log2FC)\",)\n",
    "# @df pltdf boxplot!(:msk_id, :Acetate_log2FC)\n",
    "groupby(pltdf, :msk_id) |>\n",
    "    df -> combine(df,\n",
    "        :Acetate_log2FC => mean,\n",
    "        :Acetate_log2FC => std,\n",
    "    ) |>\n",
    "    x->@df x bar!(:msk_id, :Acetate_log2FC_mean, \n",
    "        yerror=:Acetate_log2FC_std,\n",
    "        # xticks=(1:3, :msk_id)\n",
    "    )\n",
    "\n",
    "# @df pltdf bar!(:msk_id, :Acetate_log2FC)\n",
    "@df pltdf scatter!(:msk_id, :Acetate_log2FC, c=:black, widen=false)"
   ]
  },
  {
   "cell_type": "code",
   "execution_count": 10,
   "metadata": {},
   "outputs": [
    {
     "data": {
      "text/plain": [
       "\"/Users/bend/projects/Doran_etal_2022/plots/consortiabackground\""
      ]
     },
     "metadata": {},
     "output_type": "display_data"
    }
   ],
   "source": [
    "pdir = plotsdir(\"consortiabackground\") |> mkpath"
   ]
  },
  {
   "cell_type": "code",
   "execution_count": 11,
   "metadata": {},
   "outputs": [
    {
     "data": {
      "text/plain": [
       "\"/Users/bend/projects/Doran_etal_2022/plots/consortiabackground/barplot_acetate.pdf\""
      ]
     },
     "metadata": {},
     "output_type": "display_data"
    }
   ],
   "source": [
    "savefig(joinpath(pdir, \"barplot_acetate.pdf\"))"
   ]
  },
  {
   "cell_type": "code",
   "execution_count": 24,
   "metadata": {},
   "outputs": [
    {
     "data": {
      "text/plain": [
       "Float64[]"
      ]
     },
     "metadata": {},
     "output_type": "display_data"
    }
   ],
   "source": [
    "pvals = Float64[]"
   ]
  },
  {
   "cell_type": "code",
   "execution_count": 25,
   "metadata": {},
   "outputs": [
    {
     "data": {
      "text/plain": [
       "Approximate Mann-Whitney U test\n",
       "-------------------------------\n",
       "Population details:\n",
       "    parameter of interest:   Location parameter (pseudomedian)\n",
       "    value under h_0:         0\n",
       "    point estimate:          0.152652\n",
       "\n",
       "Test summary:\n",
       "    outcome with 95% confidence: fail to reject h_0\n",
       "    two-sided p-value:           0.4704\n",
       "\n",
       "Details:\n",
       "    number of observations in each group: [6, 6]\n",
       "    Mann-Whitney-U statistic:             23.0\n",
       "    rank sums:                            [44.0, 34.0]\n",
       "    adjustment for ties:                  6.0\n",
       "    normal approximation (μ, σ):          (5.0, 6.23407)\n"
      ]
     },
     "metadata": {},
     "output_type": "display_data"
    }
   ],
   "source": [
    "x = pltdf.Acetate_log2FC[pltdf.msk_id .== \"DFI.1.234\"]\n",
    "y = pltdf.Acetate_log2FC[pltdf.msk_id .== \"DFI.2.45\"];\n",
    "using HypothesisTests\n",
    "tst = MannWhitneyUTest(x,y)\n",
    "push!(pvals, pvalue(tst))\n",
    "tst"
   ]
  },
  {
   "cell_type": "code",
   "execution_count": 26,
   "metadata": {},
   "outputs": [
    {
     "data": {
      "text/plain": [
       "Approximate Mann-Whitney U test\n",
       "-------------------------------\n",
       "Population details:\n",
       "    parameter of interest:   Location parameter (pseudomedian)\n",
       "    value under h_0:         0\n",
       "    point estimate:          -0.0314649\n",
       "\n",
       "Test summary:\n",
       "    outcome with 95% confidence: fail to reject h_0\n",
       "    two-sided p-value:           0.5211\n",
       "\n",
       "Details:\n",
       "    number of observations in each group: [6, 6]\n",
       "    Mann-Whitney-U statistic:             13.5\n",
       "    rank sums:                            [34.5, 43.5]\n",
       "    adjustment for ties:                  6.0\n",
       "    normal approximation (μ, σ):          (-4.5, 6.23407)\n"
      ]
     },
     "metadata": {},
     "output_type": "display_data"
    }
   ],
   "source": [
    "x = pltdf.Acetate_log2FC[pltdf.msk_id .== \"DFI.1.234\"]\n",
    "y = pltdf.Acetate_log2FC[pltdf.msk_id .== \"CON.062\"];\n",
    "tst = MannWhitneyUTest(x,y)\n",
    "push!(pvals, pvalue(tst))\n",
    "tst"
   ]
  },
  {
   "cell_type": "code",
   "execution_count": 27,
   "metadata": {},
   "outputs": [
    {
     "data": {
      "text/plain": [
       "Approximate Mann-Whitney U test\n",
       "-------------------------------\n",
       "Population details:\n",
       "    parameter of interest:   Location parameter (pseudomedian)\n",
       "    value under h_0:         0\n",
       "    point estimate:          -0.184117\n",
       "\n",
       "Test summary:\n",
       "    outcome with 95% confidence: reject h_0\n",
       "    two-sided p-value:           0.0081\n",
       "\n",
       "Details:\n",
       "    number of observations in each group: [6, 6]\n",
       "    Mann-Whitney-U statistic:             1.0\n",
       "    rank sums:                            [22.0, 56.0]\n",
       "    adjustment for ties:                  6.0\n",
       "    normal approximation (μ, σ):          (-17.0, 6.23407)\n"
      ]
     },
     "metadata": {},
     "output_type": "display_data"
    }
   ],
   "source": [
    "x = pltdf.Acetate_log2FC[pltdf.msk_id .== \"DFI.2.45\"]\n",
    "y = pltdf.Acetate_log2FC[pltdf.msk_id .== \"CON.062\"];\n",
    "tst = MannWhitneyUTest(x,y)\n",
    "push!(pvals, pvalue(tst))\n",
    "tst"
   ]
  },
  {
   "cell_type": "code",
   "execution_count": 28,
   "metadata": {},
   "outputs": [],
   "source": [
    "using MultipleTesting: adjust, Bonferroni"
   ]
  },
  {
   "cell_type": "code",
   "execution_count": 29,
   "metadata": {},
   "outputs": [
    {
     "data": {
      "text/plain": [
       "3-element Vector{Float64}:\n",
       " 1.0\n",
       " 1.0\n",
       " 0.024381127893205352"
      ]
     },
     "metadata": {},
     "output_type": "display_data"
    }
   ],
   "source": [
    "adjust(pvals, Bonferroni())"
   ]
  },
  {
   "cell_type": "code",
   "execution_count": null,
   "metadata": {},
   "outputs": [],
   "source": []
  }
 ],
 "metadata": {
  "kernelspec": {
   "display_name": "Julia 1.9.3",
   "language": "julia",
   "name": "julia-1.9"
  },
  "language_info": {
   "file_extension": ".jl",
   "mimetype": "application/julia",
   "name": "julia",
   "version": "1.9.3"
  }
 },
 "nbformat": 4,
 "nbformat_minor": 2
}
