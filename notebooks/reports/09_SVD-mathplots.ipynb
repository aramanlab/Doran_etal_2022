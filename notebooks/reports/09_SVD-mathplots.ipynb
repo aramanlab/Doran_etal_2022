{
 "cells": [
  {
   "cell_type": "code",
   "execution_count": 1,
   "metadata": {},
   "outputs": [],
   "source": [
    "using DrWatson\n",
    "@quickactivate \"Doran_etal_2022\"\n",
    "\n",
    "using LinearAlgebra\n",
    "using StatsPlots"
   ]
  },
  {
   "cell_type": "code",
   "execution_count": 2,
   "metadata": {},
   "outputs": [
    {
     "data": {
      "text/plain": [
       "\"/Users/ben/projects/Doran_etal_2022/plots/SVDmathplots\""
      ]
     },
     "metadata": {},
     "output_type": "display_data"
    }
   ],
   "source": [
    "pdir = plotsdir(\"SVDmathplots\") |> mkpath"
   ]
  },
  {
   "cell_type": "code",
   "execution_count": 4,
   "metadata": {},
   "outputs": [],
   "source": [
    "ha = [\n",
    "    1 0 1 1 0 1\n",
    "    1 0 1 1 1 0\n",
    "    0 1 0 1 1 1\n",
    "    0 1 1 0 1 1 \n",
    "]\n",
    "\n",
    "ma = [\n",
    "    1 1 1 0 0 0\n",
    "    1 1 1 0 0 0\n",
    "    0 0 0 1 1 1\n",
    "    0 0 0 1 1 1 \n",
    "]\n",
    "\n",
    "sa = [\n",
    "    1 0 1 0 0 0\n",
    "    1 0 0 1 0 0\n",
    "    1 0 0 0 1 0\n",
    "    1 0 0 0 0 1 \n",
    "];"
   ]
  },
  {
   "cell_type": "code",
   "execution_count": 18,
   "metadata": {},
   "outputs": [
    {
     "data": {
      "image/png": "[encoded data removed]",
      "image/svg+xml": "<?xml version=\"1.0\" encoding=\"utf-8\"?>\n<svg xmlns=\"http://www.w3.org/2000/svg\" xmlns:xlink=\"http://www.w3.org/1999/xlink\" width=\"600\" height=\"200\" viewBox=\"0 0 2400 800\">\n<defs>\n  <clipPath id=\"clip090\">\n    <rect x=\"0\" y=\"0\" width=\"2400\" height=\"800\"/>\n  </clipPath>\n</defs>\n<path clip-path=\"url(#clip090)\" d=\"\nM0 800 L2400 800 L2400 0 L0 0  Z\n  \" fill=\"#ffffff\" fill-rule=\"evenodd\" fill-opacity=\"1\"/>\n<defs>\n  <clipPath id=\"clip091\">\n    <rect x=\"480\" y=\"0\" width=\"1681\" height=\"800\"/>\n  </clipPath>\n</defs>\n<path clip-path=\"url(#clip090)\" d=\"\nM137.733 711.728 L2352.76 711.728 L2352.76 47.2441 L137.733 47.2441  Z\n  \" fill=\"#ffffff\" fill-rule=\"evenodd\" fill-opacity=\"1\"/>\n<defs>\n  <clipPath id=\"clip092\">\n    <rect x=\"137\" y=\"47\" width=\"2216\" height=\"665\"/>\n  </clipPath>\n</defs>\n<polyline clip-path=\"url(#clip090)\" style=\"stroke:#000000; stroke-linecap:round; stroke-linejoin:round; stroke-width:4; stroke-opacity:1; fill:none\" points=\"\n  137.733,711.728 2352.76,711.728 \n  \"/>\n<polyline clip-path=\"url(#clip090)\" style=\"stroke:#000000; stroke-linecap:round; stroke-linejoin:round; stroke-width:4; stroke-opacity:1; fill:none\" points=\"\n  467.075,711.728 467.075,730.626 \n  \"/>\n<polyline clip-path=\"url(#clip090)\" style=\"stroke:#000000; stroke-linecap:round; stroke-linejoin:round; stroke-width:4; stroke-opacity:1; fill:none\" points=\"\n  985.854,711.728 985.854,730.626 \n  \"/>\n<polyline clip-path=\"url(#clip090)\" style=\"stroke:#000000; stroke-linecap:round; stroke-linejoin:round; stroke-width:4; stroke-opacity:1; fill:none\" points=\"\n  1504.63,711.728 1504.63,730.626 \n  \"/>\n<polyline clip-path=\"url(#clip090)\" style=\"stroke:#000000; stroke-linecap:round; stroke-linejoin:round; stroke-width:4; stroke-opacity:1; fill:none\" points=\"\n  2023.41,711.728 2023.41,730.626 \n  \"/>\n<path clip-path=\"url(#clip090)\" d=\"M457.457 779.793 L465.096 779.793 L465.096 753.427 L456.785 755.094 L456.785 750.835 L465.049 749.168 L469.725 749.168 L469.725 779.793 L477.364 779.793 L477.364 783.728 L457.457 783.728 L457.457 779.793 Z\" fill=\"#000000\" fill-rule=\"evenodd\" fill-opacity=\"1\" /><path clip-path=\"url(#clip090)\" d=\"M980.507 779.793 L996.827 779.793 L996.827 783.728 L974.882 783.728 L974.882 779.793 Q977.544 777.038 982.128 772.408 Q986.734 767.756 987.915 766.413 Q990.16 763.89 991.04 762.154 Q991.942 760.395 991.942 758.705 Q991.942 755.95 989.998 754.214 Q988.077 752.478 984.975 752.478 Q982.776 752.478 980.322 753.242 Q977.891 754.006 975.114 755.557 L975.114 750.835 Q977.938 749.7 980.391 749.122 Q982.845 748.543 984.882 748.543 Q990.253 748.543 993.447 751.228 Q996.641 753.913 996.641 758.404 Q996.641 760.534 995.831 762.455 Q995.044 764.353 992.938 766.946 Q992.359 767.617 989.257 770.834 Q986.155 774.029 980.507 779.793 Z\" fill=\"#000000\" fill-rule=\"evenodd\" fill-opacity=\"1\" /><path clip-path=\"url(#clip090)\" d=\"M1508.88 765.094 Q1512.24 765.811 1514.11 768.08 Q1516.01 770.348 1516.01 773.682 Q1516.01 778.797 1512.49 781.598 Q1508.97 784.399 1502.49 784.399 Q1500.32 784.399 1498 783.959 Q1495.71 783.543 1493.26 782.686 L1493.26 778.172 Q1495.2 779.307 1497.52 779.885 Q1499.83 780.464 1502.35 780.464 Q1506.75 780.464 1509.04 778.728 Q1511.36 776.992 1511.36 773.682 Q1511.36 770.626 1509.21 768.913 Q1507.08 767.177 1503.26 767.177 L1499.23 767.177 L1499.23 763.334 L1503.44 763.334 Q1506.89 763.334 1508.72 761.969 Q1510.55 760.58 1510.55 757.987 Q1510.55 755.325 1508.65 753.913 Q1506.78 752.478 1503.26 752.478 Q1501.34 752.478 1499.14 752.895 Q1496.94 753.311 1494.3 754.191 L1494.3 750.024 Q1496.96 749.284 1499.28 748.913 Q1501.61 748.543 1503.67 748.543 Q1509 748.543 1512.1 750.973 Q1515.2 753.381 1515.2 757.501 Q1515.2 760.372 1513.56 762.362 Q1511.91 764.33 1508.88 765.094 Z\" fill=\"#000000\" fill-rule=\"evenodd\" fill-opacity=\"1\" /><path clip-path=\"url(#clip090)\" d=\"M2026.42 753.242 L2014.62 771.691 L2026.42 771.691 L2026.42 753.242 M2025.2 749.168 L2031.08 749.168 L2031.08 771.691 L2036.01 771.691 L2036.01 775.58 L2031.08 775.58 L2031.08 783.728 L2026.42 783.728 L2026.42 775.58 L2010.82 775.58 L2010.82 771.066 L2025.2 749.168 Z\" fill=\"#000000\" fill-rule=\"evenodd\" fill-opacity=\"1\" /><polyline clip-path=\"url(#clip090)\" style=\"stroke:#000000; stroke-linecap:round; stroke-linejoin:round; stroke-width:4; stroke-opacity:1; fill:none\" points=\"\n  137.733,711.728 137.733,47.2441 \n  \"/>\n<polyline clip-path=\"url(#clip090)\" style=\"stroke:#000000; stroke-linecap:round; stroke-linejoin:round; stroke-width:4; stroke-opacity:1; fill:none\" points=\"\n  137.733,102.618 118.835,102.618 \n  \"/>\n<polyline clip-path=\"url(#clip090)\" style=\"stroke:#000000; stroke-linecap:round; stroke-linejoin:round; stroke-width:4; stroke-opacity:1; fill:none\" points=\"\n  137.733,545.607 118.835,545.607 \n  \"/>\n<polyline clip-path=\"url(#clip090)\" style=\"stroke:#000000; stroke-linecap:round; stroke-linejoin:round; stroke-width:4; stroke-opacity:1; fill:none\" points=\"\n  137.733,656.354 118.835,656.354 \n  \"/>\n<polyline clip-path=\"url(#clip090)\" style=\"stroke:#000000; stroke-linecap:round; stroke-linejoin:round; stroke-width:4; stroke-opacity:1; fill:none\" points=\"\n  137.733,656.354 118.835,656.354 \n  \"/>\n<path clip-path=\"url(#clip090)\" d=\"M33.6634 115.963 L41.3023 115.963 L41.3023 89.597 L32.9921 91.2636 L32.9921 87.0044 L41.256 85.3377 L45.9319 85.3377 L45.9319 115.963 L53.5707 115.963 L53.5707 119.898 L33.6634 119.898 L33.6634 115.963 Z\" fill=\"#000000\" fill-rule=\"evenodd\" fill-opacity=\"1\" /><path clip-path=\"url(#clip090)\" d=\"M63.8253 115.963 L71.4641 115.963 L71.4641 89.597 L63.154 91.2636 L63.154 87.0044 L71.4178 85.3377 L76.0937 85.3377 L76.0937 115.963 L83.7326 115.963 L83.7326 119.898 L63.8253 119.898 L63.8253 115.963 Z\" fill=\"#000000\" fill-rule=\"evenodd\" fill-opacity=\"1\" /><path clip-path=\"url(#clip090)\" d=\"M76.603 544.253 Q79.9595 544.97 81.8345 547.239 Q83.7326 549.507 83.7326 552.841 Q83.7326 557.956 80.2141 560.757 Q76.6956 563.558 70.2141 563.558 Q68.0382 563.558 65.7234 563.118 Q63.4318 562.702 60.9781 561.845 L60.9781 557.331 Q62.9225 558.466 65.2373 559.044 Q67.5521 559.623 70.0753 559.623 Q74.4734 559.623 76.765 557.887 Q79.0798 556.151 79.0798 552.841 Q79.0798 549.785 76.9271 548.072 Q74.7975 546.336 70.978 546.336 L66.9503 546.336 L66.9503 542.494 L71.1632 542.494 Q74.6123 542.494 76.441 541.128 Q78.2697 539.739 78.2697 537.146 Q78.2697 534.484 76.3715 533.072 Q74.4965 531.637 70.978 531.637 Q69.0567 531.637 66.8577 532.054 Q64.6586 532.47 62.0197 533.35 L62.0197 529.183 Q64.6818 528.443 66.9966 528.072 Q69.3345 527.702 71.3947 527.702 Q76.7187 527.702 79.8206 530.132 Q82.9224 532.54 82.9224 536.66 Q82.9224 539.531 81.2789 541.521 Q79.6354 543.489 76.603 544.253 Z\" fill=\"#000000\" fill-rule=\"evenodd\" fill-opacity=\"1\" /><path clip-path=\"url(#clip090)\" d=\"M63.8253 669.699 L71.4641 669.699 L71.4641 643.333 L63.154 645 L63.154 640.741 L71.4178 639.074 L76.0937 639.074 L76.0937 669.699 L83.7326 669.699 L83.7326 673.634 L63.8253 673.634 L63.8253 669.699 Z\" fill=\"#000000\" fill-rule=\"evenodd\" fill-opacity=\"1\" /><path clip-path=\"url(#clip090)\" d=\"M63.8253 669.699 L71.4641 669.699 L71.4641 643.333 L63.154 645 L63.154 640.741 L71.4178 639.074 L76.0937 639.074 L76.0937 669.699 L83.7326 669.699 L83.7326 673.634 L63.8253 673.634 L63.8253 669.699 Z\" fill=\"#000000\" fill-rule=\"evenodd\" fill-opacity=\"1\" /><path clip-path=\"url(#clip092)\" d=\"\nM259.563 102.618 L259.563 711.728 L674.587 711.728 L674.587 102.618 L259.563 102.618 L259.563 102.618  Z\n  \" fill=\"#000000\" fill-rule=\"evenodd\" fill-opacity=\"1\"/>\n<polyline clip-path=\"url(#clip092)\" style=\"stroke:#000000; stroke-linecap:round; stroke-linejoin:round; stroke-width:4; stroke-opacity:1; fill:none\" points=\"\n  259.563,102.618 259.563,711.728 674.587,711.728 674.587,102.618 259.563,102.618 \n  \"/>\n<path clip-path=\"url(#clip092)\" d=\"\nM778.343 545.607 L778.343 711.728 L1193.37 711.728 L1193.37 545.607 L778.343 545.607 L778.343 545.607  Z\n  \" fill=\"#000000\" fill-rule=\"evenodd\" fill-opacity=\"1\"/>\n<polyline clip-path=\"url(#clip092)\" style=\"stroke:#000000; stroke-linecap:round; stroke-linejoin:round; stroke-width:4; stroke-opacity:1; fill:none\" points=\"\n  778.343,545.607 778.343,711.728 1193.37,711.728 1193.37,545.607 778.343,545.607 \n  \"/>\n<path clip-path=\"url(#clip092)\" d=\"\nM1297.12 656.354 L1297.12 711.728 L1712.15 711.728 L1712.15 656.354 L1297.12 656.354 L1297.12 656.354  Z\n  \" fill=\"#000000\" fill-rule=\"evenodd\" fill-opacity=\"1\"/>\n<polyline clip-path=\"url(#clip092)\" style=\"stroke:#000000; stroke-linecap:round; stroke-linejoin:round; stroke-width:4; stroke-opacity:1; fill:none\" points=\"\n  1297.12,656.354 1297.12,711.728 1712.15,711.728 1712.15,656.354 1297.12,656.354 \n  \"/>\n<path clip-path=\"url(#clip092)\" d=\"\nM1815.9 656.354 L1815.9 711.728 L2230.93 711.728 L2230.93 656.354 L1815.9 656.354 L1815.9 656.354  Z\n  \" fill=\"#000000\" fill-rule=\"evenodd\" fill-opacity=\"1\"/>\n<polyline clip-path=\"url(#clip092)\" style=\"stroke:#000000; stroke-linecap:round; stroke-linejoin:round; stroke-width:4; stroke-opacity:1; fill:none\" points=\"\n  1815.9,656.354 1815.9,711.728 2230.93,711.728 2230.93,656.354 1815.9,656.354 \n  \"/>\n<circle clip-path=\"url(#clip092)\" style=\"fill:#000000; stroke:none; fill-opacity:0\" cx=\"467.075\" cy=\"102.618\" r=\"2\"/>\n<circle clip-path=\"url(#clip092)\" style=\"fill:#000000; stroke:none; fill-opacity:0\" cx=\"985.854\" cy=\"545.607\" r=\"2\"/>\n<circle clip-path=\"url(#clip092)\" style=\"fill:#000000; stroke:none; fill-opacity:0\" cx=\"1504.63\" cy=\"656.354\" r=\"2\"/>\n<circle clip-path=\"url(#clip092)\" style=\"fill:#000000; stroke:none; fill-opacity:0\" cx=\"2023.41\" cy=\"656.354\" r=\"2\"/>\n</svg>\n",
      "text/html": [
       "<?xml version=\"1.0\" encoding=\"utf-8\"?>\n",
       "<svg xmlns=\"http://www.w3.org/2000/svg\" xmlns:xlink=\"http://www.w3.org/1999/xlink\" width=\"600\" height=\"200\" viewBox=\"0 0 2400 800\">\n",
       "<defs>\n",
       "  <clipPath id=\"clip140\">\n",
       "    <rect x=\"0\" y=\"0\" width=\"2400\" height=\"800\"/>\n",
       "  </clipPath>\n",
       "</defs>\n",
       "<path clip-path=\"url(#clip140)\" d=\"\n",
       "M0 800 L2400 800 L2400 0 L0 0  Z\n",
       "  \" fill=\"#ffffff\" fill-rule=\"evenodd\" fill-opacity=\"1\"/>\n",
       "<defs>\n",
       "  <clipPath id=\"clip141\">\n",
       "    <rect x=\"480\" y=\"0\" width=\"1681\" height=\"800\"/>\n",
       "  </clipPath>\n",
       "</defs>\n",
       "<path clip-path=\"url(#clip140)\" d=\"\n",
       "M137.733 711.728 L2352.76 711.728 L2352.76 47.2441 L137.733 47.2441  Z\n",
       "  \" fill=\"#ffffff\" fill-rule=\"evenodd\" fill-opacity=\"1\"/>\n",
       "<defs>\n",
       "  <clipPath id=\"clip142\">\n",
       "    <rect x=\"137\" y=\"47\" width=\"2216\" height=\"665\"/>\n",
       "  </clipPath>\n",
       "</defs>\n",
       "<polyline clip-path=\"url(#clip140)\" style=\"stroke:#000000; stroke-linecap:round; stroke-linejoin:round; stroke-width:4; stroke-opacity:1; fill:none\" points=\"\n",
       "  137.733,711.728 2352.76,711.728 \n",
       "  \"/>\n",
       "<polyline clip-path=\"url(#clip140)\" style=\"stroke:#000000; stroke-linecap:round; stroke-linejoin:round; stroke-width:4; stroke-opacity:1; fill:none\" points=\"\n",
       "  467.075,711.728 467.075,730.626 \n",
       "  \"/>\n",
       "<polyline clip-path=\"url(#clip140)\" style=\"stroke:#000000; stroke-linecap:round; stroke-linejoin:round; stroke-width:4; stroke-opacity:1; fill:none\" points=\"\n",
       "  985.854,711.728 985.854,730.626 \n",
       "  \"/>\n",
       "<polyline clip-path=\"url(#clip140)\" style=\"stroke:#000000; stroke-linecap:round; stroke-linejoin:round; stroke-width:4; stroke-opacity:1; fill:none\" points=\"\n",
       "  1504.63,711.728 1504.63,730.626 \n",
       "  \"/>\n",
       "<polyline clip-path=\"url(#clip140)\" style=\"stroke:#000000; stroke-linecap:round; stroke-linejoin:round; stroke-width:4; stroke-opacity:1; fill:none\" points=\"\n",
       "  2023.41,711.728 2023.41,730.626 \n",
       "  \"/>\n",
       "<path clip-path=\"url(#clip140)\" d=\"M457.457 779.793 L465.096 779.793 L465.096 753.427 L456.785 755.094 L456.785 750.835 L465.049 749.168 L469.725 749.168 L469.725 779.793 L477.364 779.793 L477.364 783.728 L457.457 783.728 L457.457 779.793 Z\" fill=\"#000000\" fill-rule=\"evenodd\" fill-opacity=\"1\" /><path clip-path=\"url(#clip140)\" d=\"M980.507 779.793 L996.827 779.793 L996.827 783.728 L974.882 783.728 L974.882 779.793 Q977.544 777.038 982.128 772.408 Q986.734 767.756 987.915 766.413 Q990.16 763.89 991.04 762.154 Q991.942 760.395 991.942 758.705 Q991.942 755.95 989.998 754.214 Q988.077 752.478 984.975 752.478 Q982.776 752.478 980.322 753.242 Q977.891 754.006 975.114 755.557 L975.114 750.835 Q977.938 749.7 980.391 749.122 Q982.845 748.543 984.882 748.543 Q990.253 748.543 993.447 751.228 Q996.641 753.913 996.641 758.404 Q996.641 760.534 995.831 762.455 Q995.044 764.353 992.938 766.946 Q992.359 767.617 989.257 770.834 Q986.155 774.029 980.507 779.793 Z\" fill=\"#000000\" fill-rule=\"evenodd\" fill-opacity=\"1\" /><path clip-path=\"url(#clip140)\" d=\"M1508.88 765.094 Q1512.24 765.811 1514.11 768.08 Q1516.01 770.348 1516.01 773.682 Q1516.01 778.797 1512.49 781.598 Q1508.97 784.399 1502.49 784.399 Q1500.32 784.399 1498 783.959 Q1495.71 783.543 1493.26 782.686 L1493.26 778.172 Q1495.2 779.307 1497.52 779.885 Q1499.83 780.464 1502.35 780.464 Q1506.75 780.464 1509.04 778.728 Q1511.36 776.992 1511.36 773.682 Q1511.36 770.626 1509.21 768.913 Q1507.08 767.177 1503.26 767.177 L1499.23 767.177 L1499.23 763.334 L1503.44 763.334 Q1506.89 763.334 1508.72 761.969 Q1510.55 760.58 1510.55 757.987 Q1510.55 755.325 1508.65 753.913 Q1506.78 752.478 1503.26 752.478 Q1501.34 752.478 1499.14 752.895 Q1496.94 753.311 1494.3 754.191 L1494.3 750.024 Q1496.96 749.284 1499.28 748.913 Q1501.61 748.543 1503.67 748.543 Q1509 748.543 1512.1 750.973 Q1515.2 753.381 1515.2 757.501 Q1515.2 760.372 1513.56 762.362 Q1511.91 764.33 1508.88 765.094 Z\" fill=\"#000000\" fill-rule=\"evenodd\" fill-opacity=\"1\" /><path clip-path=\"url(#clip140)\" d=\"M2026.42 753.242 L2014.62 771.691 L2026.42 771.691 L2026.42 753.242 M2025.2 749.168 L2031.08 749.168 L2031.08 771.691 L2036.01 771.691 L2036.01 775.58 L2031.08 775.58 L2031.08 783.728 L2026.42 783.728 L2026.42 775.58 L2010.82 775.58 L2010.82 771.066 L2025.2 749.168 Z\" fill=\"#000000\" fill-rule=\"evenodd\" fill-opacity=\"1\" /><polyline clip-path=\"url(#clip140)\" style=\"stroke:#000000; stroke-linecap:round; stroke-linejoin:round; stroke-width:4; stroke-opacity:1; fill:none\" points=\"\n",
       "  137.733,711.728 137.733,47.2441 \n",
       "  \"/>\n",
       "<polyline clip-path=\"url(#clip140)\" style=\"stroke:#000000; stroke-linecap:round; stroke-linejoin:round; stroke-width:4; stroke-opacity:1; fill:none\" points=\"\n",
       "  137.733,102.618 118.835,102.618 \n",
       "  \"/>\n",
       "<polyline clip-path=\"url(#clip140)\" style=\"stroke:#000000; stroke-linecap:round; stroke-linejoin:round; stroke-width:4; stroke-opacity:1; fill:none\" points=\"\n",
       "  137.733,545.607 118.835,545.607 \n",
       "  \"/>\n",
       "<polyline clip-path=\"url(#clip140)\" style=\"stroke:#000000; stroke-linecap:round; stroke-linejoin:round; stroke-width:4; stroke-opacity:1; fill:none\" points=\"\n",
       "  137.733,656.354 118.835,656.354 \n",
       "  \"/>\n",
       "<polyline clip-path=\"url(#clip140)\" style=\"stroke:#000000; stroke-linecap:round; stroke-linejoin:round; stroke-width:4; stroke-opacity:1; fill:none\" points=\"\n",
       "  137.733,656.354 118.835,656.354 \n",
       "  \"/>\n",
       "<path clip-path=\"url(#clip140)\" d=\"M33.6634 115.963 L41.3023 115.963 L41.3023 89.597 L32.9921 91.2636 L32.9921 87.0044 L41.256 85.3377 L45.9319 85.3377 L45.9319 115.963 L53.5707 115.963 L53.5707 119.898 L33.6634 119.898 L33.6634 115.963 Z\" fill=\"#000000\" fill-rule=\"evenodd\" fill-opacity=\"1\" /><path clip-path=\"url(#clip140)\" d=\"M63.8253 115.963 L71.4641 115.963 L71.4641 89.597 L63.154 91.2636 L63.154 87.0044 L71.4178 85.3377 L76.0937 85.3377 L76.0937 115.963 L83.7326 115.963 L83.7326 119.898 L63.8253 119.898 L63.8253 115.963 Z\" fill=\"#000000\" fill-rule=\"evenodd\" fill-opacity=\"1\" /><path clip-path=\"url(#clip140)\" d=\"M76.603 544.253 Q79.9595 544.97 81.8345 547.239 Q83.7326 549.507 83.7326 552.841 Q83.7326 557.956 80.2141 560.757 Q76.6956 563.558 70.2141 563.558 Q68.0382 563.558 65.7234 563.118 Q63.4318 562.702 60.9781 561.845 L60.9781 557.331 Q62.9225 558.466 65.2373 559.044 Q67.5521 559.623 70.0753 559.623 Q74.4734 559.623 76.765 557.887 Q79.0798 556.151 79.0798 552.841 Q79.0798 549.785 76.9271 548.072 Q74.7975 546.336 70.978 546.336 L66.9503 546.336 L66.9503 542.494 L71.1632 542.494 Q74.6123 542.494 76.441 541.128 Q78.2697 539.739 78.2697 537.146 Q78.2697 534.484 76.3715 533.072 Q74.4965 531.637 70.978 531.637 Q69.0567 531.637 66.8577 532.054 Q64.6586 532.47 62.0197 533.35 L62.0197 529.183 Q64.6818 528.443 66.9966 528.072 Q69.3345 527.702 71.3947 527.702 Q76.7187 527.702 79.8206 530.132 Q82.9224 532.54 82.9224 536.66 Q82.9224 539.531 81.2789 541.521 Q79.6354 543.489 76.603 544.253 Z\" fill=\"#000000\" fill-rule=\"evenodd\" fill-opacity=\"1\" /><path clip-path=\"url(#clip140)\" d=\"M63.8253 669.699 L71.4641 669.699 L71.4641 643.333 L63.154 645 L63.154 640.741 L71.4178 639.074 L76.0937 639.074 L76.0937 669.699 L83.7326 669.699 L83.7326 673.634 L63.8253 673.634 L63.8253 669.699 Z\" fill=\"#000000\" fill-rule=\"evenodd\" fill-opacity=\"1\" /><path clip-path=\"url(#clip140)\" d=\"M63.8253 669.699 L71.4641 669.699 L71.4641 643.333 L63.154 645 L63.154 640.741 L71.4178 639.074 L76.0937 639.074 L76.0937 669.699 L83.7326 669.699 L83.7326 673.634 L63.8253 673.634 L63.8253 669.699 Z\" fill=\"#000000\" fill-rule=\"evenodd\" fill-opacity=\"1\" /><path clip-path=\"url(#clip142)\" d=\"\n",
       "M259.563 102.618 L259.563 711.728 L674.587 711.728 L674.587 102.618 L259.563 102.618 L259.563 102.618  Z\n",
       "  \" fill=\"#000000\" fill-rule=\"evenodd\" fill-opacity=\"1\"/>\n",
       "<polyline clip-path=\"url(#clip142)\" style=\"stroke:#000000; stroke-linecap:round; stroke-linejoin:round; stroke-width:4; stroke-opacity:1; fill:none\" points=\"\n",
       "  259.563,102.618 259.563,711.728 674.587,711.728 674.587,102.618 259.563,102.618 \n",
       "  \"/>\n",
       "<path clip-path=\"url(#clip142)\" d=\"\n",
       "M778.343 545.607 L778.343 711.728 L1193.37 711.728 L1193.37 545.607 L778.343 545.607 L778.343 545.607  Z\n",
       "  \" fill=\"#000000\" fill-rule=\"evenodd\" fill-opacity=\"1\"/>\n",
       "<polyline clip-path=\"url(#clip142)\" style=\"stroke:#000000; stroke-linecap:round; stroke-linejoin:round; stroke-width:4; stroke-opacity:1; fill:none\" points=\"\n",
       "  778.343,545.607 778.343,711.728 1193.37,711.728 1193.37,545.607 778.343,545.607 \n",
       "  \"/>\n",
       "<path clip-path=\"url(#clip142)\" d=\"\n",
       "M1297.12 656.354 L1297.12 711.728 L1712.15 711.728 L1712.15 656.354 L1297.12 656.354 L1297.12 656.354  Z\n",
       "  \" fill=\"#000000\" fill-rule=\"evenodd\" fill-opacity=\"1\"/>\n",
       "<polyline clip-path=\"url(#clip142)\" style=\"stroke:#000000; stroke-linecap:round; stroke-linejoin:round; stroke-width:4; stroke-opacity:1; fill:none\" points=\"\n",
       "  1297.12,656.354 1297.12,711.728 1712.15,711.728 1712.15,656.354 1297.12,656.354 \n",
       "  \"/>\n",
       "<path clip-path=\"url(#clip142)\" d=\"\n",
       "M1815.9 656.354 L1815.9 711.728 L2230.93 711.728 L2230.93 656.354 L1815.9 656.354 L1815.9 656.354  Z\n",
       "  \" fill=\"#000000\" fill-rule=\"evenodd\" fill-opacity=\"1\"/>\n",
       "<polyline clip-path=\"url(#clip142)\" style=\"stroke:#000000; stroke-linecap:round; stroke-linejoin:round; stroke-width:4; stroke-opacity:1; fill:none\" points=\"\n",
       "  1815.9,656.354 1815.9,711.728 2230.93,711.728 2230.93,656.354 1815.9,656.354 \n",
       "  \"/>\n",
       "<circle clip-path=\"url(#clip142)\" style=\"fill:#000000; stroke:none; fill-opacity:0\" cx=\"467.075\" cy=\"102.618\" r=\"2\"/>\n",
       "<circle clip-path=\"url(#clip142)\" style=\"fill:#000000; stroke:none; fill-opacity:0\" cx=\"985.854\" cy=\"545.607\" r=\"2\"/>\n",
       "<circle clip-path=\"url(#clip142)\" style=\"fill:#000000; stroke:none; fill-opacity:0\" cx=\"1504.63\" cy=\"656.354\" r=\"2\"/>\n",
       "<circle clip-path=\"url(#clip142)\" style=\"fill:#000000; stroke:none; fill-opacity:0\" cx=\"2023.41\" cy=\"656.354\" r=\"2\"/>\n",
       "</svg>\n"
      ]
     },
     "metadata": {},
     "output_type": "display_data"
    }
   ],
   "source": [
    "SVs = svd(ha).S.^2\n",
    "bar(SVs, \n",
    "    c=:black, \n",
    "    ylims=(0,12), \n",
    "    yticks=SVs,\n",
    "    label=\"\",\n",
    "    tickdirection=:out,\n",
    "    grid=false,\n",
    "    size=(600, 200)\n",
    ")"
   ]
  },
  {
   "cell_type": "code",
   "execution_count": 19,
   "metadata": {},
   "outputs": [
    {
     "data": {
      "text/plain": [
       "\"/Users/ben/projects/Doran_etal_2022/plots/SVDmathplots/hierarchical_SVs_bar.pdf\""
      ]
     },
     "metadata": {},
     "output_type": "display_data"
    }
   ],
   "source": [
    "savefig(joinpath(pdir, \"hierarchical_SVs_bar.pdf\"))"
   ]
  },
  {
   "cell_type": "code",
   "execution_count": 20,
   "metadata": {},
   "outputs": [
    {
     "data": {
      "image/png": "[encoded data removed]",
      "image/svg+xml": "<?xml version=\"1.0\" encoding=\"utf-8\"?>\n<svg xmlns=\"http://www.w3.org/2000/svg\" xmlns:xlink=\"http://www.w3.org/1999/xlink\" width=\"600\" height=\"200\" viewBox=\"0 0 2400 800\">\n<defs>\n  <clipPath id=\"clip190\">\n    <rect x=\"0\" y=\"0\" width=\"2400\" height=\"800\"/>\n  </clipPath>\n</defs>\n<path clip-path=\"url(#clip190)\" d=\"\nM0 800 L2400 800 L2400 0 L0 0  Z\n  \" fill=\"#ffffff\" fill-rule=\"evenodd\" fill-opacity=\"1\"/>\n<defs>\n  <clipPath id=\"clip191\">\n    <rect x=\"480\" y=\"0\" width=\"1681\" height=\"800\"/>\n  </clipPath>\n</defs>\n<path clip-path=\"url(#clip190)\" d=\"\nM110.881 711.728 L2352.76 711.728 L2352.76 47.2441 L110.881 47.2441  Z\n  \" fill=\"#ffffff\" fill-rule=\"evenodd\" fill-opacity=\"1\"/>\n<defs>\n  <clipPath id=\"clip192\">\n    <rect x=\"110\" y=\"47\" width=\"2243\" height=\"665\"/>\n  </clipPath>\n</defs>\n<polyline clip-path=\"url(#clip190)\" style=\"stroke:#000000; stroke-linecap:round; stroke-linejoin:round; stroke-width:4; stroke-opacity:1; fill:none\" points=\"\n  110.881,711.728 2352.76,711.728 \n  \"/>\n<polyline clip-path=\"url(#clip190)\" style=\"stroke:#000000; stroke-linecap:round; stroke-linejoin:round; stroke-width:4; stroke-opacity:1; fill:none\" points=\"\n  444.215,711.728 444.215,730.626 \n  \"/>\n<polyline clip-path=\"url(#clip190)\" style=\"stroke:#000000; stroke-linecap:round; stroke-linejoin:round; stroke-width:4; stroke-opacity:1; fill:none\" points=\"\n  969.284,711.728 969.284,730.626 \n  \"/>\n<polyline clip-path=\"url(#clip190)\" style=\"stroke:#000000; stroke-linecap:round; stroke-linejoin:round; stroke-width:4; stroke-opacity:1; fill:none\" points=\"\n  1494.35,711.728 1494.35,730.626 \n  \"/>\n<polyline clip-path=\"url(#clip190)\" style=\"stroke:#000000; stroke-linecap:round; stroke-linejoin:round; stroke-width:4; stroke-opacity:1; fill:none\" points=\"\n  2019.42,711.728 2019.42,730.626 \n  \"/>\n<path clip-path=\"url(#clip190)\" d=\"M434.597 779.793 L442.236 779.793 L442.236 753.427 L433.926 755.094 L433.926 750.835 L442.19 749.168 L446.866 749.168 L446.866 779.793 L454.505 779.793 L454.505 783.728 L434.597 783.728 L434.597 779.793 Z\" fill=\"#000000\" fill-rule=\"evenodd\" fill-opacity=\"1\" /><path clip-path=\"url(#clip190)\" d=\"M963.937 779.793 L980.256 779.793 L980.256 783.728 L958.312 783.728 L958.312 779.793 Q960.974 777.038 965.557 772.408 Q970.164 767.756 971.344 766.413 Q973.59 763.89 974.469 762.154 Q975.372 760.395 975.372 758.705 Q975.372 755.95 973.428 754.214 Q971.506 752.478 968.404 752.478 Q966.205 752.478 963.752 753.242 Q961.321 754.006 958.543 755.557 L958.543 750.835 Q961.367 749.7 963.821 749.122 Q966.275 748.543 968.312 748.543 Q973.682 748.543 976.877 751.228 Q980.071 753.913 980.071 758.404 Q980.071 760.534 979.261 762.455 Q978.474 764.353 976.367 766.946 Q975.789 767.617 972.687 770.834 Q969.585 774.029 963.937 779.793 Z\" fill=\"#000000\" fill-rule=\"evenodd\" fill-opacity=\"1\" /><path clip-path=\"url(#clip190)\" d=\"M1498.6 765.094 Q1501.96 765.811 1503.83 768.08 Q1505.73 770.348 1505.73 773.682 Q1505.73 778.797 1502.21 781.598 Q1498.69 784.399 1492.21 784.399 Q1490.04 784.399 1487.72 783.959 Q1485.43 783.543 1482.98 782.686 L1482.98 778.172 Q1484.92 779.307 1487.23 779.885 Q1489.55 780.464 1492.07 780.464 Q1496.47 780.464 1498.76 778.728 Q1501.08 776.992 1501.08 773.682 Q1501.08 770.626 1498.92 768.913 Q1496.79 767.177 1492.98 767.177 L1488.95 767.177 L1488.95 763.334 L1493.16 763.334 Q1496.61 763.334 1498.44 761.969 Q1500.27 760.58 1500.27 757.987 Q1500.27 755.325 1498.37 753.913 Q1496.49 752.478 1492.98 752.478 Q1491.05 752.478 1488.86 752.895 Q1486.66 753.311 1484.02 754.191 L1484.02 750.024 Q1486.68 749.284 1488.99 748.913 Q1491.33 748.543 1493.39 748.543 Q1498.72 748.543 1501.82 750.973 Q1504.92 753.381 1504.92 757.501 Q1504.92 760.372 1503.28 762.362 Q1501.63 764.33 1498.6 765.094 Z\" fill=\"#000000\" fill-rule=\"evenodd\" fill-opacity=\"1\" /><path clip-path=\"url(#clip190)\" d=\"M2022.43 753.242 L2010.63 771.691 L2022.43 771.691 L2022.43 753.242 M2021.2 749.168 L2027.08 749.168 L2027.08 771.691 L2032.01 771.691 L2032.01 775.58 L2027.08 775.58 L2027.08 783.728 L2022.43 783.728 L2022.43 775.58 L2006.83 775.58 L2006.83 771.066 L2021.2 749.168 Z\" fill=\"#000000\" fill-rule=\"evenodd\" fill-opacity=\"1\" /><polyline clip-path=\"url(#clip190)\" style=\"stroke:#000000; stroke-linecap:round; stroke-linejoin:round; stroke-width:4; stroke-opacity:1; fill:none\" points=\"\n  110.881,711.728 110.881,47.2441 \n  \"/>\n<polyline clip-path=\"url(#clip190)\" style=\"stroke:#000000; stroke-linecap:round; stroke-linejoin:round; stroke-width:4; stroke-opacity:1; fill:none\" points=\"\n  110.881,379.486 91.9832,379.486 \n  \"/>\n<polyline clip-path=\"url(#clip190)\" style=\"stroke:#000000; stroke-linecap:round; stroke-linejoin:round; stroke-width:4; stroke-opacity:1; fill:none\" points=\"\n  110.881,379.486 91.9832,379.486 \n  \"/>\n<polyline clip-path=\"url(#clip190)\" style=\"stroke:#000000; stroke-linecap:round; stroke-linejoin:round; stroke-width:4; stroke-opacity:1; fill:none\" points=\"\n  110.881,711.728 91.9832,711.728 \n  \"/>\n<polyline clip-path=\"url(#clip190)\" style=\"stroke:#000000; stroke-linecap:round; stroke-linejoin:round; stroke-width:4; stroke-opacity:1; fill:none\" points=\"\n  110.881,711.728 91.9832,711.728 \n  \"/>\n<path clip-path=\"url(#clip190)\" d=\"M45.3532 377.623 Q42.205 377.623 40.3532 379.775 Q38.5245 381.928 38.5245 385.678 Q38.5245 389.405 40.3532 391.581 Q42.205 393.734 45.3532 393.734 Q48.5013 393.734 50.33 391.581 Q52.1818 389.405 52.1818 385.678 Q52.1818 381.928 50.33 379.775 Q48.5013 377.623 45.3532 377.623 M54.6355 362.97 L54.6355 367.229 Q52.8763 366.396 51.0707 365.956 Q49.2883 365.516 47.5291 365.516 Q42.8995 365.516 40.4458 368.641 Q38.0152 371.766 37.668 378.086 Q39.0338 376.072 41.0939 375.007 Q43.1541 373.919 45.6309 373.919 Q50.8393 373.919 53.8485 377.09 Q56.8809 380.238 56.8809 385.678 Q56.8809 391.002 53.7328 394.22 Q50.5846 397.437 45.3532 397.437 Q39.3578 397.437 36.1866 392.854 Q33.0153 388.248 33.0153 379.521 Q33.0153 371.326 36.9041 366.465 Q40.793 361.581 47.3439 361.581 Q49.1032 361.581 50.8855 361.928 Q52.6911 362.275 54.6355 362.97 Z\" fill=\"#000000\" fill-rule=\"evenodd\" fill-opacity=\"1\" /><path clip-path=\"url(#clip190)\" d=\"M45.3532 377.623 Q42.205 377.623 40.3532 379.775 Q38.5245 381.928 38.5245 385.678 Q38.5245 389.405 40.3532 391.581 Q42.205 393.734 45.3532 393.734 Q48.5013 393.734 50.33 391.581 Q52.1818 389.405 52.1818 385.678 Q52.1818 381.928 50.33 379.775 Q48.5013 377.623 45.3532 377.623 M54.6355 362.97 L54.6355 367.229 Q52.8763 366.396 51.0707 365.956 Q49.2883 365.516 47.5291 365.516 Q42.8995 365.516 40.4458 368.641 Q38.0152 371.766 37.668 378.086 Q39.0338 376.072 41.0939 375.007 Q43.1541 373.919 45.6309 373.919 Q50.8393 373.919 53.8485 377.09 Q56.8809 380.238 56.8809 385.678 Q56.8809 391.002 53.7328 394.22 Q50.5846 397.437 45.3532 397.437 Q39.3578 397.437 36.1866 392.854 Q33.0153 388.248 33.0153 379.521 Q33.0153 371.326 36.9041 366.465 Q40.793 361.581 47.3439 361.581 Q49.1032 361.581 50.8855 361.928 Q52.6911 362.275 54.6355 362.97 Z\" fill=\"#000000\" fill-rule=\"evenodd\" fill-opacity=\"1\" /><path clip-path=\"url(#clip190)\" d=\"M44.9365 697.527 Q41.3254 697.527 39.4967 701.091 Q37.6912 704.633 37.6912 711.763 Q37.6912 718.869 39.4967 722.434 Q41.3254 725.975 44.9365 725.975 Q48.5707 725.975 50.3763 722.434 Q52.205 718.869 52.205 711.763 Q52.205 704.633 50.3763 701.091 Q48.5707 697.527 44.9365 697.527 M44.9365 693.823 Q50.7467 693.823 53.8022 698.429 Q56.8809 703.013 56.8809 711.763 Q56.8809 720.489 53.8022 725.096 Q50.7467 729.679 44.9365 729.679 Q39.1264 729.679 36.0477 725.096 Q32.9921 720.489 32.9921 711.763 Q32.9921 703.013 36.0477 698.429 Q39.1264 693.823 44.9365 693.823 Z\" fill=\"#000000\" fill-rule=\"evenodd\" fill-opacity=\"1\" /><path clip-path=\"url(#clip190)\" d=\"M44.9365 697.527 Q41.3254 697.527 39.4967 701.091 Q37.6912 704.633 37.6912 711.763 Q37.6912 718.869 39.4967 722.434 Q41.3254 725.975 44.9365 725.975 Q48.5707 725.975 50.3763 722.434 Q52.205 718.869 52.205 711.763 Q52.205 704.633 50.3763 701.091 Q48.5707 697.527 44.9365 697.527 M44.9365 693.823 Q50.7467 693.823 53.8022 698.429 Q56.8809 703.013 56.8809 711.763 Q56.8809 720.489 53.8022 725.096 Q50.7467 729.679 44.9365 729.679 Q39.1264 729.679 36.0477 725.096 Q32.9921 720.489 32.9921 711.763 Q32.9921 703.013 36.0477 698.429 Q39.1264 693.823 44.9365 693.823 Z\" fill=\"#000000\" fill-rule=\"evenodd\" fill-opacity=\"1\" /><path clip-path=\"url(#clip192)\" d=\"\nM234.188 379.486 L234.188 711.728 L654.243 711.728 L654.243 379.486 L234.188 379.486 L234.188 379.486  Z\n  \" fill=\"#000000\" fill-rule=\"evenodd\" fill-opacity=\"1\"/>\n<polyline clip-path=\"url(#clip192)\" style=\"stroke:#000000; stroke-linecap:round; stroke-linejoin:round; stroke-width:4; stroke-opacity:1; fill:none\" points=\"\n  234.188,379.486 234.188,711.728 654.243,711.728 654.243,379.486 234.188,379.486 \n  \"/>\n<path clip-path=\"url(#clip192)\" d=\"\nM759.257 379.486 L759.257 711.728 L1179.31 711.728 L1179.31 379.486 L759.257 379.486 L759.257 379.486  Z\n  \" fill=\"#000000\" fill-rule=\"evenodd\" fill-opacity=\"1\"/>\n<polyline clip-path=\"url(#clip192)\" style=\"stroke:#000000; stroke-linecap:round; stroke-linejoin:round; stroke-width:4; stroke-opacity:1; fill:none\" points=\"\n  759.257,379.486 759.257,711.728 1179.31,711.728 1179.31,379.486 759.257,379.486 \n  \"/>\n<path clip-path=\"url(#clip192)\" d=\"\nM1284.33 711.728 L1284.33 711.728 L1704.38 711.728 L1704.38 711.728 L1284.33 711.728 L1284.33 711.728  Z\n  \" fill=\"#000000\" fill-rule=\"evenodd\" fill-opacity=\"1\"/>\n<polyline clip-path=\"url(#clip192)\" style=\"stroke:#000000; stroke-linecap:round; stroke-linejoin:round; stroke-width:4; stroke-opacity:1; fill:none\" points=\"\n  1284.33,711.728 1284.33,711.728 1704.38,711.728 1284.33,711.728 \n  \"/>\n<path clip-path=\"url(#clip192)\" d=\"\nM1809.39 711.728 L1809.39 711.728 L2229.45 711.728 L2229.45 711.728 L1809.39 711.728 L1809.39 711.728  Z\n  \" fill=\"#000000\" fill-rule=\"evenodd\" fill-opacity=\"1\"/>\n<polyline clip-path=\"url(#clip192)\" style=\"stroke:#000000; stroke-linecap:round; stroke-linejoin:round; stroke-width:4; stroke-opacity:1; fill:none\" points=\"\n  1809.39,711.728 1809.39,711.728 2229.45,711.728 1809.39,711.728 \n  \"/>\n<circle clip-path=\"url(#clip192)\" style=\"fill:#000000; stroke:none; fill-opacity:0\" cx=\"444.215\" cy=\"379.486\" r=\"2\"/>\n<circle clip-path=\"url(#clip192)\" style=\"fill:#000000; stroke:none; fill-opacity:0\" cx=\"969.284\" cy=\"379.486\" r=\"2\"/>\n<circle clip-path=\"url(#clip192)\" style=\"fill:#000000; stroke:none; fill-opacity:0\" cx=\"1494.35\" cy=\"711.728\" r=\"2\"/>\n<circle clip-path=\"url(#clip192)\" style=\"fill:#000000; stroke:none; fill-opacity:0\" cx=\"2019.42\" cy=\"711.728\" r=\"2\"/>\n</svg>\n",
      "text/html": [
       "<?xml version=\"1.0\" encoding=\"utf-8\"?>\n",
       "<svg xmlns=\"http://www.w3.org/2000/svg\" xmlns:xlink=\"http://www.w3.org/1999/xlink\" width=\"600\" height=\"200\" viewBox=\"0 0 2400 800\">\n",
       "<defs>\n",
       "  <clipPath id=\"clip240\">\n",
       "    <rect x=\"0\" y=\"0\" width=\"2400\" height=\"800\"/>\n",
       "  </clipPath>\n",
       "</defs>\n",
       "<path clip-path=\"url(#clip240)\" d=\"\n",
       "M0 800 L2400 800 L2400 0 L0 0  Z\n",
       "  \" fill=\"#ffffff\" fill-rule=\"evenodd\" fill-opacity=\"1\"/>\n",
       "<defs>\n",
       "  <clipPath id=\"clip241\">\n",
       "    <rect x=\"480\" y=\"0\" width=\"1681\" height=\"800\"/>\n",
       "  </clipPath>\n",
       "</defs>\n",
       "<path clip-path=\"url(#clip240)\" d=\"\n",
       "M110.881 711.728 L2352.76 711.728 L2352.76 47.2441 L110.881 47.2441  Z\n",
       "  \" fill=\"#ffffff\" fill-rule=\"evenodd\" fill-opacity=\"1\"/>\n",
       "<defs>\n",
       "  <clipPath id=\"clip242\">\n",
       "    <rect x=\"110\" y=\"47\" width=\"2243\" height=\"665\"/>\n",
       "  </clipPath>\n",
       "</defs>\n",
       "<polyline clip-path=\"url(#clip240)\" style=\"stroke:#000000; stroke-linecap:round; stroke-linejoin:round; stroke-width:4; stroke-opacity:1; fill:none\" points=\"\n",
       "  110.881,711.728 2352.76,711.728 \n",
       "  \"/>\n",
       "<polyline clip-path=\"url(#clip240)\" style=\"stroke:#000000; stroke-linecap:round; stroke-linejoin:round; stroke-width:4; stroke-opacity:1; fill:none\" points=\"\n",
       "  444.215,711.728 444.215,730.626 \n",
       "  \"/>\n",
       "<polyline clip-path=\"url(#clip240)\" style=\"stroke:#000000; stroke-linecap:round; stroke-linejoin:round; stroke-width:4; stroke-opacity:1; fill:none\" points=\"\n",
       "  969.284,711.728 969.284,730.626 \n",
       "  \"/>\n",
       "<polyline clip-path=\"url(#clip240)\" style=\"stroke:#000000; stroke-linecap:round; stroke-linejoin:round; stroke-width:4; stroke-opacity:1; fill:none\" points=\"\n",
       "  1494.35,711.728 1494.35,730.626 \n",
       "  \"/>\n",
       "<polyline clip-path=\"url(#clip240)\" style=\"stroke:#000000; stroke-linecap:round; stroke-linejoin:round; stroke-width:4; stroke-opacity:1; fill:none\" points=\"\n",
       "  2019.42,711.728 2019.42,730.626 \n",
       "  \"/>\n",
       "<path clip-path=\"url(#clip240)\" d=\"M434.597 779.793 L442.236 779.793 L442.236 753.427 L433.926 755.094 L433.926 750.835 L442.19 749.168 L446.866 749.168 L446.866 779.793 L454.505 779.793 L454.505 783.728 L434.597 783.728 L434.597 779.793 Z\" fill=\"#000000\" fill-rule=\"evenodd\" fill-opacity=\"1\" /><path clip-path=\"url(#clip240)\" d=\"M963.937 779.793 L980.256 779.793 L980.256 783.728 L958.312 783.728 L958.312 779.793 Q960.974 777.038 965.557 772.408 Q970.164 767.756 971.344 766.413 Q973.59 763.89 974.469 762.154 Q975.372 760.395 975.372 758.705 Q975.372 755.95 973.428 754.214 Q971.506 752.478 968.404 752.478 Q966.205 752.478 963.752 753.242 Q961.321 754.006 958.543 755.557 L958.543 750.835 Q961.367 749.7 963.821 749.122 Q966.275 748.543 968.312 748.543 Q973.682 748.543 976.877 751.228 Q980.071 753.913 980.071 758.404 Q980.071 760.534 979.261 762.455 Q978.474 764.353 976.367 766.946 Q975.789 767.617 972.687 770.834 Q969.585 774.029 963.937 779.793 Z\" fill=\"#000000\" fill-rule=\"evenodd\" fill-opacity=\"1\" /><path clip-path=\"url(#clip240)\" d=\"M1498.6 765.094 Q1501.96 765.811 1503.83 768.08 Q1505.73 770.348 1505.73 773.682 Q1505.73 778.797 1502.21 781.598 Q1498.69 784.399 1492.21 784.399 Q1490.04 784.399 1487.72 783.959 Q1485.43 783.543 1482.98 782.686 L1482.98 778.172 Q1484.92 779.307 1487.23 779.885 Q1489.55 780.464 1492.07 780.464 Q1496.47 780.464 1498.76 778.728 Q1501.08 776.992 1501.08 773.682 Q1501.08 770.626 1498.92 768.913 Q1496.79 767.177 1492.98 767.177 L1488.95 767.177 L1488.95 763.334 L1493.16 763.334 Q1496.61 763.334 1498.44 761.969 Q1500.27 760.58 1500.27 757.987 Q1500.27 755.325 1498.37 753.913 Q1496.49 752.478 1492.98 752.478 Q1491.05 752.478 1488.86 752.895 Q1486.66 753.311 1484.02 754.191 L1484.02 750.024 Q1486.68 749.284 1488.99 748.913 Q1491.33 748.543 1493.39 748.543 Q1498.72 748.543 1501.82 750.973 Q1504.92 753.381 1504.92 757.501 Q1504.92 760.372 1503.28 762.362 Q1501.63 764.33 1498.6 765.094 Z\" fill=\"#000000\" fill-rule=\"evenodd\" fill-opacity=\"1\" /><path clip-path=\"url(#clip240)\" d=\"M2022.43 753.242 L2010.63 771.691 L2022.43 771.691 L2022.43 753.242 M2021.2 749.168 L2027.08 749.168 L2027.08 771.691 L2032.01 771.691 L2032.01 775.58 L2027.08 775.58 L2027.08 783.728 L2022.43 783.728 L2022.43 775.58 L2006.83 775.58 L2006.83 771.066 L2021.2 749.168 Z\" fill=\"#000000\" fill-rule=\"evenodd\" fill-opacity=\"1\" /><polyline clip-path=\"url(#clip240)\" style=\"stroke:#000000; stroke-linecap:round; stroke-linejoin:round; stroke-width:4; stroke-opacity:1; fill:none\" points=\"\n",
       "  110.881,711.728 110.881,47.2441 \n",
       "  \"/>\n",
       "<polyline clip-path=\"url(#clip240)\" style=\"stroke:#000000; stroke-linecap:round; stroke-linejoin:round; stroke-width:4; stroke-opacity:1; fill:none\" points=\"\n",
       "  110.881,379.486 91.9832,379.486 \n",
       "  \"/>\n",
       "<polyline clip-path=\"url(#clip240)\" style=\"stroke:#000000; stroke-linecap:round; stroke-linejoin:round; stroke-width:4; stroke-opacity:1; fill:none\" points=\"\n",
       "  110.881,379.486 91.9832,379.486 \n",
       "  \"/>\n",
       "<polyline clip-path=\"url(#clip240)\" style=\"stroke:#000000; stroke-linecap:round; stroke-linejoin:round; stroke-width:4; stroke-opacity:1; fill:none\" points=\"\n",
       "  110.881,711.728 91.9832,711.728 \n",
       "  \"/>\n",
       "<polyline clip-path=\"url(#clip240)\" style=\"stroke:#000000; stroke-linecap:round; stroke-linejoin:round; stroke-width:4; stroke-opacity:1; fill:none\" points=\"\n",
       "  110.881,711.728 91.9832,711.728 \n",
       "  \"/>\n",
       "<path clip-path=\"url(#clip240)\" d=\"M45.3532 377.623 Q42.205 377.623 40.3532 379.775 Q38.5245 381.928 38.5245 385.678 Q38.5245 389.405 40.3532 391.581 Q42.205 393.734 45.3532 393.734 Q48.5013 393.734 50.33 391.581 Q52.1818 389.405 52.1818 385.678 Q52.1818 381.928 50.33 379.775 Q48.5013 377.623 45.3532 377.623 M54.6355 362.97 L54.6355 367.229 Q52.8763 366.396 51.0707 365.956 Q49.2883 365.516 47.5291 365.516 Q42.8995 365.516 40.4458 368.641 Q38.0152 371.766 37.668 378.086 Q39.0338 376.072 41.0939 375.007 Q43.1541 373.919 45.6309 373.919 Q50.8393 373.919 53.8485 377.09 Q56.8809 380.238 56.8809 385.678 Q56.8809 391.002 53.7328 394.22 Q50.5846 397.437 45.3532 397.437 Q39.3578 397.437 36.1866 392.854 Q33.0153 388.248 33.0153 379.521 Q33.0153 371.326 36.9041 366.465 Q40.793 361.581 47.3439 361.581 Q49.1032 361.581 50.8855 361.928 Q52.6911 362.275 54.6355 362.97 Z\" fill=\"#000000\" fill-rule=\"evenodd\" fill-opacity=\"1\" /><path clip-path=\"url(#clip240)\" d=\"M45.3532 377.623 Q42.205 377.623 40.3532 379.775 Q38.5245 381.928 38.5245 385.678 Q38.5245 389.405 40.3532 391.581 Q42.205 393.734 45.3532 393.734 Q48.5013 393.734 50.33 391.581 Q52.1818 389.405 52.1818 385.678 Q52.1818 381.928 50.33 379.775 Q48.5013 377.623 45.3532 377.623 M54.6355 362.97 L54.6355 367.229 Q52.8763 366.396 51.0707 365.956 Q49.2883 365.516 47.5291 365.516 Q42.8995 365.516 40.4458 368.641 Q38.0152 371.766 37.668 378.086 Q39.0338 376.072 41.0939 375.007 Q43.1541 373.919 45.6309 373.919 Q50.8393 373.919 53.8485 377.09 Q56.8809 380.238 56.8809 385.678 Q56.8809 391.002 53.7328 394.22 Q50.5846 397.437 45.3532 397.437 Q39.3578 397.437 36.1866 392.854 Q33.0153 388.248 33.0153 379.521 Q33.0153 371.326 36.9041 366.465 Q40.793 361.581 47.3439 361.581 Q49.1032 361.581 50.8855 361.928 Q52.6911 362.275 54.6355 362.97 Z\" fill=\"#000000\" fill-rule=\"evenodd\" fill-opacity=\"1\" /><path clip-path=\"url(#clip240)\" d=\"M44.9365 697.527 Q41.3254 697.527 39.4967 701.091 Q37.6912 704.633 37.6912 711.763 Q37.6912 718.869 39.4967 722.434 Q41.3254 725.975 44.9365 725.975 Q48.5707 725.975 50.3763 722.434 Q52.205 718.869 52.205 711.763 Q52.205 704.633 50.3763 701.091 Q48.5707 697.527 44.9365 697.527 M44.9365 693.823 Q50.7467 693.823 53.8022 698.429 Q56.8809 703.013 56.8809 711.763 Q56.8809 720.489 53.8022 725.096 Q50.7467 729.679 44.9365 729.679 Q39.1264 729.679 36.0477 725.096 Q32.9921 720.489 32.9921 711.763 Q32.9921 703.013 36.0477 698.429 Q39.1264 693.823 44.9365 693.823 Z\" fill=\"#000000\" fill-rule=\"evenodd\" fill-opacity=\"1\" /><path clip-path=\"url(#clip240)\" d=\"M44.9365 697.527 Q41.3254 697.527 39.4967 701.091 Q37.6912 704.633 37.6912 711.763 Q37.6912 718.869 39.4967 722.434 Q41.3254 725.975 44.9365 725.975 Q48.5707 725.975 50.3763 722.434 Q52.205 718.869 52.205 711.763 Q52.205 704.633 50.3763 701.091 Q48.5707 697.527 44.9365 697.527 M44.9365 693.823 Q50.7467 693.823 53.8022 698.429 Q56.8809 703.013 56.8809 711.763 Q56.8809 720.489 53.8022 725.096 Q50.7467 729.679 44.9365 729.679 Q39.1264 729.679 36.0477 725.096 Q32.9921 720.489 32.9921 711.763 Q32.9921 703.013 36.0477 698.429 Q39.1264 693.823 44.9365 693.823 Z\" fill=\"#000000\" fill-rule=\"evenodd\" fill-opacity=\"1\" /><path clip-path=\"url(#clip242)\" d=\"\n",
       "M234.188 379.486 L234.188 711.728 L654.243 711.728 L654.243 379.486 L234.188 379.486 L234.188 379.486  Z\n",
       "  \" fill=\"#000000\" fill-rule=\"evenodd\" fill-opacity=\"1\"/>\n",
       "<polyline clip-path=\"url(#clip242)\" style=\"stroke:#000000; stroke-linecap:round; stroke-linejoin:round; stroke-width:4; stroke-opacity:1; fill:none\" points=\"\n",
       "  234.188,379.486 234.188,711.728 654.243,711.728 654.243,379.486 234.188,379.486 \n",
       "  \"/>\n",
       "<path clip-path=\"url(#clip242)\" d=\"\n",
       "M759.257 379.486 L759.257 711.728 L1179.31 711.728 L1179.31 379.486 L759.257 379.486 L759.257 379.486  Z\n",
       "  \" fill=\"#000000\" fill-rule=\"evenodd\" fill-opacity=\"1\"/>\n",
       "<polyline clip-path=\"url(#clip242)\" style=\"stroke:#000000; stroke-linecap:round; stroke-linejoin:round; stroke-width:4; stroke-opacity:1; fill:none\" points=\"\n",
       "  759.257,379.486 759.257,711.728 1179.31,711.728 1179.31,379.486 759.257,379.486 \n",
       "  \"/>\n",
       "<path clip-path=\"url(#clip242)\" d=\"\n",
       "M1284.33 711.728 L1284.33 711.728 L1704.38 711.728 L1704.38 711.728 L1284.33 711.728 L1284.33 711.728  Z\n",
       "  \" fill=\"#000000\" fill-rule=\"evenodd\" fill-opacity=\"1\"/>\n",
       "<polyline clip-path=\"url(#clip242)\" style=\"stroke:#000000; stroke-linecap:round; stroke-linejoin:round; stroke-width:4; stroke-opacity:1; fill:none\" points=\"\n",
       "  1284.33,711.728 1284.33,711.728 1704.38,711.728 1284.33,711.728 \n",
       "  \"/>\n",
       "<path clip-path=\"url(#clip242)\" d=\"\n",
       "M1809.39 711.728 L1809.39 711.728 L2229.45 711.728 L2229.45 711.728 L1809.39 711.728 L1809.39 711.728  Z\n",
       "  \" fill=\"#000000\" fill-rule=\"evenodd\" fill-opacity=\"1\"/>\n",
       "<polyline clip-path=\"url(#clip242)\" style=\"stroke:#000000; stroke-linecap:round; stroke-linejoin:round; stroke-width:4; stroke-opacity:1; fill:none\" points=\"\n",
       "  1809.39,711.728 1809.39,711.728 2229.45,711.728 1809.39,711.728 \n",
       "  \"/>\n",
       "<circle clip-path=\"url(#clip242)\" style=\"fill:#000000; stroke:none; fill-opacity:0\" cx=\"444.215\" cy=\"379.486\" r=\"2\"/>\n",
       "<circle clip-path=\"url(#clip242)\" style=\"fill:#000000; stroke:none; fill-opacity:0\" cx=\"969.284\" cy=\"379.486\" r=\"2\"/>\n",
       "<circle clip-path=\"url(#clip242)\" style=\"fill:#000000; stroke:none; fill-opacity:0\" cx=\"1494.35\" cy=\"711.728\" r=\"2\"/>\n",
       "<circle clip-path=\"url(#clip242)\" style=\"fill:#000000; stroke:none; fill-opacity:0\" cx=\"2019.42\" cy=\"711.728\" r=\"2\"/>\n",
       "</svg>\n"
      ]
     },
     "metadata": {},
     "output_type": "display_data"
    }
   ],
   "source": [
    "SVs = svd(ma).S.^2\n",
    "bar(SVs, \n",
    "    c=:black, \n",
    "    ylims=(0,12), \n",
    "    yticks=SVs,\n",
    "    label=\"\",\n",
    "    tickdirection=:out,\n",
    "    grid=false,\n",
    "    size=(600, 200)\n",
    ")"
   ]
  },
  {
   "cell_type": "code",
   "execution_count": 21,
   "metadata": {},
   "outputs": [
    {
     "data": {
      "text/plain": [
       "\"/Users/ben/projects/Doran_etal_2022/plots/SVDmathplots/modular_SVs_bar.pdf\""
      ]
     },
     "metadata": {},
     "output_type": "display_data"
    }
   ],
   "source": [
    "savefig(joinpath(pdir, \"modular_SVs_bar.pdf\"))"
   ]
  },
  {
   "cell_type": "code",
   "execution_count": 22,
   "metadata": {},
   "outputs": [
    {
     "data": {
      "image/png": "[encoded data removed]",
      "image/svg+xml": "<?xml version=\"1.0\" encoding=\"utf-8\"?>\n<svg xmlns=\"http://www.w3.org/2000/svg\" xmlns:xlink=\"http://www.w3.org/1999/xlink\" width=\"600\" height=\"200\" viewBox=\"0 0 2400 800\">\n<defs>\n  <clipPath id=\"clip290\">\n    <rect x=\"0\" y=\"0\" width=\"2400\" height=\"800\"/>\n  </clipPath>\n</defs>\n<path clip-path=\"url(#clip290)\" d=\"\nM0 800 L2400 800 L2400 0 L0 0  Z\n  \" fill=\"#ffffff\" fill-rule=\"evenodd\" fill-opacity=\"1\"/>\n<defs>\n  <clipPath id=\"clip291\">\n    <rect x=\"480\" y=\"0\" width=\"1681\" height=\"800\"/>\n  </clipPath>\n</defs>\n<path clip-path=\"url(#clip290)\" d=\"\nM109.353 711.728 L2352.76 711.728 L2352.76 47.2441 L109.353 47.2441  Z\n  \" fill=\"#ffffff\" fill-rule=\"evenodd\" fill-opacity=\"1\"/>\n<defs>\n  <clipPath id=\"clip292\">\n    <rect x=\"109\" y=\"47\" width=\"2244\" height=\"665\"/>\n  </clipPath>\n</defs>\n<polyline clip-path=\"url(#clip290)\" style=\"stroke:#000000; stroke-linecap:round; stroke-linejoin:round; stroke-width:4; stroke-opacity:1; fill:none\" points=\"\n  109.353,711.728 2352.76,711.728 \n  \"/>\n<polyline clip-path=\"url(#clip290)\" style=\"stroke:#000000; stroke-linecap:round; stroke-linejoin:round; stroke-width:4; stroke-opacity:1; fill:none\" points=\"\n  442.915,711.728 442.915,730.626 \n  \"/>\n<polyline clip-path=\"url(#clip290)\" style=\"stroke:#000000; stroke-linecap:round; stroke-linejoin:round; stroke-width:4; stroke-opacity:1; fill:none\" points=\"\n  968.341,711.728 968.341,730.626 \n  \"/>\n<polyline clip-path=\"url(#clip290)\" style=\"stroke:#000000; stroke-linecap:round; stroke-linejoin:round; stroke-width:4; stroke-opacity:1; fill:none\" points=\"\n  1493.77,711.728 1493.77,730.626 \n  \"/>\n<polyline clip-path=\"url(#clip290)\" style=\"stroke:#000000; stroke-linecap:round; stroke-linejoin:round; stroke-width:4; stroke-opacity:1; fill:none\" points=\"\n  2019.19,711.728 2019.19,730.626 \n  \"/>\n<path clip-path=\"url(#clip290)\" d=\"M433.297 779.793 L440.936 779.793 L440.936 753.427 L432.626 755.094 L432.626 750.835 L440.889 749.168 L445.565 749.168 L445.565 779.793 L453.204 779.793 L453.204 783.728 L433.297 783.728 L433.297 779.793 Z\" fill=\"#000000\" fill-rule=\"evenodd\" fill-opacity=\"1\" /><path clip-path=\"url(#clip290)\" d=\"M962.994 779.793 L979.313 779.793 L979.313 783.728 L957.369 783.728 L957.369 779.793 Q960.031 777.038 964.614 772.408 Q969.221 767.756 970.401 766.413 Q972.647 763.89 973.526 762.154 Q974.429 760.395 974.429 758.705 Q974.429 755.95 972.485 754.214 Q970.563 752.478 967.462 752.478 Q965.263 752.478 962.809 753.242 Q960.378 754.006 957.601 755.557 L957.601 750.835 Q960.425 749.7 962.878 749.122 Q965.332 748.543 967.369 748.543 Q972.739 748.543 975.934 751.228 Q979.128 753.913 979.128 758.404 Q979.128 760.534 978.318 762.455 Q977.531 764.353 975.425 766.946 Q974.846 767.617 971.744 770.834 Q968.642 774.029 962.994 779.793 Z\" fill=\"#000000\" fill-rule=\"evenodd\" fill-opacity=\"1\" /><path clip-path=\"url(#clip290)\" d=\"M1498.02 765.094 Q1501.37 765.811 1503.25 768.08 Q1505.14 770.348 1505.14 773.682 Q1505.14 778.797 1501.63 781.598 Q1498.11 784.399 1491.63 784.399 Q1489.45 784.399 1487.14 783.959 Q1484.84 783.543 1482.39 782.686 L1482.39 778.172 Q1484.33 779.307 1486.65 779.885 Q1488.96 780.464 1491.49 780.464 Q1495.89 780.464 1498.18 778.728 Q1500.49 776.992 1500.49 773.682 Q1500.49 770.626 1498.34 768.913 Q1496.21 767.177 1492.39 767.177 L1488.36 767.177 L1488.36 763.334 L1492.58 763.334 Q1496.02 763.334 1497.85 761.969 Q1499.68 760.58 1499.68 757.987 Q1499.68 755.325 1497.78 753.913 Q1495.91 752.478 1492.39 752.478 Q1490.47 752.478 1488.27 752.895 Q1486.07 753.311 1483.43 754.191 L1483.43 750.024 Q1486.09 749.284 1488.41 748.913 Q1490.75 748.543 1492.81 748.543 Q1498.13 748.543 1501.23 750.973 Q1504.33 753.381 1504.33 757.501 Q1504.33 760.372 1502.69 762.362 Q1501.05 764.33 1498.02 765.094 Z\" fill=\"#000000\" fill-rule=\"evenodd\" fill-opacity=\"1\" /><path clip-path=\"url(#clip290)\" d=\"M2022.2 753.242 L2010.4 771.691 L2022.2 771.691 L2022.2 753.242 M2020.98 749.168 L2026.86 749.168 L2026.86 771.691 L2031.79 771.691 L2031.79 775.58 L2026.86 775.58 L2026.86 783.728 L2022.2 783.728 L2022.2 775.58 L2006.6 775.58 L2006.6 771.066 L2020.98 749.168 Z\" fill=\"#000000\" fill-rule=\"evenodd\" fill-opacity=\"1\" /><polyline clip-path=\"url(#clip290)\" style=\"stroke:#000000; stroke-linecap:round; stroke-linejoin:round; stroke-width:4; stroke-opacity:1; fill:none\" points=\"\n  109.353,711.728 109.353,47.2441 \n  \"/>\n<polyline clip-path=\"url(#clip290)\" style=\"stroke:#000000; stroke-linecap:round; stroke-linejoin:round; stroke-width:4; stroke-opacity:1; fill:none\" points=\"\n  109.353,434.86 90.4555,434.86 \n  \"/>\n<polyline clip-path=\"url(#clip290)\" style=\"stroke:#000000; stroke-linecap:round; stroke-linejoin:round; stroke-width:4; stroke-opacity:1; fill:none\" points=\"\n  109.353,656.354 90.4555,656.354 \n  \"/>\n<polyline clip-path=\"url(#clip290)\" style=\"stroke:#000000; stroke-linecap:round; stroke-linejoin:round; stroke-width:4; stroke-opacity:1; fill:none\" points=\"\n  109.353,656.354 90.4555,656.354 \n  \"/>\n<polyline clip-path=\"url(#clip290)\" style=\"stroke:#000000; stroke-linecap:round; stroke-linejoin:round; stroke-width:4; stroke-opacity:1; fill:none\" points=\"\n  109.353,656.354 90.4555,656.354 \n  \"/>\n<path clip-path=\"url(#clip290)\" d=\"M34.4505 417.58 L52.8068 417.58 L52.8068 421.515 L38.7328 421.515 L38.7328 429.987 Q39.7513 429.64 40.7699 429.478 Q41.7884 429.293 42.8069 429.293 Q48.5939 429.293 51.9735 432.464 Q55.3531 435.635 55.3531 441.052 Q55.3531 446.63 51.8809 449.732 Q48.4087 452.811 42.0893 452.811 Q39.9134 452.811 37.6449 452.441 Q35.3995 452.07 32.9921 451.329 L32.9921 446.63 Q35.0754 447.765 37.2977 448.32 Q39.5199 448.876 41.9967 448.876 Q46.0013 448.876 48.3393 446.769 Q50.6772 444.663 50.6772 441.052 Q50.6772 437.441 48.3393 435.334 Q46.0013 433.228 41.9967 433.228 Q40.1217 433.228 38.2467 433.644 Q36.3949 434.061 34.4505 434.941 L34.4505 417.58 Z\" fill=\"#000000\" fill-rule=\"evenodd\" fill-opacity=\"1\" /><path clip-path=\"url(#clip290)\" d=\"M35.4458 669.699 L43.0847 669.699 L43.0847 643.333 L34.7745 645 L34.7745 640.741 L43.0384 639.074 L47.7143 639.074 L47.7143 669.699 L55.3531 669.699 L55.3531 673.634 L35.4458 673.634 L35.4458 669.699 Z\" fill=\"#000000\" fill-rule=\"evenodd\" fill-opacity=\"1\" /><path clip-path=\"url(#clip290)\" d=\"M35.4458 669.699 L43.0847 669.699 L43.0847 643.333 L34.7745 645 L34.7745 640.741 L43.0384 639.074 L47.7143 639.074 L47.7143 669.699 L55.3531 669.699 L55.3531 673.634 L35.4458 673.634 L35.4458 669.699 Z\" fill=\"#000000\" fill-rule=\"evenodd\" fill-opacity=\"1\" /><path clip-path=\"url(#clip290)\" d=\"M35.4458 669.699 L43.0847 669.699 L43.0847 643.333 L34.7745 645 L34.7745 640.741 L43.0384 639.074 L47.7143 639.074 L47.7143 669.699 L55.3531 669.699 L55.3531 673.634 L35.4458 673.634 L35.4458 669.699 Z\" fill=\"#000000\" fill-rule=\"evenodd\" fill-opacity=\"1\" /><path clip-path=\"url(#clip292)\" d=\"\nM232.744 434.86 L232.744 711.728 L653.085 711.728 L653.085 434.86 L232.744 434.86 L232.744 434.86  Z\n  \" fill=\"#000000\" fill-rule=\"evenodd\" fill-opacity=\"1\"/>\n<polyline clip-path=\"url(#clip292)\" style=\"stroke:#000000; stroke-linecap:round; stroke-linejoin:round; stroke-width:4; stroke-opacity:1; fill:none\" points=\"\n  232.744,434.86 232.744,711.728 653.085,711.728 653.085,434.86 232.744,434.86 \n  \"/>\n<path clip-path=\"url(#clip292)\" d=\"\nM758.171 656.354 L758.171 711.728 L1178.51 711.728 L1178.51 656.354 L758.171 656.354 L758.171 656.354  Z\n  \" fill=\"#000000\" fill-rule=\"evenodd\" fill-opacity=\"1\"/>\n<polyline clip-path=\"url(#clip292)\" style=\"stroke:#000000; stroke-linecap:round; stroke-linejoin:round; stroke-width:4; stroke-opacity:1; fill:none\" points=\"\n  758.171,656.354 758.171,711.728 1178.51,711.728 1178.51,656.354 758.171,656.354 \n  \"/>\n<path clip-path=\"url(#clip292)\" d=\"\nM1283.6 656.354 L1283.6 711.728 L1703.94 711.728 L1703.94 656.354 L1283.6 656.354 L1283.6 656.354  Z\n  \" fill=\"#000000\" fill-rule=\"evenodd\" fill-opacity=\"1\"/>\n<polyline clip-path=\"url(#clip292)\" style=\"stroke:#000000; stroke-linecap:round; stroke-linejoin:round; stroke-width:4; stroke-opacity:1; fill:none\" points=\"\n  1283.6,656.354 1283.6,711.728 1703.94,711.728 1703.94,656.354 1283.6,656.354 \n  \"/>\n<path clip-path=\"url(#clip292)\" d=\"\nM1809.02 656.354 L1809.02 711.728 L2229.36 711.728 L2229.36 656.354 L1809.02 656.354 L1809.02 656.354  Z\n  \" fill=\"#000000\" fill-rule=\"evenodd\" fill-opacity=\"1\"/>\n<polyline clip-path=\"url(#clip292)\" style=\"stroke:#000000; stroke-linecap:round; stroke-linejoin:round; stroke-width:4; stroke-opacity:1; fill:none\" points=\"\n  1809.02,656.354 1809.02,711.728 2229.36,711.728 2229.36,656.354 1809.02,656.354 \n  \"/>\n<circle clip-path=\"url(#clip292)\" style=\"fill:#000000; stroke:none; fill-opacity:0\" cx=\"442.915\" cy=\"434.86\" r=\"2\"/>\n<circle clip-path=\"url(#clip292)\" style=\"fill:#000000; stroke:none; fill-opacity:0\" cx=\"968.341\" cy=\"656.354\" r=\"2\"/>\n<circle clip-path=\"url(#clip292)\" style=\"fill:#000000; stroke:none; fill-opacity:0\" cx=\"1493.77\" cy=\"656.354\" r=\"2\"/>\n<circle clip-path=\"url(#clip292)\" style=\"fill:#000000; stroke:none; fill-opacity:0\" cx=\"2019.19\" cy=\"656.354\" r=\"2\"/>\n</svg>\n",
      "text/html": [
       "<?xml version=\"1.0\" encoding=\"utf-8\"?>\n",
       "<svg xmlns=\"http://www.w3.org/2000/svg\" xmlns:xlink=\"http://www.w3.org/1999/xlink\" width=\"600\" height=\"200\" viewBox=\"0 0 2400 800\">\n",
       "<defs>\n",
       "  <clipPath id=\"clip340\">\n",
       "    <rect x=\"0\" y=\"0\" width=\"2400\" height=\"800\"/>\n",
       "  </clipPath>\n",
       "</defs>\n",
       "<path clip-path=\"url(#clip340)\" d=\"\n",
       "M0 800 L2400 800 L2400 0 L0 0  Z\n",
       "  \" fill=\"#ffffff\" fill-rule=\"evenodd\" fill-opacity=\"1\"/>\n",
       "<defs>\n",
       "  <clipPath id=\"clip341\">\n",
       "    <rect x=\"480\" y=\"0\" width=\"1681\" height=\"800\"/>\n",
       "  </clipPath>\n",
       "</defs>\n",
       "<path clip-path=\"url(#clip340)\" d=\"\n",
       "M109.353 711.728 L2352.76 711.728 L2352.76 47.2441 L109.353 47.2441  Z\n",
       "  \" fill=\"#ffffff\" fill-rule=\"evenodd\" fill-opacity=\"1\"/>\n",
       "<defs>\n",
       "  <clipPath id=\"clip342\">\n",
       "    <rect x=\"109\" y=\"47\" width=\"2244\" height=\"665\"/>\n",
       "  </clipPath>\n",
       "</defs>\n",
       "<polyline clip-path=\"url(#clip340)\" style=\"stroke:#000000; stroke-linecap:round; stroke-linejoin:round; stroke-width:4; stroke-opacity:1; fill:none\" points=\"\n",
       "  109.353,711.728 2352.76,711.728 \n",
       "  \"/>\n",
       "<polyline clip-path=\"url(#clip340)\" style=\"stroke:#000000; stroke-linecap:round; stroke-linejoin:round; stroke-width:4; stroke-opacity:1; fill:none\" points=\"\n",
       "  442.915,711.728 442.915,730.626 \n",
       "  \"/>\n",
       "<polyline clip-path=\"url(#clip340)\" style=\"stroke:#000000; stroke-linecap:round; stroke-linejoin:round; stroke-width:4; stroke-opacity:1; fill:none\" points=\"\n",
       "  968.341,711.728 968.341,730.626 \n",
       "  \"/>\n",
       "<polyline clip-path=\"url(#clip340)\" style=\"stroke:#000000; stroke-linecap:round; stroke-linejoin:round; stroke-width:4; stroke-opacity:1; fill:none\" points=\"\n",
       "  1493.77,711.728 1493.77,730.626 \n",
       "  \"/>\n",
       "<polyline clip-path=\"url(#clip340)\" style=\"stroke:#000000; stroke-linecap:round; stroke-linejoin:round; stroke-width:4; stroke-opacity:1; fill:none\" points=\"\n",
       "  2019.19,711.728 2019.19,730.626 \n",
       "  \"/>\n",
       "<path clip-path=\"url(#clip340)\" d=\"M433.297 779.793 L440.936 779.793 L440.936 753.427 L432.626 755.094 L432.626 750.835 L440.889 749.168 L445.565 749.168 L445.565 779.793 L453.204 779.793 L453.204 783.728 L433.297 783.728 L433.297 779.793 Z\" fill=\"#000000\" fill-rule=\"evenodd\" fill-opacity=\"1\" /><path clip-path=\"url(#clip340)\" d=\"M962.994 779.793 L979.313 779.793 L979.313 783.728 L957.369 783.728 L957.369 779.793 Q960.031 777.038 964.614 772.408 Q969.221 767.756 970.401 766.413 Q972.647 763.89 973.526 762.154 Q974.429 760.395 974.429 758.705 Q974.429 755.95 972.485 754.214 Q970.563 752.478 967.462 752.478 Q965.263 752.478 962.809 753.242 Q960.378 754.006 957.601 755.557 L957.601 750.835 Q960.425 749.7 962.878 749.122 Q965.332 748.543 967.369 748.543 Q972.739 748.543 975.934 751.228 Q979.128 753.913 979.128 758.404 Q979.128 760.534 978.318 762.455 Q977.531 764.353 975.425 766.946 Q974.846 767.617 971.744 770.834 Q968.642 774.029 962.994 779.793 Z\" fill=\"#000000\" fill-rule=\"evenodd\" fill-opacity=\"1\" /><path clip-path=\"url(#clip340)\" d=\"M1498.02 765.094 Q1501.37 765.811 1503.25 768.08 Q1505.14 770.348 1505.14 773.682 Q1505.14 778.797 1501.63 781.598 Q1498.11 784.399 1491.63 784.399 Q1489.45 784.399 1487.14 783.959 Q1484.84 783.543 1482.39 782.686 L1482.39 778.172 Q1484.33 779.307 1486.65 779.885 Q1488.96 780.464 1491.49 780.464 Q1495.89 780.464 1498.18 778.728 Q1500.49 776.992 1500.49 773.682 Q1500.49 770.626 1498.34 768.913 Q1496.21 767.177 1492.39 767.177 L1488.36 767.177 L1488.36 763.334 L1492.58 763.334 Q1496.02 763.334 1497.85 761.969 Q1499.68 760.58 1499.68 757.987 Q1499.68 755.325 1497.78 753.913 Q1495.91 752.478 1492.39 752.478 Q1490.47 752.478 1488.27 752.895 Q1486.07 753.311 1483.43 754.191 L1483.43 750.024 Q1486.09 749.284 1488.41 748.913 Q1490.75 748.543 1492.81 748.543 Q1498.13 748.543 1501.23 750.973 Q1504.33 753.381 1504.33 757.501 Q1504.33 760.372 1502.69 762.362 Q1501.05 764.33 1498.02 765.094 Z\" fill=\"#000000\" fill-rule=\"evenodd\" fill-opacity=\"1\" /><path clip-path=\"url(#clip340)\" d=\"M2022.2 753.242 L2010.4 771.691 L2022.2 771.691 L2022.2 753.242 M2020.98 749.168 L2026.86 749.168 L2026.86 771.691 L2031.79 771.691 L2031.79 775.58 L2026.86 775.58 L2026.86 783.728 L2022.2 783.728 L2022.2 775.58 L2006.6 775.58 L2006.6 771.066 L2020.98 749.168 Z\" fill=\"#000000\" fill-rule=\"evenodd\" fill-opacity=\"1\" /><polyline clip-path=\"url(#clip340)\" style=\"stroke:#000000; stroke-linecap:round; stroke-linejoin:round; stroke-width:4; stroke-opacity:1; fill:none\" points=\"\n",
       "  109.353,711.728 109.353,47.2441 \n",
       "  \"/>\n",
       "<polyline clip-path=\"url(#clip340)\" style=\"stroke:#000000; stroke-linecap:round; stroke-linejoin:round; stroke-width:4; stroke-opacity:1; fill:none\" points=\"\n",
       "  109.353,434.86 90.4555,434.86 \n",
       "  \"/>\n",
       "<polyline clip-path=\"url(#clip340)\" style=\"stroke:#000000; stroke-linecap:round; stroke-linejoin:round; stroke-width:4; stroke-opacity:1; fill:none\" points=\"\n",
       "  109.353,656.354 90.4555,656.354 \n",
       "  \"/>\n",
       "<polyline clip-path=\"url(#clip340)\" style=\"stroke:#000000; stroke-linecap:round; stroke-linejoin:round; stroke-width:4; stroke-opacity:1; fill:none\" points=\"\n",
       "  109.353,656.354 90.4555,656.354 \n",
       "  \"/>\n",
       "<polyline clip-path=\"url(#clip340)\" style=\"stroke:#000000; stroke-linecap:round; stroke-linejoin:round; stroke-width:4; stroke-opacity:1; fill:none\" points=\"\n",
       "  109.353,656.354 90.4555,656.354 \n",
       "  \"/>\n",
       "<path clip-path=\"url(#clip340)\" d=\"M34.4505 417.58 L52.8068 417.58 L52.8068 421.515 L38.7328 421.515 L38.7328 429.987 Q39.7513 429.64 40.7699 429.478 Q41.7884 429.293 42.8069 429.293 Q48.5939 429.293 51.9735 432.464 Q55.3531 435.635 55.3531 441.052 Q55.3531 446.63 51.8809 449.732 Q48.4087 452.811 42.0893 452.811 Q39.9134 452.811 37.6449 452.441 Q35.3995 452.07 32.9921 451.329 L32.9921 446.63 Q35.0754 447.765 37.2977 448.32 Q39.5199 448.876 41.9967 448.876 Q46.0013 448.876 48.3393 446.769 Q50.6772 444.663 50.6772 441.052 Q50.6772 437.441 48.3393 435.334 Q46.0013 433.228 41.9967 433.228 Q40.1217 433.228 38.2467 433.644 Q36.3949 434.061 34.4505 434.941 L34.4505 417.58 Z\" fill=\"#000000\" fill-rule=\"evenodd\" fill-opacity=\"1\" /><path clip-path=\"url(#clip340)\" d=\"M35.4458 669.699 L43.0847 669.699 L43.0847 643.333 L34.7745 645 L34.7745 640.741 L43.0384 639.074 L47.7143 639.074 L47.7143 669.699 L55.3531 669.699 L55.3531 673.634 L35.4458 673.634 L35.4458 669.699 Z\" fill=\"#000000\" fill-rule=\"evenodd\" fill-opacity=\"1\" /><path clip-path=\"url(#clip340)\" d=\"M35.4458 669.699 L43.0847 669.699 L43.0847 643.333 L34.7745 645 L34.7745 640.741 L43.0384 639.074 L47.7143 639.074 L47.7143 669.699 L55.3531 669.699 L55.3531 673.634 L35.4458 673.634 L35.4458 669.699 Z\" fill=\"#000000\" fill-rule=\"evenodd\" fill-opacity=\"1\" /><path clip-path=\"url(#clip340)\" d=\"M35.4458 669.699 L43.0847 669.699 L43.0847 643.333 L34.7745 645 L34.7745 640.741 L43.0384 639.074 L47.7143 639.074 L47.7143 669.699 L55.3531 669.699 L55.3531 673.634 L35.4458 673.634 L35.4458 669.699 Z\" fill=\"#000000\" fill-rule=\"evenodd\" fill-opacity=\"1\" /><path clip-path=\"url(#clip342)\" d=\"\n",
       "M232.744 434.86 L232.744 711.728 L653.085 711.728 L653.085 434.86 L232.744 434.86 L232.744 434.86  Z\n",
       "  \" fill=\"#000000\" fill-rule=\"evenodd\" fill-opacity=\"1\"/>\n",
       "<polyline clip-path=\"url(#clip342)\" style=\"stroke:#000000; stroke-linecap:round; stroke-linejoin:round; stroke-width:4; stroke-opacity:1; fill:none\" points=\"\n",
       "  232.744,434.86 232.744,711.728 653.085,711.728 653.085,434.86 232.744,434.86 \n",
       "  \"/>\n",
       "<path clip-path=\"url(#clip342)\" d=\"\n",
       "M758.171 656.354 L758.171 711.728 L1178.51 711.728 L1178.51 656.354 L758.171 656.354 L758.171 656.354  Z\n",
       "  \" fill=\"#000000\" fill-rule=\"evenodd\" fill-opacity=\"1\"/>\n",
       "<polyline clip-path=\"url(#clip342)\" style=\"stroke:#000000; stroke-linecap:round; stroke-linejoin:round; stroke-width:4; stroke-opacity:1; fill:none\" points=\"\n",
       "  758.171,656.354 758.171,711.728 1178.51,711.728 1178.51,656.354 758.171,656.354 \n",
       "  \"/>\n",
       "<path clip-path=\"url(#clip342)\" d=\"\n",
       "M1283.6 656.354 L1283.6 711.728 L1703.94 711.728 L1703.94 656.354 L1283.6 656.354 L1283.6 656.354  Z\n",
       "  \" fill=\"#000000\" fill-rule=\"evenodd\" fill-opacity=\"1\"/>\n",
       "<polyline clip-path=\"url(#clip342)\" style=\"stroke:#000000; stroke-linecap:round; stroke-linejoin:round; stroke-width:4; stroke-opacity:1; fill:none\" points=\"\n",
       "  1283.6,656.354 1283.6,711.728 1703.94,711.728 1703.94,656.354 1283.6,656.354 \n",
       "  \"/>\n",
       "<path clip-path=\"url(#clip342)\" d=\"\n",
       "M1809.02 656.354 L1809.02 711.728 L2229.36 711.728 L2229.36 656.354 L1809.02 656.354 L1809.02 656.354  Z\n",
       "  \" fill=\"#000000\" fill-rule=\"evenodd\" fill-opacity=\"1\"/>\n",
       "<polyline clip-path=\"url(#clip342)\" style=\"stroke:#000000; stroke-linecap:round; stroke-linejoin:round; stroke-width:4; stroke-opacity:1; fill:none\" points=\"\n",
       "  1809.02,656.354 1809.02,711.728 2229.36,711.728 2229.36,656.354 1809.02,656.354 \n",
       "  \"/>\n",
       "<circle clip-path=\"url(#clip342)\" style=\"fill:#000000; stroke:none; fill-opacity:0\" cx=\"442.915\" cy=\"434.86\" r=\"2\"/>\n",
       "<circle clip-path=\"url(#clip342)\" style=\"fill:#000000; stroke:none; fill-opacity:0\" cx=\"968.341\" cy=\"656.354\" r=\"2\"/>\n",
       "<circle clip-path=\"url(#clip342)\" style=\"fill:#000000; stroke:none; fill-opacity:0\" cx=\"1493.77\" cy=\"656.354\" r=\"2\"/>\n",
       "<circle clip-path=\"url(#clip342)\" style=\"fill:#000000; stroke:none; fill-opacity:0\" cx=\"2019.19\" cy=\"656.354\" r=\"2\"/>\n",
       "</svg>\n"
      ]
     },
     "metadata": {},
     "output_type": "display_data"
    }
   ],
   "source": [
    "SVs = svd(sa).S.^2\n",
    "bar(SVs, \n",
    "    c=:black, \n",
    "    ylims=(0,12), \n",
    "    yticks=SVs,\n",
    "    label=\"\",\n",
    "    tickdirection=:out,\n",
    "    grid=false,\n",
    "    size=(600, 200)\n",
    ")"
   ]
  },
  {
   "cell_type": "code",
   "execution_count": 23,
   "metadata": {},
   "outputs": [
    {
     "data": {
      "text/plain": [
       "\"/Users/ben/projects/Doran_etal_2022/plots/SVDmathplots/star_SVs_bar.pdf\""
      ]
     },
     "metadata": {},
     "output_type": "display_data"
    }
   ],
   "source": [
    "savefig(joinpath(pdir, \"star_SVs_bar.pdf\"))"
   ]
  },
  {
   "cell_type": "code",
   "execution_count": null,
   "metadata": {},
   "outputs": [],
   "source": []
  }
 ],
 "metadata": {
  "kernelspec": {
   "display_name": "Julia 1.8.3",
   "language": "julia",
   "name": "julia-1.8"
  },
  "language_info": {
   "file_extension": ".jl",
   "mimetype": "application/julia",
   "name": "julia",
   "version": "1.8.3"
  },
  "orig_nbformat": 4
 },
 "nbformat": 4,
 "nbformat_minor": 2
}
