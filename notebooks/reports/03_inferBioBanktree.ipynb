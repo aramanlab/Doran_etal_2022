{
 "cells": [
  {
   "cell_type": "code",
   "execution_count": 2,
   "metadata": {},
   "outputs": [],
   "source": [
    "using DrWatson\n",
    "@quickactivate \"Doran_etal_2022\"\n",
    "\n",
    "using SPI\n",
    "using Muon\n",
    "using CSV, DataFrames\n",
    "using Distances"
   ]
  },
  {
   "cell_type": "code",
   "execution_count": 3,
   "metadata": {},
   "outputs": [],
   "source": [
    "uniprot = readh5ad(joinpath(datadir(), \"exp_pro\", \"UP7047\", \"2020_02_UP7047.h5ad\"));\n",
    "UPusv = SVD(uniprot.obsm[\"LSVs\"][:, :], uniprot.uns[\"SVs\"][:], uniprot.varm[\"RSVs\"][:, :]');\n",
    "bb = CSV.read(\n",
    "    joinpath(datadir(), \"exp_raw\", \"BB673\", \"commensal_metabolomics_ogg_matrix_20220307.csv\"), \n",
    "    DataFrame; \n",
    "    missingstring=\"NA\");"
   ]
  },
  {
   "cell_type": "code",
   "execution_count": 4,
   "metadata": {},
   "outputs": [],
   "source": [
    "BBIDS = join.(split.(bb.unique_id, r\"\\[|\\]\")) |> x->join.(split.(x, r\" \"), \"_\");\n",
    "BBtaxa = bb[!,  2:7]\n",
    "BBtaxa[!,:donor] = last.(first.(split.(BBIDS, \".\"),2));\n",
    "BBMfc = bb[:,  8:45]\n",
    "BB4mM = bb[:, 46:49]\n",
    "BBMmM = bb[!, 46:55]\n",
    "BBOGG = bb[!, 56:end]\n",
    "ZBBMfc = SPI.zscore(Matrix(coalesce.(BBMfc, 1.0)))\n",
    "ZBBMmM = SPI.zscore(Matrix(coalesce.(BBMmM, 0.0)))\n",
    "ZBB4mM = SPI.zscore(Matrix(coalesce.(BB4mM, 0.0)))\n",
    "bbgenenames = names(BBOGG);"
   ]
  },
  {
   "cell_type": "code",
   "execution_count": 5,
   "metadata": {},
   "outputs": [
    {
     "data": {
      "text/plain": [
       "MuData object 673 ✕ 11296\n",
       "└ metabolites_foldchange\n",
       "  AnnData object 673 ✕ 38\n",
       "└ metabolites_millimolar\n",
       "  AnnData object 673 ✕ 10\n",
       "└ oggs\n",
       "  AnnData object 673 ✕ 11248"
      ]
     },
     "metadata": {},
     "output_type": "display_data"
    }
   ],
   "source": [
    "biobank_ogg = AnnData(X=Matrix(BBOGG),obs_names=BBIDS,var_names=bbgenenames)\n",
    "biobank_metabolite_rel = AnnData(X=ZBBMfc,obs_names=BBIDS,var_names=names(BBMfc))\n",
    "biobank_metabolite_rel.layers[\"raw\"] = coalesce.(Matrix(BBMfc), 1.0)\n",
    "biobank_metabolite_mM = AnnData(X=ZBBMmM,obs_names=BBIDS,var_names=names(BBMmM))\n",
    "biobank_metabolite_mM.layers[\"raw\"] = coalesce.(Matrix(BBMmM), 0.0)\n",
    "biobank_metabolite_mM.uns[\"4keymetabolites\"] = names(BB4mM)\n",
    "biobank = MuData(mod=Dict(\n",
    "    \"oggs\"=>biobank_ogg, \n",
    "    \"metabolites_foldchange\"=>biobank_metabolite_rel,\n",
    "    \"metabolites_millimolar\"=>biobank_metabolite_mM,\n",
    "    ))\n",
    "biobank.obs = coalesce.(BBtaxa, \"\")\n",
    "biobank"
   ]
  },
  {
   "cell_type": "code",
   "execution_count": 6,
   "metadata": {},
   "outputs": [
    {
     "data": {
      "text/plain": [
       "4-element Vector{String}:\n",
       " \"Butyrate_mM\"\n",
       " \"Propionate_mM\"\n",
       " \"Succinate_mM\"\n",
       " \"Acetate_mM\""
      ]
     },
     "metadata": {},
     "output_type": "display_data"
    }
   ],
   "source": [
    "names(BB4mM)"
   ]
  },
  {
   "cell_type": "code",
   "execution_count": 7,
   "metadata": {},
   "outputs": [],
   "source": [
    "# Match BioBank measurements to column order of UniProt\n",
    "bbmtx = zeros(size(BBOGG,1), length(uniprot.var_names.vals));\n",
    "rawidxs = indexin(bbgenenames, uniprot.var_names.vals)\n",
    "bbmask = .!isnothing.(rawidxs)\n",
    "uporderedmask = filter(x->.!isnothing(x), rawidxs);\n",
    "bbmtx[:, uporderedmask] .= BBOGG[:, bbmask];"
   ]
  },
  {
   "cell_type": "code",
   "execution_count": 8,
   "metadata": {},
   "outputs": [
    {
     "name": "stdout",
     "output_type": "stream",
     "text": [
      "size(bbmtx) = (673, 10177)\n"
     ]
    }
   ],
   "source": [
    "@show size(bbmtx);"
   ]
  },
  {
   "cell_type": "code",
   "execution_count": 9,
   "metadata": {},
   "outputs": [],
   "source": [
    "BBUhat = projectinLSV(bbmtx, UPusv);"
   ]
  },
  {
   "cell_type": "code",
   "execution_count": 10,
   "metadata": {},
   "outputs": [
    {
     "name": "stdout",
     "output_type": "stream",
     "text": [
      "  4.133192 seconds (4.23 M allocations: 6.234 GiB, 28.41% gc time, 31.46% compilation time)\n"
     ]
    }
   ],
   "source": [
    "@time BBDij = calc_spi_mtx(BBUhat, UPusv.S, getintervals(UPusv.S));"
   ]
  },
  {
   "cell_type": "code",
   "execution_count": 14,
   "metadata": {},
   "outputs": [],
   "source": [
    "bbhc = hclust(BBDij, linkage=:average, branchorder=:optimal);"
   ]
  },
  {
   "cell_type": "code",
   "execution_count": 15,
   "metadata": {},
   "outputs": [],
   "source": [
    "newicktreestring = nwstr(bbhc, BBIDS; labelinternalnodes=false);"
   ]
  },
  {
   "cell_type": "code",
   "execution_count": 13,
   "metadata": {},
   "outputs": [],
   "source": [
    "BBoggeuclidean = Distances.pairwise(Euclidean(), biobank[\"oggs\"].X[:,:]');\n",
    "BBoggeuclidean_hc = hclust(BBoggeuclidean, linkage=:average, branchorder=:optimal);"
   ]
  },
  {
   "cell_type": "code",
   "execution_count": 16,
   "metadata": {},
   "outputs": [],
   "source": [
    "biobank[\"oggs\"].obsm[\"inferredLSVs_UP7047\"] = BBUhat\n",
    "biobank[\"oggs\"].obsp[\"inferredSPIdist_UP7047\"] = BBDij\n",
    "biobank[\"oggs\"].uns[\"inferrednewicktree_UP7047\"] = newicktreestring;"
   ]
  },
  {
   "cell_type": "code",
   "execution_count": 17,
   "metadata": {},
   "outputs": [],
   "source": [
    "biobank[\"oggs\"].obsp[\"ogg_euclidean_dij\"] = BBoggeuclidean\n",
    "biobank[\"oggs\"].uns[\"ogg_euclidean_newicktreestring\"] = nwstr(BBoggeuclidean_hc, BBIDS; labelinternalnodes=false);"
   ]
  },
  {
   "cell_type": "code",
   "execution_count": 18,
   "metadata": {},
   "outputs": [],
   "source": [
    "mkpath(joinpath(datadir(), \"exp_pro\", \"BB673\"))\n",
    "writeh5mu(joinpath(datadir(), \"exp_pro\", \"BB673\", \"BB673.h5mu\"), biobank)"
   ]
  },
  {
   "cell_type": "code",
   "execution_count": null,
   "metadata": {},
   "outputs": [],
   "source": []
  }
 ],
 "metadata": {
  "kernelspec": {
   "display_name": "Julia 1.7.2",
   "language": "julia",
   "name": "julia-1.7"
  },
  "language_info": {
   "file_extension": ".jl",
   "mimetype": "application/julia",
   "name": "julia",
   "version": "1.7.2"
  },
  "orig_nbformat": 4
 },
 "nbformat": 4,
 "nbformat_minor": 2
}
