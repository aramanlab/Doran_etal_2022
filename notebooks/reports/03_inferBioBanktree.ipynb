{
 "cells": [
  {
   "cell_type": "code",
   "execution_count": 1,
   "metadata": {},
   "outputs": [],
   "source": [
    "using DrWatson\n",
    "@quickactivate \"Doran_etal_2022\"\n",
    "\n",
    "using SPI\n",
    "using Muon\n",
    "using CSV, DataFrames\n",
    "using Distances\n",
    "using NeighborJoining\n",
    "using NewickTree"
   ]
  },
  {
   "cell_type": "code",
   "execution_count": 2,
   "metadata": {},
   "outputs": [
    {
     "data": {
      "text/plain": [
       "\"/Users/ben/projects/Doran_etal_2022/data/exp_pro/BB669\""
      ]
     },
     "metadata": {},
     "output_type": "display_data"
    }
   ],
   "source": [
    "ddir = datadir(\"exp_raw\", \"BB669\") |> mkpath\n",
    "rdir = datadir(\"exp_pro\", \"BB669\") |> mkpath"
   ]
  },
  {
   "cell_type": "code",
   "execution_count": 3,
   "metadata": {},
   "outputs": [],
   "source": [
    "uniprot = readh5ad(joinpath(datadir(), \"exp_pro\", \"UP7047\", \"2020_02_UP7047.h5ad\"));\n",
    "UPusv = SVD(uniprot.obsm[\"LSVs\"][:, :], uniprot.uns[\"SVs\"][:], uniprot.varm[\"RSVs\"][:, :]');\n",
    "bb = CSV.read(\n",
    "    datadir(\"exp_raw\", \"BB669\", \"BB669_commensal_metabolomics_ogg_matrix_20220713.csv\"), \n",
    "    DataFrame; \n",
    "    missingstring=\"NA\");"
   ]
  },
  {
   "cell_type": "code",
   "execution_count": 4,
   "metadata": {},
   "outputs": [],
   "source": [
    "bbacc = CSV.read(joinpath(ddir, \"BB669_rowmeta.csv\"), DataFrame);"
   ]
  },
  {
   "cell_type": "code",
   "execution_count": 5,
   "metadata": {},
   "outputs": [],
   "source": [
    "BBIDs = bb.ID;\n",
    "BBtaxa = bb[!,  3:8]\n",
    "BBtaxa[!,:donor] = join.(first.(split.(BBIDs, \".\"), 2), \".\");\n",
    "BBMfc = bb[:,  9:58]\n",
    "BBMmM = bb[!, 59:68]\n",
    "BBOGG = bb[!, 69:end]\n",
    "logBBMfc = log2.(Matrix(coalesce.(BBMfc, 0.0)))\n",
    "ZBBMmM = SPI.zscore(Matrix(coalesce.(BBMmM, 0.0)))\n",
    "bbgenenames = names(BBOGG);"
   ]
  },
  {
   "cell_type": "code",
   "execution_count": 6,
   "metadata": {},
   "outputs": [
    {
     "data": {
      "text/plain": [
       "1-element Vector{String}:\n",
       " \"4-Ethylphenol_rel\""
      ]
     },
     "metadata": {},
     "output_type": "display_data"
    }
   ],
   "source": [
    "# Which metabolites are we imputing values for?\n",
    "whichcolsmissingvalues = map(eachcol(BBMfc)) do col\n",
    "    sum(ismissing.(col))\n",
    "end |> x->x.>0\n",
    "names(BBMfc)[whichcolsmissingvalues]"
   ]
  },
  {
   "cell_type": "code",
   "execution_count": 7,
   "metadata": {},
   "outputs": [
    {
     "data": {
      "text/plain": [
       "String[]"
      ]
     },
     "metadata": {},
     "output_type": "display_data"
    }
   ],
   "source": [
    "# Which metabolites are we imputing values for?\n",
    "whichcolsmissingvalues = map(eachcol(BBMmM)) do col\n",
    "    sum(ismissing.(col))\n",
    "end |> x->x.>0\n",
    "names(BBMmM)[whichcolsmissingvalues]"
   ]
  },
  {
   "cell_type": "code",
   "execution_count": 9,
   "metadata": {},
   "outputs": [],
   "source": [
    "BBobs = leftjoin(bbacc, hcat(DataFrame(:ID => BBIDs)), on= :ID)\n",
    "# BBobs[!, :ID] = BBobs.msk_id\n",
    "# BBobs = BBobs[:, [13, collect(1:12)...]]\n",
    "# BBobs = coalesce.(BBobs, \"\")\n",
    "# # correct missing Family annotation\n",
    "# BBobs.family[BBobs.genus .== \"Phocaeicola\"] .= \"Bacteroidaceae\";\n",
    "# rename!(BBobs, :BBID => :first_strain_id, :msk_id => :strain_id)\n",
    "BBobs = coalesce.(BBobs, \"<unclassified>\")\n",
    "BBobs = String.(BBobs);"
   ]
  },
  {
   "cell_type": "code",
   "execution_count": 10,
   "metadata": {},
   "outputs": [],
   "source": [
    "biobank_ogg = AnnData(X=Matrix(BBOGG),obs_names=BBIDs,var_names=bbgenenames)\n",
    "biobank_metabolite_rel = AnnData(X=logBBMfc,obs_names=BBIDs,var_names=names(BBMfc))\n",
    "biobank_metabolite_rel.layers[\"raw\"] = coalesce.(Matrix(BBMfc), 0.0)\n",
    "biobank_metabolite_mM = AnnData(X=ZBBMmM,obs_names=BBIDs,var_names=names(BBMmM))\n",
    "biobank_metabolite_mM.layers[\"raw\"] = coalesce.(Matrix(BBMmM), 0.0)\n",
    "biobank_metabolite_mM.uns[\"4keymetabolites\"] = names(BBMmM)[1:4]\n",
    "biobank = MuData(mod=Dict(\n",
    "    \"oggs\"=>biobank_ogg, \n",
    "    \"metabolites_foldchange\"=>biobank_metabolite_rel,\n",
    "    \"metabolites_millimolar\"=>biobank_metabolite_mM,\n",
    "    ))\n",
    "biobank.obs = BBobs;"
   ]
  },
  {
   "cell_type": "code",
   "execution_count": 11,
   "metadata": {},
   "outputs": [],
   "source": [
    "# Match BioBank measurements to column order of UniProt\n",
    "bbmtx = zeros(size(BBOGG,1), length(uniprot.var_names.vals));\n",
    "rawidxs = indexin(bbgenenames, uniprot.var_names.vals)\n",
    "bbmask = .!isnothing.(rawidxs)\n",
    "uporderedmask = filter(x->.!isnothing(x), rawidxs);\n",
    "bbmtx[:, uporderedmask] .= BBOGG[:, bbmask];"
   ]
  },
  {
   "cell_type": "code",
   "execution_count": 12,
   "metadata": {},
   "outputs": [
    {
     "name": "stdout",
     "output_type": "stream",
     "text": [
      "size(bbmtx) = (669, 10177)\n"
     ]
    }
   ],
   "source": [
    "@show size(bbmtx);"
   ]
  },
  {
   "cell_type": "code",
   "execution_count": 13,
   "metadata": {},
   "outputs": [],
   "source": [
    "biobank[\"UPorder_oggs\"] = AnnData(X=bbmtx, obs_names=BBIDs, var_names=uniprot.var_names.vals);\n",
    "biobank[\"UPorder_oggs\"].var = DataFrame(\n",
    "    :ID=>uniprot.var_names.vals,\n",
    "    :ispresent=>mapslices(x->sum(x)>0, bbmtx, dims=1)|>vec,\n",
    ");"
   ]
  },
  {
   "cell_type": "code",
   "execution_count": 14,
   "metadata": {},
   "outputs": [],
   "source": [
    "biobank[:UPorder_oggs].obsm[\"inferredLSVs\"] = projectinLSV(bbmtx, UPusv);\n",
    "biobank[:UPorder_oggs].varm[\"UP_RSVs\"] = UPusv.V;\n",
    "biobank[:UPorder_oggs].uns[\"UP_SVs\"] = UPusv.S;\n"
   ]
  },
  {
   "cell_type": "code",
   "execution_count": 15,
   "metadata": {},
   "outputs": [],
   "source": [
    "BBuhat = biobank[:UPorder_oggs].obsm[\"inferredLSVs\"][:, :];"
   ]
  },
  {
   "cell_type": "code",
   "execution_count": 16,
   "metadata": {},
   "outputs": [
    {
     "name": "stdout",
     "output_type": "stream",
     "text": [
      "  0.770117 seconds (1.79 M allocations: 112.133 MiB, 99.86% compilation time)\n"
     ]
    },
    {
     "name": "stdout",
     "output_type": "stream",
     "text": [
      "  3.907312 seconds (655.51 k allocations: 5.997 GiB, 35.51% gc time, 12.01% compilation time)\n"
     ]
    }
   ],
   "source": [
    "@time partitions = getintervals(UPusv.S, alpha=1.5, q=.75)\n",
    "@time BBDij = calc_spi_mtx(BBuhat, UPusv.S, partitions) ./ size(biobank[:UPorder_oggs], 2);"
   ]
  },
  {
   "cell_type": "code",
   "execution_count": 17,
   "metadata": {},
   "outputs": [],
   "source": [
    "bbhc = hclust(BBDij, linkage=:average, branchorder=:optimal);"
   ]
  },
  {
   "cell_type": "code",
   "execution_count": 18,
   "metadata": {},
   "outputs": [
    {
     "data": {
      "text/plain": [
       "\"((((((MSK.22.4:9.970886e-04,MSK.22.2:4.595173e-04):6.471248e-04,MSK.22.68:0.000000e+00):6.183301e-05,(MSK.22.57:0.000000e+00,MSK.22.64:3.689898e-04):1.865055e-04):8.783890e-05,(((((((((((MSK.22.80:3.300148e-03,MSK.22.73:5.227851e-03):6.349715e-03,MSK.22.108:0.000000e+00\" ⋯ 24648 bytes ⋯ \",MSK.22.45:0.000000e+00):1.097491e-05,(((((MSK.22.113:0.000000e+00,MSK.22.101:9.583733e-03):1.051869e-03,MSK.22.11:0.000000e+00):3.100763e-04,MSK.22.34:3.064608e-03):1.432298e-04,MSK.22.100:0.000000e+00):5.948697e-05,MSK.22.106:1.304148e-03):1.097491e-05):0.000000e+00;\""
      ]
     },
     "metadata": {},
     "output_type": "display_data"
    }
   ],
   "source": [
    "bbnj = regNJ(BBDij)\n",
    "newicktreestring_nj = newickstring(bbnj, BBobs.ID)"
   ]
  },
  {
   "cell_type": "code",
   "execution_count": 19,
   "metadata": {},
   "outputs": [],
   "source": [
    "spitree = readnw(newicktreestring_nj);"
   ]
  },
  {
   "cell_type": "code",
   "execution_count": 20,
   "metadata": {},
   "outputs": [
    {
     "data": {
      "text/plain": [
       "1"
      ]
     },
     "metadata": {},
     "output_type": "display_data"
    }
   ],
   "source": [
    "sum(contains.(BBobs.phylum, \"Proteobacteria\"))"
   ]
  },
  {
   "cell_type": "code",
   "execution_count": 29,
   "metadata": {},
   "outputs": [
    {
     "data": {
      "text/plain": [
       "20742"
      ]
     },
     "metadata": {},
     "output_type": "display_data"
    }
   ],
   "source": [
    "outgroupname = BBobs.ID[contains.(BBobs.phylum, \"Proteobacteria\")]\n",
    "outgroupnode = getleaves(spitree)[name.(getleaves(spitree)) .== outgroupname][1]\n",
    "spitree = set_outgroup(outgroupnode)\n",
    "writenw(joinpath(rdir, \"BB669_inferred_spitree_nj_outgrouped.nw\"), spitree)"
   ]
  },
  {
   "cell_type": "code",
   "execution_count": 30,
   "metadata": {},
   "outputs": [],
   "source": [
    "newicktreestring = SPI.nwstr(bbhc, BBobs.ID; labelinternalnodes=false);"
   ]
  },
  {
   "cell_type": "code",
   "execution_count": 31,
   "metadata": {},
   "outputs": [],
   "source": [
    "biobank[\"oggs\"].obsm[\"inferredLSVs\"] = BBuhat\n",
    "biobank[\"UPorder_oggs\"].obsp[\"SDij\"] = BBDij\n",
    "biobank[\"UPorder_oggs\"].uns[\"inferrednewicktree\"] = newicktreestring;\n",
    "biobank[\"UPorder_oggs\"].uns[\"inferrednewicktree_nj\"] = newicktreestring_nj;"
   ]
  },
  {
   "cell_type": "code",
   "execution_count": 32,
   "metadata": {},
   "outputs": [
    {
     "data": {
      "text/plain": [
       "\"/Users/ben/projects/Doran_etal_2022/data/exp_pro/BB669/BB669_rowmeta.csv\""
      ]
     },
     "metadata": {},
     "output_type": "display_data"
    }
   ],
   "source": [
    "rdir = datadir(\"exp_pro\", \"BB669\") |> mkpath\n",
    "open(joinpath(rdir, \"BB669_inferred_spitree.nw\"), \"w\") do io\n",
    "    println(io, newicktreestring)\n",
    "end\n",
    "writeh5mu(joinpath(rdir, \"BB669.h5mu\"), biobank)\n",
    "CSV.write(joinpath(rdir, \"BB669_rowmeta.csv\"), BBobs)"
   ]
  },
  {
   "cell_type": "code",
   "execution_count": 33,
   "metadata": {},
   "outputs": [],
   "source": [
    "open(joinpath(rdir, \"BB669_inferred_spitree_nj.nw\"), \"w\") do io\n",
    "    println(io, newicktreestring_nj)\n",
    "end"
   ]
  },
  {
   "cell_type": "code",
   "execution_count": 25,
   "metadata": {},
   "outputs": [],
   "source": []
  }
 ],
 "metadata": {
  "kernelspec": {
   "display_name": "Julia 1.9.1",
   "language": "julia",
   "name": "julia-1.9"
  },
  "language_info": {
   "file_extension": ".jl",
   "mimetype": "application/julia",
   "name": "julia",
   "version": "1.9.1"
  },
  "orig_nbformat": 4
 },
 "nbformat": 4,
 "nbformat_minor": 2
}
