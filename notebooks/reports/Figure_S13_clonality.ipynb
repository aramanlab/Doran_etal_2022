{
 "cells": [
  {
   "cell_type": "code",
   "execution_count": 1,
   "metadata": {},
   "outputs": [],
   "source": [
    "using DrWatson\n",
    "@quickactivate \"Doran_etal_2022\"\n",
    "\n",
    "using CSV, DataFrames, Muon"
   ]
  },
  {
   "cell_type": "code",
   "execution_count": 4,
   "metadata": {},
   "outputs": [
    {
     "data": {
      "text/html": [
       "<div class=\"data-frame\"><p>807 rows × 3 columns</p><table class=\"data-frame\"><thead><tr><th></th><th>msk_id</th><th>clones</th><th>species</th></tr><tr><th></th><th title=\"String15\">String15</th><th title=\"Int64\">Int64</th><th title=\"String\">String</th></tr></thead><tbody><tr><th>1</th><td>MSK.1.13</td><td>1</td><td>[Clostridium] aldenense</td></tr><tr><th>2</th><td>MSK.1.17</td><td>1</td><td>[Clostridium] aldenense</td></tr><tr><th>3</th><td>MSK.2.26</td><td>1</td><td>[Clostridium] clostridioforme</td></tr><tr><th>4</th><td>MSK.2.78</td><td>1</td><td>[Clostridium] clostridioforme</td></tr><tr><th>5</th><td>MSK.2.94</td><td>1</td><td>[Clostridium] clostridioforme</td></tr><tr><th>6</th><td>MSK.2.98</td><td>1</td><td>[Clostridium] clostridioforme</td></tr><tr><th>7</th><td>MSK.2.73</td><td>1</td><td>[Clostridium] clostridioforme</td></tr><tr><th>8</th><td>MSK.2.90</td><td>1</td><td>[Clostridium] clostridioforme</td></tr><tr><th>9</th><td>MSK.2.80</td><td>1</td><td>[Clostridium] clostridioforme</td></tr><tr><th>10</th><td>MSK.2.63</td><td>1</td><td>[Clostridium] clostridioforme</td></tr><tr><th>11</th><td>MSK.2.59</td><td>1</td><td>[Clostridium] clostridioforme</td></tr><tr><th>12</th><td>MSK.15.85</td><td>1</td><td>[Clostridium] innocuum</td></tr><tr><th>13</th><td>MSK.6.1</td><td>2</td><td>[Clostridium] innocuum</td></tr><tr><th>14</th><td>MSK.13.34</td><td>2</td><td>[Clostridium] innocuum</td></tr><tr><th>15</th><td>MSK.5.23</td><td>2</td><td>[Clostridium] innocuum</td></tr><tr><th>16</th><td>MSK.7.7</td><td>2</td><td>[Clostridium] innocuum</td></tr><tr><th>17</th><td>MSK.1.16</td><td>1</td><td>[Clostridium] scindens</td></tr><tr><th>18</th><td>MSK.1.26</td><td>1</td><td>[Clostridium] scindens</td></tr><tr><th>19</th><td>MSK.5.24</td><td>2</td><td>[Clostridium] scindens</td></tr><tr><th>20</th><td>MSK.1.7</td><td>1</td><td>[Clostridium] symbosium</td></tr><tr><th>21</th><td>MSK.1.9</td><td>1</td><td>[Clostridium] symbosium</td></tr><tr><th>22</th><td>MSK.7.21</td><td>1</td><td>[Clostridium] symbosium</td></tr><tr><th>23</th><td>MSK.16.22</td><td>1</td><td>[Eubacterium] rectale</td></tr><tr><th>24</th><td>MSK.16.45</td><td>1</td><td>[Eubacterium] rectale</td></tr><tr><th>&vellip;</th><td>&vellip;</td><td>&vellip;</td><td>&vellip;</td></tr></tbody></table></div>"
      ],
      "text/latex": [
       "\\begin{tabular}{r|ccc}\n",
       "\t& msk\\_id & clones & species\\\\\n",
       "\t\\hline\n",
       "\t& String15 & Int64 & String\\\\\n",
       "\t\\hline\n",
       "\t1 & MSK.1.13 & 1 & [Clostridium] aldenense \\\\\n",
       "\t2 & MSK.1.17 & 1 & [Clostridium] aldenense \\\\\n",
       "\t3 & MSK.2.26 & 1 & [Clostridium] clostridioforme \\\\\n",
       "\t4 & MSK.2.78 & 1 & [Clostridium] clostridioforme \\\\\n",
       "\t5 & MSK.2.94 & 1 & [Clostridium] clostridioforme \\\\\n",
       "\t6 & MSK.2.98 & 1 & [Clostridium] clostridioforme \\\\\n",
       "\t7 & MSK.2.73 & 1 & [Clostridium] clostridioforme \\\\\n",
       "\t8 & MSK.2.90 & 1 & [Clostridium] clostridioforme \\\\\n",
       "\t9 & MSK.2.80 & 1 & [Clostridium] clostridioforme \\\\\n",
       "\t10 & MSK.2.63 & 1 & [Clostridium] clostridioforme \\\\\n",
       "\t11 & MSK.2.59 & 1 & [Clostridium] clostridioforme \\\\\n",
       "\t12 & MSK.15.85 & 1 & [Clostridium] innocuum \\\\\n",
       "\t13 & MSK.6.1 & 2 & [Clostridium] innocuum \\\\\n",
       "\t14 & MSK.13.34 & 2 & [Clostridium] innocuum \\\\\n",
       "\t15 & MSK.5.23 & 2 & [Clostridium] innocuum \\\\\n",
       "\t16 & MSK.7.7 & 2 & [Clostridium] innocuum \\\\\n",
       "\t17 & MSK.1.16 & 1 & [Clostridium] scindens \\\\\n",
       "\t18 & MSK.1.26 & 1 & [Clostridium] scindens \\\\\n",
       "\t19 & MSK.5.24 & 2 & [Clostridium] scindens \\\\\n",
       "\t20 & MSK.1.7 & 1 & [Clostridium] symbosium \\\\\n",
       "\t21 & MSK.1.9 & 1 & [Clostridium] symbosium \\\\\n",
       "\t22 & MSK.7.21 & 1 & [Clostridium] symbosium \\\\\n",
       "\t23 & MSK.16.22 & 1 & [Eubacterium] rectale \\\\\n",
       "\t24 & MSK.16.45 & 1 & [Eubacterium] rectale \\\\\n",
       "\t$\\dots$ & $\\dots$ & $\\dots$ & $\\dots$ \\\\\n",
       "\\end{tabular}\n"
      ],
      "text/plain": [
       "\u001b[1m807×3 DataFrame\u001b[0m\n",
       "\u001b[1m Row \u001b[0m│\u001b[1m msk_id     \u001b[0m\u001b[1m clones \u001b[0m\u001b[1m species                       \u001b[0m\n",
       "\u001b[1m     \u001b[0m│\u001b[90m String15   \u001b[0m\u001b[90m Int64  \u001b[0m\u001b[90m String                        \u001b[0m\n",
       "─────┼───────────────────────────────────────────────────\n",
       "   1 │ MSK.1.13         1  [Clostridium] aldenense\n",
       "   2 │ MSK.1.17         1  [Clostridium] aldenense\n",
       "   3 │ MSK.2.26         1  [Clostridium] clostridioforme\n",
       "   4 │ MSK.2.78         1  [Clostridium] clostridioforme\n",
       "   5 │ MSK.2.94         1  [Clostridium] clostridioforme\n",
       "   6 │ MSK.2.98         1  [Clostridium] clostridioforme\n",
       "   7 │ MSK.2.73         1  [Clostridium] clostridioforme\n",
       "   8 │ MSK.2.90         1  [Clostridium] clostridioforme\n",
       "  ⋮  │     ⋮         ⋮                   ⋮\n",
       " 801 │ MSK.22.122       1  Weissella cibaria\n",
       " 802 │ MSK.22.120       1  Weissella cibaria\n",
       " 803 │ MSK.22.130       1  Weissella cibaria\n",
       " 804 │ MSK.22.123       1  Weissella cibaria\n",
       " 805 │ MSK.22.138       1  Weissella cibaria\n",
       " 806 │ MSK.22.125       1  Weissella unclassified\n",
       " 807 │ MSK.22.134       2  Weissella unclassified\n",
       "\u001b[36m                                         792 rows omitted\u001b[0m"
      ]
     },
     "metadata": {},
     "output_type": "display_data"
    }
   ],
   "source": [
    "clonedf = CSV.read(datadir(\"exp_raw\", \"BB673\", \"cloneList.biobank.relax.csv\"),DataFrame; header=1)"
   ]
  },
  {
   "cell_type": "code",
   "execution_count": 11,
   "metadata": {},
   "outputs": [
    {
     "data": {
      "text/plain": [
       "true"
      ]
     },
     "metadata": {},
     "output_type": "display_data"
    }
   ],
   "source": [
    "allunique(clonedf.msk_id)"
   ]
  },
  {
   "cell_type": "code",
   "execution_count": 5,
   "metadata": {},
   "outputs": [
    {
     "data": {
      "text/plain": [
       "MuData object 673 ✕ 11296\n",
       "└ metabolites_foldchange\n",
       "  AnnData object 673 ✕ 38\n",
       "└ metabolites_millimolar\n",
       "  AnnData object 673 ✕ 10\n",
       "└ oggs\n",
       "  AnnData object 673 ✕ 11248"
      ]
     },
     "metadata": {},
     "output_type": "display_data"
    }
   ],
   "source": [
    "biobank = readh5mu(datadir(\"exp_pro\", \"BB673\", \"BB673.h5mu\"))"
   ]
  },
  {
   "cell_type": "code",
   "execution_count": 16,
   "metadata": {},
   "outputs": [],
   "source": [
    "UID = first.(split.(biobank.obs_names, \"_\"))\n",
    "basedf = DataFrame(\n",
    "    :msk_id => UID,\n",
    "    :donor_id => getindex.(split.(UID, \".\"), 2),\n",
    ");"
   ]
  },
  {
   "cell_type": "code",
   "execution_count": 17,
   "metadata": {},
   "outputs": [
    {
     "data": {
      "text/plain": [
       "true"
      ]
     },
     "metadata": {},
     "output_type": "display_data"
    }
   ],
   "source": [
    "allunique(basedf.msk_id)"
   ]
  },
  {
   "cell_type": "code",
   "execution_count": 22,
   "metadata": {},
   "outputs": [],
   "source": [
    "biobank.obs[:, :msk_id] .= UID;"
   ]
  },
  {
   "cell_type": "code",
   "execution_count": 50,
   "metadata": {},
   "outputs": [],
   "source": [
    "mergedf = leftjoin(basedf, clonedf, on=:msk_id);\n",
    "# mergedf = leftjoin(mergedf, biobank.obs, on=:msk_id, makeunique=true);"
   ]
  },
  {
   "cell_type": "code",
   "execution_count": 51,
   "metadata": {},
   "outputs": [
    {
     "data": {
      "text/html": [
       "<div class=\"data-frame\"><p>173 rows × 4 columns</p><table class=\"data-frame\"><thead><tr><th></th><th>msk_id</th><th>donor_id</th><th>clones</th><th>species</th></tr><tr><th></th><th title=\"SubString{String}\">SubStrin…</th><th title=\"SubString{String}\">SubStrin…</th><th title=\"Union{Missing, Int64}\">Int64?</th><th title=\"Union{Missing, String}\">String?</th></tr></thead><tbody><tr><th>1</th><td>MSK.13.52</td><td>13</td><td><em>missing</em></td><td><em>missing</em></td></tr><tr><th>2</th><td>DFI.1.109</td><td>1</td><td><em>missing</em></td><td><em>missing</em></td></tr><tr><th>3</th><td>DFI.5.19</td><td>5</td><td><em>missing</em></td><td><em>missing</em></td></tr><tr><th>4</th><td>DFI.1.159</td><td>1</td><td><em>missing</em></td><td><em>missing</em></td></tr><tr><th>5</th><td>DFI.5.15</td><td>5</td><td><em>missing</em></td><td><em>missing</em></td></tr><tr><th>6</th><td>DFI.1.221</td><td>1</td><td><em>missing</em></td><td><em>missing</em></td></tr><tr><th>7</th><td>DFI.5.34</td><td>5</td><td><em>missing</em></td><td><em>missing</em></td></tr><tr><th>8</th><td>DFI.1.219</td><td>1</td><td><em>missing</em></td><td><em>missing</em></td></tr><tr><th>9</th><td>DFI.1.64</td><td>1</td><td><em>missing</em></td><td><em>missing</em></td></tr><tr><th>10</th><td>DFI.1.58</td><td>1</td><td><em>missing</em></td><td><em>missing</em></td></tr><tr><th>11</th><td>DFI.1.250</td><td>1</td><td><em>missing</em></td><td><em>missing</em></td></tr><tr><th>12</th><td>DFI.1.38</td><td>1</td><td><em>missing</em></td><td><em>missing</em></td></tr><tr><th>13</th><td>DFI.1.75</td><td>1</td><td><em>missing</em></td><td><em>missing</em></td></tr><tr><th>14</th><td>DFI.1.215</td><td>1</td><td><em>missing</em></td><td><em>missing</em></td></tr><tr><th>15</th><td>DFI.1.81</td><td>1</td><td><em>missing</em></td><td><em>missing</em></td></tr><tr><th>16</th><td>DFI.1.72</td><td>1</td><td><em>missing</em></td><td><em>missing</em></td></tr><tr><th>17</th><td>DFI.3.45</td><td>3</td><td><em>missing</em></td><td><em>missing</em></td></tr><tr><th>18</th><td>DFI.1.203</td><td>1</td><td><em>missing</em></td><td><em>missing</em></td></tr><tr><th>19</th><td>DFI.3.101</td><td>3</td><td><em>missing</em></td><td><em>missing</em></td></tr><tr><th>20</th><td>DFI.4.30</td><td>4</td><td><em>missing</em></td><td><em>missing</em></td></tr><tr><th>21</th><td>DFI.3.9</td><td>3</td><td><em>missing</em></td><td><em>missing</em></td></tr><tr><th>22</th><td>DFI.3.84</td><td>3</td><td><em>missing</em></td><td><em>missing</em></td></tr><tr><th>23</th><td>DFI.6.71</td><td>6</td><td><em>missing</em></td><td><em>missing</em></td></tr><tr><th>24</th><td>DFI.1.18</td><td>1</td><td><em>missing</em></td><td><em>missing</em></td></tr><tr><th>&vellip;</th><td>&vellip;</td><td>&vellip;</td><td>&vellip;</td><td>&vellip;</td></tr></tbody></table></div>"
      ],
      "text/latex": [
       "\\begin{tabular}{r|cccc}\n",
       "\t& msk\\_id & donor\\_id & clones & species\\\\\n",
       "\t\\hline\n",
       "\t& SubStrin… & SubStrin… & Int64? & String?\\\\\n",
       "\t\\hline\n",
       "\t1 & MSK.13.52 & 13 & \\emph{missing} & \\emph{missing} \\\\\n",
       "\t2 & DFI.1.109 & 1 & \\emph{missing} & \\emph{missing} \\\\\n",
       "\t3 & DFI.5.19 & 5 & \\emph{missing} & \\emph{missing} \\\\\n",
       "\t4 & DFI.1.159 & 1 & \\emph{missing} & \\emph{missing} \\\\\n",
       "\t5 & DFI.5.15 & 5 & \\emph{missing} & \\emph{missing} \\\\\n",
       "\t6 & DFI.1.221 & 1 & \\emph{missing} & \\emph{missing} \\\\\n",
       "\t7 & DFI.5.34 & 5 & \\emph{missing} & \\emph{missing} \\\\\n",
       "\t8 & DFI.1.219 & 1 & \\emph{missing} & \\emph{missing} \\\\\n",
       "\t9 & DFI.1.64 & 1 & \\emph{missing} & \\emph{missing} \\\\\n",
       "\t10 & DFI.1.58 & 1 & \\emph{missing} & \\emph{missing} \\\\\n",
       "\t11 & DFI.1.250 & 1 & \\emph{missing} & \\emph{missing} \\\\\n",
       "\t12 & DFI.1.38 & 1 & \\emph{missing} & \\emph{missing} \\\\\n",
       "\t13 & DFI.1.75 & 1 & \\emph{missing} & \\emph{missing} \\\\\n",
       "\t14 & DFI.1.215 & 1 & \\emph{missing} & \\emph{missing} \\\\\n",
       "\t15 & DFI.1.81 & 1 & \\emph{missing} & \\emph{missing} \\\\\n",
       "\t16 & DFI.1.72 & 1 & \\emph{missing} & \\emph{missing} \\\\\n",
       "\t17 & DFI.3.45 & 3 & \\emph{missing} & \\emph{missing} \\\\\n",
       "\t18 & DFI.1.203 & 1 & \\emph{missing} & \\emph{missing} \\\\\n",
       "\t19 & DFI.3.101 & 3 & \\emph{missing} & \\emph{missing} \\\\\n",
       "\t20 & DFI.4.30 & 4 & \\emph{missing} & \\emph{missing} \\\\\n",
       "\t21 & DFI.3.9 & 3 & \\emph{missing} & \\emph{missing} \\\\\n",
       "\t22 & DFI.3.84 & 3 & \\emph{missing} & \\emph{missing} \\\\\n",
       "\t23 & DFI.6.71 & 6 & \\emph{missing} & \\emph{missing} \\\\\n",
       "\t24 & DFI.1.18 & 1 & \\emph{missing} & \\emph{missing} \\\\\n",
       "\t$\\dots$ & $\\dots$ & $\\dots$ & $\\dots$ & $\\dots$ \\\\\n",
       "\\end{tabular}\n"
      ],
      "text/plain": [
       "\u001b[1m173×4 DataFrame\u001b[0m\n",
       "\u001b[1m Row \u001b[0m│\u001b[1m msk_id     \u001b[0m\u001b[1m donor_id  \u001b[0m\u001b[1m clones  \u001b[0m\u001b[1m species \u001b[0m\n",
       "\u001b[1m     \u001b[0m│\u001b[90m SubStrin…  \u001b[0m\u001b[90m SubStrin… \u001b[0m\u001b[90m Int64?  \u001b[0m\u001b[90m String? \u001b[0m\n",
       "─────┼─────────────────────────────────────────\n",
       "   1 │ MSK.13.52   13        \u001b[90m missing \u001b[0m\u001b[90m missing \u001b[0m\n",
       "   2 │ DFI.1.109   1         \u001b[90m missing \u001b[0m\u001b[90m missing \u001b[0m\n",
       "   3 │ DFI.5.19    5         \u001b[90m missing \u001b[0m\u001b[90m missing \u001b[0m\n",
       "   4 │ DFI.1.159   1         \u001b[90m missing \u001b[0m\u001b[90m missing \u001b[0m\n",
       "   5 │ DFI.5.15    5         \u001b[90m missing \u001b[0m\u001b[90m missing \u001b[0m\n",
       "   6 │ DFI.1.221   1         \u001b[90m missing \u001b[0m\u001b[90m missing \u001b[0m\n",
       "   7 │ DFI.5.34    5         \u001b[90m missing \u001b[0m\u001b[90m missing \u001b[0m\n",
       "   8 │ DFI.1.219   1         \u001b[90m missing \u001b[0m\u001b[90m missing \u001b[0m\n",
       "  ⋮  │     ⋮           ⋮         ⋮        ⋮\n",
       " 167 │ DFI.1.162   1         \u001b[90m missing \u001b[0m\u001b[90m missing \u001b[0m\n",
       " 168 │ DFI.3.120   3         \u001b[90m missing \u001b[0m\u001b[90m missing \u001b[0m\n",
       " 169 │ DFI.1.51    1         \u001b[90m missing \u001b[0m\u001b[90m missing \u001b[0m\n",
       " 170 │ MSK.23.115  23        \u001b[90m missing \u001b[0m\u001b[90m missing \u001b[0m\n",
       " 171 │ MSK.22.29   22        \u001b[90m missing \u001b[0m\u001b[90m missing \u001b[0m\n",
       " 172 │ DFI.5.9     5         \u001b[90m missing \u001b[0m\u001b[90m missing \u001b[0m\n",
       " 173 │ MSK.22.78   22        \u001b[90m missing \u001b[0m\u001b[90m missing \u001b[0m\n",
       "\u001b[36m                               158 rows omitted\u001b[0m"
      ]
     },
     "metadata": {},
     "output_type": "display_data"
    }
   ],
   "source": [
    "mergedf[findall(ismissing.(mergedf.clones)), :]"
   ]
  },
  {
   "cell_type": "code",
   "execution_count": 26,
   "metadata": {},
   "outputs": [
    {
     "data": {
      "text/plain": [
       "11-element Vector{String}:\n",
       " \"msk_id\"\n",
       " \"donor_id\"\n",
       " \"clones\"\n",
       " \"species\"\n",
       " \"phylum\"\n",
       " \"class\"\n",
       " \"order\"\n",
       " \"family\"\n",
       " \"genus\"\n",
       " \"species_1\"\n",
       " \"donor\""
      ]
     },
     "metadata": {},
     "output_type": "display_data"
    }
   ],
   "source": [
    "names(mergedf)"
   ]
  },
  {
   "cell_type": "code",
   "execution_count": 47,
   "metadata": {},
   "outputs": [
    {
     "data": {
      "text/html": [
       "<div class=\"data-frame\"><p>179 rows × 4 columns</p><table class=\"data-frame\"><thead><tr><th></th><th>species</th><th>donor</th><th>num_clones</th><th>num_isolates</th></tr><tr><th></th><th title=\"Union{Missing, String}\">String?</th><th title=\"Union{Missing, String}\">String?</th><th title=\"Int64\">Int64</th><th title=\"Int64\">Int64</th></tr></thead><tbody><tr><th>1</th><td>unclassified</td><td>19</td><td>2</td><td>3</td></tr><tr><th>2</th><td>unclassified</td><td>16</td><td>2</td><td>3</td></tr><tr><th>3</th><td>unclassified</td><td>10</td><td>1</td><td>1</td></tr><tr><th>4</th><td>unclassified</td><td>15</td><td>1</td><td>1</td></tr><tr><th>5</th><td>unclassified</td><td>21</td><td>1</td><td>1</td></tr><tr><th>6</th><td>unclassified</td><td>22</td><td>1</td><td>1</td></tr><tr><th>7</th><td>unclassified</td><td>13</td><td>1</td><td>1</td></tr><tr><th>8</th><td>unclassified</td><td>20</td><td>1</td><td>1</td></tr><tr><th>9</th><td>unclassified</td><td>9</td><td>1</td><td>1</td></tr><tr><th>10</th><td>unclassified</td><td>17</td><td>1</td><td>1</td></tr><tr><th>11</th><td>unclassified</td><td>23</td><td>1</td><td>1</td></tr><tr><th>12</th><td>[Ruminococcus] lactaris</td><td>18</td><td>1</td><td>4</td></tr><tr><th>13</th><td>[Ruminococcus] lactaris</td><td>17</td><td>1</td><td>2</td></tr><tr><th>14</th><td>[Ruminococcus] gnavus</td><td>5</td><td>2</td><td>2</td></tr><tr><th>15</th><td>[Ruminococcus] gnavus</td><td>15</td><td>2</td><td>9</td></tr><tr><th>16</th><td>[Ruminococcus] gnavus</td><td>17</td><td>2</td><td>2</td></tr><tr><th>17</th><td>[Ruminococcus] gnavus</td><td>23</td><td>1</td><td>13</td></tr><tr><th>18</th><td>[Ruminococcus] gnavus</td><td>7</td><td>1</td><td>2</td></tr><tr><th>19</th><td>[Ruminococcus] gnavus</td><td>11</td><td>1</td><td>1</td></tr><tr><th>20</th><td>[Ruminococcus] gnavus</td><td>22</td><td>1</td><td>1</td></tr><tr><th>21</th><td>[Ruminococcus] gnavus</td><td>19</td><td>1</td><td>2</td></tr><tr><th>22</th><td>[Eubacterium] rectale</td><td>17</td><td>6</td><td>8</td></tr><tr><th>23</th><td>[Eubacterium] rectale</td><td>13</td><td>3</td><td>3</td></tr><tr><th>24</th><td>[Eubacterium] rectale</td><td>9</td><td>1</td><td>2</td></tr><tr><th>&vellip;</th><td>&vellip;</td><td>&vellip;</td><td>&vellip;</td><td>&vellip;</td></tr></tbody></table></div>"
      ],
      "text/latex": [
       "\\begin{tabular}{r|cccc}\n",
       "\t& species & donor & num\\_clones & num\\_isolates\\\\\n",
       "\t\\hline\n",
       "\t& String? & String? & Int64 & Int64\\\\\n",
       "\t\\hline\n",
       "\t1 & unclassified & 19 & 2 & 3 \\\\\n",
       "\t2 & unclassified & 16 & 2 & 3 \\\\\n",
       "\t3 & unclassified & 10 & 1 & 1 \\\\\n",
       "\t4 & unclassified & 15 & 1 & 1 \\\\\n",
       "\t5 & unclassified & 21 & 1 & 1 \\\\\n",
       "\t6 & unclassified & 22 & 1 & 1 \\\\\n",
       "\t7 & unclassified & 13 & 1 & 1 \\\\\n",
       "\t8 & unclassified & 20 & 1 & 1 \\\\\n",
       "\t9 & unclassified & 9 & 1 & 1 \\\\\n",
       "\t10 & unclassified & 17 & 1 & 1 \\\\\n",
       "\t11 & unclassified & 23 & 1 & 1 \\\\\n",
       "\t12 & [Ruminococcus] lactaris & 18 & 1 & 4 \\\\\n",
       "\t13 & [Ruminococcus] lactaris & 17 & 1 & 2 \\\\\n",
       "\t14 & [Ruminococcus] gnavus & 5 & 2 & 2 \\\\\n",
       "\t15 & [Ruminococcus] gnavus & 15 & 2 & 9 \\\\\n",
       "\t16 & [Ruminococcus] gnavus & 17 & 2 & 2 \\\\\n",
       "\t17 & [Ruminococcus] gnavus & 23 & 1 & 13 \\\\\n",
       "\t18 & [Ruminococcus] gnavus & 7 & 1 & 2 \\\\\n",
       "\t19 & [Ruminococcus] gnavus & 11 & 1 & 1 \\\\\n",
       "\t20 & [Ruminococcus] gnavus & 22 & 1 & 1 \\\\\n",
       "\t21 & [Ruminococcus] gnavus & 19 & 1 & 2 \\\\\n",
       "\t22 & [Eubacterium] rectale & 17 & 6 & 8 \\\\\n",
       "\t23 & [Eubacterium] rectale & 13 & 3 & 3 \\\\\n",
       "\t24 & [Eubacterium] rectale & 9 & 1 & 2 \\\\\n",
       "\t$\\dots$ & $\\dots$ & $\\dots$ & $\\dots$ & $\\dots$ \\\\\n",
       "\\end{tabular}\n"
      ],
      "text/plain": [
       "\u001b[1m179×4 DataFrame\u001b[0m\n",
       "\u001b[1m Row \u001b[0m│\u001b[1m species               \u001b[0m\u001b[1m donor   \u001b[0m\u001b[1m num_clones \u001b[0m\u001b[1m num_isolates \u001b[0m\n",
       "\u001b[1m     \u001b[0m│\u001b[90m String?               \u001b[0m\u001b[90m String? \u001b[0m\u001b[90m Int64      \u001b[0m\u001b[90m Int64        \u001b[0m\n",
       "─────┼──────────────────────────────────────────────────────────\n",
       "   1 │ unclassified           19                2             3\n",
       "   2 │ unclassified           16                2             3\n",
       "   3 │ unclassified           10                1             1\n",
       "   4 │ unclassified           15                1             1\n",
       "   5 │ unclassified           21                1             1\n",
       "   6 │ unclassified           22                1             1\n",
       "   7 │ unclassified           13                1             1\n",
       "   8 │ unclassified           20                1             1\n",
       "  ⋮  │           ⋮               ⋮         ⋮            ⋮\n",
       " 173 │ Anaerostipes hadrus    15                1             3\n",
       " 174 │ Anaerostipes hadrus    6                 1             1\n",
       " 175 │ Anaerostipes hadrus    22                1             1\n",
       " 176 │ Anaerostipes caccae    1                 1             6\n",
       " 177 │ Alistipes onderdonkii  2                 1             4\n",
       " 178 │ Alistipes onderdonkii  5                 1             1\n",
       " 179 │ Alistipes finegoldii   2                 1             3\n",
       "\u001b[36m                                                164 rows omitted\u001b[0m"
      ]
     },
     "metadata": {},
     "output_type": "display_data"
    }
   ],
   "source": [
    "clonesvsisolates = mergedf |>\n",
    "    df -> filter(:clones => x -> .!ismissing.(x), df) |>\n",
    "    df -> transform(df, :species_1 => :species) |>\n",
    "    df -> groupby(df, [:species, :donor]) |>\n",
    "    df -> combine(df, :clones => (x -> length(unique(x))) => :num_clones, \n",
    "                      nrow => :num_isolates) |>\n",
    "    df -> sort(df, [:species, :num_clones], rev=true)"
   ]
  },
  {
   "cell_type": "code",
   "execution_count": 46,
   "metadata": {},
   "outputs": [
    {
     "data": {
      "text/plain": [
       "\"/Users/ben/projects/Doran_etal_2022/_research/BB673_clonalitymetrics\""
      ]
     },
     "metadata": {},
     "output_type": "display_data"
    }
   ],
   "source": [
    "rdir = projectdir(\"_research\", \"BB673_clonalitymetrics\") |> mkpath"
   ]
  },
  {
   "cell_type": "code",
   "execution_count": 53,
   "metadata": {},
   "outputs": [
    {
     "data": {
      "text/plain": [
       "\"/Users/ben/projects/Doran_etal_2022/_research/BB673_clonalitymetrics/BB673_clonesvsisolates.tsv\""
      ]
     },
     "metadata": {},
     "output_type": "display_data"
    }
   ],
   "source": [
    "CSV.write(joinpath(rdir, \"BB673_clonesvsisolates.tsv\"), clonesvsisolates; delim=\"\\t\")"
   ]
  },
  {
   "cell_type": "code",
   "execution_count": 54,
   "metadata": {},
   "outputs": [
    {
     "data": {
      "text/plain": [
       "\"/Users/ben/projects/Doran_etal_2022/_research/BB673_clonalitymetrics/BB673_missingcloneinfo.tsv\""
      ]
     },
     "metadata": {},
     "output_type": "display_data"
    }
   ],
   "source": [
    "CSV.write(joinpath(rdir, \"BB673_missingcloneinfo.tsv\"), mergedf[findall(ismissing.(mergedf.clones)), :]; delim=\"\\t\")"
   ]
  },
  {
   "cell_type": "code",
   "execution_count": null,
   "metadata": {},
   "outputs": [],
   "source": []
  }
 ],
 "metadata": {
  "kernelspec": {
   "display_name": "Julia 1.7.3",
   "language": "julia",
   "name": "julia-1.7"
  },
  "language_info": {
   "file_extension": ".jl",
   "mimetype": "application/julia",
   "name": "julia",
   "version": "1.7.3"
  },
  "orig_nbformat": 4
 },
 "nbformat": 4,
 "nbformat_minor": 2
}
