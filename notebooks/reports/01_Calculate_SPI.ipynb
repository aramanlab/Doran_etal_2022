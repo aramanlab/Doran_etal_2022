{
 "cells": [
  {
   "cell_type": "markdown",
   "metadata": {},
   "source": [
    "This first cell loads the packages that we will be using."
   ]
  },
  {
   "cell_type": "code",
   "execution_count": 1,
   "metadata": {},
   "outputs": [],
   "source": [
    "using DrWatson\n",
    "@quickactivate \"Doran_etal_2022\"\n",
    "\n",
    "using SPI\n",
    "using Muon\n",
    "using CSV, DataFrames"
   ]
  },
  {
   "cell_type": "markdown",
   "metadata": {},
   "source": [
    "For the purposes of this demo we will use a dataset of 630 biobank strains. Ideally, of course we would be working with a larger and more diverse dataset, such as the 7047 non-redundent reference proteomes."
   ]
  },
  {
   "cell_type": "code",
   "execution_count": 2,
   "metadata": {},
   "outputs": [],
   "source": [
    "uniprot = readh5ad(joinpath(datadir(), \"exp_raw\", \"UP7047\", \"2022-02-22_UP7047.h5ad\"))\n",
    "mtx = uniprot.X[:,:]; # load ogg count matrix into RAM memory\n",
    "# bmtx = Float64.(mtx .> 0); # ignore abundence"
   ]
  },
  {
   "cell_type": "code",
   "execution_count": 3,
   "metadata": {},
   "outputs": [
    {
     "name": "stdout",
     "output_type": "stream",
     "text": [
      "255.418351 seconds (332.30 k allocations: 2.567 GiB, 0.13% gc time, 0.05% compilation time)\n"
     ]
    }
   ],
   "source": [
    "@time usv = svd(mtx); # takes about 4-5 mins "
   ]
  },
  {
   "cell_type": "code",
   "execution_count": 4,
   "metadata": {},
   "outputs": [],
   "source": [
    "uniprot.obsm[\"LSVs\"] = usv.U\n",
    "uniprot.varm[\"RSVs\"] = usv.V\n",
    "uniprot.uns[\"SVs\"] = usv.S;"
   ]
  },
  {
   "cell_type": "code",
   "execution_count": 5,
   "metadata": {},
   "outputs": [],
   "source": [
    "usv1 = SVD(uniprot.obsm[\"LSVs\"][:,:], uniprot.uns[\"SVs\"][:], uniprot.varm[\"RSVs\"][:,:]');"
   ]
  },
  {
   "cell_type": "markdown",
   "metadata": {},
   "source": [
    "Here we check that our svd decomposition does in fact match the original matrix we factorized.\n",
    "\n",
    "i.e. we are checking $USV - M \\le \\epsilon $ "
   ]
  },
  {
   "cell_type": "code",
   "execution_count": 6,
   "metadata": {},
   "outputs": [
    {
     "data": {
      "text/plain": [
       "true"
      ]
     },
     "metadata": {},
     "output_type": "display_data"
    }
   ],
   "source": [
    "projectout(usv1) ≈ mtx"
   ]
  },
  {
   "cell_type": "markdown",
   "metadata": {},
   "source": [
    "we can also give projectout() a window to use `projectout(usv1, 1:10)` computes USV on first 10 PCs.\n",
    "\n",
    "## Calculating the SPI distance matrix\n",
    "\n",
    "The next step is to compute the SPI distance matrices. There are a few ways of calling this function.\n",
    "\n",
    "Remember that SPI relies on two conceptual parts, how we partition the spectum and how we compute the distance within that partition.\n",
    "\n",
    "Thus there are two main functions in SPI\n",
    "\n",
    "```julia\n",
    "getintervals(singularvalues)\n",
    "```\n",
    "\n",
    "and \n",
    "\n",
    "```julia\n",
    "calc_spi_mtx()\n",
    "```\n",
    "\n",
    "This is the entirety of `calc_spi_mtx()`\n",
    "\n",
    "```julia\n",
    "function calc_spi_mtx(vecs::AbstractMatrix{<:T}, vals::AbstractVector{<:T}, intervals::AbstractVector) where T<:Number\n",
    "    sprmtx = zeros(size(vecs,1), size(vecs,1))\n",
    "    for grp in intervals\n",
    "        sprmtx += Distances.pairwise(WeightedEuclidean(vals[grp]), vecs'[grp,:])\n",
    "    end\n",
    "    return sprmtx.^2\n",
    "end\n",
    "```\n",
    "\n",
    "There are a few different ways to call the `calc_spi_mtx()` function.\n",
    "\n",
    "We could just provide the full SVD object\n",
    "`dij = calc_spi_mtx(usv)`\n",
    "by default this will compute the rowwise distances.\n",
    "\n",
    "We could specify that we want the colwise distances by providing the full SVD object and an option to dispatch on the `V` matrix\n",
    "\n",
    "```julia\n",
    "dij = calc_spi_mtx(usv, SPI.RSVs) # will compute the colwise distances\n",
    "```\n",
    "\n",
    "Alternatively we can explicitly provide the vectors and values to the function. Along with a vector of Ranges that specify how to split the spectrum. "
   ]
  },
  {
   "cell_type": "markdown",
   "metadata": {},
   "source": [
    "If we wanted to not split the spectrum at all, the call would look like\n",
    "\n",
    "`calc_spi_mtx(usv.U, usv.S, [1:length(usv.S)])`\n",
    "\n",
    "Or if we wanted each component treated individually we could call\n",
    "\n",
    "`calc_spi_mtx(usv.U, usv.S, [n:n for n in 1:length(usv.S)])`\n",
    "\n",
    "But, for now we should stick with using the `getintervals()` function. \n",
    "\n",
    "This is the entirety of the `getintervals()`\n",
    "\n",
    "```julia\n",
    "function getintervals(S::AbstractVector{<:Number}; alpha=1.5, q=.75)\n",
    "    potentialbreaks = abs.(diff(log.(S.+1)))\n",
    "    θ = alpha * quantile(potentialbreaks, q)\n",
    "    breaks = findall(potentialbreaks .> θ) .+ 1\n",
    "    starts, ends = vcat(1, breaks), vcat(breaks.-1, length(S))\n",
    "    intervals = map((s,e)->s:e, starts, ends)\n",
    "    return intervals\n",
    "end\n",
    "```\n",
    "\n",
    "This function finds spectral partitions by computing the log difference between each subsequent singular\n",
    "value and by default selects the differences that are larger than `1.5 * Q3(differences)`\n",
    "\n",
    "i.e. finds breaks in the spectrum that explain far smaller scales of variance\n",
    "\n",
    "Args:\n",
    "* S = singular values of a SVD factorization\n",
    "* alpha = scalar multiple of `q`\n",
    "* q = which quantile of log differences to use; by default Q3 \n",
    "\n",
    "Returns:\n",
    "* AbstractVector{UnitRange} indices into S corresponding to the spectral partitions"
   ]
  },
  {
   "cell_type": "code",
   "execution_count": 7,
   "metadata": {},
   "outputs": [
    {
     "name": "stdout",
     "output_type": "stream",
     "text": [
      "436.517513 seconds (4.50 M allocations: 652.949 GiB, 10.54% gc time, 0.22% compilation time)\n"
     ]
    }
   ],
   "source": [
    "@time obs_dij = calc_spi_mtx(usv.U, usv.S, getintervals(usv.S)); # takes ~6min\n",
    "obs_dij ./ size(mtx, 2) # converts from appox num of \"mutations\" to \"mutations/nfeatures\"\n",
    "uniprot.obsp[\"SPI_distances\"] = obs_dij;"
   ]
  },
  {
   "cell_type": "code",
   "execution_count": 8,
   "metadata": {},
   "outputs": [
    {
     "name": "stdout",
     "output_type": "stream",
     "text": [
      "1286.527464 seconds (83.82 k allocations: 1.329 TiB, 6.38% gc time, 0.01% compilation time)\n"
     ]
    }
   ],
   "source": [
    "@time var_dij = calc_spi_mtx(usv.V, usv.S, getintervals(usv.S)); # takes ~20min\n",
    "uniprot.varp[\"SPI_distances\"] = var_dij;"
   ]
  },
  {
   "cell_type": "markdown",
   "metadata": {},
   "source": [
    "## We next will want to calculate a tree from the SPI distance matrix. \n",
    "\n",
    "So far I have been using basic hierarchical clustering functions.\n",
    "\n",
    "To connect hierarchical clustering to the field of phylogeny estimation. \n",
    "\n",
    "hclust with average linkage is equal to UPGMA (unweighted pair group method with arithmetic mean) tree forming\n",
    "\n",
    "Unfortunately this method has some bad assumptions about a constant rate of evolution, \n",
    "but is very simple to compute, and has worked so far on the UniProt and BioBank datasets I have been working with.\n",
    "\n",
    "https://en.wikipedia.org/wiki/UPGMA\n",
    "\n",
    "We can calculate the tree as so..."
   ]
  },
  {
   "cell_type": "code",
   "execution_count": 9,
   "metadata": {},
   "outputs": [],
   "source": [
    "obstree = hclust(obs_dij, linkage=:average, branchorder=:optimal);"
   ]
  },
  {
   "cell_type": "code",
   "execution_count": 10,
   "metadata": {},
   "outputs": [
    {
     "data": {
      "text/plain": [
       "(:merges, :heights, :order, :linkage)"
      ]
     },
     "metadata": {},
     "output_type": "display_data"
    }
   ],
   "source": [
    "fieldnames(typeof(obstree))"
   ]
  },
  {
   "cell_type": "code",
   "execution_count": 11,
   "metadata": {},
   "outputs": [
    {
     "name": "stdout",
     "output_type": "stream",
     "text": [
      "  0.621247 seconds (1.44 M allocations: 362.403 MiB, 7.94% gc time, 85.19% compilation time)\n"
     ]
    },
    {
     "data": {
      "text/plain": [
       "\"((((UP000023198:8.779049e+04,((UP000244959:8.151764e+04,((UP000020681:7.867282e+04,(((UP000006735:7.526238e+04,((UP000214646:7.438872e+04,(UP000004508:7.385921e+04,(((UP000000671:7.100427e+04,((UP000186474:5.273874e+04,UP000004095:5.273874e+04):1.797993e+04,(((UP000037\" ⋯ 281327 bytes ⋯ \"7e+03,UP000185464:8.087722e+04):6.404236e+02):1.377056e+03,UP000064967:8.289470e+04):4.895798e+03):7.908267e+02,(UP000189670:7.776935e+04,UP000037988:7.776935e+04):1.081197e+04):1.897709e+03,UP000293874:9.047903e+04):6.698245e+03,UP000003922:9.717728e+04):0.000000e+00;\""
      ]
     },
     "metadata": {},
     "output_type": "display_data"
    }
   ],
   "source": [
    "@time nwtreestring = nwstr(obstree, uniprot.obs_names.vals; labelinternalnodes=false)"
   ]
  },
  {
   "cell_type": "code",
   "execution_count": 12,
   "metadata": {},
   "outputs": [],
   "source": [
    "uniprot.uns[\"obs_spitree_newickstring\"] = nwtreestring;"
   ]
  },
  {
   "cell_type": "code",
   "execution_count": 13,
   "metadata": {},
   "outputs": [
    {
     "data": {
      "text/plain": [
       "\"average\""
      ]
     },
     "metadata": {},
     "output_type": "display_data"
    }
   ],
   "source": [
    "uniprot.obs[:,\"order\"] = obstree.order\n",
    "uniprot.uns[\"obsmerges\"] = obstree.merges\n",
    "uniprot.uns[\"heights\"] = obstree.heights\n",
    "uniprot.uns[\"treelinkage\"] = string(obstree.linkage)"
   ]
  },
  {
   "cell_type": "code",
   "execution_count": 14,
   "metadata": {},
   "outputs": [],
   "source": [
    "mkpath(joinpath(datadir(), \"exp_pro\", \"UP7047\"))\n",
    "writeh5ad(joinpath(datadir(), \"exp_pro\", \"UP7047\", \"2022-02-22_UP7047.h5ad\"), uniprot)\n"
   ]
  },
  {
   "cell_type": "markdown",
   "metadata": {},
   "source": [
    "So far we have compute the basic SPI tree, we may also want some measure of how statistically confident we are on each of the branches and merges we have predicted in the tree. That is best performed through a boot strap analysis. Where we sample with replacement the features and recompute the SPI distance matrix and tree."
   ]
  },
  {
   "cell_type": "markdown",
   "metadata": {},
   "source": [
    "For a bootstrap analysis run this script:\n",
    "\n",
    "```bash\n",
    "julia -p 5 scripts/computebootstraps.jl \\\n",
    "           -i data/exp_raw/UP7047/2022-02-22_UP7047.h5ad \\\n",
    "           -o _research/runSPIonUP7047rows \\\n",
    "           -b 100\n",
    "```"
   ]
  },
  {
   "cell_type": "code",
   "execution_count": 15,
   "metadata": {},
   "outputs": [],
   "source": [
    "# cd(projectdir())\n",
    "# run(`julia -p 5 scripts/computebootstraps.jl \\\n",
    "#     -i data/exp_raw/UP7047/2022-02-22_UP7047.h5ad \\\n",
    "#     -o _research/runSPIonUP7047rows \\\n",
    "#     -n 5`)"
   ]
  },
  {
   "cell_type": "code",
   "execution_count": null,
   "metadata": {},
   "outputs": [],
   "source": [
    "using Random: sample \n",
    "using Gotree_jll"
   ]
  },
  {
   "cell_type": "code",
   "execution_count": 33,
   "metadata": {},
   "outputs": [
    {
     "data": {
      "text/plain": [
       "1"
      ]
     },
     "metadata": {},
     "output_type": "display_data"
    }
   ],
   "source": [
    "Threads.nthreads()"
   ]
  },
  {
   "cell_type": "code",
   "execution_count": null,
   "metadata": {},
   "outputs": [],
   "source": [
    "nboot = 5\n",
    "boottrees = Vector{String}(undef, nboot)\n",
    "Threads.@threads for i in 1:nboot\n",
    "    nfeats = size(bmtx, 2)\n",
    "    colsmps = sample(1:nfeats, nfeats, replace=true)\n",
    "    tmpM = bmtx[:,colsmps]\n",
    "    vals, vecs = eigen(Matrix(tmpM * tmpM'))\n",
    "    dij = calc_spi_mtx(vecs, sqrt.(max.(vals, zero(eltype(vals)))))\n",
    "    dij = dij ./ nfeats\n",
    "    hc = hclust(dij, linkage=:average, branchorder=:optimal)\n",
    "    boottrees[i] = nwstr(hc, uniprot.obs_names.vals; labelinternalnodes=false)\n",
    "end"
   ]
  },
  {
   "cell_type": "code",
   "execution_count": null,
   "metadata": {},
   "outputs": [],
   "source": [
    "## write out SPI trees\n",
    "outputdir = mkpath(joinpath(datadir, \"exp_pro\", \"uniprot_spitrees\"))\n",
    "open(joinpath(outputdir, \"uniprot-tree.nw\"), \"w\") do io\n",
    "    println(io, nwtreestring)\n",
    "end\n",
    "open(joinpath(outputdir, \"uniprot-boottrees.nw\"), \"w\") do io\n",
    "    for btree in boottrees\n",
    "        println(io, btree)\n",
    "    end\n",
    "end"
   ]
  },
  {
   "cell_type": "code",
   "execution_count": null,
   "metadata": {},
   "outputs": [],
   "source": [
    "\n",
    "## calculate support\n",
    "run(pipeline(`$(gotree()) compute support tbe --silent \\\n",
    "    -i $(joinpath(outputdir, \"uniprot-tree.nw\")) \\\n",
    "    -b $(joinpath(outputdir, \"uniprot-boottrees.nw\")) \\\n",
    "    -o $(joinpath(outputdir, \"uniprot-supporttree.nw\"))`,\n",
    "    stderr=joinpath(outputdir, \"booster.log\")))"
   ]
  }
 ],
 "metadata": {
  "kernelspec": {
   "display_name": "Julia 1.7.2",
   "language": "julia",
   "name": "julia-1.7"
  },
  "language_info": {
   "file_extension": ".jl",
   "mimetype": "application/julia",
   "name": "julia",
   "version": "1.7.2"
  },
  "orig_nbformat": 4
 },
 "nbformat": 4,
 "nbformat_minor": 2
}
