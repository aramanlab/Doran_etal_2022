{
 "cells": [
  {
   "cell_type": "code",
   "execution_count": null,
   "metadata": {},
   "outputs": [],
   "source": [
    "using DrWatson\n",
    "@quickactivate \"Doran_etal_2022\"\n",
    "using Muon\n",
    "using Distances\n",
    "using StatsPlots\n",
    "using NewickTreeTools\n",
    "using Phylo\n",
    "using SPI\n",
    "using MAT\n",
    "using Statistics\n",
    "using UMAP"
   ]
  },
  {
   "cell_type": "code",
   "execution_count": null,
   "metadata": {},
   "outputs": [],
   "source": [
    "pdir = plotsdir(\"donor_orthogonality\")\n",
    "mkpath(pdir)"
   ]
  },
  {
   "cell_type": "code",
   "execution_count": null,
   "metadata": {},
   "outputs": [],
   "source": [
    "biobank = readh5mu(joinpath(datadir(), \"exp_pro\", \"BB673\", \"BB673.h5mu\"))\n",
    "uniprot = readh5ad(joinpath(datadir(), \"exp_pro\", \"UP7047\", \"2020_02_UP7047.h5ad\"));"
   ]
  },
  {
   "cell_type": "code",
   "execution_count": null,
   "metadata": {},
   "outputs": [],
   "source": [
    "# Match BioBank measurements to column order of UniProt\n",
    "bbmtx = zeros(size(biobank[\"oggs\"].X, 1), length(uniprot.var_names.vals));\n",
    "rawidxs = indexin(biobank[\"oggs\"].var_names.vals, uniprot.var_names.vals)\n",
    "bbmask = .!isnothing.(rawidxs)\n",
    "uporderedmask = filter(x->.!isnothing(x), rawidxs);\n",
    "bbmtx[:, uporderedmask] .= biobank[\"oggs\"].X[:, :][:, bbmask];"
   ]
  },
  {
   "cell_type": "code",
   "execution_count": null,
   "metadata": {},
   "outputs": [],
   "source": [
    "UPusv = SVD(uniprot.obsm[\"LSVs\"][:, :], uniprot.uns[\"SVs\"][:], uniprot.varm[\"RSVs\"][:, :]');"
   ]
  },
  {
   "cell_type": "code",
   "execution_count": null,
   "metadata": {},
   "outputs": [],
   "source": [
    "BBuhat = projectinLSV(bbmtx, UPusv);"
   ]
  },
  {
   "cell_type": "markdown",
   "metadata": {},
   "source": [
    "## Make M' and M'' and calculate variable OGGs"
   ]
  },
  {
   "cell_type": "code",
   "execution_count": null,
   "metadata": {},
   "outputs": [],
   "source": [
    "Mprime_spe = BBuhat[:, 1:90] * diagm(UPusv.S[1:90]) * UPusv.Vt[1:90, :];\n",
    "Mprime_don = BBuhat[:, 91:end] * diagm(UPusv.S[91:end]) * UPusv.Vt[91:end, :];"
   ]
  },
  {
   "cell_type": "code",
   "execution_count": null,
   "metadata": {},
   "outputs": [],
   "source": [
    "arespeciesvariable = replace(mapslices(var, Mprime_spe, dims=1)[:] .> 1, true=>\"is variable\", false=>\"is not variable\");\n",
    "aredonor_variable = replace(mapslices(var, Mprime_don, dims=1)[:] .> 1, true=>\"is variable\", false=>\"is not variable\");"
   ]
  },
  {
   "cell_type": "code",
   "execution_count": null,
   "metadata": {},
   "outputs": [],
   "source": [
    "whichspeciesOGGsarevariable = findall(mapslices(var, Mprime_spe, dims=1)[:] .> 1)\n",
    "whichdonorOGGsarevariable = findall(mapslices(var, Mprime_don, dims=1)[:] .> 1);"
   ]
  },
  {
   "cell_type": "code",
   "execution_count": null,
   "metadata": {},
   "outputs": [],
   "source": [
    "setdiff(whichspeciesOGGsarevariable, whichdonorOGGsarevariable)|>length,\n",
    "intersect(whichspeciesOGGsarevariable, whichdonorOGGsarevariable)|>length,\n",
    "setdiff(whichdonorOGGsarevariable, whichspeciesOGGsarevariable)|>length"
   ]
  },
  {
   "cell_type": "code",
   "execution_count": null,
   "metadata": {},
   "outputs": [],
   "source": [
    "129 / 177"
   ]
  },
  {
   "cell_type": "markdown",
   "metadata": {},
   "source": [
    "## Plot Variable OGG distributions"
   ]
  },
  {
   "cell_type": "code",
   "execution_count": null,
   "metadata": {},
   "outputs": [],
   "source": [
    "# groupcolors = [\"#B8A57D\" \"#02A3A3\" \"#A57DB8\"]\n",
    "groupcolors = [\"#B8A57D\" :lightgreen]"
   ]
  },
  {
   "cell_type": "code",
   "execution_count": null,
   "metadata": {},
   "outputs": [],
   "source": [
    "plot(ylabel=\"density\", xlabel=\"donor - species window variance (Log10 var(OGG))\")\n",
    "density!(log10.(mapslices(var, Mprime_don, dims=1)[:]) .- log10.(mapslices(var, Mprime_spe, dims=1)[:]), fill=0, label=\"\")"
   ]
  },
  {
   "cell_type": "code",
   "execution_count": null,
   "metadata": {},
   "outputs": [],
   "source": [
    "savefig(joinpath(pdir, \"donorminusspecieswindow_OGGvariancedistribution.pdf\"))"
   ]
  },
  {
   "cell_type": "code",
   "execution_count": null,
   "metadata": {},
   "outputs": [],
   "source": [
    "plot(ylabel=\"density\", xlabel=\"OGG variance (log10)\")\n",
    "density!(log10.(mapslices(var, Mprime_spe, dims=1)[:]), fill=0, alpha=.5, c=groupcolors[1], label=\"Species window\")\n",
    "density!(log10.(mapslices(var, Mprime_don, dims=1)[:]), fill=0, alpha=.5, c=groupcolors[2], label=\"Donor window\")"
   ]
  },
  {
   "cell_type": "code",
   "execution_count": null,
   "metadata": {},
   "outputs": [],
   "source": [
    "savefig(joinpath(pdir, \"donor-compared-to-species-window_OGGvariancedistribution.pdf\"))"
   ]
  },
  {
   "cell_type": "markdown",
   "metadata": {},
   "source": [
    "## Start with Umap Plots"
   ]
  },
  {
   "cell_type": "code",
   "execution_count": null,
   "metadata": {},
   "outputs": [],
   "source": [
    "partitions = getintervals(UPusv.S);\n",
    "# spidists_ogg = calc_spi_mtx(UPusv.V, UPusv.S, partitions);"
   ]
  },
  {
   "cell_type": "code",
   "execution_count": null,
   "metadata": {},
   "outputs": [],
   "source": [
    "# matwrite(datadir(\"exp_pro\", \"UP7047\", \"spidists_oggs.mat\"), Dict(\"spimtx\"=>spidists_ogg))\n",
    "spidists_ogg = matread(datadir(\"exp_pro\", \"UP7047\", \"spidists_oggs.mat\"))[\"spimtx\"] ./ 7047;"
   ]
  },
  {
   "cell_type": "code",
   "execution_count": null,
   "metadata": {},
   "outputs": [],
   "source": [
    "# spiogg_embedding = umap(spidists_ogg, 2; metric=:precomputed, n_epochs=300);\n",
    "# matwrite(datadir(\"exp_pro\", \"UP7047\", \"spidist_oggs_umap-embedding_nepochs=300.mat\"), Dict(\"embedding\"=>spiogg_embedding))\n",
    "spiogg_embedding = matread(datadir(\"exp_pro\", \"UP7047\", \"spidist_oggs_umap-embedding_nepochs=300.mat\"))[\"embedding\"]"
   ]
  },
  {
   "cell_type": "code",
   "execution_count": null,
   "metadata": {},
   "outputs": [],
   "source": [
    "plotlyjs()"
   ]
  },
  {
   "cell_type": "code",
   "execution_count": null,
   "metadata": {},
   "outputs": [],
   "source": [
    "classes = repeat([\"Not variable (BioBank)\"], size(UPusv.V, 1))\n",
    "classes[setdiff(whichspeciesOGGsarevariable, whichdonorOGGsarevariable)] .= \"Variable in species window\"\n",
    "classes[setdiff(whichdonorOGGsarevariable, whichspeciesOGGsarevariable)] .= \"Variable in donor window\"\n",
    "classes[intersect(whichdonorOGGsarevariable, whichspeciesOGGsarevariable)] .= \"Variable in both windows\";"
   ]
  },
  {
   "cell_type": "code",
   "execution_count": null,
   "metadata": {},
   "outputs": [],
   "source": [
    "notunknownOGGs = .!contains.(\"S\", uniprot.var.COG_categories);"
   ]
  },
  {
   "cell_type": "code",
   "execution_count": null,
   "metadata": {},
   "outputs": [],
   "source": [
    "plot(title=\"Full Spectrum (SPI dist UMAP)\", ylabel=\"Umap_2\", xlabel=\"Umap_1\")\n",
    "scatter!(spiogg_embedding[1, notunknownOGGs], spiogg_embedding[2,notunknownOGGs], \n",
    "    size=(900,800),\n",
    "    # group=uniprot.var.COG_categories,\n",
    "    # group=arephylumvariable,\n",
    "    group=classes[notunknownOGGs],\n",
    "    # marker_z=log10.(mapslices(var, Mprime_don, dims=1)[:]),\n",
    "    alpha=.5,\n",
    "    hover=(uniprot.var.og .* \": \" .* uniprot.var.description)[notunknownOGGs],\n",
    "    legend=:outerright,\n",
    "    c=windowcolors,\n",
    "    # c=:viridis\n",
    "    )"
   ]
  },
  {
   "cell_type": "code",
   "execution_count": null,
   "metadata": {},
   "outputs": [],
   "source": [
    "savefig(joinpath(pdir, \"SPIoggUMAP-fullspectrum-knownfunction.pdf\"))\n",
    "savefig(joinpath(pdir, \"SPIoggUMAP-fullspectrum-knownfunction.html\"))"
   ]
  },
  {
   "cell_type": "code",
   "execution_count": null,
   "metadata": {},
   "outputs": [],
   "source": [
    "plot(title=\"Full Spectrum (SPI dist UMAP)\", ylabel=\"Umap_2\", xlabel=\"Umap_1\")\n",
    "scatter!(spiogg_embedding[1, :], spiogg_embedding[2,:], \n",
    "    size=(900,800),\n",
    "    group=classes,\n",
    "    alpha=.5,\n",
    "    hover=uniprot.var.og .* \": \" .* uniprot.var.description,\n",
    "    legend=:outerright,\n",
    "    c=windowcolors,\n",
    "    )"
   ]
  },
  {
   "cell_type": "code",
   "execution_count": null,
   "metadata": {},
   "outputs": [],
   "source": [
    "savefig(joinpath(pdir, \"SPIoggUMAP-fullspectrum.pdf\"))\n",
    "savefig(joinpath(pdir, \"SPIoggUMAP-fullspectrum.html\"))"
   ]
  },
  {
   "cell_type": "code",
   "execution_count": null,
   "metadata": {},
   "outputs": [],
   "source": [
    "plot(title=\"Full Spectrum (SPI dist UMAP)\", ylabel=\"Umap_2\", xlabel=\"Umap_1\")\n",
    "scatter!(spiogg_embedding[1, :], spiogg_embedding[2,:], \n",
    "    size=(900,800),\n",
    "    marker_z=log10.(mapslices(var, Mprime_spe, dims=1)[:]),\n",
    "    alpha=.5,\n",
    "    hover=uniprot.var.og .* \": \" .* uniprot.var.description,\n",
    "    legend=:outerright,\n",
    "    c=:viridis\n",
    "    )"
   ]
  },
  {
   "cell_type": "code",
   "execution_count": null,
   "metadata": {},
   "outputs": [],
   "source": [
    "savefig(joinpath(pdir, \"SPIoggUMAP-variablilty-fullspectrum.pdf\"))\n",
    "savefig(joinpath(pdir, \"SPIoggUMAP-variablilty-fullspectrum.html\"))"
   ]
  },
  {
   "cell_type": "markdown",
   "metadata": {},
   "source": [
    "## Donor Window OGG UMAP"
   ]
  },
  {
   "cell_type": "code",
   "execution_count": null,
   "metadata": {},
   "outputs": [],
   "source": [
    "# spiogg_donorwindow = calc_spi_mtx(UPusv.V, UPusv.S, partitions[91:end]);\n",
    "# spiogg_donorwindow_embedding = umap(spiogg_donorwindow, 2; metric=:precomputed, n_epochs=300);\n",
    "# matwrite(datadir(\"exp_pro\", \"UP7047\", \"spiogg_donorwindow.mat\"), Dict(\"spimtx\"=>spiogg_donorwindow))\n",
    "# matwrite(datadir(\"exp_pro\", \"UP7047\", \"spiogg_donorwindow_embedding.mat\"), Dict(\"embedding\"=>spiogg_donorwindow_embedding))"
   ]
  },
  {
   "cell_type": "code",
   "execution_count": null,
   "metadata": {},
   "outputs": [],
   "source": [
    "spiogg_donorwindow = matread(datadir(\"exp_pro\", \"UP7047\", \"spiogg_donorwindow.mat\"))[\"spimtx\"]\n",
    "spiogg_donorwindow_embedding = matread(datadir(\"exp_pro\", \"UP7047\", \"spiogg_donorwindow_embedding.mat\"))[\"embedding\"]"
   ]
  },
  {
   "cell_type": "code",
   "execution_count": null,
   "metadata": {},
   "outputs": [],
   "source": [
    "xlims_don = extrema(spiogg_donorwindow_embedding[1, :]);\n",
    "ylims_don = extrema(spiogg_donorwindow_embedding[2, :]);\n",
    "# windowcolors=[\"#9b9b9b\" \"#311a77\" \"#1a7731\" \"#77311a\"];\n",
    "windowcolors=[\"#d8d8d8\" \"#e283d3\" :lightgreen  :aqua];"
   ]
  },
  {
   "cell_type": "code",
   "execution_count": null,
   "metadata": {},
   "outputs": [],
   "source": [
    "plot(title=\"Donor window (SPI dist UMAP)\", ylabel=\"Umap_2\", xlabel=\"Umap_1\")\n",
    "scatter!(spiogg_donorwindow_embedding[1, :], spiogg_donorwindow_embedding[2,:], \n",
    "    size=(950,800),\n",
    "    group=classes,\n",
    "    grid=false,\n",
    "    framestyle=:box,\n",
    "    ticks=:none,\n",
    "    tickdirection=:none,\n",
    "    margin=5Plots.Measures.mm,\n",
    "    alpha=.5,\n",
    "    hover=uniprot.var.og .* \": \" .* uniprot.var.description,\n",
    "    legend=:outerright,\n",
    "    c=windowcolors,\n",
    "    )"
   ]
  },
  {
   "cell_type": "code",
   "execution_count": null,
   "metadata": {},
   "outputs": [],
   "source": [
    "savefig(joinpath(pdir, \"SPIoggUMAP-donorwindow.pdf\"))\n",
    "savefig(joinpath(pdir, \"SPIoggUMAP-donorwindow.html\"))"
   ]
  },
  {
   "cell_type": "code",
   "execution_count": null,
   "metadata": {},
   "outputs": [],
   "source": [
    "subset_idx = findall(!=(\"Not variable (BioBank)\"), classes)\n",
    "plot(title=\"Donor window (SPI dist UMAP)\", ylabel=\"Umap_2\", xlabel=\"Umap_1\")\n",
    "p = scatter!(spiogg_donorwindow_embedding[1, subset_idx], spiogg_donorwindow_embedding[2,subset_idx], \n",
    "    size=(635,500),\n",
    "    group=classes[subset_idx],\n",
    "    framestyle=:box,\n",
    "    grid=false,\n",
    "    ticks=:none,\n",
    "    tickdirection=:none,\n",
    "    xlims=xlims_don,\n",
    "    ylims=ylims_don,\n",
    "    margin=5Plots.Measures.mm,\n",
    "    alpha=.5,\n",
    "    hover=uniprot.var.og .* \": \" .* uniprot.var.description,\n",
    "    legend=:outerright,\n",
    "    c=windowcolors[:, 2:end],\n",
    ")"
   ]
  },
  {
   "cell_type": "code",
   "execution_count": null,
   "metadata": {},
   "outputs": [],
   "source": [
    "savefig(joinpath(pdir, \"SPIoggUMAP-donorwindow-andvariable.pdf\"))\n",
    "savefig(joinpath(pdir, \"SPIoggUMAP-donorwindow-andvariable.html\"))"
   ]
  },
  {
   "cell_type": "code",
   "execution_count": null,
   "metadata": {},
   "outputs": [],
   "source": [
    "subset_idx = findall(==(\"Variable in donor window\"), classes)\n",
    "plot(title=\"Donor window (SPI dist UMAP)\", ylabel=\"Umap_2\", xlabel=\"Umap_1\")\n",
    "scatter!(spiogg_donorwindow_embedding[1, subset_idx], spiogg_donorwindow_embedding[2,subset_idx], \n",
    "    size=(950,800),\n",
    "    group=classes[subset_idx],\n",
    "    grid=false,\n",
    "    framestyle=:box,\n",
    "    ticks=:none,\n",
    "    # ticks=([0], [0]),\n",
    "    tickdirection=:none,\n",
    "    margin=5Plots.Measures.mm,\n",
    "    alpha=.5,\n",
    "    xlims=xlims_don,\n",
    "    ylims=ylims_don,\n",
    "    hover=uniprot.var.og .* \": \" .* uniprot.var.description,\n",
    "    legend=:outerright,\n",
    "    c=windowcolors[:, 3:end],\n",
    "    )"
   ]
  },
  {
   "cell_type": "code",
   "execution_count": null,
   "metadata": {},
   "outputs": [],
   "source": [
    "savefig(joinpath(pdir, \"SPIoggUMAP-donorwindow-andvariableindonorwindow.pdf\"))\n",
    "savefig(joinpath(pdir, \"SPIoggUMAP-donorwindow-andvariableindonorwindow.html\"))"
   ]
  },
  {
   "cell_type": "code",
   "execution_count": null,
   "metadata": {},
   "outputs": [],
   "source": [
    "subset_idx = findall(==(\"Variable in species window\"), classes)\n",
    "plot(title=\"Donor window (SPI dist UMAP)\", ylabel=\"Umap_2\", xlabel=\"Umap_1\")\n",
    "scatter!(spiogg_donorwindow_embedding[1, subset_idx], spiogg_donorwindow_embedding[2,subset_idx], \n",
    "    size=(950,800),\n",
    "    group=classes[subset_idx],\n",
    "    grid=false,\n",
    "    framestyle=:box,\n",
    "    # ticks=([0], [0]),\n",
    "    ticklabels=\"\",\n",
    "    tickdirection=:none,\n",
    "    margin=5Plots.Measures.mm,\n",
    "    alpha=.5,\n",
    "    xlims=xlims_don,\n",
    "    ylims=ylims_don,\n",
    "    hover=uniprot.var.og .* \": \" .* uniprot.var.description,\n",
    "    legend=:outerright,\n",
    "    c=windowcolors[:, 4:end],\n",
    "    )"
   ]
  },
  {
   "cell_type": "code",
   "execution_count": null,
   "metadata": {},
   "outputs": [],
   "source": [
    "savefig(joinpath(pdir, \"SPIoggUMAP-donorwindow-andvariableinspecieswindow.pdf\"))\n",
    "savefig(joinpath(pdir, \"SPIoggUMAP-donorwindow-andvariableinspecieswindow.html\"))"
   ]
  },
  {
   "cell_type": "code",
   "execution_count": null,
   "metadata": {},
   "outputs": [],
   "source": [
    "plot(title=\"Donor window (SPI dist UMAP)\", ylabel=\"Umap_2\", xlabel=\"Umap_1\")\n",
    "scatter!(spiogg_donorwindow_embedding[1, notunknownOGGs], spiogg_donorwindow_embedding[2,notunknownOGGs], \n",
    "    size=(900,800),\n",
    "    group=classes[notunknownOGGs],\n",
    "    alpha=.5,\n",
    "    hover=(uniprot.var.og .* \": \" .* uniprot.var.description)[notunknownOGGs],\n",
    "    legend=:outerright,\n",
    "    c=windowcolors,\n",
    "    )"
   ]
  },
  {
   "cell_type": "code",
   "execution_count": null,
   "metadata": {},
   "outputs": [],
   "source": [
    "savefig(joinpath(pdir, \"SPIoggUMAP-donorwindow-andknownfunction.pdf\"))\n",
    "savefig(joinpath(pdir, \"SPIoggUMAP-donorwindow-andknownfunction.html\"))"
   ]
  },
  {
   "cell_type": "code",
   "execution_count": null,
   "metadata": {},
   "outputs": [],
   "source": [
    "plot(title=\"Donor window (SPI dist UMAP)\", ylabel=\"Umap_2\", xlabel=\"Umap_1\")\n",
    "scatter!(spiogg_donorwindow_embedding[1, :], spiogg_donorwindow_embedding[2,:], \n",
    "    size=(900,800),\n",
    "    marker_z=log10.(mapslices(var, Mprime_spe, dims=1)[:]),\n",
    "    alpha=.5,\n",
    "    hover=uniprot.var.og .* \": \" .* uniprot.var.description,\n",
    "    legend=:outerright,\n",
    "    c=:viridis,\n",
    "    )"
   ]
  },
  {
   "cell_type": "code",
   "execution_count": null,
   "metadata": {},
   "outputs": [],
   "source": [
    "savefig(joinpath(pdir, \"SPIoggUMAP-donorwindow-cmapisvarience.pdf\"))\n",
    "savefig(joinpath(pdir, \"SPIoggUMAP-donorwindow-cmapisvarience.html\"))"
   ]
  },
  {
   "cell_type": "markdown",
   "metadata": {},
   "source": [
    "## Species Window OGG UMAP"
   ]
  },
  {
   "cell_type": "code",
   "execution_count": null,
   "metadata": {},
   "outputs": [],
   "source": [
    "# spiogg_specieswindow = calc_spi_mtx(UPusv.V, UPusv.S, partitions[2:90]);\n",
    "# spiogg_specieswindow_embedding = umap(spiogg_specieswindow, 2; metric=:precomputed, n_epochs=300);\n",
    "# matwrite(datadir(\"exp_pro\", \"UP7047\", \"spiogg_specieswindow.mat\"), Dict(\"spimtx\"=>spiogg_specieswindow))\n",
    "# matwrite(datadir(\"exp_pro\", \"UP7047\", \"spiogg_specieswindow_embedding.mat\"), Dict(\"embedding\"=>spiogg_specieswindow_embedding))\n",
    "spiogg_specieswindow = matread(datadir(\"exp_pro\", \"UP7047\", \"spiogg_specieswindow.mat\"))[\"spimtx\"]\n",
    "spiogg_specieswindow_embedding = matread(datadir(\"exp_pro\", \"UP7047\", \"spiogg_specieswindow_embedding.mat\"))[\"embedding\"];"
   ]
  },
  {
   "cell_type": "code",
   "execution_count": null,
   "metadata": {},
   "outputs": [],
   "source": [
    "xlims_spe = extrema(spiogg_specieswindow_embedding[1, :]);\n",
    "ylims_spe = extrema(spiogg_specieswindow_embedding[2, :]);\n",
    "# windowcolors=[\"#9b9b9b\" \"#311a77\" \"#1a7731\" \"#77311a\"];\n",
    "windowcolors=[\"#d8d8d8\" \"#e283d3\" :lightgreen  :aqua];"
   ]
  },
  {
   "cell_type": "code",
   "execution_count": null,
   "metadata": {},
   "outputs": [],
   "source": [
    "plot(title=\"Species window (SPI dist UMAP)\", ylabel=\"Umap_2\", xlabel=\"Umap_1\")\n",
    "scatter!(spiogg_specieswindow_embedding[1, :], spiogg_specieswindow_embedding[2,:], \n",
    "    size=(950,800),\n",
    "    group=classes,\n",
    "    grid=false,\n",
    "    framestyle=:box,\n",
    "    ticks=:none,\n",
    "    tickdirection=:none,\n",
    "    margin=5Plots.Measures.mm,\n",
    "    alpha=.5,\n",
    "    # xlims=xlims_spe,\n",
    "    # ylims=ylims_spe,\n",
    "    hover=uniprot.var.og .* \": \" .* uniprot.var.description,\n",
    "    legend=:outerright,\n",
    "    c=windowcolors,\n",
    "    )"
   ]
  },
  {
   "cell_type": "code",
   "execution_count": null,
   "metadata": {},
   "outputs": [],
   "source": [
    "savefig(joinpath(pdir, \"SPIoggUMAP-specieswindow.pdf\"))\n",
    "savefig(joinpath(pdir, \"SPIoggUMAP-specieswindow.html\"))"
   ]
  },
  {
   "cell_type": "code",
   "execution_count": null,
   "metadata": {},
   "outputs": [],
   "source": [
    "subset_idx = findall(!=(\"Not variable (BioBank)\"), classes)\n",
    "plot(title=\"Species window (SPI dist UMAP)\", ylabel=\"Umap_2\", xlabel=\"Umap_1\")\n",
    "scatter!(spiogg_specieswindow_embedding[1, subset_idx], spiogg_specieswindow_embedding[2,subset_idx], \n",
    "    size=(950,800),\n",
    "    group=classes[subset_idx],\n",
    "    grid=false,\n",
    "    framestyle=:box,\n",
    "    ticks=:none,\n",
    "    tickdirection=:none,\n",
    "    margin=5Plots.Measures.mm,\n",
    "    alpha=.5,\n",
    "    xlims=xlims_spe,\n",
    "    ylims=ylims_spe,\n",
    "    hover=uniprot.var.og .* \": \" .* uniprot.var.description,\n",
    "    legend=:outerright,\n",
    "    c=windowcolors[:, 2:end],\n",
    "    )"
   ]
  },
  {
   "cell_type": "code",
   "execution_count": null,
   "metadata": {},
   "outputs": [],
   "source": [
    "savefig(joinpath(pdir, \"SPIoggUMAP-specieswindow-andvariable.pdf\"))\n",
    "savefig(joinpath(pdir, \"SPIoggUMAP-specieswindow-andvariable.html\"))"
   ]
  },
  {
   "cell_type": "code",
   "execution_count": null,
   "metadata": {},
   "outputs": [],
   "source": [
    "subset_idx = findall(==(\"Variable in donor window\"), classes)\n",
    "plot(title=\"Species window (SPI dist UMAP)\", ylabel=\"Umap_2\", xlabel=\"Umap_1\")\n",
    "scatter!(spiogg_specieswindow_embedding[1, subset_idx], spiogg_specieswindow_embedding[2,subset_idx], \n",
    "    size=(950,800),\n",
    "    group=classes[subset_idx],\n",
    "    grid=false,\n",
    "    framestyle=:box,\n",
    "    ticks=:none,\n",
    "    tickdirection=:none,\n",
    "    margin=5Plots.Measures.mm,\n",
    "    alpha=.5,\n",
    "    xlims=xlims_spe,\n",
    "    ylims=ylims_spe,\n",
    "    hover=uniprot.var.og .* \": \" .* uniprot.var.description,\n",
    "    legend=:outerright,\n",
    "    c=windowcolors[:, 3:end],\n",
    "    )"
   ]
  },
  {
   "cell_type": "code",
   "execution_count": null,
   "metadata": {},
   "outputs": [],
   "source": [
    "savefig(joinpath(pdir, \"SPIoggUMAP-specieswindow-andvariableindonorwindow.pdf\"))\n",
    "savefig(joinpath(pdir, \"SPIoggUMAP-specieswindow-andvariableindonorwindow.html\"))"
   ]
  },
  {
   "cell_type": "code",
   "execution_count": null,
   "metadata": {},
   "outputs": [],
   "source": [
    "subset_idx = findall(==(\"Variable in species window\"), classes)\n",
    "plot(title=\"Species window (SPI dist UMAP)\", ylabel=\"Umap_2\", xlabel=\"Umap_1\")\n",
    "scatter!(spiogg_specieswindow_embedding[1, subset_idx], spiogg_specieswindow_embedding[2,subset_idx], \n",
    "    size=(950,800),\n",
    "    group=classes[subset_idx],\n",
    "    grid=false,\n",
    "    framestyle=:box,\n",
    "    ticks=:none,\n",
    "    tickdirection=:none,\n",
    "    margin=5Plots.Measures.mm,\n",
    "    alpha=.5,\n",
    "    xlims=xlims_spe,\n",
    "    ylims=ylims_spe,\n",
    "    hover=uniprot.var.og .* \": \" .* uniprot.var.description,\n",
    "    legend=:outerright,\n",
    "    c=windowcolors[:, 4:end],\n",
    "    )"
   ]
  },
  {
   "cell_type": "code",
   "execution_count": null,
   "metadata": {},
   "outputs": [],
   "source": [
    "savefig(joinpath(pdir, \"SPIoggUMAP-specieswindow-andvariableinspecieswindow.pdf\"))\n",
    "savefig(joinpath(pdir, \"SPIoggUMAP-specieswindow-andvariableinspecieswindow.html\"))"
   ]
  },
  {
   "cell_type": "code",
   "execution_count": null,
   "metadata": {},
   "outputs": [],
   "source": [
    "plot(title=\"Species window (SPI dist UMAP)\", ylabel=\"Umap_2\", xlabel=\"Umap_1\")\n",
    "scatter!(spiogg_specieswindow_embedding[1, notunknownOGGs], spiogg_specieswindow_embedding[2,notunknownOGGs], \n",
    "    size=(900,800),\n",
    "    group=classes[notunknownOGGs],\n",
    "    alpha=.5,\n",
    "    hover=(uniprot.var.og .* \": \" .* uniprot.var.description)[notunknownOGGs],\n",
    "    legend=:outerright,\n",
    "    c=windowcolors,\n",
    "    )"
   ]
  },
  {
   "cell_type": "code",
   "execution_count": null,
   "metadata": {},
   "outputs": [],
   "source": [
    "savefig(joinpath(pdir, \"SPIoggUMAP-specieswindow-andknownfunction.pdf\"))\n",
    "savefig(joinpath(pdir, \"SPIoggUMAP-specieswindow-andknownfunction.html\"))"
   ]
  },
  {
   "cell_type": "code",
   "execution_count": null,
   "metadata": {},
   "outputs": [],
   "source": [
    "plot(title=\"Species window (SPI dist UMAP)\", ylabel=\"Umap_2\", xlabel=\"Umap_1\")\n",
    "scatter!(spiogg_specieswindow_embedding[1, :], spiogg_specieswindow_embedding[2,:], \n",
    "    size=(900,800),\n",
    "    marker_z=log10.(mapslices(var, Mprime_spe, dims=1)[:]),\n",
    "    alpha=.5,\n",
    "    hover=uniprot.var.og .* \": \" .* uniprot.var.description,\n",
    "    legend=:outerright,\n",
    "    c=:viridis\n",
    "    )"
   ]
  },
  {
   "cell_type": "code",
   "execution_count": null,
   "metadata": {},
   "outputs": [],
   "source": [
    "savefig(joinpath(pdir, \"SPIoggUMAP-specieswindow-cmapisvarience.pdf\"))\n",
    "savefig(joinpath(pdir, \"SPIoggUMAP-specieswindow-cmapisvarience.html\"))"
   ]
  },
  {
   "cell_type": "markdown",
   "metadata": {},
   "source": [
    "## Plot variable OGGs"
   ]
  },
  {
   "cell_type": "code",
   "execution_count": null,
   "metadata": {},
   "outputs": [],
   "source": [
    "windowcolors=[\"#9b9b9b\" \"#77311a\" \"#1a7731\"]"
   ]
  },
  {
   "cell_type": "code",
   "execution_count": null,
   "metadata": {},
   "outputs": [],
   "source": [
    "allVariableOGGs = vcat(\n",
    "     setdiff(whichspeciesOGGsarevariable, whichdonorOGGsarevariable),\n",
    "     intersect(whichdonorOGGsarevariable, whichspeciesOGGsarevariable),\n",
    "     setdiff(whichdonorOGGsarevariable, whichspeciesOGGsarevariable),\n",
    "     );"
   ]
  },
  {
   "cell_type": "code",
   "execution_count": null,
   "metadata": {},
   "outputs": [],
   "source": [
    "(\n",
    "setdiff(whichspeciesOGGsarevariable, whichdonorOGGsarevariable)|>length,\n",
    "intersect(whichdonorOGGsarevariable, whichspeciesOGGsarevariable)|>length,\n",
    "setdiff(whichdonorOGGsarevariable, whichspeciesOGGsarevariable)|>length,\n",
    ")"
   ]
  },
  {
   "cell_type": "code",
   "execution_count": null,
   "metadata": {},
   "outputs": [],
   "source": [
    "spe_only = setdiff(whichspeciesOGGsarevariable, whichdonorOGGsarevariable)\n",
    "sp_n_don = intersect(whichdonorOGGsarevariable, whichspeciesOGGsarevariable)\n",
    "don_only = setdiff(whichdonorOGGsarevariable, whichspeciesOGGsarevariable);"
   ]
  },
  {
   "cell_type": "code",
   "execution_count": null,
   "metadata": {},
   "outputs": [],
   "source": [
    "plt_spe_var = hcat(\n",
    "    mapslices(var, bbmtx[:, spe_only], dims=1)[:],\n",
    "    mapslices(var, Mprime_spe[:, spe_only], dims=1)[:],\n",
    "    mapslices(var, Mprime_don[:, spe_only], dims=1)[:],\n",
    ");\n",
    "plt_bth_var = hcat(\n",
    "    mapslices(var, bbmtx[:, sp_n_don], dims=1)[:],\n",
    "    mapslices(var, Mprime_spe[:, sp_n_don], dims=1)[:],\n",
    "    mapslices(var, Mprime_don[:, sp_n_don], dims=1)[:],\n",
    ");\n",
    "plt_don_var = hcat(\n",
    "    mapslices(var, bbmtx[:, don_only], dims=1)[:],\n",
    "    mapslices(var, Mprime_spe[:, don_only], dims=1)[:],\n",
    "    mapslices(var, Mprime_don[:, don_only], dims=1)[:],\n",
    ");"
   ]
  },
  {
   "cell_type": "code",
   "execution_count": null,
   "metadata": {},
   "outputs": [],
   "source": [
    "plot(log10.(plt_spe_var[sortperm(plt_spe_var[:, 1]), :]), \n",
    "    title=\"variance order for species only OGGs\",\n",
    "    legend=:topleft,\n",
    "    ylims=(-3,3),\n",
    "    labels=[\"raw OGG counts\" \"M' Species window\" \"M'' Donor window\"],\n",
    "    c=windowcolors\n",
    "    )"
   ]
  },
  {
   "cell_type": "code",
   "execution_count": null,
   "metadata": {},
   "outputs": [],
   "source": [
    "savefig(joinpath(pdir, \"variance-order-for-species-only-OGGs.pdf\"))"
   ]
  },
  {
   "cell_type": "code",
   "execution_count": null,
   "metadata": {},
   "outputs": [],
   "source": [
    "plot(log10.(plt_bth_var[sortperm(plt_bth_var[:, 1]), :]), \n",
    "    title=\"variance order for variable in both window OGGs\",\n",
    "    ylims=(-3,3),\n",
    "    legend=:topleft,\n",
    "    labels=[\"raw OGG counts\" \"M' Species window\" \"M'' Donor window\"],\n",
    "    c=windowcolors,\n",
    ")"
   ]
  },
  {
   "cell_type": "code",
   "execution_count": null,
   "metadata": {},
   "outputs": [],
   "source": [
    "savefig(joinpath(pdir, \"variance-order-for-variable-in-both-window-OGGs.pdf\"))"
   ]
  },
  {
   "cell_type": "code",
   "execution_count": null,
   "metadata": {},
   "outputs": [],
   "source": [
    "plot(log10.(plt_don_var[sortperm(plt_don_var[:, 1]), :]), \n",
    "    title=\"variance order for donor only OGGs\",\n",
    "    legend=:topleft,\n",
    "    ylims=(-3,3),\n",
    "    labels=[\"raw OGG counts\" \"M' Species window\" \"M'' Donor window\"],\n",
    "    c=windowcolors\n",
    ")"
   ]
  },
  {
   "cell_type": "code",
   "execution_count": null,
   "metadata": {},
   "outputs": [],
   "source": [
    "savefig(joinpath(pdir, \"variance-order-for-donor-only-OGGs.pdf\"))"
   ]
  },
  {
   "cell_type": "code",
   "execution_count": null,
   "metadata": {},
   "outputs": [],
   "source": [
    "allVariableOGGs = vcat(\n",
    "     spe_only[sortperm(plt_spe_var[:, 1])],\n",
    "     sp_n_don[sortperm(plt_bth_var[:, 1])],\n",
    "     don_only[sortperm(plt_don_var[:, 1])],\n",
    "     );"
   ]
  },
  {
   "cell_type": "markdown",
   "metadata": {},
   "source": [
    "## Count Heatmaps"
   ]
  },
  {
   "cell_type": "code",
   "execution_count": null,
   "metadata": {},
   "outputs": [],
   "source": [
    "sporder = sortperm(biobank.obs.species);"
   ]
  },
  {
   "cell_type": "code",
   "execution_count": null,
   "metadata": {},
   "outputs": [],
   "source": [
    "spedondf = biobank.obs[:, [:phylum, :class, :order, :family, :genus, :species, :donor]] |>\n",
    "    df->sort(df, [:phylum, :class, :order, :family, :genus, :species, :donor]) |>\n",
    "    df->df[:, [:species, :donor]];"
   ]
  },
  {
   "cell_type": "code",
   "execution_count": null,
   "metadata": {},
   "outputs": [],
   "source": [
    "roworder = biobank.obs[:, [:phylum, :class, :order, :family, :genus, :species, :donor]] |>\n",
    "    df->sortperm(df, [:phylum, :class, :order, :family, :genus, :species, :donor]);"
   ]
  },
  {
   "cell_type": "code",
   "execution_count": null,
   "metadata": {},
   "outputs": [],
   "source": [
    "r_idxs = occursin.(\"luti\", biobank.obs.species) |> findall\n",
    "b_idxs = occursin.(\"uniformis\", biobank.obs.species) |> findall;\n",
    "# popat!(b_vulgatus_idxs, occursin.(\"MSK.7.24\", biobank.obs_names[b_vulgatus_idxs]) |> findfirst)\n",
    "donorid = biobank.obs_names |>\n",
    "    v -> split.(v, \".\") |>\n",
    "    v -> getindex.(v, 2) |>\n",
    "    v -> parse.(Int,v)\n",
    "\n",
    "b_idxs = b_idxs[sortperm(donorid[b_idxs])]\n",
    "r_idxs = r_idxs[sortperm(donorid[r_idxs])]\n",
    "\n",
    "luti_uniformis_idxs = union(b_idxs,  r_idxs);"
   ]
  },
  {
   "cell_type": "code",
   "execution_count": null,
   "metadata": {},
   "outputs": [],
   "source": [
    "clims = bbmtx[roworder, allVariableOGGs] |> extrema |> x->abs.(x) |> maximum |> x-> (-x, x)"
   ]
  },
  {
   "cell_type": "code",
   "execution_count": null,
   "metadata": {},
   "outputs": [],
   "source": [
    "heatmap(bbmtx[roworder, allVariableOGGs], c=:bwr, clims=clims, size=(1200,300))\n",
    "vline!([129, 296+129].+0.5, lw=.5, c=:black, label=\"\")"
   ]
  },
  {
   "cell_type": "code",
   "execution_count": null,
   "metadata": {},
   "outputs": [],
   "source": [
    "savefig(joinpath(pdir, \"heatmap_rawOGG_variableOGGsinspeciesordonorwindow.pdf\"))"
   ]
  },
  {
   "cell_type": "code",
   "execution_count": null,
   "metadata": {},
   "outputs": [],
   "source": [
    "heatmap(bbmtx[luti_uniformis_idxs, allVariableOGGs], c=:bwr, clims=clims, size=(1200,300))\n",
    "vline!([129, 296+129].+0.5, lw=.5, c=:black, label=\"\")"
   ]
  },
  {
   "cell_type": "code",
   "execution_count": null,
   "metadata": {},
   "outputs": [],
   "source": [
    "savefig(joinpath(pdir, \"heatmap_rawOGG_lutianduniformis_variableOGGsinspeciesordonorwindow.pdf\"))"
   ]
  },
  {
   "cell_type": "code",
   "execution_count": null,
   "metadata": {},
   "outputs": [],
   "source": [
    "clims_spe = Mprime_spe[roworder, allVariableOGGs] |> extrema |> x->abs.(x) |> maximum |> x-> (-x, x)"
   ]
  },
  {
   "cell_type": "code",
   "execution_count": null,
   "metadata": {},
   "outputs": [],
   "source": [
    "heatmap(Mprime_spe[roworder, allVariableOGGs], c=:bwr, clims=clims_spe, size=(1200,300))\n",
    "vline!([129, 296+129].+0.5, lw=.5, c=:black, label=\"\")"
   ]
  },
  {
   "cell_type": "code",
   "execution_count": null,
   "metadata": {},
   "outputs": [],
   "source": [
    "savefig(joinpath(pdir, \"heatmap_specieswindowOGG_variableOGGsinspeciesordonorwindow.pdf\"))"
   ]
  },
  {
   "cell_type": "code",
   "execution_count": null,
   "metadata": {},
   "outputs": [],
   "source": [
    "heatmap(Mprime_spe[luti_uniformis_idxs, allVariableOGGs], c=:bwr, clims=clims_spe, size=(1200,300))\n",
    "vline!([129, 296+129].+0.5, lw=.5, c=:black, label=\"\")"
   ]
  },
  {
   "cell_type": "code",
   "execution_count": null,
   "metadata": {},
   "outputs": [],
   "source": [
    "savefig(joinpath(pdir, \"heatmap_specieswindowOGG_lutianduniformis_variableOGGsinspeciesordonorwindow.pdf\"))"
   ]
  },
  {
   "cell_type": "code",
   "execution_count": null,
   "metadata": {},
   "outputs": [],
   "source": [
    "clims_don = Mprime_don[roworder, allVariableOGGs] |> extrema |> x->abs.(x) |> maximum |> x-> (-x, x)"
   ]
  },
  {
   "cell_type": "code",
   "execution_count": null,
   "metadata": {},
   "outputs": [],
   "source": [
    "heatmap(Mprime_don[roworder, allVariableOGGs], c=:bwr, clims=clims_don, size=(1200,300))\n",
    "vline!([129, 296+129].+0.5, lw=.5, c=:black, label=\"\")"
   ]
  },
  {
   "cell_type": "code",
   "execution_count": null,
   "metadata": {},
   "outputs": [],
   "source": [
    "savefig(joinpath(pdir, \"heatmap_donorwindowOGG_variableOGGsinspeciesordonorwindow.pdf\"))"
   ]
  },
  {
   "cell_type": "code",
   "execution_count": null,
   "metadata": {},
   "outputs": [],
   "source": [
    "heatmap(Mprime_don[luti_uniformis_idxs, allVariableOGGs], c=:bwr, clims=clims_don, size=(1200,300))\n",
    "vline!([129, 296+129].+0.5, lw=.5, c=:black, label=\"\")"
   ]
  },
  {
   "cell_type": "code",
   "execution_count": null,
   "metadata": {},
   "outputs": [],
   "source": [
    "savefig(joinpath(pdir, \"heatmap_donorwindowOGG_lutianduniformis_variableOGGsinspeciesordonorwindow.pdf\"))"
   ]
  },
  {
   "cell_type": "markdown",
   "metadata": {},
   "source": [
    "## Species & Donor Heatmap"
   ]
  },
  {
   "cell_type": "code",
   "execution_count": null,
   "metadata": {},
   "outputs": [],
   "source": [
    "spedondf = biobank.obs[:, [:phylum, :class, :order, :family, :genus, :species, :donor]] |>\n",
    "    df->sort(df, [:phylum, :class, :order, :family, :genus, :species, :donor]) |>\n",
    "    df->df[:, [:species, :donor]];"
   ]
  },
  {
   "cell_type": "code",
   "execution_count": null,
   "metadata": {},
   "outputs": [],
   "source": [
    "heatmap(Matrix(spedondf), c=:glasbey_hv_n256)"
   ]
  },
  {
   "cell_type": "code",
   "execution_count": null,
   "metadata": {},
   "outputs": [],
   "source": [
    "pdir"
   ]
  },
  {
   "cell_type": "code",
   "execution_count": null,
   "metadata": {},
   "outputs": [],
   "source": [
    "savefig(joinpath(pdir, \"SpeciesDonor_heatmap_full.pdf\"))"
   ]
  },
  {
   "cell_type": "markdown",
   "metadata": {},
   "source": [
    "## Chi Sq tests for difference of function"
   ]
  },
  {
   "cell_type": "code",
   "execution_count": null,
   "metadata": {},
   "outputs": [],
   "source": [
    "using FreqTables\n",
    "using HypothesisTests\n",
    "using MultipleTesting"
   ]
  },
  {
   "cell_type": "code",
   "execution_count": null,
   "metadata": {},
   "outputs": [],
   "source": [
    "props = freqtable(uniprot.var.COG_categories, classes);"
   ]
  },
  {
   "cell_type": "code",
   "execution_count": null,
   "metadata": {},
   "outputs": [],
   "source": [
    "propsdf = hcat(DataFrame(\"categories\"=>props.dicts[1]|>names), DataFrame(props.array, props.dicts[2]|>names));"
   ]
  },
  {
   "cell_type": "code",
   "execution_count": null,
   "metadata": {},
   "outputs": [],
   "source": [
    "pltdf = propsdf[findall((propsdf[:, 4] .> 0) .|| (propsdf[:, 5] .> 0)), :]"
   ]
  },
  {
   "cell_type": "code",
   "execution_count": null,
   "metadata": {},
   "outputs": [],
   "source": [
    "thetas = vec(sum(Matrix(pltdf[:, [5,4]]), dims=1)./sum(Matrix(pltdf[:, [5,4]])))"
   ]
  },
  {
   "cell_type": "code",
   "execution_count": null,
   "metadata": {},
   "outputs": [],
   "source": [
    "Matrix(pltdf[[1], [5,4]])[:]"
   ]
  },
  {
   "cell_type": "code",
   "execution_count": null,
   "metadata": {},
   "outputs": [],
   "source": [
    "fieldnames(typeof(ChisqTest([8, 18], thetas)))"
   ]
  },
  {
   "cell_type": "code",
   "execution_count": null,
   "metadata": {},
   "outputs": [],
   "source": [
    "ChisqTest([8, 18], thetas)"
   ]
  },
  {
   "cell_type": "code",
   "execution_count": null,
   "metadata": {},
   "outputs": [],
   "source": [
    "0.05 / 31"
   ]
  },
  {
   "cell_type": "code",
   "execution_count": null,
   "metadata": {},
   "outputs": [],
   "source": [
    "pvals = mapslices(Matrix(pltdf[:, [5,4]]), dims=2) do row\n",
    "    pvalue(ChisqTest(row, thetas))\n",
    "end[:]\n",
    "pvals_bonferroni = adjust(pvals, Bonferroni())\n",
    "pvals_bh = adjust(pvals, BenjaminiHochberg());"
   ]
  },
  {
   "cell_type": "code",
   "execution_count": null,
   "metadata": {},
   "outputs": [],
   "source": [
    "pltdf.categories[pvals_bonferroni]"
   ]
  },
  {
   "cell_type": "code",
   "execution_count": null,
   "metadata": {},
   "outputs": [],
   "source": [
    "plot(yticks=(1:nrow(pltdf), pltdf.categories),\n",
    "     xticks=(1:2, names(pltdf)[[5,4]]),\n",
    "     tickdirection=:out)\n",
    "heatmap!(Matrix(pltdf[:, [5,4]]), c=:grayC)"
   ]
  }
 ],
 "metadata": {
  "kernelspec": {
   "display_name": "Julia 1.7.3",
   "language": "julia",
   "name": "julia-1.7"
  },
  "language_info": {
   "file_extension": ".jl",
   "mimetype": "application/julia",
   "name": "julia",
   "version": "1.7.3"
  },
  "orig_nbformat": 4,
  "vscode": {
   "interpreter": {
    "hash": "8e881f04217c987ea61fa756d7120187319d47325ab01e21fc1bbf106967f466"
   }
  }
 },
 "nbformat": 4,
 "nbformat_minor": 2
}
