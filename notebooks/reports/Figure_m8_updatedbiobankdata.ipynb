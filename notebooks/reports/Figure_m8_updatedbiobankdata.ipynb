{
 "cells": [
  {
   "cell_type": "code",
   "execution_count": 1,
   "metadata": {},
   "outputs": [],
   "source": [
    "using DrWatson\n",
    "@quickactivate \"Doran_etal_2022\"\n",
    "\n",
    "using SPI\n",
    "using StatsBase\n",
    "using CSV, DataFrames, Muon"
   ]
  },
  {
   "cell_type": "code",
   "execution_count": 2,
   "metadata": {},
   "outputs": [
    {
     "data": {
      "text/plain": [
       "\"/Users/ben/projects/Doran_etal_2022/data/exp_pro/BB728\""
      ]
     },
     "metadata": {},
     "output_type": "display_data"
    }
   ],
   "source": [
    "rdir = datadir(\"exp_pro\", \"BB728\") |> mkpath"
   ]
  },
  {
   "cell_type": "code",
   "execution_count": 3,
   "metadata": {},
   "outputs": [],
   "source": [
    "biobankdf = CSV.read(datadir(\"exp_raw\",\"BB728\",\"BB728_commensal_metabolomics_ogg_matrix_20220713.csv\"), DataFrame; header=1, missingstring=\"NA\");\n",
    "bb673obs = CSV.read(datadir(\"exp_raw\",\"BB673\",\"BBIDS.csv\"), DataFrame; header=1);"
   ]
  },
  {
   "cell_type": "code",
   "execution_count": 4,
   "metadata": {},
   "outputs": [],
   "source": [
    "obscols = 1:8\n",
    "relcols = 9:58\n",
    "dmmcols = 59:68\n",
    "oggcols = 69:11316;"
   ]
  },
  {
   "cell_type": "code",
   "execution_count": 5,
   "metadata": {},
   "outputs": [
    {
     "data": {
      "text/plain": [
       "86"
      ]
     },
     "metadata": {},
     "output_type": "display_data"
    }
   ],
   "source": [
    "# only rel cols are missing values\n",
    "Matrix(biobankdf[:, relcols]) |>\n",
    "    x-> sum(ismissing.(x))"
   ]
  },
  {
   "cell_type": "code",
   "execution_count": 6,
   "metadata": {},
   "outputs": [],
   "source": [
    "BBIDs = biobankdf.ID;\n",
    "bbnames = names(biobankdf);\n",
    "\n",
    "bbtaxa = biobankdf[:, obscols];\n",
    "bbtaxa[:, \"donor\"] = BBIDs |> \n",
    "    x->split.(x, \".\") |>\n",
    "    x->getindex.(x, 2)\n",
    "bbtaxa[:, \"inBB673\"] = .!isnothing.(indexin(biobankdf.ID, first.(split.(bb673obs.BBID, \"_\"))));\n",
    "\n",
    "bbogg = Matrix(biobankdf[:, oggcols]);\n",
    "\n",
    "bbrelraw = coalesce.(Matrix(biobankdf[:, relcols]), 1.0);\n",
    "bbrel = mapslices(c->log2.(c), bbrelraw; dims=1);\n",
    "\n",
    "bbdmmraw = Matrix(biobankdf[:, dmmcols]);\n",
    "bbdmm = mapslices(StatsBase.zscore, bbdmmraw; dims=1);"
   ]
  },
  {
   "cell_type": "code",
   "execution_count": 7,
   "metadata": {},
   "outputs": [
    {
     "data": {
      "text/plain": [
       "MuData object 728 ✕ 11308\n",
       "└ metabolites_foldchange\n",
       "  AnnData object 728 ✕ 50\n",
       "└ metabolites_millimolar\n",
       "  AnnData object 728 ✕ 10\n",
       "└ oggs\n",
       "  AnnData object 728 ✕ 11248"
      ]
     },
     "metadata": {},
     "output_type": "display_data"
    }
   ],
   "source": [
    "biobank_ogg = AnnData(X=bbogg, obs_names=BBIDs, var_names=bbnames[oggcols])\n",
    "biobank_ogg.var = DataFrame(\n",
    "    :ID=>bbnames[oggcols],\n",
    "    :ispresent=>mapslices(x->sum(x)>0, biobank_ogg.X, dims=1)|>vec,\n",
    "    )\n",
    "\n",
    "biobank_metabolite_fc = AnnData(X=bbrel, obs_names=BBIDs, var_names=bbnames[relcols])\n",
    "biobank_metabolite_fc.layers[\"raw\"] = bbrelraw\n",
    "\n",
    "biobank_metabolite_mM = AnnData(X=bbdmm, obs_names=BBIDs, var_names=bbnames[dmmcols])\n",
    "biobank_metabolite_mM.layers[\"raw\"] = bbdmmraw\n",
    "\n",
    "biobank = MuData(mod=Dict(\n",
    "    \"oggs\"=>biobank_ogg, \n",
    "    \"metabolites_foldchange\"=>biobank_metabolite_fc,\n",
    "    \"metabolites_millimolar\"=>biobank_metabolite_mM,\n",
    "    ))\n",
    "biobank.obs = coalesce.(bbtaxa, \"\")\n",
    "biobank"
   ]
  },
  {
   "cell_type": "code",
   "execution_count": 8,
   "metadata": {},
   "outputs": [],
   "source": [
    "uniprot = readh5ad(datadir(\"exp_pro\", \"UP7047\", \"2020_02_UP7047.h5ad\"));\n",
    "UPusv = SVD(uniprot.obsm[\"LSVs\"][:, :], uniprot.uns[\"SVs\"][:], uniprot.varm[\"RSVs\"][:, :]');"
   ]
  },
  {
   "cell_type": "code",
   "execution_count": 9,
   "metadata": {},
   "outputs": [],
   "source": [
    "rawidxs = indexin(biobank[:oggs].var_names.vals, uniprot.var_names.vals)\n",
    "bbmask =  .!isnothing.(rawidxs)\n",
    "biobank[:oggs].var[:, \"isinuniprot\"] = bbmask;\n",
    "\n",
    "bbmtx = zeros(size(biobank,1), size(uniprot, 2));\n",
    "bbmtx[:, filter(x->.!isnothing.(x), rawidxs)] .= bbogg[:, bbmask];"
   ]
  },
  {
   "cell_type": "code",
   "execution_count": 19,
   "metadata": {},
   "outputs": [],
   "source": [
    "biobank[\"UPorder_oggs\"] = AnnData(X=bbmtx, obs_names=BBIDs, var_names=uniprot.var_names.vals);\n",
    "biobank[\"UPorder_oggs\"].var = DataFrame(\n",
    "    :ID=>uniprot.var_names.vals,\n",
    "    :ispresent=>mapslices(x->sum(x)>0, bbmtx, dims=1)|>vec,\n",
    ");"
   ]
  },
  {
   "cell_type": "code",
   "execution_count": 20,
   "metadata": {},
   "outputs": [],
   "source": [
    "biobank[:UPorder_oggs].obsm[\"inferredLSVs\"] = projectinLSV(bbmtx, UPusv);\n",
    "biobank[:UPorder_oggs].varm[\"UP_RSVs\"] = UPusv.V;\n",
    "biobank[:UPorder_oggs].uns[\"UP_SVs\"] = UPusv.S;\n"
   ]
  },
  {
   "cell_type": "code",
   "execution_count": 21,
   "metadata": {},
   "outputs": [],
   "source": [
    "BBuhat = biobank[:UPorder_oggs].obsm[\"inferredLSVs\"][:, :];"
   ]
  },
  {
   "cell_type": "code",
   "execution_count": 22,
   "metadata": {},
   "outputs": [],
   "source": [
    "partitions = getintervals(UPusv.S);"
   ]
  },
  {
   "cell_type": "code",
   "execution_count": 23,
   "metadata": {},
   "outputs": [],
   "source": [
    "earlywindow = partitions[1:10]\n",
    "middlewindow = partitions[11:89];\n",
    "latewindow = partitions[90:end];"
   ]
  },
  {
   "cell_type": "code",
   "execution_count": 24,
   "metadata": {},
   "outputs": [],
   "source": [
    "biobank[:UPorder_oggs].obsp[\"SDij\"] = calc_spi_mtx(BBuhat, UPusv.S, getintervals(UPusv.S)) ./ size(biobank[:UPorder_oggs], 2);"
   ]
  },
  {
   "cell_type": "code",
   "execution_count": 25,
   "metadata": {},
   "outputs": [],
   "source": [
    "biobank[:UPorder_oggs].obsp[\"SDij_earlywindow\"] = calc_spi_mtx(BBuhat, UPusv.S, earlywindow) ./ size(biobank[:UPorder_oggs], 2);\n",
    "biobank[:UPorder_oggs].obsp[\"SDij_middlewindow\"] = calc_spi_mtx(BBuhat, UPusv.S, middlewindow) ./ size(biobank[:UPorder_oggs], 2);\n",
    "biobank[:UPorder_oggs].obsp[\"SDij_latewindow\"] = calc_spi_mtx(BBuhat, UPusv.S, latewindow) ./ size(biobank[:UPorder_oggs], 2);"
   ]
  },
  {
   "cell_type": "code",
   "execution_count": 26,
   "metadata": {},
   "outputs": [
    {
     "data": {
      "text/plain": [
       "MuData object 728 ✕ 11308\n",
       "└ metabolites_foldchange\n",
       "  AnnData object 728 ✕ 50\n",
       "└ metabolites_millimolar\n",
       "  AnnData object 728 ✕ 10\n",
       "└ oggs\n",
       "  AnnData object 728 ✕ 11248\n",
       "└ UPorder_oggs\n",
       "  AnnData object 728 ✕ 10177"
      ]
     },
     "metadata": {},
     "output_type": "display_data"
    }
   ],
   "source": [
    "biobank"
   ]
  },
  {
   "cell_type": "code",
   "execution_count": 27,
   "metadata": {},
   "outputs": [],
   "source": [
    "writeh5mu(joinpath(rdir, \"BB728.h5mu\"), biobank)"
   ]
  },
  {
   "cell_type": "code",
   "execution_count": null,
   "metadata": {},
   "outputs": [],
   "source": []
  }
 ],
 "metadata": {
  "kernelspec": {
   "display_name": "Julia 1.8.5",
   "language": "julia",
   "name": "julia-1.8"
  },
  "language_info": {
   "file_extension": ".jl",
   "mimetype": "application/julia",
   "name": "julia",
   "version": "1.8.5"
  },
  "orig_nbformat": 4
 },
 "nbformat": 4,
 "nbformat_minor": 2
}
