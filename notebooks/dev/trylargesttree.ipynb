{
 "cells": [
  {
   "cell_type": "code",
   "execution_count": null,
   "metadata": {},
   "outputs": [],
   "source": [
    "`julia --threads=5 scripts/slurm/runners/runSPI.jl \\\n",
    "    -i data/sims/MSAs/gtdb-f__Burkholderiaceae-t128-l50000-b20.phy \\\n",
    "    -o _research/runSPI/gtdb-f__Burkholderiaceae-t128-l50000-b20 \\\n",
    "    > _research/runSPI/gtdb-f__Burkholderiaceae-t128-l50000-b20/runSPI.out`"
   ]
  },
  {
   "cell_type": "code",
   "execution_count": null,
   "metadata": {},
   "outputs": [],
   "source": [
    "`julia scripts/slurm/runners/runMrBayes.jl \\\n",
    "    -i data/sims/MSAs/gtdb-f__Burkholderiaceae-t128-l50000-b20.phy \\\n",
    "    -o _research/runMrBayes/gtdb-f__Burkholderiaceae-t128-l50000-b20 \\\n",
    "    -m WAG > _research/runMrBayes/gtdb-f__Burkholderiaceae-t128-l50000-b20/runMrBayes.out`"
   ]
  },
  {
   "cell_type": "code",
   "execution_count": null,
   "metadata": {},
   "outputs": [],
   "source": [
    "`julia scripts/slurm/runners/runRAxML.jl \\\n",
    "    -i data/sims/MSAs/gtdb-f__Burkholderiaceae-t128-l50000-b20.phy \\\n",
    "    -o _research/runRAxML/gtdb-f__Burkholderiaceae-t128-l50000-b20 \\\n",
    "    -m WAG > _research/runRAxML/gtdb-f__Burkholderiaceae-t128-l50000-b20/runRAxML.out`"
   ]
  },
  {
   "cell_type": "code",
   "execution_count": null,
   "metadata": {},
   "outputs": [],
   "source": [
    "`julia scripts/slurm/runners/runFastTree.jl \\\n",
    "    -i data/sims/MSAs/gtdb-f__Burkholderiaceae-t128-l50000-b20.phy \\\n",
    "    -o _research/runFastTree/gtdb-f__Burkholderiaceae-t128-l50000-b20 \\\n",
    "    -m WAG > _research/runFastTree/gtdb-f__Burkholderiaceae-t128-l50000-b20/runFastTree.out`"
   ]
  },
  {
   "cell_type": "code",
   "execution_count": null,
   "metadata": {},
   "outputs": [],
   "source": [
    "`julia scripts/slurm/runners/runFastME.jl \\\n",
    "    -i data/sims/MSAs/gtdb-f__Burkholderiaceae-t128-l50000-b20.phy \\\n",
    "    -o _research/runFastME/gtdb-f__Burkholderiaceae-t128-l50000-b20 \\\n",
    "    -m WAG > _research/runFastME/gtdb-f__Burkholderiaceae-t128-l50000-b20/runFastME.out`"
   ]
  },
  {
   "cell_type": "code",
   "execution_count": null,
   "metadata": {},
   "outputs": [],
   "source": [
    "`julia scripts/slurm/runners/runPhyML.jl \\\n",
    "    -i data/sims/MSAs/gtdb-f__Burkholderiaceae-t128-l50000-b20.phy \\\n",
    "    -o _research/runPhyML/gtdb-f__Burkholderiaceae-t128-l50000-b20 \\\n",
    "    -m WAG > _research/runPhyML/gtdb-f__Burkholderiaceae-t128-l50000-b20/runPhyML.out`"
   ]
  },
  {
   "cell_type": "code",
   "execution_count": null,
   "metadata": {},
   "outputs": [],
   "source": [
    "`wc -l _research/logs/runSPI/*.err | grep \"1 _\" -v | sort`\n",
    "`wc -l _research/logs/runFastTree/*.err | grep \"1 _\" -v | sort`"
   ]
  }
 ],
 "metadata": {
  "kernelspec": {
   "display_name": "Julia 1.7.2",
   "language": "julia",
   "name": "julia-1.7"
  },
  "language_info": {
   "file_extension": ".jl",
   "mimetype": "application/julia",
   "name": "julia",
   "version": "1.7.2"
  },
  "orig_nbformat": 4
 },
 "nbformat": 4,
 "nbformat_minor": 2
}
