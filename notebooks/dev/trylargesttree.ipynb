{
 "cells": [
  {
   "cell_type": "code",
   "execution_count": null,
   "metadata": {},
   "outputs": [],
   "source": [
    "`julia scripts/slurm/runners/runMrBayes.jl \\\n",
    "    -i data/sims/MSAs/gtdb-f__Burkholderiaceae-t128-l50000-b20.phy \\\n",
    "    -o _research/runMrBayes/gtdb-f__Burkholderiaceae-t128-l50000-b20 \\\n",
    "    -m WAG`"
   ]
  },
  {
   "cell_type": "code",
   "execution_count": null,
   "metadata": {},
   "outputs": [],
   "source": [
    "`julia scripts/slurm/runners/runRAxML.jl \\\n",
    "    -i data/sims/MSAs/gtdb-f__Burkholderiaceae-t128-l50000-b20.phy \\\n",
    "    -o _research/runRAxML/gtdb-f__Burkholderiaceae-t128-l50000-b20 \\\n",
    "    -m WAG`"
   ]
  },
  {
   "cell_type": "code",
   "execution_count": null,
   "metadata": {},
   "outputs": [],
   "source": [
    "`julia --threads=5 scripts/slurm/runners/runSPI.jl \\\n",
    "    -i data/sims/MSAs/gtdb-f__Burkholderiaceae-t128-l50000-b20.phy \\\n",
    "    -o _research/runSPI/gtdb-f__Burkholderiaceae-t128-l50000-b20`"
   ]
  },
  {
   "cell_type": "code",
   "execution_count": null,
   "metadata": {},
   "outputs": [],
   "source": [
    "`julia scripts/slurm/runners/runFastTree.jl \\\n",
    "    -i data/sims/MSAs/gtdb-f__Burkholderiaceae-t128-l50000-b20.phy \\\n",
    "    -o _research/runFastTree/gtdb-f__Burkholderiaceae-t128-l50000-b20 \\\n",
    "    -m WAG`"
   ]
  }
 ],
 "metadata": {
  "kernelspec": {
   "display_name": "Julia 1.7.2",
   "language": "julia",
   "name": "julia-1.7"
  },
  "language_info": {
   "file_extension": ".jl",
   "mimetype": "application/julia",
   "name": "julia",
   "version": "1.7.2"
  },
  "orig_nbformat": 4
 },
 "nbformat": 4,
 "nbformat_minor": 2
}
