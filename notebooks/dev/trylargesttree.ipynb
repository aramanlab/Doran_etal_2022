{
 "cells": [
  {
   "cell_type": "code",
   "execution_count": null,
   "metadata": {},
   "outputs": [],
   "source": [
    "`julia scripts/slurm/runners/runMrBayes.jl \\\n",
    "    -i data/sims/MSAs/gtdb-f__Burkholderiaceae-t128-l50000-b20.phy \\\n",
    "    -o _research/runMrBayes/gtdb-f__Burkholderiaceae-t128-l50000-b20 \\\n",
    "    -m WAG`"
   ]
  },
  {
   "cell_type": "code",
   "execution_count": null,
   "metadata": {},
   "outputs": [],
   "source": [
    "`julia scripts/slurm/runners/runRAxML.jl \\\n",
    "    -i data/sims/MSAs/gtdb-f__Burkholderiaceae-t128-l50000-b20.phy \\\n",
    "    -o _research/runRAxML/gtdb-f__Burkholderiaceae-t128-l50000-b20 \\\n",
    "    -m WAG`"
   ]
  },
  {
   "cell_type": "code",
   "execution_count": null,
   "metadata": {},
   "outputs": [],
   "source": [
    "`julia --threads=5 scripts/slurm/runners/runSPI_test.jl \\\n",
    "    -i data/sims/MSAs/gtdb-f__Burkholderiaceae-t128-l50000-b20.phy \\\n",
    "    -o _research/runSPI/gtdb-f__Burkholderiaceae-t128-l50000-b20`"
   ]
  },
  {
   "cell_type": "code",
   "execution_count": 1,
   "metadata": {},
   "outputs": [
    {
     "data": {
      "text/plain": [
       "_stringcolumntocharmtx (generic function with 1 method)"
      ]
     },
     "metadata": {},
     "output_type": "display_data"
    }
   ],
   "source": [
    "using DrWatson\n",
    "@quickactivate \"Doran_etal_2022\"\n",
    "using SPI, SparseArrays, StatsBase\n",
    "include(joinpath(srcdir(), \"parsephylip.jl\"))"
   ]
  },
  {
   "cell_type": "code",
   "execution_count": 2,
   "metadata": {},
   "outputs": [],
   "source": [
    "m = randn(5, 10)\n",
    "usv = svd(m);"
   ]
  },
  {
   "cell_type": "code",
   "execution_count": 3,
   "metadata": {},
   "outputs": [
    {
     "data": {
      "text/html": [
       "# 5 methods for generic function <b>calc_spi_mtx</b>:<ul><li> calc_spi_mtx(A::<b>Matrix{<:Number}</b>; <i>alpha, q</i>) in SPI at <a href=\"https://github.com/aramanlab/SPI.jl/tree/510e665dd753309c3994517dd303130fd993ac89//src/core.jl#L65\" target=\"_blank\">/Users/ben/projects/Doran_etal_2022/src/SPI.jl/src/core.jl:65</a></li> <li> calc_spi_mtx(usv::<b>SVD</b>; <i>alpha, q</i>) in SPI at <a href=\"https://github.com/aramanlab/SPI.jl/tree/510e665dd753309c3994517dd303130fd993ac89//src/core.jl#L71\" target=\"_blank\">/Users/ben/projects/Doran_etal_2022/src/SPI.jl/src/core.jl:71</a></li> <li> calc_spi_mtx(usv::<b>SVD</b>, ::<b>SPI.Left</b>; <i>alpha, q</i>) in SPI at <a href=\"https://github.com/aramanlab/SPI.jl/tree/510e665dd753309c3994517dd303130fd993ac89//src/core.jl#L72\" target=\"_blank\">/Users/ben/projects/Doran_etal_2022/src/SPI.jl/src/core.jl:72</a></li> <li> calc_spi_mtx(usv::<b>SVD</b>, ::<b>SPI.Right</b>; <i>alpha, q</i>) in SPI at <a href=\"https://github.com/aramanlab/SPI.jl/tree/510e665dd753309c3994517dd303130fd993ac89//src/core.jl#L73\" target=\"_blank\">/Users/ben/projects/Doran_etal_2022/src/SPI.jl/src/core.jl:73</a></li> <li> calc_spi_mtx(vecs::<b>Matrix{<:T}</b>, vals::<b>Vector{<:T}</b>; <i>alpha, q</i>)<i> where T<:Number</i> in SPI at <a href=\"https://github.com/aramanlab/SPI.jl/tree/510e665dd753309c3994517dd303130fd993ac89//src/core.jl#L74\" target=\"_blank\">/Users/ben/projects/Doran_etal_2022/src/SPI.jl/src/core.jl:74</a></li> </ul>"
      ],
      "text/plain": [
       "# 5 methods for generic function \"calc_spi_mtx\":\n",
       "[1] calc_spi_mtx(A::Matrix{<:Number}; alpha, q) in SPI at /Users/ben/projects/Doran_etal_2022/src/SPI.jl/src/core.jl:65\n",
       "[2] calc_spi_mtx(usv::SVD; alpha, q) in SPI at /Users/ben/projects/Doran_etal_2022/src/SPI.jl/src/core.jl:71\n",
       "[3] calc_spi_mtx(usv::SVD, ::SPI.Left; alpha, q) in SPI at /Users/ben/projects/Doran_etal_2022/src/SPI.jl/src/core.jl:72\n",
       "[4] calc_spi_mtx(usv::SVD, ::SPI.Right; alpha, q) in SPI at /Users/ben/projects/Doran_etal_2022/src/SPI.jl/src/core.jl:73\n",
       "[5] calc_spi_mtx(vecs::Matrix{<:T}, vals::Vector{<:T}; alpha, q) where T<:Number in SPI at /Users/ben/projects/Doran_etal_2022/src/SPI.jl/src/core.jl:74"
      ]
     },
     "metadata": {},
     "output_type": "display_data"
    }
   ],
   "source": [
    "methods(calc_spi_mtx)"
   ]
  },
  {
   "cell_type": "code",
   "execution_count": 7,
   "metadata": {},
   "outputs": [
    {
     "data": {
      "text/plain": [
       "true"
      ]
     },
     "metadata": {},
     "output_type": "display_data"
    }
   ],
   "source": [
    "Adjoint{Float64, Matrix{Float64}} <: AbstractArray"
   ]
  },
  {
   "cell_type": "code",
   "execution_count": 7,
   "metadata": {},
   "outputs": [
    {
     "data": {
      "text/plain": [
       "5×5 Matrix{Float64}:\n",
       " 0.0      5.17492  7.9161   5.82748  7.54329\n",
       " 5.17492  0.0      4.79148  4.6695   4.54546\n",
       " 7.9161   4.79148  0.0      7.52756  9.17252\n",
       " 5.82748  4.6695   7.52756  0.0      5.90755\n",
       " 7.54329  4.54546  9.17252  5.90755  0.0"
      ]
     },
     "metadata": {},
     "output_type": "display_data"
    }
   ],
   "source": [
    "calc_spi_mtx(usv, SPI.Left())"
   ]
  },
  {
   "cell_type": "code",
   "execution_count": 2,
   "metadata": {},
   "outputs": [
    {
     "data": {
      "text/plain": [
       "\"/Users/ben/projects/Doran_etal_2022/data/sims/MSAs/gtdb-f__Burkholderiaceae-t128-l50000-b20.phy\""
      ]
     },
     "metadata": {},
     "output_type": "display_data"
    }
   ],
   "source": [
    "inputfile = joinpath(datadir(), \"sims\", \"MSAs\", \"gtdb-f__Burkholderiaceae-t128-l50000-b20.phy\")"
   ]
  },
  {
   "cell_type": "code",
   "execution_count": 3,
   "metadata": {},
   "outputs": [
    {
     "name": "stdout",
     "output_type": "stream",
     "text": [
      "  0.579412 seconds (1.15 M allocations: 82.132 MiB, 2.63% gc time, 90.32% compilation time)\n"
     ]
    }
   ],
   "source": [
    "@time phydf = readphylip(inputfile);"
   ]
  },
  {
   "cell_type": "code",
   "execution_count": 4,
   "metadata": {},
   "outputs": [
    {
     "name": "stdout",
     "output_type": "stream",
     "text": [
      "  1.892307 seconds (5.00 M allocations: 522.334 MiB, 11.07% gc time, 71.34% compilation time)\n"
     ]
    }
   ],
   "source": [
    "@time M = onehotencode(phydf.seqs);"
   ]
  },
  {
   "cell_type": "code",
   "execution_count": 5,
   "metadata": {},
   "outputs": [
    {
     "data": {
      "text/plain": [
       "128×113791 SparseMatrixCSC{Bool, Int64} with 6400000 stored entries:\n",
       "⠛⠛⠛⠛⠛⠛⠛⠛⠛⠛⠛⠛⠛⠛⠛⠛⠛⠛⠛⠛⠛⠛⠛⠛⠛⠛⠛⠛⠛⠛⠛⠛⠛⠛⠛⠛⠛⠛⠛⠛"
      ]
     },
     "metadata": {},
     "output_type": "display_data"
    }
   ],
   "source": [
    "M"
   ]
  },
  {
   "cell_type": "code",
   "execution_count": 7,
   "metadata": {},
   "outputs": [
    {
     "name": "stdout",
     "output_type": "stream",
     "text": [
      "  2.010717 seconds (2.10 M allocations: 166.098 MiB, 6.15% gc time, 41.00% compilation time)\n"
     ]
    }
   ],
   "source": [
    "@time vals, vecs = eigen(Matrix(M*M'));"
   ]
  },
  {
   "cell_type": "code",
   "execution_count": 8,
   "metadata": {},
   "outputs": [
    {
     "name": "stdout",
     "output_type": "stream",
     "text": [
      "  1.607017 seconds (6.67 M allocations: 343.290 MiB, 5.77% gc time, 99.89% compilation time)\n",
      "  0.747150 seconds (1.60 M allocations: 83.857 MiB, 5.71% gc time, 99.96% compilation time)\n",
      "  0.555643 seconds (1.38 M allocations: 71.176 MiB, 3.59% gc time, 99.98% compilation time)\n"
     ]
    },
    {
     "data": {
      "text/plain": [
       "\"(((((Tip072:1.034791e+02,Tip071:1.034791e+02):2.561012e+02,((Tip068:3.957625e+01,Tip069:3.957625e+01):1.325768e+02,Tip070:1.721530e+02):1.874272e+02):3.788046e+02,((((((Tip073:4.580912e+01,Tip074:4.580912e+01):4.325944e+01,((Tip075:5.043481e+01,Tip076:5.043481e+01):8.78\" ⋯ 3925 bytes ⋯ \"Tip125:2.501657e+02):1.578581e+02,Tip126:4.080238e+02):6.882825e+01,((Tip122:9.779931e+01,Tip121:9.779931e+01):1.094509e+02,((Tip118:5.807020e+01,Tip119:5.807020e+01):2.600321e+01,Tip120:8.407341e+01):1.231768e+02):2.696018e+02):2.267859e+02):1.122570e+02):0.000000e+00;\""
      ]
     },
     "metadata": {},
     "output_type": "display_data"
    }
   ],
   "source": [
    "@time dij = calc_spi_mtx(vecs, sqrt.(vals))\n",
    "@time hc = hclust(dij, linkage=:average, branchorder=:optimal)\n",
    "@time spitree = nwstr(hc, phydf.ids; labelinternalnodes=false)"
   ]
  },
  {
   "cell_type": "code",
   "execution_count": 9,
   "metadata": {},
   "outputs": [
    {
     "data": {
      "text/plain": [
       "5×5 Matrix{Float64}:\n",
       " 0.703919   0.0082424  0.118133    0.00840764  0.197865\n",
       " 0.169532   0.0294637  0.307487    0.549461    0.647698\n",
       " 0.400662   0.0480815  0.418762    0.213605    0.162414\n",
       " 0.0973322  0.488601   0.908361    0.100303    0.075693\n",
       " 0.402079   0.189385   0.00966809  0.347315    0.294348"
      ]
     },
     "metadata": {},
     "output_type": "display_data"
    }
   ],
   "source": [
    "a = rand(5,5)"
   ]
  },
  {
   "cell_type": "code",
   "execution_count": 10,
   "metadata": {},
   "outputs": [
    {
     "data": {
      "text/plain": [
       "5×3 Matrix{Float64}:\n",
       " 0.703919   0.0082424  0.0082424\n",
       " 0.169532   0.0294637  0.0294637\n",
       " 0.400662   0.0480815  0.0480815\n",
       " 0.0973322  0.488601   0.488601\n",
       " 0.402079   0.189385   0.189385"
      ]
     },
     "metadata": {},
     "output_type": "display_data"
    }
   ],
   "source": [
    "a[:, [1,2,2]]"
   ]
  },
  {
   "cell_type": "code",
   "execution_count": null,
   "metadata": {},
   "outputs": [],
   "source": []
  }
 ],
 "metadata": {
  "kernelspec": {
   "display_name": "Julia 1.7.2",
   "language": "julia",
   "name": "julia-1.7"
  },
  "language_info": {
   "file_extension": ".jl",
   "mimetype": "application/julia",
   "name": "julia",
   "version": "1.7.2"
  },
  "orig_nbformat": 4
 },
 "nbformat": 4,
 "nbformat_minor": 2
}
