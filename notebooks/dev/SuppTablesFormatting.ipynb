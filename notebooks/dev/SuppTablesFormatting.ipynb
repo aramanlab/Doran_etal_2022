{
 "cells": [
  {
   "cell_type": "code",
   "execution_count": 1,
   "metadata": {},
   "outputs": [],
   "source": [
    "using DrWatson\n",
    "@quickactivate \"Doran_etal_2022\"\n",
    "\n",
    "using CSV, DataFrames, Muon"
   ]
  },
  {
   "cell_type": "code",
   "execution_count": 2,
   "metadata": {},
   "outputs": [
    {
     "data": {
      "text/plain": [
       "\"/Users/ben/projects/Doran_etal_2022/data/exp_pro/BB669\""
      ]
     },
     "metadata": {},
     "output_type": "display_data"
    }
   ],
   "source": [
    "rdir = projectdir(\"_research\", \"SuppTables\") |> mkpath\n",
    "ddir = datadir(\"exp_pro\", \"BB669\") |> mkpath"
   ]
  },
  {
   "cell_type": "code",
   "execution_count": 3,
   "metadata": {},
   "outputs": [
    {
     "name": "stderr",
     "output_type": "stream",
     "text": [
      "┌ Warning: Cannot join columns with the same name because var_names are intersecting.\n",
      "└ @ Muon /Users/ben/.julia/packages/Muon/eLqpV/src/mudata.jl:351\n"
     ]
    },
    {
     "data": {
      "text/plain": [
       "MuData object 669 ✕ 21485\n",
       "└ metabolites_foldchange\n",
       "  AnnData object 669 ✕ 50\n",
       "└ metabolites_millimolar\n",
       "  AnnData object 669 ✕ 10\n",
       "└ UPorder_oggs\n",
       "  AnnData object 669 ✕ 10177\n",
       "└ oggs\n",
       "  AnnData object 669 ✕ 11248"
      ]
     },
     "metadata": {},
     "output_type": "display_data"
    }
   ],
   "source": [
    "biobank = readh5mu(joinpath(ddir, \"BB669.h5mu\"))"
   ]
  },
  {
   "cell_type": "code",
   "execution_count": 9,
   "metadata": {},
   "outputs": [
    {
     "data": {
      "text/plain": [
       "\"/Users/ben/projects/Doran_etal_2022/_research/SuppTables/Supplementary_Table_4A.tsv\""
      ]
     },
     "metadata": {},
     "output_type": "display_data"
    }
   ],
   "source": [
    "bbfc = hcat(biobank.obs[:, [:ID, :accession]], DataFrame(biobank[\"metabolites_foldchange\"].layers[\"raw\"][:,:], biobank[\"metabolites_foldchange\"].var_names));\n",
    "CSV.write(joinpath(rdir, \"Supplementary_Table_4A.tsv\"), bbfc, delim=\"\\t\")"
   ]
  },
  {
   "cell_type": "code",
   "execution_count": 10,
   "metadata": {},
   "outputs": [
    {
     "data": {
      "text/plain": [
       "\"/Users/ben/projects/Doran_etal_2022/_research/SuppTables/Supplementary_Table_2.tsv\""
      ]
     },
     "metadata": {},
     "output_type": "display_data"
    }
   ],
   "source": [
    "CSV.read(projectdir(\"_research/SuppTables/Supplementary_Table_2.csv\"), DataFrame, comment=\"#\") |>\n",
    "    df -> CSV.write(projectdir(\"_research/SuppTables/Supplementary_Table_2.tsv\"), df, delim=\"\\t\", comment=\"#\")"
   ]
  },
  {
   "cell_type": "code",
   "execution_count": 14,
   "metadata": {},
   "outputs": [
    {
     "data": {
      "text/plain": [
       "\"/Users/ben/projects/Doran_etal_2022/_research/SuppTables/Supplementary_Table_1.tsv\""
      ]
     },
     "metadata": {},
     "output_type": "display_data"
    }
   ],
   "source": [
    "CSV.read(projectdir(\"_research/SuppTables/Supplementary_Table_1.csv\"), DataFrame, comment=\"#\") |>\n",
    "    df -> select(df, Not([:first_strain_id,:strain_id,:seq_id,:donor_id])) |>\n",
    "    df -> CSV.write(projectdir(\"_research/SuppTables/Supplementary_Table_1.tsv\"), df, delim=\"\\t\", comment=\"#\")"
   ]
  },
  {
   "cell_type": "code",
   "execution_count": 17,
   "metadata": {},
   "outputs": [
    {
     "data": {
      "text/plain": [
       "198"
      ]
     },
     "metadata": {},
     "output_type": "display_data"
    }
   ],
   "source": [
    "df = CSV.read(projectdir(\"_research/SuppTables/Supplementary_Table_3.tsv\"), DataFrame, delim=\"\\t\", comment=\"#\") |> nrow"
   ]
  },
  {
   "cell_type": "code",
   "execution_count": null,
   "metadata": {},
   "outputs": [],
   "source": []
  }
 ],
 "metadata": {
  "kernelspec": {
   "display_name": "Julia 1.9.1",
   "language": "julia",
   "name": "julia-1.9"
  },
  "language_info": {
   "file_extension": ".jl",
   "mimetype": "application/julia",
   "name": "julia",
   "version": "1.9.1"
  },
  "orig_nbformat": 4
 },
 "nbformat": 4,
 "nbformat_minor": 2
}
