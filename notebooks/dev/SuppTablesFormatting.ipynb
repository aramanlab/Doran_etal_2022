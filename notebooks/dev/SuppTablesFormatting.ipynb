{
 "cells": [
  {
   "cell_type": "code",
   "execution_count": 1,
   "metadata": {},
   "outputs": [],
   "source": [
    "using DrWatson\n",
    "@quickactivate \"Doran_etal_2022\"\n",
    "\n",
    "using CSV, DataFrames, Muon"
   ]
  },
  {
   "cell_type": "code",
   "execution_count": 2,
   "metadata": {},
   "outputs": [
    {
     "data": {
      "text/plain": [
       "\"/Users/ben/projects/Doran_etal_2022/data/exp_pro/BB669\""
      ]
     },
     "metadata": {},
     "output_type": "display_data"
    }
   ],
   "source": [
    "rdir = projectdir(\"_research\", \"SuppTables\") |> mkpath\n",
    "ddir = datadir(\"exp_pro\", \"BB669\") |> mkpath"
   ]
  },
  {
   "cell_type": "code",
   "execution_count": 3,
   "metadata": {},
   "outputs": [
    {
     "name": "stderr",
     "output_type": "stream",
     "text": [
      "┌ Warning: Cannot join columns with the same name because var_names are intersecting.\n",
      "└ @ Muon /Users/ben/.julia/packages/Muon/eLqpV/src/mudata.jl:351\n"
     ]
    },
    {
     "data": {
      "text/plain": [
       "MuData object 669 ✕ 21485\n",
       "└ metabolites_foldchange\n",
       "  AnnData object 669 ✕ 50\n",
       "└ metabolites_millimolar\n",
       "  AnnData object 669 ✕ 10\n",
       "└ UPorder_oggs\n",
       "  AnnData object 669 ✕ 10177\n",
       "└ oggs\n",
       "  AnnData object 669 ✕ 11248"
      ]
     },
     "metadata": {},
     "output_type": "display_data"
    }
   ],
   "source": [
    "biobank = readh5mu(joinpath(ddir, \"BB669.h5mu\"))"
   ]
  },
  {
   "cell_type": "code",
   "execution_count": 9,
   "metadata": {},
   "outputs": [
    {
     "data": {
      "text/plain": [
       "\"/Users/ben/projects/Doran_etal_2022/_research/SuppTables/Supplementary_Table_4A.tsv\""
      ]
     },
     "metadata": {},
     "output_type": "display_data"
    }
   ],
   "source": [
    "bbfc = hcat(biobank.obs[:, [:ID, :accession]], DataFrame(biobank[\"metabolites_foldchange\"].layers[\"raw\"][:,:], biobank[\"metabolites_foldchange\"].var_names));\n",
    "CSV.write(joinpath(rdir, \"Supplementary_Table_4A.tsv\"), bbfc, delim=\"\\t\")"
   ]
  },
  {
   "cell_type": "code",
   "execution_count": 10,
   "metadata": {},
   "outputs": [
    {
     "data": {
      "text/plain": [
       "\"/Users/ben/projects/Doran_etal_2022/_research/SuppTables/Supplementary_Table_2.tsv\""
      ]
     },
     "metadata": {},
     "output_type": "display_data"
    }
   ],
   "source": [
    "CSV.read(projectdir(\"_research/SuppTables/Supplementary_Table_2.csv\"), DataFrame, comment=\"#\") |>\n",
    "    df -> CSV.write(projectdir(\"_research/SuppTables/Supplementary_Table_2.tsv\"), df, delim=\"\\t\", comment=\"#\")"
   ]
  },
  {
   "cell_type": "code",
   "execution_count": 14,
   "metadata": {},
   "outputs": [
    {
     "data": {
      "text/plain": [
       "\"/Users/ben/projects/Doran_etal_2022/_research/SuppTables/Supplementary_Table_1.tsv\""
      ]
     },
     "metadata": {},
     "output_type": "display_data"
    }
   ],
   "source": [
    "CSV.read(projectdir(\"_research/SuppTables/Supplementary_Table_1.csv\"), DataFrame, comment=\"#\") |>\n",
    "    df -> select(df, Not([:first_strain_id,:strain_id,:seq_id,:donor_id])) |>\n",
    "    df -> CSV.write(projectdir(\"_research/SuppTables/Supplementary_Table_1.tsv\"), df, delim=\"\\t\", comment=\"#\")"
   ]
  },
  {
   "cell_type": "code",
   "execution_count": 17,
   "metadata": {},
   "outputs": [
    {
     "data": {
      "text/plain": [
       "198"
      ]
     },
     "metadata": {},
     "output_type": "display_data"
    }
   ],
   "source": [
    "df = CSV.read(projectdir(\"_research/SuppTables/Supplementary_Table_3.tsv\"), DataFrame, delim=\"\\t\", comment=\"#\") |> nrow"
   ]
  },
  {
   "cell_type": "code",
   "execution_count": 4,
   "metadata": {},
   "outputs": [
    {
     "data": {
      "text/plain": [
       "797"
      ]
     },
     "metadata": {},
     "output_type": "display_data"
    }
   ],
   "source": [
    "df = CSV.read(projectdir(\"_research/SuppTables/Supplementary_Table_3_allstrainlevel.tsv\"), DataFrame, delim=\"\\t\", comment=\"#\") |> nrow"
   ]
  },
  {
   "cell_type": "code",
   "execution_count": 19,
   "metadata": {},
   "outputs": [],
   "source": [
    "upvarmeta = CSV.read(projectdir(\"data/exp_raw/UP7047/UPcolmeta.csv\"), DataFrame);"
   ]
  },
  {
   "cell_type": "code",
   "execution_count": 24,
   "metadata": {},
   "outputs": [
    {
     "data": {
      "text/html": [
       "<div><div style = \"float: left;\"><span>1636×31 DataFrame</span></div><div style = \"float: right;\"><span style = \"font-style: italic;\">1611 rows omitted</span></div><div style = \"clear: both;\"></div></div><div class = \"data-frame\" style = \"overflow-x: scroll;\"><table class = \"data-frame\" style = \"margin-bottom: 6px;\"><thead><tr class = \"header\"><th class = \"rowNumber\" style = \"font-weight: bold; text-align: right;\">Row</th><th style = \"text-align: left;\">nodeids</th><th style = \"text-align: left;\">nodedepth</th><th style = \"text-align: left;\">nodeheight</th><th style = \"text-align: left;\">grp1_N</th><th style = \"text-align: left;\">grp2_N</th><th style = \"text-align: left;\">grp1_phylum_mode</th><th style = \"text-align: left;\">grp2_phylum_mode</th><th style = \"text-align: left;\">grp1_species_mode</th><th style = \"text-align: left;\">grp2_species_mode</th><th style = \"text-align: left;\">grp1_species_donor_mode</th><th style = \"text-align: left;\">grp2_species_donor_mode</th><th style = \"text-align: left;\">ogg_name</th><th style = \"text-align: left;\">ogg_idx</th><th style = \"text-align: left;\">ogg_freqs</th><th style = \"text-align: left;\">grp1_prp_exp</th><th style = \"text-align: left;\">grp2_prp_exp</th><th style = \"text-align: left;\">effectsize</th><th style = \"text-align: left;\">logeffectsize</th><th style = \"text-align: left;\">log2FC</th><th style = \"text-align: left;\">cliffs_d</th><th style = \"text-align: left;\">pvals</th><th style = \"text-align: left;\">qvals</th><th style = \"text-align: left;\">pval_BH</th><th style = \"text-align: left;\">pval_Bon</th><th style = \"text-align: left;\">qval_BH</th><th style = \"text-align: left;\">tree_level</th><th style = \"text-align: left;\">level</th><th style = \"text-align: left;\">nm</th><th style = \"text-align: left;\">description</th><th style = \"text-align: left;\">COG_categories</th><th style = \"text-align: left;\">OG_ID</th></tr><tr class = \"subheader headerLastRow\"><th class = \"rowNumber\" style = \"font-weight: bold; text-align: right;\"></th><th title = \"Int64\" style = \"text-align: left;\">Int64</th><th title = \"Float64\" style = \"text-align: left;\">Float64</th><th title = \"Float64\" style = \"text-align: left;\">Float64</th><th title = \"Int64\" style = \"text-align: left;\">Int64</th><th title = \"Int64\" style = \"text-align: left;\">Int64</th><th title = \"String15\" style = \"text-align: left;\">String15</th><th title = \"String15\" style = \"text-align: left;\">String15</th><th title = \"String31\" style = \"text-align: left;\">String31</th><th title = \"String31\" style = \"text-align: left;\">String31</th><th title = \"String31\" style = \"text-align: left;\">String31</th><th title = \"String31\" style = \"text-align: left;\">String31</th><th title = \"String15\" style = \"text-align: left;\">String15</th><th title = \"Int64\" style = \"text-align: left;\">Int64</th><th title = \"Float64\" style = \"text-align: left;\">Float64</th><th title = \"Float64\" style = \"text-align: left;\">Float64</th><th title = \"Float64\" style = \"text-align: left;\">Float64</th><th title = \"Float64\" style = \"text-align: left;\">Float64</th><th title = \"Float64\" style = \"text-align: left;\">Float64</th><th title = \"Float64\" style = \"text-align: left;\">Float64</th><th title = \"Float64\" style = \"text-align: left;\">Float64</th><th title = \"Float64\" style = \"text-align: left;\">Float64</th><th title = \"Float64\" style = \"text-align: left;\">Float64</th><th title = \"Float64\" style = \"text-align: left;\">Float64</th><th title = \"Float64\" style = \"text-align: left;\">Float64</th><th title = \"Float64\" style = \"text-align: left;\">Float64</th><th title = \"String15\" style = \"text-align: left;\">String15</th><th title = \"Union{Missing, Int64}\" style = \"text-align: left;\">Int64?</th><th title = \"Union{Missing, Int64}\" style = \"text-align: left;\">Int64?</th><th title = \"Union{Missing, String}\" style = \"text-align: left;\">String?</th><th title = \"Union{Missing, String7}\" style = \"text-align: left;\">String7?</th><th title = \"Union{Missing, String15}\" style = \"text-align: left;\">String15?</th></tr></thead><tbody><tr><td class = \"rowNumber\" style = \"font-weight: bold; text-align: right;\">1</td><td style = \"text-align: right;\">1</td><td style = \"text-align: right;\">0.0</td><td style = \"text-align: right;\">4.21594</td><td style = \"text-align: right;\">150</td><td style = \"text-align: right;\">206</td><td style = \"text-align: left;\">Bacteroidetes</td><td style = \"text-align: left;\">Firmicutes</td><td style = \"text-align: left;\">Phocaeicola vulgatus</td><td style = \"text-align: left;\">[Ruminococcus] gnavus</td><td style = \"text-align: left;\">Phocaeicola vulgatus_22</td><td style = \"text-align: left;\">Bifidobacterium breve_22</td><td style = \"text-align: left;\">2Z7ID</td><td style = \"text-align: right;\">8</td><td style = \"text-align: right;\">0.407303</td><td style = \"text-align: right;\">0.946667</td><td style = \"text-align: right;\">0.0145631</td><td style = \"text-align: right;\">1.09688</td><td style = \"text-align: right;\">1.02216</td><td style = \"text-align: right;\">1.0335</td><td style = \"text-align: right;\">0.934628</td><td style = \"text-align: right;\">2.22378e-67</td><td style = \"text-align: right;\">0.0</td><td style = \"text-align: right;\">2.08061e-65</td><td style = \"text-align: right;\">1.16327e-61</td><td style = \"text-align: right;\">0.0</td><td style = \"text-align: left;\">phylum level</td><td style = \"text-align: right;\">2</td><td style = \"text-align: right;\">319</td><td style = \"text-align: left;\">Uptake of L-rhamnose across the boundary membrane with the concomitant transport of protons into the cell (symport system)</td><td style = \"text-align: left;\">EG</td><td style = \"text-align: left;\">2Z7ID@2</td></tr><tr><td class = \"rowNumber\" style = \"font-weight: bold; text-align: right;\">2</td><td style = \"text-align: right;\">1</td><td style = \"text-align: right;\">0.0</td><td style = \"text-align: right;\">4.21594</td><td style = \"text-align: right;\">150</td><td style = \"text-align: right;\">206</td><td style = \"text-align: left;\">Bacteroidetes</td><td style = \"text-align: left;\">Firmicutes</td><td style = \"text-align: left;\">Phocaeicola vulgatus</td><td style = \"text-align: left;\">[Ruminococcus] gnavus</td><td style = \"text-align: left;\">Phocaeicola vulgatus_22</td><td style = \"text-align: left;\">Bifidobacterium breve_22</td><td style = \"text-align: left;\">2Z7IJ</td><td style = \"text-align: right;\">9</td><td style = \"text-align: right;\">0.410112</td><td style = \"text-align: right;\">0.0</td><td style = \"text-align: right;\">0.708738</td><td style = \"text-align: right;\">1.19222</td><td style = \"text-align: right;\">1.32881</td><td style = \"text-align: right;\">-1.16471</td><td style = \"text-align: right;\">-0.708738</td><td style = \"text-align: right;\">8.5582e-38</td><td style = \"text-align: right;\">0.0</td><td style = \"text-align: right;\">6.957e-36</td><td style = \"text-align: right;\">4.47683e-32</td><td style = \"text-align: right;\">0.0</td><td style = \"text-align: left;\">phylum level</td><td style = \"text-align: right;\">2</td><td style = \"text-align: right;\">124</td><td style = \"text-align: left;\">Psort location CytoplasmicMembrane, score</td><td style = \"text-align: left;\">S</td><td style = \"text-align: left;\">2Z7IJ@2</td></tr><tr><td class = \"rowNumber\" style = \"font-weight: bold; text-align: right;\">3</td><td style = \"text-align: right;\">1</td><td style = \"text-align: right;\">0.0</td><td style = \"text-align: right;\">4.21594</td><td style = \"text-align: right;\">150</td><td style = \"text-align: right;\">206</td><td style = \"text-align: left;\">Bacteroidetes</td><td style = \"text-align: left;\">Firmicutes</td><td style = \"text-align: left;\">Phocaeicola vulgatus</td><td style = \"text-align: left;\">[Ruminococcus] gnavus</td><td style = \"text-align: left;\">Phocaeicola vulgatus_22</td><td style = \"text-align: left;\">Bifidobacterium breve_22</td><td style = \"text-align: left;\">2Z7KK</td><td style = \"text-align: right;\">20</td><td style = \"text-align: right;\">0.441011</td><td style = \"text-align: right;\">0.873333</td><td style = \"text-align: right;\">0.126214</td><td style = \"text-align: right;\">1.54894</td><td style = \"text-align: right;\">1.13715</td><td style = \"text-align: right;\">1.17935</td><td style = \"text-align: right;\">0.822006</td><td style = \"text-align: right;\">7.76604e-49</td><td style = \"text-align: right;\">0.0</td><td style = \"text-align: right;\">6.69156e-47</td><td style = \"text-align: right;\">4.06245e-43</td><td style = \"text-align: right;\">0.0</td><td style = \"text-align: left;\">phylum level</td><td style = \"text-align: right;\">2</td><td style = \"text-align: right;\">490</td><td style = \"text-align: left;\">COG NOG06097 non supervised orthologous group</td><td style = \"text-align: left;\">S</td><td style = \"text-align: left;\">2Z7KK@2</td></tr><tr><td class = \"rowNumber\" style = \"font-weight: bold; text-align: right;\">4</td><td style = \"text-align: right;\">1</td><td style = \"text-align: right;\">0.0</td><td style = \"text-align: right;\">4.21594</td><td style = \"text-align: right;\">150</td><td style = \"text-align: right;\">206</td><td style = \"text-align: left;\">Bacteroidetes</td><td style = \"text-align: left;\">Firmicutes</td><td style = \"text-align: left;\">Phocaeicola vulgatus</td><td style = \"text-align: left;\">[Ruminococcus] gnavus</td><td style = \"text-align: left;\">Phocaeicola vulgatus_22</td><td style = \"text-align: left;\">Bifidobacterium breve_22</td><td style = \"text-align: left;\">2Z7T7</td><td style = \"text-align: right;\">46</td><td style = \"text-align: right;\">0.511236</td><td style = \"text-align: right;\">0.0</td><td style = \"text-align: right;\">0.883495</td><td style = \"text-align: right;\">1.57742</td><td style = \"text-align: right;\">1.6749</td><td style = \"text-align: right;\">-1.08511</td><td style = \"text-align: right;\">-0.883495</td><td style = \"text-align: right;\">4.2507e-54</td><td style = \"text-align: right;\">0.0</td><td style = \"text-align: right;\">3.7377e-52</td><td style = \"text-align: right;\">2.22356e-48</td><td style = \"text-align: right;\">0.0</td><td style = \"text-align: left;\">phylum level</td><td style = \"text-align: right;\">2</td><td style = \"text-align: right;\">76</td><td style = \"text-align: left;\">Psort location CytoplasmicMembrane, score</td><td style = \"text-align: left;\">S</td><td style = \"text-align: left;\">2Z7T7@2</td></tr><tr><td class = \"rowNumber\" style = \"font-weight: bold; text-align: right;\">5</td><td style = \"text-align: right;\">1</td><td style = \"text-align: right;\">0.0</td><td style = \"text-align: right;\">4.21594</td><td style = \"text-align: right;\">150</td><td style = \"text-align: right;\">206</td><td style = \"text-align: left;\">Bacteroidetes</td><td style = \"text-align: left;\">Firmicutes</td><td style = \"text-align: left;\">Phocaeicola vulgatus</td><td style = \"text-align: left;\">[Ruminococcus] gnavus</td><td style = \"text-align: left;\">Phocaeicola vulgatus_22</td><td style = \"text-align: left;\">Bifidobacterium breve_22</td><td style = \"text-align: left;\">2Z7X2</td><td style = \"text-align: right;\">68</td><td style = \"text-align: right;\">0.384831</td><td style = \"text-align: right;\">0.913333</td><td style = \"text-align: right;\">0.0</td><td style = \"text-align: right;\">2.32667</td><td style = \"text-align: right;\">1.54657</td><td style = \"text-align: right;\">1.54657</td><td style = \"text-align: right;\">0.913333</td><td style = \"text-align: right;\">1.23025e-63</td><td style = \"text-align: right;\">0.0</td><td style = \"text-align: right;\">1.14206e-61</td><td style = \"text-align: right;\">6.43549e-58</td><td style = \"text-align: right;\">0.0</td><td style = \"text-align: left;\">phylum level</td><td style = \"text-align: right;\">2</td><td style = \"text-align: right;\">241</td><td style = \"text-align: left;\">Conjugative transposon TraM protein</td><td style = \"text-align: left;\">S</td><td style = \"text-align: left;\">2Z7X2@2</td></tr><tr><td class = \"rowNumber\" style = \"font-weight: bold; text-align: right;\">6</td><td style = \"text-align: right;\">1</td><td style = \"text-align: right;\">0.0</td><td style = \"text-align: right;\">4.21594</td><td style = \"text-align: right;\">150</td><td style = \"text-align: right;\">206</td><td style = \"text-align: left;\">Bacteroidetes</td><td style = \"text-align: left;\">Firmicutes</td><td style = \"text-align: left;\">Phocaeicola vulgatus</td><td style = \"text-align: left;\">[Ruminococcus] gnavus</td><td style = \"text-align: left;\">Phocaeicola vulgatus_22</td><td style = \"text-align: left;\">Bifidobacterium breve_22</td><td style = \"text-align: left;\">2Z7XW</td><td style = \"text-align: right;\">74</td><td style = \"text-align: right;\">0.421348</td><td style = \"text-align: right;\">1.0</td><td style = \"text-align: right;\">0.0</td><td style = \"text-align: right;\">1.05333</td><td style = \"text-align: right;\">1.0312</td><td style = \"text-align: right;\">1.0312</td><td style = \"text-align: right;\">1.0</td><td style = \"text-align: right;\">5.27813e-78</td><td style = \"text-align: right;\">0.0</td><td style = \"text-align: right;\">5.08287e-76</td><td style = \"text-align: right;\">2.76101e-72</td><td style = \"text-align: right;\">0.0</td><td style = \"text-align: left;\">phylum level</td><td style = \"text-align: right;\">2</td><td style = \"text-align: right;\">422</td><td style = \"text-align: left;\">Psort location Cytoplasmic, score 8.96</td><td style = \"text-align: left;\">S</td><td style = \"text-align: left;\">2Z7XW@2</td></tr><tr><td class = \"rowNumber\" style = \"font-weight: bold; text-align: right;\">7</td><td style = \"text-align: right;\">1</td><td style = \"text-align: right;\">0.0</td><td style = \"text-align: right;\">4.21594</td><td style = \"text-align: right;\">150</td><td style = \"text-align: right;\">206</td><td style = \"text-align: left;\">Bacteroidetes</td><td style = \"text-align: left;\">Firmicutes</td><td style = \"text-align: left;\">Phocaeicola vulgatus</td><td style = \"text-align: left;\">[Ruminococcus] gnavus</td><td style = \"text-align: left;\">Phocaeicola vulgatus_22</td><td style = \"text-align: left;\">Bifidobacterium breve_22</td><td style = \"text-align: left;\">2Z803</td><td style = \"text-align: right;\">86</td><td style = \"text-align: right;\">0.424157</td><td style = \"text-align: right;\">1.0</td><td style = \"text-align: right;\">0.00485437</td><td style = \"text-align: right;\">1.16617</td><td style = \"text-align: right;\">1.08037</td><td style = \"text-align: right;\">1.08408</td><td style = \"text-align: right;\">0.995631</td><td style = \"text-align: right;\">2.74073e-76</td><td style = \"text-align: right;\">0.0</td><td style = \"text-align: right;\">2.62773e-74</td><td style = \"text-align: right;\">1.43369e-70</td><td style = \"text-align: right;\">0.0</td><td style = \"text-align: left;\">phylum level</td><td style = \"text-align: right;\">2</td><td style = \"text-align: right;\">88</td><td style = \"text-align: left;\">HpaII restriction endonuclease</td><td style = \"text-align: left;\">L</td><td style = \"text-align: left;\">2Z803@2</td></tr><tr><td class = \"rowNumber\" style = \"font-weight: bold; text-align: right;\">8</td><td style = \"text-align: right;\">1</td><td style = \"text-align: right;\">0.0</td><td style = \"text-align: right;\">4.21594</td><td style = \"text-align: right;\">150</td><td style = \"text-align: right;\">206</td><td style = \"text-align: left;\">Bacteroidetes</td><td style = \"text-align: left;\">Firmicutes</td><td style = \"text-align: left;\">Phocaeicola vulgatus</td><td style = \"text-align: left;\">[Ruminococcus] gnavus</td><td style = \"text-align: left;\">Phocaeicola vulgatus_22</td><td style = \"text-align: left;\">Bifidobacterium breve_22</td><td style = \"text-align: left;\">2Z86V</td><td style = \"text-align: right;\">117</td><td style = \"text-align: right;\">0.421348</td><td style = \"text-align: right;\">1.0</td><td style = \"text-align: right;\">0.0</td><td style = \"text-align: right;\">2.44</td><td style = \"text-align: right;\">1.65086</td><td style = \"text-align: right;\">1.65086</td><td style = \"text-align: right;\">1.0</td><td style = \"text-align: right;\">1.75849e-72</td><td style = \"text-align: right;\">0.0</td><td style = \"text-align: right;\">1.66373e-70</td><td style = \"text-align: right;\">9.19874e-67</td><td style = \"text-align: right;\">0.0</td><td style = \"text-align: left;\">phylum level</td><td style = \"text-align: right;\">2</td><td style = \"text-align: right;\">265</td><td style = \"text-align: left;\">Protein of unknown function (DUF4099)</td><td style = \"text-align: left;\">S</td><td style = \"text-align: left;\">2Z86V@2</td></tr><tr><td class = \"rowNumber\" style = \"font-weight: bold; text-align: right;\">9</td><td style = \"text-align: right;\">1</td><td style = \"text-align: right;\">0.0</td><td style = \"text-align: right;\">4.21594</td><td style = \"text-align: right;\">150</td><td style = \"text-align: right;\">206</td><td style = \"text-align: left;\">Bacteroidetes</td><td style = \"text-align: left;\">Firmicutes</td><td style = \"text-align: left;\">Phocaeicola vulgatus</td><td style = \"text-align: left;\">[Ruminococcus] gnavus</td><td style = \"text-align: left;\">Phocaeicola vulgatus_22</td><td style = \"text-align: left;\">Bifidobacterium breve_22</td><td style = \"text-align: left;\">2Z8BZ</td><td style = \"text-align: right;\">137</td><td style = \"text-align: right;\">0.429775</td><td style = \"text-align: right;\">0.0</td><td style = \"text-align: right;\">0.742718</td><td style = \"text-align: right;\">1.21199</td><td style = \"text-align: right;\">1.36952</td><td style = \"text-align: right;\">-1.166</td><td style = \"text-align: right;\">-0.742718</td><td style = \"text-align: right;\">1.88684e-40</td><td style = \"text-align: right;\">0.0</td><td style = \"text-align: right;\">1.56744e-38</td><td style = \"text-align: right;\">9.87015e-35</td><td style = \"text-align: right;\">0.0</td><td style = \"text-align: left;\">phylum level</td><td style = \"text-align: right;\">2</td><td style = \"text-align: right;\">311</td><td style = \"text-align: left;\">Replication initiator protein A</td><td style = \"text-align: left;\">S</td><td style = \"text-align: left;\">2Z8BZ@2</td></tr><tr><td class = \"rowNumber\" style = \"font-weight: bold; text-align: right;\">10</td><td style = \"text-align: right;\">1</td><td style = \"text-align: right;\">0.0</td><td style = \"text-align: right;\">4.21594</td><td style = \"text-align: right;\">150</td><td style = \"text-align: right;\">206</td><td style = \"text-align: left;\">Bacteroidetes</td><td style = \"text-align: left;\">Firmicutes</td><td style = \"text-align: left;\">Phocaeicola vulgatus</td><td style = \"text-align: left;\">[Ruminococcus] gnavus</td><td style = \"text-align: left;\">Phocaeicola vulgatus_22</td><td style = \"text-align: left;\">Bifidobacterium breve_22</td><td style = \"text-align: left;\">2Z8G6</td><td style = \"text-align: right;\">153</td><td style = \"text-align: right;\">0.421348</td><td style = \"text-align: right;\">1.0</td><td style = \"text-align: right;\">0.0</td><td style = \"text-align: right;\">2.50667</td><td style = \"text-align: right;\">1.67017</td><td style = \"text-align: right;\">1.67017</td><td style = \"text-align: right;\">1.0</td><td style = \"text-align: right;\">1.4758e-72</td><td style = \"text-align: right;\">0.0</td><td style = \"text-align: right;\">1.39678e-70</td><td style = \"text-align: right;\">7.71999e-67</td><td style = \"text-align: right;\">0.0</td><td style = \"text-align: left;\">phylum level</td><td style = \"text-align: right;\">2</td><td style = \"text-align: right;\">316</td><td style = \"text-align: left;\">Conjugative transposon TraJ protein</td><td style = \"text-align: left;\">S</td><td style = \"text-align: left;\">2Z8G6@2</td></tr><tr><td class = \"rowNumber\" style = \"font-weight: bold; text-align: right;\">11</td><td style = \"text-align: right;\">1</td><td style = \"text-align: right;\">0.0</td><td style = \"text-align: right;\">4.21594</td><td style = \"text-align: right;\">150</td><td style = \"text-align: right;\">206</td><td style = \"text-align: left;\">Bacteroidetes</td><td style = \"text-align: left;\">Firmicutes</td><td style = \"text-align: left;\">Phocaeicola vulgatus</td><td style = \"text-align: left;\">[Ruminococcus] gnavus</td><td style = \"text-align: left;\">Phocaeicola vulgatus_22</td><td style = \"text-align: left;\">Bifidobacterium breve_22</td><td style = \"text-align: left;\">2Z8HY</td><td style = \"text-align: right;\">159</td><td style = \"text-align: right;\">0.396067</td><td style = \"text-align: right;\">0.0</td><td style = \"text-align: right;\">0.684466</td><td style = \"text-align: right;\">1.06069</td><td style = \"text-align: right;\">1.26553</td><td style = \"text-align: right;\">-1.05476</td><td style = \"text-align: right;\">-0.684466</td><td style = \"text-align: right;\">3.96752e-36</td><td style = \"text-align: right;\">0.0</td><td style = \"text-align: right;\">3.17587e-34</td><td style = \"text-align: right;\">2.07543e-30</td><td style = \"text-align: right;\">0.0</td><td style = \"text-align: left;\">phylum level</td><td style = \"text-align: right;\">2</td><td style = \"text-align: right;\">166</td><td style = \"text-align: left;\">Conjugative transposon protein TcpC</td><td style = \"text-align: left;\">S</td><td style = \"text-align: left;\">2Z8HY@2</td></tr><tr><td class = \"rowNumber\" style = \"font-weight: bold; text-align: right;\">12</td><td style = \"text-align: right;\">1</td><td style = \"text-align: right;\">0.0</td><td style = \"text-align: right;\">4.21594</td><td style = \"text-align: right;\">150</td><td style = \"text-align: right;\">206</td><td style = \"text-align: left;\">Bacteroidetes</td><td style = \"text-align: left;\">Firmicutes</td><td style = \"text-align: left;\">Phocaeicola vulgatus</td><td style = \"text-align: left;\">[Ruminococcus] gnavus</td><td style = \"text-align: left;\">Phocaeicola vulgatus_22</td><td style = \"text-align: left;\">Bifidobacterium breve_22</td><td style = \"text-align: left;\">2Z8RA</td><td style = \"text-align: right;\">185</td><td style = \"text-align: right;\">0.36236</td><td style = \"text-align: right;\">0.86</td><td style = \"text-align: right;\">0.0</td><td style = \"text-align: right;\">1.27333</td><td style = \"text-align: right;\">1.07964</td><td style = \"text-align: right;\">1.07964</td><td style = \"text-align: right;\">0.86</td><td style = \"text-align: right;\">1.85166e-59</td><td style = \"text-align: right;\">0.0</td><td style = \"text-align: right;\">1.67406e-57</td><td style = \"text-align: right;\">9.68612e-54</td><td style = \"text-align: right;\">0.0</td><td style = \"text-align: left;\">phylum level</td><td style = \"text-align: right;\">2</td><td style = \"text-align: right;\">112</td><td style = \"text-align: left;\">Psort location Cytoplasmic, score 8.96</td><td style = \"text-align: left;\">S</td><td style = \"text-align: left;\">2Z8RA@2</td></tr><tr><td class = \"rowNumber\" style = \"font-weight: bold; text-align: right;\">13</td><td style = \"text-align: right;\">1</td><td style = \"text-align: right;\">0.0</td><td style = \"text-align: right;\">4.21594</td><td style = \"text-align: right;\">150</td><td style = \"text-align: right;\">206</td><td style = \"text-align: left;\">Bacteroidetes</td><td style = \"text-align: left;\">Firmicutes</td><td style = \"text-align: left;\">Phocaeicola vulgatus</td><td style = \"text-align: left;\">[Ruminococcus] gnavus</td><td style = \"text-align: left;\">Phocaeicola vulgatus_22</td><td style = \"text-align: left;\">Bifidobacterium breve_22</td><td style = \"text-align: left;\">2Z913</td><td style = \"text-align: right;\">220</td><td style = \"text-align: right;\">0.421348</td><td style = \"text-align: right;\">1.0</td><td style = \"text-align: right;\">0.0</td><td style = \"text-align: right;\">1.23333</td><td style = \"text-align: right;\">1.13649</td><td style = \"text-align: right;\">1.13649</td><td style = \"text-align: right;\">1.0</td><td style = \"text-align: right;\">3.67603e-75</td><td style = \"text-align: right;\">0.0</td><td style = \"text-align: right;\">3.51159e-73</td><td style = \"text-align: right;\">1.92294e-69</td><td style = \"text-align: right;\">0.0</td><td style = \"text-align: left;\">phylum level</td><td style = \"text-align: right;\">2</td><td style = \"text-align: right;\">134</td><td style = \"text-align: left;\">non supervised orthologous group</td><td style = \"text-align: left;\">S</td><td style = \"text-align: left;\">2Z913@2</td></tr><tr><td style = \"text-align: right;\">&vellip;</td><td style = \"text-align: right;\">&vellip;</td><td style = \"text-align: right;\">&vellip;</td><td style = \"text-align: right;\">&vellip;</td><td style = \"text-align: right;\">&vellip;</td><td style = \"text-align: right;\">&vellip;</td><td style = \"text-align: right;\">&vellip;</td><td style = \"text-align: right;\">&vellip;</td><td style = \"text-align: right;\">&vellip;</td><td style = \"text-align: right;\">&vellip;</td><td style = \"text-align: right;\">&vellip;</td><td style = \"text-align: right;\">&vellip;</td><td style = \"text-align: right;\">&vellip;</td><td style = \"text-align: right;\">&vellip;</td><td style = \"text-align: right;\">&vellip;</td><td style = \"text-align: right;\">&vellip;</td><td style = \"text-align: right;\">&vellip;</td><td style = \"text-align: right;\">&vellip;</td><td style = \"text-align: right;\">&vellip;</td><td style = \"text-align: right;\">&vellip;</td><td style = \"text-align: right;\">&vellip;</td><td style = \"text-align: right;\">&vellip;</td><td style = \"text-align: right;\">&vellip;</td><td style = \"text-align: right;\">&vellip;</td><td style = \"text-align: right;\">&vellip;</td><td style = \"text-align: right;\">&vellip;</td><td style = \"text-align: right;\">&vellip;</td><td style = \"text-align: right;\">&vellip;</td><td style = \"text-align: right;\">&vellip;</td><td style = \"text-align: right;\">&vellip;</td><td style = \"text-align: right;\">&vellip;</td><td style = \"text-align: right;\">&vellip;</td></tr><tr><td class = \"rowNumber\" style = \"font-weight: bold; text-align: right;\">1625</td><td style = \"text-align: right;\">563</td><td style = \"text-align: right;\">2.02715</td><td style = \"text-align: right;\">2.1888</td><td style = \"text-align: right;\">26</td><td style = \"text-align: right;\">17</td><td style = \"text-align: left;\">Firmicutes</td><td style = \"text-align: left;\">Firmicutes</td><td style = \"text-align: left;\">Blautia wexlerae</td><td style = \"text-align: left;\">Blautia luti</td><td style = \"text-align: left;\">Blautia wexlerae_15</td><td style = \"text-align: left;\">Blautia wexlerae_6</td><td style = \"text-align: left;\">COG4403</td><td style = \"text-align: right;\">5097</td><td style = \"text-align: right;\">0.252809</td><td style = \"text-align: right;\">1.0</td><td style = \"text-align: right;\">0.176471</td><td style = \"text-align: right;\">1.4759</td><td style = \"text-align: right;\">1.06939</td><td style = \"text-align: right;\">1.172</td><td style = \"text-align: right;\">0.830317</td><td style = \"text-align: right;\">2.17093e-6</td><td style = \"text-align: right;\">0.0</td><td style = \"text-align: right;\">5.9187e-5</td><td style = \"text-align: right;\">1.0</td><td style = \"text-align: right;\">0.0</td><td style = \"text-align: left;\">species level</td><td style = \"text-align: right;\">2</td><td style = \"text-align: right;\">1276</td><td style = \"text-align: left;\">Lanthionine synthetase C family protein</td><td style = \"text-align: left;\">V</td><td style = \"text-align: left;\">COG4403@2</td></tr><tr><td class = \"rowNumber\" style = \"font-weight: bold; text-align: right;\">1626</td><td style = \"text-align: right;\">563</td><td style = \"text-align: right;\">2.02715</td><td style = \"text-align: right;\">2.1888</td><td style = \"text-align: right;\">26</td><td style = \"text-align: right;\">17</td><td style = \"text-align: left;\">Firmicutes</td><td style = \"text-align: left;\">Firmicutes</td><td style = \"text-align: left;\">Blautia wexlerae</td><td style = \"text-align: left;\">Blautia luti</td><td style = \"text-align: left;\">Blautia wexlerae_15</td><td style = \"text-align: left;\">Blautia wexlerae_6</td><td style = \"text-align: left;\">COG4512</td><td style = \"text-align: right;\">5130</td><td style = \"text-align: right;\">0.216292</td><td style = \"text-align: right;\">0.961538</td><td style = \"text-align: right;\">0.235294</td><td style = \"text-align: right;\">2.04775</td><td style = \"text-align: right;\">1.25532</td><td style = \"text-align: right;\">1.36061</td><td style = \"text-align: right;\">0.88914</td><td style = \"text-align: right;\">5.11599e-7</td><td style = \"text-align: right;\">0.0</td><td style = \"text-align: right;\">1.50848e-5</td><td style = \"text-align: right;\">0.267619</td><td style = \"text-align: right;\">0.0</td><td style = \"text-align: left;\">species level</td><td style = \"text-align: right;\">2</td><td style = \"text-align: right;\">482</td><td style = \"text-align: left;\">PFAM Accessory gene regulator B</td><td style = \"text-align: left;\">KOT</td><td style = \"text-align: left;\">COG4512@2</td></tr><tr><td class = \"rowNumber\" style = \"font-weight: bold; text-align: right;\">1627</td><td style = \"text-align: right;\">563</td><td style = \"text-align: right;\">2.02715</td><td style = \"text-align: right;\">2.1888</td><td style = \"text-align: right;\">26</td><td style = \"text-align: right;\">17</td><td style = \"text-align: left;\">Firmicutes</td><td style = \"text-align: left;\">Firmicutes</td><td style = \"text-align: left;\">Blautia wexlerae</td><td style = \"text-align: left;\">Blautia luti</td><td style = \"text-align: left;\">Blautia wexlerae_15</td><td style = \"text-align: left;\">Blautia wexlerae_6</td><td style = \"text-align: left;\">COG4636</td><td style = \"text-align: right;\">5167</td><td style = \"text-align: right;\">0.292135</td><td style = \"text-align: right;\">1.0</td><td style = \"text-align: right;\">0.647059</td><td style = \"text-align: right;\">5.68595</td><td style = \"text-align: right;\">1.96848</td><td style = \"text-align: right;\">1.92804</td><td style = \"text-align: right;\">0.941176</td><td style = \"text-align: right;\">1.80726e-7</td><td style = \"text-align: right;\">0.0</td><td style = \"text-align: right;\">5.56731e-6</td><td style = \"text-align: right;\">0.0945385</td><td style = \"text-align: right;\">0.0</td><td style = \"text-align: left;\">species level</td><td style = \"text-align: right;\">2</td><td style = \"text-align: right;\">9356</td><td style = \"text-align: left;\">protein conserved in cyanobacteria</td><td style = \"text-align: left;\">D</td><td style = \"text-align: left;\">COG4636@2</td></tr><tr><td class = \"rowNumber\" style = \"font-weight: bold; text-align: right;\">1628</td><td style = \"text-align: right;\">563</td><td style = \"text-align: right;\">2.02715</td><td style = \"text-align: right;\">2.1888</td><td style = \"text-align: right;\">26</td><td style = \"text-align: right;\">17</td><td style = \"text-align: left;\">Firmicutes</td><td style = \"text-align: left;\">Firmicutes</td><td style = \"text-align: left;\">Blautia wexlerae</td><td style = \"text-align: left;\">Blautia luti</td><td style = \"text-align: left;\">Blautia wexlerae_15</td><td style = \"text-align: left;\">Blautia wexlerae_6</td><td style = \"text-align: left;\">COG4637</td><td style = \"text-align: right;\">5168</td><td style = \"text-align: right;\">0.926966</td><td style = \"text-align: right;\">1.0</td><td style = \"text-align: right;\">0.941176</td><td style = \"text-align: right;\">4.94918</td><td style = \"text-align: right;\">1.34318</td><td style = \"text-align: right;\">1.39639</td><td style = \"text-align: right;\">0.99095</td><td style = \"text-align: right;\">2.69923e-8</td><td style = \"text-align: right;\">0.0</td><td style = \"text-align: right;\">8.86364e-7</td><td style = \"text-align: right;\">0.0141198</td><td style = \"text-align: right;\">0.0</td><td style = \"text-align: left;\">species level</td><td style = \"text-align: right;\">2</td><td style = \"text-align: right;\">2431</td><td style = \"text-align: left;\">Psort location Cytoplasmic, score</td><td style = \"text-align: left;\">L</td><td style = \"text-align: left;\">COG4637@2</td></tr><tr><td class = \"rowNumber\" style = \"font-weight: bold; text-align: right;\">1629</td><td style = \"text-align: right;\">563</td><td style = \"text-align: right;\">2.02715</td><td style = \"text-align: right;\">2.1888</td><td style = \"text-align: right;\">26</td><td style = \"text-align: right;\">17</td><td style = \"text-align: left;\">Firmicutes</td><td style = \"text-align: left;\">Firmicutes</td><td style = \"text-align: left;\">Blautia wexlerae</td><td style = \"text-align: left;\">Blautia luti</td><td style = \"text-align: left;\">Blautia wexlerae_15</td><td style = \"text-align: left;\">Blautia wexlerae_6</td><td style = \"text-align: left;\">COG4733</td><td style = \"text-align: right;\">5215</td><td style = \"text-align: right;\">0.876404</td><td style = \"text-align: right;\">1.0</td><td style = \"text-align: right;\">1.0</td><td style = \"text-align: right;\">4.87755</td><td style = \"text-align: right;\">0.715946</td><td style = \"text-align: right;\">1.12507</td><td style = \"text-align: right;\">0.977376</td><td style = \"text-align: right;\">3.80882e-8</td><td style = \"text-align: right;\">0.0</td><td style = \"text-align: right;\">1.23568e-6</td><td style = \"text-align: right;\">0.0199241</td><td style = \"text-align: right;\">0.0</td><td style = \"text-align: left;\">species level</td><td style = \"text-align: right;\">2</td><td style = \"text-align: right;\">5787</td><td style = \"text-align: left;\">cellulase activity</td><td style = \"text-align: left;\">S</td><td style = \"text-align: left;\">COG4733@2</td></tr><tr><td class = \"rowNumber\" style = \"font-weight: bold; text-align: right;\">1630</td><td style = \"text-align: right;\">563</td><td style = \"text-align: right;\">2.02715</td><td style = \"text-align: right;\">2.1888</td><td style = \"text-align: right;\">26</td><td style = \"text-align: right;\">17</td><td style = \"text-align: left;\">Firmicutes</td><td style = \"text-align: left;\">Firmicutes</td><td style = \"text-align: left;\">Blautia wexlerae</td><td style = \"text-align: left;\">Blautia luti</td><td style = \"text-align: left;\">Blautia wexlerae_15</td><td style = \"text-align: left;\">Blautia wexlerae_6</td><td style = \"text-align: left;\">COG4734</td><td style = \"text-align: right;\">5216</td><td style = \"text-align: right;\">0.789326</td><td style = \"text-align: right;\">1.0</td><td style = \"text-align: right;\">0.823529</td><td style = \"text-align: right;\">4.93908</td><td style = \"text-align: right;\">1.42044</td><td style = \"text-align: right;\">1.34377</td><td style = \"text-align: right;\">0.81448</td><td style = \"text-align: right;\">6.34567e-6</td><td style = \"text-align: right;\">0.0</td><td style = \"text-align: right;\">0.000163536</td><td style = \"text-align: right;\">1.0</td><td style = \"text-align: right;\">0.0</td><td style = \"text-align: left;\">species level</td><td style = \"text-align: right;\">2</td><td style = \"text-align: right;\">761</td><td style = \"text-align: left;\">Antirestriction protein (ArdA)</td><td style = \"text-align: left;\">S</td><td style = \"text-align: left;\">COG4734@2</td></tr><tr><td class = \"rowNumber\" style = \"font-weight: bold; text-align: right;\">1631</td><td style = \"text-align: right;\">563</td><td style = \"text-align: right;\">2.02715</td><td style = \"text-align: right;\">2.1888</td><td style = \"text-align: right;\">26</td><td style = \"text-align: right;\">17</td><td style = \"text-align: left;\">Firmicutes</td><td style = \"text-align: left;\">Firmicutes</td><td style = \"text-align: left;\">Blautia wexlerae</td><td style = \"text-align: left;\">Blautia luti</td><td style = \"text-align: left;\">Blautia wexlerae_15</td><td style = \"text-align: left;\">Blautia wexlerae_6</td><td style = \"text-align: left;\">COG4823</td><td style = \"text-align: right;\">5252</td><td style = \"text-align: right;\">0.705056</td><td style = \"text-align: right;\">0.961538</td><td style = \"text-align: right;\">0.352941</td><td style = \"text-align: right;\">2.30332</td><td style = \"text-align: right;\">1.20282</td><td style = \"text-align: right;\">1.34964</td><td style = \"text-align: right;\">0.839367</td><td style = \"text-align: right;\">2.28089e-6</td><td style = \"text-align: right;\">0.0</td><td style = \"text-align: right;\">6.21169e-5</td><td style = \"text-align: right;\">1.0</td><td style = \"text-align: right;\">0.0</td><td style = \"text-align: left;\">species level</td><td style = \"text-align: right;\">2</td><td style = \"text-align: right;\">857</td><td style = \"text-align: left;\">Abi-like protein</td><td style = \"text-align: left;\">V</td><td style = \"text-align: left;\">COG4823@2</td></tr><tr><td class = \"rowNumber\" style = \"font-weight: bold; text-align: right;\">1632</td><td style = \"text-align: right;\">563</td><td style = \"text-align: right;\">2.02715</td><td style = \"text-align: right;\">2.1888</td><td style = \"text-align: right;\">26</td><td style = \"text-align: right;\">17</td><td style = \"text-align: left;\">Firmicutes</td><td style = \"text-align: left;\">Firmicutes</td><td style = \"text-align: left;\">Blautia wexlerae</td><td style = \"text-align: left;\">Blautia luti</td><td style = \"text-align: left;\">Blautia wexlerae_15</td><td style = \"text-align: left;\">Blautia wexlerae_6</td><td style = \"text-align: left;\">COG4886</td><td style = \"text-align: right;\">5275</td><td style = \"text-align: right;\">0.789326</td><td style = \"text-align: right;\">1.0</td><td style = \"text-align: right;\">1.0</td><td style = \"text-align: right;\">6.20217</td><td style = \"text-align: right;\">1.57738</td><td style = \"text-align: right;\">1.38005</td><td style = \"text-align: right;\">0.938914</td><td style = \"text-align: right;\">1.96785e-7</td><td style = \"text-align: right;\">0.0</td><td style = \"text-align: right;\">6.04776e-6</td><td style = \"text-align: right;\">0.102939</td><td style = \"text-align: right;\">0.0</td><td style = \"text-align: left;\">species level</td><td style = \"text-align: right;\">2</td><td style = \"text-align: right;\">8357</td><td style = \"text-align: left;\">regulation of response to stimulus</td><td style = \"text-align: left;\">S</td><td style = \"text-align: left;\">COG4886@2</td></tr><tr><td class = \"rowNumber\" style = \"font-weight: bold; text-align: right;\">1633</td><td style = \"text-align: right;\">563</td><td style = \"text-align: right;\">2.02715</td><td style = \"text-align: right;\">2.1888</td><td style = \"text-align: right;\">26</td><td style = \"text-align: right;\">17</td><td style = \"text-align: left;\">Firmicutes</td><td style = \"text-align: left;\">Firmicutes</td><td style = \"text-align: left;\">Blautia wexlerae</td><td style = \"text-align: left;\">Blautia luti</td><td style = \"text-align: left;\">Blautia wexlerae_15</td><td style = \"text-align: left;\">Blautia wexlerae_6</td><td style = \"text-align: left;\">COG4942</td><td style = \"text-align: right;\">5304</td><td style = \"text-align: right;\">0.83427</td><td style = \"text-align: right;\">1.0</td><td style = \"text-align: right;\">0.117647</td><td style = \"text-align: right;\">2.32986</td><td style = \"text-align: right;\">1.54384</td><td style = \"text-align: right;\">1.61661</td><td style = \"text-align: right;\">0.959276</td><td style = \"text-align: right;\">4.3591e-8</td><td style = \"text-align: right;\">0.0</td><td style = \"text-align: right;\">1.41088e-6</td><td style = \"text-align: right;\">0.0228026</td><td style = \"text-align: right;\">0.0</td><td style = \"text-align: left;\">species level</td><td style = \"text-align: right;\">2</td><td style = \"text-align: right;\">5927</td><td style = \"text-align: left;\">peptidase</td><td style = \"text-align: left;\">D</td><td style = \"text-align: left;\">COG4942@2</td></tr><tr><td class = \"rowNumber\" style = \"font-weight: bold; text-align: right;\">1634</td><td style = \"text-align: right;\">563</td><td style = \"text-align: right;\">2.02715</td><td style = \"text-align: right;\">2.1888</td><td style = \"text-align: right;\">26</td><td style = \"text-align: right;\">17</td><td style = \"text-align: left;\">Firmicutes</td><td style = \"text-align: left;\">Firmicutes</td><td style = \"text-align: left;\">Blautia wexlerae</td><td style = \"text-align: left;\">Blautia luti</td><td style = \"text-align: left;\">Blautia wexlerae_15</td><td style = \"text-align: left;\">Blautia wexlerae_6</td><td style = \"text-align: left;\">COG4974</td><td style = \"text-align: right;\">5320</td><td style = \"text-align: right;\">1.0</td><td style = \"text-align: right;\">1.0</td><td style = \"text-align: right;\">1.0</td><td style = \"text-align: right;\">8.93632</td><td style = \"text-align: right;\">1.31099</td><td style = \"text-align: right;\">1.07905</td><td style = \"text-align: right;\">0.841629</td><td style = \"text-align: right;\">3.64885e-6</td><td style = \"text-align: right;\">0.0</td><td style = \"text-align: right;\">9.60076e-5</td><td style = \"text-align: right;\">1.0</td><td style = \"text-align: right;\">0.0</td><td style = \"text-align: left;\">species level</td><td style = \"text-align: right;\">2</td><td style = \"text-align: right;\">19576</td><td style = \"text-align: left;\">Belongs to the &apos;phage&apos; integrase family</td><td style = \"text-align: left;\">L</td><td style = \"text-align: left;\">COG4974@2</td></tr><tr><td class = \"rowNumber\" style = \"font-weight: bold; text-align: right;\">1635</td><td style = \"text-align: right;\">563</td><td style = \"text-align: right;\">2.02715</td><td style = \"text-align: right;\">2.1888</td><td style = \"text-align: right;\">26</td><td style = \"text-align: right;\">17</td><td style = \"text-align: left;\">Firmicutes</td><td style = \"text-align: left;\">Firmicutes</td><td style = \"text-align: left;\">Blautia wexlerae</td><td style = \"text-align: left;\">Blautia luti</td><td style = \"text-align: left;\">Blautia wexlerae_15</td><td style = \"text-align: left;\">Blautia wexlerae_6</td><td style = \"text-align: left;\">COG5337</td><td style = \"text-align: right;\">5378</td><td style = \"text-align: right;\">0.230337</td><td style = \"text-align: right;\">1.0</td><td style = \"text-align: right;\">0.235294</td><td style = \"text-align: right;\">1.14015</td><td style = \"text-align: right;\">0.850123</td><td style = \"text-align: right;\">1.10218</td><td style = \"text-align: right;\">0.900452</td><td style = \"text-align: right;\">1.6712e-7</td><td style = \"text-align: right;\">0.0</td><td style = \"text-align: right;\">5.16612e-6</td><td style = \"text-align: right;\">0.0874211</td><td style = \"text-align: right;\">0.0</td><td style = \"text-align: left;\">species level</td><td style = \"text-align: right;\">2</td><td style = \"text-align: right;\">739</td><td style = \"text-align: left;\">Spore coat protein CotH</td><td style = \"text-align: left;\">M</td><td style = \"text-align: left;\">COG5337@2</td></tr><tr><td class = \"rowNumber\" style = \"font-weight: bold; text-align: right;\">1636</td><td style = \"text-align: right;\">563</td><td style = \"text-align: right;\">2.02715</td><td style = \"text-align: right;\">2.1888</td><td style = \"text-align: right;\">26</td><td style = \"text-align: right;\">17</td><td style = \"text-align: left;\">Firmicutes</td><td style = \"text-align: left;\">Firmicutes</td><td style = \"text-align: left;\">Blautia wexlerae</td><td style = \"text-align: left;\">Blautia luti</td><td style = \"text-align: left;\">Blautia wexlerae_15</td><td style = \"text-align: left;\">Blautia wexlerae_6</td><td style = \"text-align: left;\">COG5464</td><td style = \"text-align: right;\">5402</td><td style = \"text-align: right;\">0.86236</td><td style = \"text-align: right;\">1.0</td><td style = \"text-align: right;\">0.941176</td><td style = \"text-align: right;\">8.51501</td><td style = \"text-align: right;\">1.52198</td><td style = \"text-align: right;\">1.23263</td><td style = \"text-align: right;\">0.938914</td><td style = \"text-align: right;\">2.18163e-7</td><td style = \"text-align: right;\">0.0</td><td style = \"text-align: right;\">6.66757e-6</td><td style = \"text-align: right;\">0.114122</td><td style = \"text-align: right;\">0.0</td><td style = \"text-align: left;\">species level</td><td style = \"text-align: right;\">2</td><td style = \"text-align: right;\">5448</td><td style = \"text-align: left;\">double-stranded DNA endodeoxyribonuclease activity</td><td style = \"text-align: left;\">S</td><td style = \"text-align: left;\">COG5464@2</td></tr></tbody></table></div>"
      ],
      "text/latex": [
       "\\begin{tabular}{r|cccccccc}\n",
       "\t& nodeids & nodedepth & nodeheight & grp1\\_N & grp2\\_N & grp1\\_phylum\\_mode & grp2\\_phylum\\_mode & \\\\\n",
       "\t\\hline\n",
       "\t& Int64 & Float64 & Float64 & Int64 & Int64 & String15 & String15 & \\\\\n",
       "\t\\hline\n",
       "\t1 & 1 & 0.0 & 4.21594 & 150 & 206 & Bacteroidetes & Firmicutes & $\\dots$ \\\\\n",
       "\t2 & 1 & 0.0 & 4.21594 & 150 & 206 & Bacteroidetes & Firmicutes & $\\dots$ \\\\\n",
       "\t3 & 1 & 0.0 & 4.21594 & 150 & 206 & Bacteroidetes & Firmicutes & $\\dots$ \\\\\n",
       "\t4 & 1 & 0.0 & 4.21594 & 150 & 206 & Bacteroidetes & Firmicutes & $\\dots$ \\\\\n",
       "\t5 & 1 & 0.0 & 4.21594 & 150 & 206 & Bacteroidetes & Firmicutes & $\\dots$ \\\\\n",
       "\t6 & 1 & 0.0 & 4.21594 & 150 & 206 & Bacteroidetes & Firmicutes & $\\dots$ \\\\\n",
       "\t7 & 1 & 0.0 & 4.21594 & 150 & 206 & Bacteroidetes & Firmicutes & $\\dots$ \\\\\n",
       "\t8 & 1 & 0.0 & 4.21594 & 150 & 206 & Bacteroidetes & Firmicutes & $\\dots$ \\\\\n",
       "\t9 & 1 & 0.0 & 4.21594 & 150 & 206 & Bacteroidetes & Firmicutes & $\\dots$ \\\\\n",
       "\t10 & 1 & 0.0 & 4.21594 & 150 & 206 & Bacteroidetes & Firmicutes & $\\dots$ \\\\\n",
       "\t11 & 1 & 0.0 & 4.21594 & 150 & 206 & Bacteroidetes & Firmicutes & $\\dots$ \\\\\n",
       "\t12 & 1 & 0.0 & 4.21594 & 150 & 206 & Bacteroidetes & Firmicutes & $\\dots$ \\\\\n",
       "\t13 & 1 & 0.0 & 4.21594 & 150 & 206 & Bacteroidetes & Firmicutes & $\\dots$ \\\\\n",
       "\t14 & 1 & 0.0 & 4.21594 & 150 & 206 & Bacteroidetes & Firmicutes & $\\dots$ \\\\\n",
       "\t15 & 1 & 0.0 & 4.21594 & 150 & 206 & Bacteroidetes & Firmicutes & $\\dots$ \\\\\n",
       "\t16 & 1 & 0.0 & 4.21594 & 150 & 206 & Bacteroidetes & Firmicutes & $\\dots$ \\\\\n",
       "\t17 & 1 & 0.0 & 4.21594 & 150 & 206 & Bacteroidetes & Firmicutes & $\\dots$ \\\\\n",
       "\t18 & 1 & 0.0 & 4.21594 & 150 & 206 & Bacteroidetes & Firmicutes & $\\dots$ \\\\\n",
       "\t19 & 1 & 0.0 & 4.21594 & 150 & 206 & Bacteroidetes & Firmicutes & $\\dots$ \\\\\n",
       "\t20 & 1 & 0.0 & 4.21594 & 150 & 206 & Bacteroidetes & Firmicutes & $\\dots$ \\\\\n",
       "\t21 & 1 & 0.0 & 4.21594 & 150 & 206 & Bacteroidetes & Firmicutes & $\\dots$ \\\\\n",
       "\t22 & 1 & 0.0 & 4.21594 & 150 & 206 & Bacteroidetes & Firmicutes & $\\dots$ \\\\\n",
       "\t23 & 1 & 0.0 & 4.21594 & 150 & 206 & Bacteroidetes & Firmicutes & $\\dots$ \\\\\n",
       "\t24 & 1 & 0.0 & 4.21594 & 150 & 206 & Bacteroidetes & Firmicutes & $\\dots$ \\\\\n",
       "\t$\\dots$ & $\\dots$ & $\\dots$ & $\\dots$ & $\\dots$ & $\\dots$ & $\\dots$ & $\\dots$ &  \\\\\n",
       "\\end{tabular}\n"
      ],
      "text/plain": [
       "\u001b[1m1636×31 DataFrame\u001b[0m\n",
       "\u001b[1m  Row \u001b[0m│\u001b[1m nodeids \u001b[0m\u001b[1m nodedepth \u001b[0m\u001b[1m nodeheight \u001b[0m\u001b[1m grp1_N \u001b[0m\u001b[1m grp2_N \u001b[0m\u001b[1m grp1_phylum_mode \u001b[0m\u001b[1m grp2\u001b[0m ⋯\n",
       "      │\u001b[90m Int64   \u001b[0m\u001b[90m Float64   \u001b[0m\u001b[90m Float64    \u001b[0m\u001b[90m Int64  \u001b[0m\u001b[90m Int64  \u001b[0m\u001b[90m String15         \u001b[0m\u001b[90m Stri\u001b[0m ⋯\n",
       "──────┼─────────────────────────────────────────────────────────────────────────\n",
       "    1 │       1    0.0         4.21594     150     206  Bacteroidetes     Firm ⋯\n",
       "    2 │       1    0.0         4.21594     150     206  Bacteroidetes     Firm\n",
       "    3 │       1    0.0         4.21594     150     206  Bacteroidetes     Firm\n",
       "    4 │       1    0.0         4.21594     150     206  Bacteroidetes     Firm\n",
       "    5 │       1    0.0         4.21594     150     206  Bacteroidetes     Firm ⋯\n",
       "    6 │       1    0.0         4.21594     150     206  Bacteroidetes     Firm\n",
       "    7 │       1    0.0         4.21594     150     206  Bacteroidetes     Firm\n",
       "    8 │       1    0.0         4.21594     150     206  Bacteroidetes     Firm\n",
       "  ⋮   │    ⋮         ⋮          ⋮         ⋮       ⋮            ⋮               ⋱\n",
       " 1630 │     563    2.02715     2.1888       26      17  Firmicutes        Firm ⋯\n",
       " 1631 │     563    2.02715     2.1888       26      17  Firmicutes        Firm\n",
       " 1632 │     563    2.02715     2.1888       26      17  Firmicutes        Firm\n",
       " 1633 │     563    2.02715     2.1888       26      17  Firmicutes        Firm\n",
       " 1634 │     563    2.02715     2.1888       26      17  Firmicutes        Firm ⋯\n",
       " 1635 │     563    2.02715     2.1888       26      17  Firmicutes        Firm\n",
       " 1636 │     563    2.02715     2.1888       26      17  Firmicutes        Firm\n",
       "\u001b[36m                                                25 columns and 1621 rows omitted\u001b[0m"
      ]
     },
     "metadata": {},
     "output_type": "display_data"
    }
   ],
   "source": [
    "sigdf = CSV.read(projectdir(\"_research/SuppTables/Supplementary_Table_2.csv\"), DataFrame, comment=\"#\") |>\n",
    "    df -> leftjoin(df, upvarmeta, on = :ogg_name => :og) |>\n",
    "    df -> filter(:description => !ismissing, df) |>\n",
    "    df -> filter(:qval_BH => <(0.05), df) |>\n",
    "    df -> filter(:log2FC => x->abs.(x) > 1, df) |>\n",
    "    df -> filter(:tree_level => !=(\"strain level\"), df)"
   ]
  },
  {
   "cell_type": "code",
   "execution_count": 17,
   "metadata": {},
   "outputs": [
    {
     "data": {
      "text/plain": [
       "3080"
      ]
     },
     "metadata": {},
     "output_type": "display_data"
    }
   ],
   "source": [
    "1851 + 1229"
   ]
  },
  {
   "cell_type": "code",
   "execution_count": 26,
   "metadata": {},
   "outputs": [
    {
     "data": {
      "text/html": [
       "<div><div style = \"float: left;\"><span>640×6 DataFrame</span></div><div style = \"float: right;\"><span style = \"font-style: italic;\">615 rows omitted</span></div><div style = \"clear: both;\"></div></div><div class = \"data-frame\" style = \"overflow-x: scroll;\"><table class = \"data-frame\" style = \"margin-bottom: 6px;\"><thead><tr class = \"header\"><th class = \"rowNumber\" style = \"font-weight: bold; text-align: right;\">Row</th><th style = \"text-align: left;\">metabolite_name</th><th style = \"text-align: left;\">fold</th><th style = \"text-align: left;\">resample</th><th style = \"text-align: left;\">rsquared_SLE_mean</th><th style = \"text-align: left;\">measure_model</th><th style = \"text-align: left;\">rsquared</th></tr><tr class = \"subheader headerLastRow\"><th class = \"rowNumber\" style = \"font-weight: bold; text-align: right;\"></th><th title = \"String31\" style = \"text-align: left;\">String31</th><th title = \"Int64\" style = \"text-align: left;\">Int64</th><th title = \"Int64\" style = \"text-align: left;\">Int64</th><th title = \"Float64\" style = \"text-align: left;\">Float64</th><th title = \"String15\" style = \"text-align: left;\">String15</th><th title = \"Float64\" style = \"text-align: left;\">Float64</th></tr></thead><tbody><tr><td class = \"rowNumber\" style = \"font-weight: bold; text-align: right;\">1</td><td style = \"text-align: left;\">2-Methylbutyrate</td><td style = \"text-align: right;\">1</td><td style = \"text-align: right;\">1</td><td style = \"text-align: right;\">0.464363</td><td style = \"text-align: left;\">rsquared_SLE</td><td style = \"text-align: right;\">0.502691</td></tr><tr><td class = \"rowNumber\" style = \"font-weight: bold; text-align: right;\">2</td><td style = \"text-align: left;\">2-Methylbutyrate</td><td style = \"text-align: right;\">2</td><td style = \"text-align: right;\">1</td><td style = \"text-align: right;\">0.464363</td><td style = \"text-align: left;\">rsquared_SLE</td><td style = \"text-align: right;\">0.493904</td></tr><tr><td class = \"rowNumber\" style = \"font-weight: bold; text-align: right;\">3</td><td style = \"text-align: left;\">2-Methylbutyrate</td><td style = \"text-align: right;\">3</td><td style = \"text-align: right;\">1</td><td style = \"text-align: right;\">0.464363</td><td style = \"text-align: left;\">rsquared_SLE</td><td style = \"text-align: right;\">0.570162</td></tr><tr><td class = \"rowNumber\" style = \"font-weight: bold; text-align: right;\">4</td><td style = \"text-align: left;\">2-Methylbutyrate</td><td style = \"text-align: right;\">4</td><td style = \"text-align: right;\">1</td><td style = \"text-align: right;\">0.464363</td><td style = \"text-align: left;\">rsquared_SLE</td><td style = \"text-align: right;\">0.599579</td></tr><tr><td class = \"rowNumber\" style = \"font-weight: bold; text-align: right;\">5</td><td style = \"text-align: left;\">2-Methylbutyrate</td><td style = \"text-align: right;\">1</td><td style = \"text-align: right;\">2</td><td style = \"text-align: right;\">0.464363</td><td style = \"text-align: left;\">rsquared_SLE</td><td style = \"text-align: right;\">0.460709</td></tr><tr><td class = \"rowNumber\" style = \"font-weight: bold; text-align: right;\">6</td><td style = \"text-align: left;\">2-Methylbutyrate</td><td style = \"text-align: right;\">2</td><td style = \"text-align: right;\">2</td><td style = \"text-align: right;\">0.464363</td><td style = \"text-align: left;\">rsquared_SLE</td><td style = \"text-align: right;\">0.527259</td></tr><tr><td class = \"rowNumber\" style = \"font-weight: bold; text-align: right;\">7</td><td style = \"text-align: left;\">2-Methylbutyrate</td><td style = \"text-align: right;\">3</td><td style = \"text-align: right;\">2</td><td style = \"text-align: right;\">0.464363</td><td style = \"text-align: left;\">rsquared_SLE</td><td style = \"text-align: right;\">0.323358</td></tr><tr><td class = \"rowNumber\" style = \"font-weight: bold; text-align: right;\">8</td><td style = \"text-align: left;\">2-Methylbutyrate</td><td style = \"text-align: right;\">4</td><td style = \"text-align: right;\">2</td><td style = \"text-align: right;\">0.464363</td><td style = \"text-align: left;\">rsquared_SLE</td><td style = \"text-align: right;\">0.341231</td></tr><tr><td class = \"rowNumber\" style = \"font-weight: bold; text-align: right;\">9</td><td style = \"text-align: left;\">2-Methylbutyrate</td><td style = \"text-align: right;\">1</td><td style = \"text-align: right;\">3</td><td style = \"text-align: right;\">0.464363</td><td style = \"text-align: left;\">rsquared_SLE</td><td style = \"text-align: right;\">-0.00293538</td></tr><tr><td class = \"rowNumber\" style = \"font-weight: bold; text-align: right;\">10</td><td style = \"text-align: left;\">2-Methylbutyrate</td><td style = \"text-align: right;\">2</td><td style = \"text-align: right;\">3</td><td style = \"text-align: right;\">0.464363</td><td style = \"text-align: left;\">rsquared_SLE</td><td style = \"text-align: right;\">0.451128</td></tr><tr><td class = \"rowNumber\" style = \"font-weight: bold; text-align: right;\">11</td><td style = \"text-align: left;\">2-Methylbutyrate</td><td style = \"text-align: right;\">3</td><td style = \"text-align: right;\">3</td><td style = \"text-align: right;\">0.464363</td><td style = \"text-align: left;\">rsquared_SLE</td><td style = \"text-align: right;\">0.514898</td></tr><tr><td class = \"rowNumber\" style = \"font-weight: bold; text-align: right;\">12</td><td style = \"text-align: left;\">2-Methylbutyrate</td><td style = \"text-align: right;\">4</td><td style = \"text-align: right;\">3</td><td style = \"text-align: right;\">0.464363</td><td style = \"text-align: left;\">rsquared_SLE</td><td style = \"text-align: right;\">0.501543</td></tr><tr><td class = \"rowNumber\" style = \"font-weight: bold; text-align: right;\">13</td><td style = \"text-align: left;\">2-Methylbutyrate</td><td style = \"text-align: right;\">1</td><td style = \"text-align: right;\">4</td><td style = \"text-align: right;\">0.464363</td><td style = \"text-align: left;\">rsquared_SLE</td><td style = \"text-align: right;\">0.526799</td></tr><tr><td style = \"text-align: right;\">&vellip;</td><td style = \"text-align: right;\">&vellip;</td><td style = \"text-align: right;\">&vellip;</td><td style = \"text-align: right;\">&vellip;</td><td style = \"text-align: right;\">&vellip;</td><td style = \"text-align: right;\">&vellip;</td><td style = \"text-align: right;\">&vellip;</td></tr><tr><td class = \"rowNumber\" style = \"font-weight: bold; text-align: right;\">629</td><td style = \"text-align: left;\">Valine</td><td style = \"text-align: right;\">1</td><td style = \"text-align: right;\">3</td><td style = \"text-align: right;\">0.174962</td><td style = \"text-align: left;\">rsquared_SLE</td><td style = \"text-align: right;\">0.260573</td></tr><tr><td class = \"rowNumber\" style = \"font-weight: bold; text-align: right;\">630</td><td style = \"text-align: left;\">Valine</td><td style = \"text-align: right;\">2</td><td style = \"text-align: right;\">3</td><td style = \"text-align: right;\">0.174962</td><td style = \"text-align: left;\">rsquared_SLE</td><td style = \"text-align: right;\">0.266972</td></tr><tr><td class = \"rowNumber\" style = \"font-weight: bold; text-align: right;\">631</td><td style = \"text-align: left;\">Valine</td><td style = \"text-align: right;\">3</td><td style = \"text-align: right;\">3</td><td style = \"text-align: right;\">0.174962</td><td style = \"text-align: left;\">rsquared_SLE</td><td style = \"text-align: right;\">0.049776</td></tr><tr><td class = \"rowNumber\" style = \"font-weight: bold; text-align: right;\">632</td><td style = \"text-align: left;\">Valine</td><td style = \"text-align: right;\">4</td><td style = \"text-align: right;\">3</td><td style = \"text-align: right;\">0.174962</td><td style = \"text-align: left;\">rsquared_SLE</td><td style = \"text-align: right;\">0.144397</td></tr><tr><td class = \"rowNumber\" style = \"font-weight: bold; text-align: right;\">633</td><td style = \"text-align: left;\">Valine</td><td style = \"text-align: right;\">1</td><td style = \"text-align: right;\">4</td><td style = \"text-align: right;\">0.174962</td><td style = \"text-align: left;\">rsquared_SLE</td><td style = \"text-align: right;\">0.237349</td></tr><tr><td class = \"rowNumber\" style = \"font-weight: bold; text-align: right;\">634</td><td style = \"text-align: left;\">Valine</td><td style = \"text-align: right;\">2</td><td style = \"text-align: right;\">4</td><td style = \"text-align: right;\">0.174962</td><td style = \"text-align: left;\">rsquared_SLE</td><td style = \"text-align: right;\">0.210397</td></tr><tr><td class = \"rowNumber\" style = \"font-weight: bold; text-align: right;\">635</td><td style = \"text-align: left;\">Valine</td><td style = \"text-align: right;\">3</td><td style = \"text-align: right;\">4</td><td style = \"text-align: right;\">0.174962</td><td style = \"text-align: left;\">rsquared_SLE</td><td style = \"text-align: right;\">0.171787</td></tr><tr><td class = \"rowNumber\" style = \"font-weight: bold; text-align: right;\">636</td><td style = \"text-align: left;\">Valine</td><td style = \"text-align: right;\">4</td><td style = \"text-align: right;\">4</td><td style = \"text-align: right;\">0.174962</td><td style = \"text-align: left;\">rsquared_SLE</td><td style = \"text-align: right;\">0.20673</td></tr><tr><td class = \"rowNumber\" style = \"font-weight: bold; text-align: right;\">637</td><td style = \"text-align: left;\">Valine</td><td style = \"text-align: right;\">1</td><td style = \"text-align: right;\">5</td><td style = \"text-align: right;\">0.174962</td><td style = \"text-align: left;\">rsquared_SLE</td><td style = \"text-align: right;\">0.082128</td></tr><tr><td class = \"rowNumber\" style = \"font-weight: bold; text-align: right;\">638</td><td style = \"text-align: left;\">Valine</td><td style = \"text-align: right;\">2</td><td style = \"text-align: right;\">5</td><td style = \"text-align: right;\">0.174962</td><td style = \"text-align: left;\">rsquared_SLE</td><td style = \"text-align: right;\">0.181047</td></tr><tr><td class = \"rowNumber\" style = \"font-weight: bold; text-align: right;\">639</td><td style = \"text-align: left;\">Valine</td><td style = \"text-align: right;\">3</td><td style = \"text-align: right;\">5</td><td style = \"text-align: right;\">0.174962</td><td style = \"text-align: left;\">rsquared_SLE</td><td style = \"text-align: right;\">0.0243328</td></tr><tr><td class = \"rowNumber\" style = \"font-weight: bold; text-align: right;\">640</td><td style = \"text-align: left;\">Valine</td><td style = \"text-align: right;\">4</td><td style = \"text-align: right;\">5</td><td style = \"text-align: right;\">0.174962</td><td style = \"text-align: left;\">rsquared_SLE</td><td style = \"text-align: right;\">0.279795</td></tr></tbody></table></div>"
      ],
      "text/latex": [
       "\\begin{tabular}{r|cccccc}\n",
       "\t& metabolite\\_name & fold & resample & rsquared\\_SLE\\_mean & measure\\_model & rsquared\\\\\n",
       "\t\\hline\n",
       "\t& String31 & Int64 & Int64 & Float64 & String15 & Float64\\\\\n",
       "\t\\hline\n",
       "\t1 & 2-Methylbutyrate & 1 & 1 & 0.464363 & rsquared\\_SLE & 0.502691 \\\\\n",
       "\t2 & 2-Methylbutyrate & 2 & 1 & 0.464363 & rsquared\\_SLE & 0.493904 \\\\\n",
       "\t3 & 2-Methylbutyrate & 3 & 1 & 0.464363 & rsquared\\_SLE & 0.570162 \\\\\n",
       "\t4 & 2-Methylbutyrate & 4 & 1 & 0.464363 & rsquared\\_SLE & 0.599579 \\\\\n",
       "\t5 & 2-Methylbutyrate & 1 & 2 & 0.464363 & rsquared\\_SLE & 0.460709 \\\\\n",
       "\t6 & 2-Methylbutyrate & 2 & 2 & 0.464363 & rsquared\\_SLE & 0.527259 \\\\\n",
       "\t7 & 2-Methylbutyrate & 3 & 2 & 0.464363 & rsquared\\_SLE & 0.323358 \\\\\n",
       "\t8 & 2-Methylbutyrate & 4 & 2 & 0.464363 & rsquared\\_SLE & 0.341231 \\\\\n",
       "\t9 & 2-Methylbutyrate & 1 & 3 & 0.464363 & rsquared\\_SLE & -0.00293538 \\\\\n",
       "\t10 & 2-Methylbutyrate & 2 & 3 & 0.464363 & rsquared\\_SLE & 0.451128 \\\\\n",
       "\t11 & 2-Methylbutyrate & 3 & 3 & 0.464363 & rsquared\\_SLE & 0.514898 \\\\\n",
       "\t12 & 2-Methylbutyrate & 4 & 3 & 0.464363 & rsquared\\_SLE & 0.501543 \\\\\n",
       "\t13 & 2-Methylbutyrate & 1 & 4 & 0.464363 & rsquared\\_SLE & 0.526799 \\\\\n",
       "\t14 & 2-Methylbutyrate & 2 & 4 & 0.464363 & rsquared\\_SLE & 0.563106 \\\\\n",
       "\t15 & 2-Methylbutyrate & 3 & 4 & 0.464363 & rsquared\\_SLE & 0.539179 \\\\\n",
       "\t16 & 2-Methylbutyrate & 4 & 4 & 0.464363 & rsquared\\_SLE & 0.456497 \\\\\n",
       "\t17 & 2-Methylbutyrate & 1 & 5 & 0.464363 & rsquared\\_SLE & 0.45914 \\\\\n",
       "\t18 & 2-Methylbutyrate & 2 & 5 & 0.464363 & rsquared\\_SLE & 0.427332 \\\\\n",
       "\t19 & 2-Methylbutyrate & 3 & 5 & 0.464363 & rsquared\\_SLE & 0.53856 \\\\\n",
       "\t20 & 2-Methylbutyrate & 4 & 5 & 0.464363 & rsquared\\_SLE & 0.493128 \\\\\n",
       "\t21 & 3-Aminoisobutyrate & 1 & 1 & -0.186566 & rsquared\\_SLE & 0.0723021 \\\\\n",
       "\t22 & 3-Aminoisobutyrate & 2 & 1 & -0.186566 & rsquared\\_SLE & -0.368432 \\\\\n",
       "\t23 & 3-Aminoisobutyrate & 3 & 1 & -0.186566 & rsquared\\_SLE & 0.249253 \\\\\n",
       "\t24 & 3-Aminoisobutyrate & 4 & 1 & -0.186566 & rsquared\\_SLE & -0.145973 \\\\\n",
       "\t$\\dots$ & $\\dots$ & $\\dots$ & $\\dots$ & $\\dots$ & $\\dots$ & $\\dots$ \\\\\n",
       "\\end{tabular}\n"
      ],
      "text/plain": [
       "\u001b[1m640×6 DataFrame\u001b[0m\n",
       "\u001b[1m Row \u001b[0m│\u001b[1m metabolite_name  \u001b[0m\u001b[1m fold  \u001b[0m\u001b[1m resample \u001b[0m\u001b[1m rsquared_SLE_mean \u001b[0m\u001b[1m measure_model \u001b[0m\u001b[1m rs\u001b[0m ⋯\n",
       "     │\u001b[90m String31         \u001b[0m\u001b[90m Int64 \u001b[0m\u001b[90m Int64    \u001b[0m\u001b[90m Float64           \u001b[0m\u001b[90m String15      \u001b[0m\u001b[90m Fl\u001b[0m ⋯\n",
       "─────┼──────────────────────────────────────────────────────────────────────────\n",
       "   1 │ 2-Methylbutyrate      1         1           0.464363  rsquared_SLE    0 ⋯\n",
       "   2 │ 2-Methylbutyrate      2         1           0.464363  rsquared_SLE    0\n",
       "   3 │ 2-Methylbutyrate      3         1           0.464363  rsquared_SLE    0\n",
       "   4 │ 2-Methylbutyrate      4         1           0.464363  rsquared_SLE    0\n",
       "   5 │ 2-Methylbutyrate      1         2           0.464363  rsquared_SLE    0 ⋯\n",
       "   6 │ 2-Methylbutyrate      2         2           0.464363  rsquared_SLE    0\n",
       "   7 │ 2-Methylbutyrate      3         2           0.464363  rsquared_SLE    0\n",
       "   8 │ 2-Methylbutyrate      4         2           0.464363  rsquared_SLE    0\n",
       "  ⋮  │        ⋮            ⋮       ⋮              ⋮                ⋮           ⋱\n",
       " 634 │ Valine                2         4           0.174962  rsquared_SLE    0 ⋯\n",
       " 635 │ Valine                3         4           0.174962  rsquared_SLE    0\n",
       " 636 │ Valine                4         4           0.174962  rsquared_SLE    0\n",
       " 637 │ Valine                1         5           0.174962  rsquared_SLE    0\n",
       " 638 │ Valine                2         5           0.174962  rsquared_SLE    0 ⋯\n",
       " 639 │ Valine                3         5           0.174962  rsquared_SLE    0\n",
       " 640 │ Valine                4         5           0.174962  rsquared_SLE    0\n",
       "\u001b[36m                                                   1 column and 625 rows omitted\u001b[0m"
      ]
     },
     "metadata": {},
     "output_type": "display_data"
    }
   ],
   "source": [
    "df = CSV.read(projectdir(\"_research/SuppTables/Supplementary_Table_4B.tsv\"), DataFrame, delim=\"\\t\", comment=\"#\")"
   ]
  },
  {
   "cell_type": "code",
   "execution_count": 44,
   "metadata": {},
   "outputs": [
    {
     "data": {
      "text/html": [
       "<div><div style = \"float: left;\"><span>15×2 DataFrame</span></div><div style = \"clear: both;\"></div></div><div class = \"data-frame\" style = \"overflow-x: scroll;\"><table class = \"data-frame\" style = \"margin-bottom: 6px;\"><thead><tr class = \"header\"><th class = \"rowNumber\" style = \"font-weight: bold; text-align: right;\">Row</th><th style = \"text-align: left;\">metabolite_name</th><th style = \"text-align: left;\">issufficient</th></tr><tr class = \"subheader headerLastRow\"><th class = \"rowNumber\" style = \"font-weight: bold; text-align: right;\"></th><th title = \"String31\" style = \"text-align: left;\">String31</th><th title = \"Bool\" style = \"text-align: left;\">Bool</th></tr></thead><tbody><tr><td class = \"rowNumber\" style = \"font-weight: bold; text-align: right;\">1</td><td style = \"text-align: left;\">2-Methylbutyrate</td><td style = \"text-align: right;\">true</td></tr><tr><td class = \"rowNumber\" style = \"font-weight: bold; text-align: right;\">2</td><td style = \"text-align: left;\">5-Aminovalerate</td><td style = \"text-align: right;\">true</td></tr><tr><td class = \"rowNumber\" style = \"font-weight: bold; text-align: right;\">3</td><td style = \"text-align: left;\">Acetate</td><td style = \"text-align: right;\">true</td></tr><tr><td class = \"rowNumber\" style = \"font-weight: bold; text-align: right;\">4</td><td style = \"text-align: left;\">Aspartate</td><td style = \"text-align: right;\">true</td></tr><tr><td class = \"rowNumber\" style = \"font-weight: bold; text-align: right;\">5</td><td style = \"text-align: left;\">Butyrate</td><td style = \"text-align: right;\">true</td></tr><tr><td class = \"rowNumber\" style = \"font-weight: bold; text-align: right;\">6</td><td style = \"text-align: left;\">Glycine</td><td style = \"text-align: right;\">true</td></tr><tr><td class = \"rowNumber\" style = \"font-weight: bold; text-align: right;\">7</td><td style = \"text-align: left;\">Isobutyrate</td><td style = \"text-align: right;\">true</td></tr><tr><td class = \"rowNumber\" style = \"font-weight: bold; text-align: right;\">8</td><td style = \"text-align: left;\">Isoleucine</td><td style = \"text-align: right;\">true</td></tr><tr><td class = \"rowNumber\" style = \"font-weight: bold; text-align: right;\">9</td><td style = \"text-align: left;\">Isovaleric-Acid</td><td style = \"text-align: right;\">true</td></tr><tr><td class = \"rowNumber\" style = \"font-weight: bold; text-align: right;\">10</td><td style = \"text-align: left;\">Phenylacetate</td><td style = \"text-align: right;\">true</td></tr><tr><td class = \"rowNumber\" style = \"font-weight: bold; text-align: right;\">11</td><td style = \"text-align: left;\">Propionate</td><td style = \"text-align: right;\">true</td></tr><tr><td class = \"rowNumber\" style = \"font-weight: bold; text-align: right;\">12</td><td style = \"text-align: left;\">Succinate</td><td style = \"text-align: right;\">true</td></tr><tr><td class = \"rowNumber\" style = \"font-weight: bold; text-align: right;\">13</td><td style = \"text-align: left;\">Tryptamine</td><td style = \"text-align: right;\">true</td></tr><tr><td class = \"rowNumber\" style = \"font-weight: bold; text-align: right;\">14</td><td style = \"text-align: left;\">Tryptophan</td><td style = \"text-align: right;\">true</td></tr><tr><td class = \"rowNumber\" style = \"font-weight: bold; text-align: right;\">15</td><td style = \"text-align: left;\">Tyramine</td><td style = \"text-align: right;\">true</td></tr></tbody></table></div>"
      ],
      "text/latex": [
       "\\begin{tabular}{r|cc}\n",
       "\t& metabolite\\_name & issufficient\\\\\n",
       "\t\\hline\n",
       "\t& String31 & Bool\\\\\n",
       "\t\\hline\n",
       "\t1 & 2-Methylbutyrate & 1 \\\\\n",
       "\t2 & 5-Aminovalerate & 1 \\\\\n",
       "\t3 & Acetate & 1 \\\\\n",
       "\t4 & Aspartate & 1 \\\\\n",
       "\t5 & Butyrate & 1 \\\\\n",
       "\t6 & Glycine & 1 \\\\\n",
       "\t7 & Isobutyrate & 1 \\\\\n",
       "\t8 & Isoleucine & 1 \\\\\n",
       "\t9 & Isovaleric-Acid & 1 \\\\\n",
       "\t10 & Phenylacetate & 1 \\\\\n",
       "\t11 & Propionate & 1 \\\\\n",
       "\t12 & Succinate & 1 \\\\\n",
       "\t13 & Tryptamine & 1 \\\\\n",
       "\t14 & Tryptophan & 1 \\\\\n",
       "\t15 & Tyramine & 1 \\\\\n",
       "\\end{tabular}\n"
      ],
      "text/plain": [
       "\u001b[1m15×2 DataFrame\u001b[0m\n",
       "\u001b[1m Row \u001b[0m│\u001b[1m metabolite_name  \u001b[0m\u001b[1m issufficient \u001b[0m\n",
       "     │\u001b[90m String31         \u001b[0m\u001b[90m Bool         \u001b[0m\n",
       "─────┼────────────────────────────────\n",
       "   1 │ 2-Methylbutyrate          true\n",
       "   2 │ 5-Aminovalerate           true\n",
       "   3 │ Acetate                   true\n",
       "   4 │ Aspartate                 true\n",
       "   5 │ Butyrate                  true\n",
       "   6 │ Glycine                   true\n",
       "   7 │ Isobutyrate               true\n",
       "   8 │ Isoleucine                true\n",
       "   9 │ Isovaleric-Acid           true\n",
       "  10 │ Phenylacetate             true\n",
       "  11 │ Propionate                true\n",
       "  12 │ Succinate                 true\n",
       "  13 │ Tryptamine                true\n",
       "  14 │ Tryptophan                true\n",
       "  15 │ Tyramine                  true"
      ]
     },
     "metadata": {},
     "output_type": "display_data"
    }
   ],
   "source": [
    "groupby(df, :metabolite_name) |>\n",
    "    df -> combine(df, :rsquared_SLE_mean => (x -> median(x)>0.24) => :issufficient) |>\n",
    "    df -> filter(:issufficient=> ==(true), df)"
   ]
  },
  {
   "cell_type": "code",
   "execution_count": null,
   "metadata": {},
   "outputs": [],
   "source": []
  }
 ],
 "metadata": {
  "kernelspec": {
   "display_name": "Julia 1.9.1",
   "language": "julia",
   "name": "julia-1.9"
  },
  "language_info": {
   "file_extension": ".jl",
   "mimetype": "application/julia",
   "name": "julia",
   "version": "1.9.1"
  },
  "orig_nbformat": 4
 },
 "nbformat": 4,
 "nbformat_minor": 2
}
