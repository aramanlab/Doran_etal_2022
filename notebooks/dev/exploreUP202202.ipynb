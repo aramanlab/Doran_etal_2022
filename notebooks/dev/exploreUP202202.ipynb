{
 "cells": [
  {
   "cell_type": "code",
   "execution_count": 1,
   "metadata": {},
   "outputs": [],
   "source": [
    "using DrWatson\n",
    "@quickactivate \"Doran_etal_2022\"\n",
    "\n",
    "using CSV, DataFrames"
   ]
  },
  {
   "cell_type": "code",
   "execution_count": 36,
   "metadata": {},
   "outputs": [
    {
     "data": {
      "text/html": [
       "<div class=\"data-frame\"><p>8,883 rows × 11 columns (omitted printing of 8 columns)</p><table class=\"data-frame\"><thead><tr><th></th><th>Proteome ID</th><th>Organism ID</th><th>Organism</th></tr><tr><th></th><th title=\"String15\">String15</th><th title=\"Int64\">Int64</th><th title=\"String\">String</th></tr></thead><tbody><tr><th>1</th><td>UP000003058</td><td>765914</td><td>Thiorhodospira sibirica ATCC 700588 (Strain: ATCC 700588)</td></tr><tr><th>2</th><td>UP000243524</td><td>2018042</td><td>Halalkalibacillus sediminis (Strain: B3227)</td></tr><tr><th>3</th><td>UP000283134</td><td>1571833</td><td>Arthrobacter sp. MN05-02 (Strain: MN05-02)</td></tr><tr><th>4</th><td>UP000199158</td><td>474960</td><td>Hydrogenoanaerobacterium saccharovorans (Strain: CGMCC 1.5070)</td></tr><tr><th>5</th><td>UP000297642</td><td>2555642</td><td>Psychromonas sp. RZ5 (Strain: RZ5)</td></tr><tr><th>6</th><td>UP000018230</td><td>1262941</td><td>Roseburia sp. CAG:18 (Strain: MGS:18)</td></tr><tr><th>7</th><td>UP000003904</td><td>744979</td><td>Ahrensia sp. R2A130 (Strain: R2A130)</td></tr><tr><th>8</th><td>UP000293400</td><td>1977087</td><td>Proteobacteria bacterium</td></tr><tr><th>9</th><td>UP000261704</td><td>2171755</td><td>Profundibacter amoris (Strain: BAR1)</td></tr><tr><th>10</th><td>UP000033187</td><td>1608628</td><td>Candidatus Filomicrobium marinum (Strain: strain Y)</td></tr><tr><th>11</th><td>UP000029050</td><td>218140</td><td>Bifidobacterium psychraerophilum (Strain: LMG 21775)</td></tr><tr><th>12</th><td>UP000281409</td><td>1522762</td><td>Streptomyces sp. ADI97-07 (Strain: ADI97-07)</td></tr><tr><th>13</th><td>UP000237697</td><td>2080573</td><td>Pseudoclavibacter sp. RFBA6 (Strain: RFBA6)</td></tr><tr><th>14</th><td>UP000030832</td><td>333138</td><td>Alkalihalobacillus okhensis (Strain: Kh10-101T)</td></tr><tr><th>15</th><td>UP000000645</td><td>232721</td><td>Acidovorax sp. (strain JS42) (Strain: JS42)</td></tr><tr><th>16</th><td>UP000324536</td><td>2592655</td><td>Acetobacter sp. KACC 21233 (Strain: KACC 21233)</td></tr><tr><th>17</th><td>UP000219565</td><td>756689</td><td>Nocardia amikacinitolerans (Strain: DSM 45537)</td></tr><tr><th>18</th><td>UP000070250</td><td>465721</td><td>Steroidobacter denitrificans (Strain: DSM 18526)</td></tr><tr><th>19</th><td>UP000254070</td><td>53345</td><td>Enterococcus durans (Strain: NCTC8129)</td></tr><tr><th>20</th><td>UP000199127</td><td>1798184</td><td>Sarcina sp. DSM 11001 (Strain: DSM 11001)</td></tr><tr><th>21</th><td>UP000236230</td><td>2066051</td><td>Enterobacteriaceae bacterium ENNIH1 (Strain: ENNIH1)</td></tr><tr><th>22</th><td>UP000057981</td><td>1736674</td><td>Algibacter alginicilyticus (Strain: HZ-22)</td></tr><tr><th>23</th><td>UP000307956</td><td>2565932</td><td>Azoarcus rhizosphaerae (Strain: CC-YHH848)</td></tr><tr><th>24</th><td>UP000252940</td><td>2249812</td><td>Roseovarius sp. TE539 (Strain: TE539)</td></tr><tr><th>&vellip;</th><td>&vellip;</td><td>&vellip;</td><td>&vellip;</td></tr></tbody></table></div>"
      ],
      "text/latex": [
       "\\begin{tabular}{r|cccc}\n",
       "\t& Proteome ID & Organism ID & Organism & \\\\\n",
       "\t\\hline\n",
       "\t& String15 & Int64 & String & \\\\\n",
       "\t\\hline\n",
       "\t1 & UP000003058 & 765914 & Thiorhodospira sibirica ATCC 700588 (Strain: ATCC 700588) & $\\dots$ \\\\\n",
       "\t2 & UP000243524 & 2018042 & Halalkalibacillus sediminis (Strain: B3227) & $\\dots$ \\\\\n",
       "\t3 & UP000283134 & 1571833 & Arthrobacter sp. MN05-02 (Strain: MN05-02) & $\\dots$ \\\\\n",
       "\t4 & UP000199158 & 474960 & Hydrogenoanaerobacterium saccharovorans (Strain: CGMCC 1.5070) & $\\dots$ \\\\\n",
       "\t5 & UP000297642 & 2555642 & Psychromonas sp. RZ5 (Strain: RZ5) & $\\dots$ \\\\\n",
       "\t6 & UP000018230 & 1262941 & Roseburia sp. CAG:18 (Strain: MGS:18) & $\\dots$ \\\\\n",
       "\t7 & UP000003904 & 744979 & Ahrensia sp. R2A130 (Strain: R2A130) & $\\dots$ \\\\\n",
       "\t8 & UP000293400 & 1977087 & Proteobacteria bacterium & $\\dots$ \\\\\n",
       "\t9 & UP000261704 & 2171755 & Profundibacter amoris (Strain: BAR1) & $\\dots$ \\\\\n",
       "\t10 & UP000033187 & 1608628 & Candidatus Filomicrobium marinum (Strain: strain Y) & $\\dots$ \\\\\n",
       "\t11 & UP000029050 & 218140 & Bifidobacterium psychraerophilum (Strain: LMG 21775) & $\\dots$ \\\\\n",
       "\t12 & UP000281409 & 1522762 & Streptomyces sp. ADI97-07 (Strain: ADI97-07) & $\\dots$ \\\\\n",
       "\t13 & UP000237697 & 2080573 & Pseudoclavibacter sp. RFBA6 (Strain: RFBA6) & $\\dots$ \\\\\n",
       "\t14 & UP000030832 & 333138 & Alkalihalobacillus okhensis (Strain: Kh10-101T) & $\\dots$ \\\\\n",
       "\t15 & UP000000645 & 232721 & Acidovorax sp. (strain JS42) (Strain: JS42) & $\\dots$ \\\\\n",
       "\t16 & UP000324536 & 2592655 & Acetobacter sp. KACC 21233 (Strain: KACC 21233) & $\\dots$ \\\\\n",
       "\t17 & UP000219565 & 756689 & Nocardia amikacinitolerans (Strain: DSM 45537) & $\\dots$ \\\\\n",
       "\t18 & UP000070250 & 465721 & Steroidobacter denitrificans (Strain: DSM 18526) & $\\dots$ \\\\\n",
       "\t19 & UP000254070 & 53345 & Enterococcus durans (Strain: NCTC8129) & $\\dots$ \\\\\n",
       "\t20 & UP000199127 & 1798184 & Sarcina sp. DSM 11001 (Strain: DSM 11001) & $\\dots$ \\\\\n",
       "\t21 & UP000236230 & 2066051 & Enterobacteriaceae bacterium ENNIH1 (Strain: ENNIH1) & $\\dots$ \\\\\n",
       "\t22 & UP000057981 & 1736674 & Algibacter alginicilyticus (Strain: HZ-22) & $\\dots$ \\\\\n",
       "\t23 & UP000307956 & 2565932 & Azoarcus rhizosphaerae (Strain: CC-YHH848) & $\\dots$ \\\\\n",
       "\t24 & UP000252940 & 2249812 & Roseovarius sp. TE539 (Strain: TE539) & $\\dots$ \\\\\n",
       "\t$\\dots$ & $\\dots$ & $\\dots$ & $\\dots$ &  \\\\\n",
       "\\end{tabular}\n"
      ],
      "text/plain": [
       "\u001b[1m8883×11 DataFrame\u001b[0m\n",
       "\u001b[1m  Row \u001b[0m│\u001b[1m Proteome ID \u001b[0m\u001b[1m Organism ID \u001b[0m\u001b[1m Organism                          \u001b[0m\u001b[1m Taxonomic\u001b[0m ⋯\n",
       "\u001b[1m      \u001b[0m│\u001b[90m String15    \u001b[0m\u001b[90m Int64       \u001b[0m\u001b[90m String                            \u001b[0m\u001b[90m String   \u001b[0m ⋯\n",
       "──────┼─────────────────────────────────────────────────────────────────────────\n",
       "    1 │ UP000003058       765914  Thiorhodospira sibirica ATCC 700…  Bacteria, ⋯\n",
       "    2 │ UP000243524      2018042  Halalkalibacillus sediminis (Str…  Bacteria,\n",
       "    3 │ UP000283134      1571833  Arthrobacter sp. MN05-02 (Strain…  Bacteria,\n",
       "    4 │ UP000199158       474960  Hydrogenoanaerobacterium sacchar…  Bacteria,\n",
       "    5 │ UP000297642      2555642  Psychromonas sp. RZ5 (Strain: RZ…  Bacteria, ⋯\n",
       "    6 │ UP000018230      1262941  Roseburia sp. CAG:18 (Strain: MG…  Bacteria,\n",
       "    7 │ UP000003904       744979  Ahrensia sp. R2A130 (Strain: R2A…  Bacteria,\n",
       "    8 │ UP000293400      1977087  Proteobacteria bacterium           Bacteria,\n",
       "  ⋮   │      ⋮            ⋮                       ⋮                            ⋱\n",
       " 8877 │ UP000244044      1897632  Saccharospirillum sp. MSK14-1 (S…  Bacteria, ⋯\n",
       " 8878 │ UP000035763      1193182  Tetrasphaera australiensis Ben11…  Bacteria,\n",
       " 8879 │ UP000527143       643568  Sphingomonas xinjiangensis (Stra…  Bacteria,\n",
       " 8880 │ UP000515947       433659  Nocardioides mesophilus (Strain:…  Bacteria,\n",
       " 8881 │ UP000323458      2597345  Dietzia sp. ANT_WB102 (Strain: A…  Bacteria, ⋯\n",
       " 8882 │ UP000463857      1891644  Epidermidibacterium keratini (St…  Bacteria,\n",
       " 8883 │ UP000004291       411684  Hoeflea phototrophica (strain DS…  Bacteria,\n",
       "\u001b[36m                                                 8 columns and 8868 rows omitted\u001b[0m"
      ]
     },
     "metadata": {},
     "output_type": "display_data"
    }
   ],
   "source": [
    "# updf = CSV.read(\"/Users/ben/Downloads/2022_02_UPraw_rowmeta.tsv\", DataFrame; delim=\"\\t\")\n",
    "updf = CSV.read(\"/Users/ben/Downloads/UP8883.tsv\", DataFrame; delim=\"\\t\")"
   ]
  },
  {
   "cell_type": "code",
   "execution_count": 21,
   "metadata": {},
   "outputs": [
    {
     "data": {
      "text/plain": [
       "46"
      ]
     },
     "metadata": {},
     "output_type": "display_data"
    }
   ],
   "source": [
    "8927 - 8881"
   ]
  },
  {
   "cell_type": "code",
   "execution_count": 35,
   "metadata": {},
   "outputs": [],
   "source": [
    "upids = open(\"../../_research/UP202202IDS.txt\") do io\n",
    "    upids=Vector{String}()\n",
    "    while !eof(io)\n",
    "        push!(upids, strip(readline(io)))\n",
    "    end\n",
    "    upids\n",
    "end;"
   ]
  },
  {
   "cell_type": "code",
   "execution_count": 44,
   "metadata": {},
   "outputs": [],
   "source": [
    "up8881 = updf[findall(!isnothing, indexin(updf[:, \"Proteome ID\"], upids)), :];"
   ]
  },
  {
   "cell_type": "code",
   "execution_count": 47,
   "metadata": {},
   "outputs": [],
   "source": [
    "up8881[!,:proteomeID] = up8881[!, \"Proteome ID\"];\n"
   ]
  },
  {
   "cell_type": "code",
   "execution_count": 62,
   "metadata": {},
   "outputs": [],
   "source": [
    "ncbitaxons = up8881[!, \"Taxonomic lineage\"] |>\n",
    "    x->split.(x, \", \") |>\n",
    "    x-> begin\n",
    "        y = Vector{Vector{String}}()\n",
    "        for v in x\n",
    "            push!(y, vcat(v, repeat([\"unclassified\"], 9-length(v))))\n",
    "        end\n",
    "        y\n",
    "    end |>\n",
    "    x->hcat(x...) |>\n",
    "    permutedims;"
   ]
  },
  {
   "cell_type": "code",
   "execution_count": null,
   "metadata": {},
   "outputs": [],
   "source": []
  }
 ],
 "metadata": {
  "kernelspec": {
   "display_name": "Julia 1.7.2",
   "language": "julia",
   "name": "julia-1.7"
  },
  "language_info": {
   "file_extension": ".jl",
   "mimetype": "application/julia",
   "name": "julia",
   "version": "1.7.2"
  },
  "orig_nbformat": 4
 },
 "nbformat": 4,
 "nbformat_minor": 2
}
