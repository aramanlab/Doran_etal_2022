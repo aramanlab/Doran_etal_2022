{
 "cells": [
  {
   "cell_type": "code",
   "execution_count": 1,
   "metadata": {},
   "outputs": [],
   "source": [
    "using DrWatson\n",
    "@quickactivate \"Doran_etal_2022\"\n",
    "using SPI\n",
    "using NewickTreeTools"
   ]
  },
  {
   "cell_type": "code",
   "execution_count": 2,
   "metadata": {},
   "outputs": [],
   "source": [
    "# tiplabels = string.([:A, :B, :C, :D, :E])\n",
    "dij = calc_spi_mtx(rand(100,50))\n",
    "hc = hclust(dij, linkage=:average, branchorder=:optimal);"
   ]
  },
  {
   "cell_type": "code",
   "execution_count": 3,
   "metadata": {},
   "outputs": [
    {
     "name": "stdout",
     "output_type": "stream",
     "text": [
      "  0.000079 seconds (1.10 k allocations: 161.438 KiB)\n",
      "  0.000448 seconds (4.88 k allocations: 479.797 KiB)\n"
     ]
    }
   ],
   "source": [
    "SPI.nwstr(hc);\n",
    "NewickTree.nwstr(newick(hc));\n",
    "@time SPI.nwstr(hc);\n",
    "@time NewickTree.nwstr(newick(hc));"
   ]
  },
  {
   "cell_type": "code",
   "execution_count": 4,
   "metadata": {},
   "outputs": [],
   "source": [
    "# tiplabels = string.([:A, :B, :C, :D, :E])\n",
    "dij = calc_spi_mtx(rand(20000,50))\n",
    "hc = hclust(dij, linkage=:average, branchorder=:optimal);"
   ]
  },
  {
   "cell_type": "code",
   "execution_count": 6,
   "metadata": {},
   "outputs": [
    {
     "name": "stdout",
     "output_type": "stream",
     "text": [
      "  0.026278 seconds (220.00 k allocations: 47.406 MiB, 17.02% gc time)\n",
      "  0.184846 seconds (983.84 k allocations: 137.337 MiB, 23.76% gc time)\n"
     ]
    }
   ],
   "source": [
    "@time SPI.nwstr(hc);\n",
    "@time NewickTree.nwstr(newick(hc));"
   ]
  },
  {
   "cell_type": "code",
   "execution_count": null,
   "metadata": {},
   "outputs": [],
   "source": []
  }
 ],
 "metadata": {
  "kernelspec": {
   "display_name": "Julia 1.7.2",
   "language": "julia",
   "name": "julia-1.7"
  },
  "language_info": {
   "file_extension": ".jl",
   "mimetype": "application/julia",
   "name": "julia",
   "version": "1.7.2"
  },
  "orig_nbformat": 4
 },
 "nbformat": 4,
 "nbformat_minor": 2
}
