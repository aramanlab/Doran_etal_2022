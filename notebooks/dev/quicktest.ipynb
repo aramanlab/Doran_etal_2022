{
 "cells": [
  {
   "cell_type": "code",
   "execution_count": 1,
   "metadata": {},
   "outputs": [],
   "source": [
    "using DrWatson\n",
    "@quickactivate \"Doran_etal_2022\"\n",
    "using SPI\n",
    "using NewickTreeTools"
   ]
  },
  {
   "cell_type": "code",
   "execution_count": 2,
   "metadata": {},
   "outputs": [],
   "source": [
    "# tiplabels = string.([:A, :B, :C, :D, :E])\n",
    "dij = calc_spi_mtx(rand(100,50))\n",
    "hc = hclust(dij, linkage=:average, branchorder=:optimal);"
   ]
  },
  {
   "cell_type": "code",
   "execution_count": 3,
   "metadata": {},
   "outputs": [
    {
     "name": "stdout",
     "output_type": "stream",
     "text": [
      "  0.000079 seconds (1.10 k allocations: 174.859 KiB)\n",
      "  0.000455 seconds (4.88 k allocations: 539.500 KiB)\n"
     ]
    }
   ],
   "source": [
    "SPI.nwstr(hc);\n",
    "NewickTree.nwstr(newick(hc));\n",
    "@time SPI.nwstr(hc);\n",
    "@time NewickTree.nwstr(newick(hc));"
   ]
  },
  {
   "cell_type": "code",
   "execution_count": 4,
   "metadata": {},
   "outputs": [],
   "source": [
    "# tiplabels = string.([:A, :B, :C, :D, :E])\n",
    "dij = calc_spi_mtx(rand(20000,50))\n",
    "hc = hclust(dij, linkage=:average, branchorder=:optimal);"
   ]
  },
  {
   "cell_type": "code",
   "execution_count": 7,
   "metadata": {},
   "outputs": [
    {
     "name": "stdout",
     "output_type": "stream",
     "text": [
      "  0.021892 seconds (220.00 k allocations: 51.007 MiB, 18.02% gc time)\n",
      "  0.179651 seconds (983.57 k allocations: 147.336 MiB, 24.87% gc time)\n"
     ]
    }
   ],
   "source": [
    "SPI.nwstr(hc);\n",
    "NewickTree.nwstr(newick(hc));\n",
    "@time SPI.nwstr(hc);\n",
    "@time NewickTree.nwstr(newick(hc));"
   ]
  },
  {
   "cell_type": "code",
   "execution_count": 6,
   "metadata": {},
   "outputs": [],
   "source": []
  }
 ],
 "metadata": {
  "kernelspec": {
   "display_name": "Julia 1.7.2",
   "language": "julia",
   "name": "julia-1.7"
  },
  "language_info": {
   "file_extension": ".jl",
   "mimetype": "application/julia",
   "name": "julia",
   "version": "1.7.2"
  },
  "orig_nbformat": 4
 },
 "nbformat": 4,
 "nbformat_minor": 2
}
