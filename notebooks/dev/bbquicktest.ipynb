{
 "cells": [
  {
   "cell_type": "code",
   "execution_count": 1,
   "metadata": {},
   "outputs": [],
   "source": [
    "using DrWatson\n",
    "@quickactivate \"Doran_etal_2022\"\n",
    "\n",
    "using DataFrames, CSV\n",
    "using Statistics"
   ]
  },
  {
   "cell_type": "code",
   "execution_count": 2,
   "metadata": {},
   "outputs": [],
   "source": [
    "bb = CSV.read(\n",
    "    joinpath(datadir(), \"exp_raw\", \"BB673\", \"commensal_metabolomics_ogg_matrix_20220307.csv\"), \n",
    "    DataFrame; \n",
    "    missingstring=\"NA\");"
   ]
  },
  {
   "cell_type": "code",
   "execution_count": 4,
   "metadata": {},
   "outputs": [],
   "source": [
    "BBIDS = join.(split.(bb.unique_id, r\"\\[|\\]\")) |> x->join.(split.(x, r\" \"), \"_\");\n",
    "BBtaxa = bb[!,  2:7]\n",
    "BBtaxa[!,:donor] = last.(first.(split.(BBIDS, \".\"),2));\n",
    "BBMfc = bb[:,  8:45]\n",
    "BB4mM = bb[:, 46:49]\n",
    "BBMmM = bb[!, 46:55]\n",
    "BBOGG = bb[!, 56:end];"
   ]
  },
  {
   "cell_type": "code",
   "execution_count": 12,
   "metadata": {},
   "outputs": [
    {
     "data": {
      "text/plain": [
       "0.0"
      ]
     },
     "metadata": {},
     "output_type": "display_data"
    }
   ],
   "source": [
    "mean(ismissing.(Matrix(BB4mM)))"
   ]
  },
  {
   "cell_type": "code",
   "execution_count": 13,
   "metadata": {},
   "outputs": [
    {
     "data": {
      "text/plain": [
       "4.449831860483303"
      ]
     },
     "metadata": {},
     "output_type": "display_data"
    }
   ],
   "source": [
    "mean(ismissing.(Matrix(BBMfc))) * 100"
   ]
  },
  {
   "cell_type": "code",
   "execution_count": null,
   "metadata": {},
   "outputs": [],
   "source": []
  }
 ],
 "metadata": {
  "kernelspec": {
   "display_name": "Julia 1.7.3",
   "language": "julia",
   "name": "julia-1.7"
  },
  "language_info": {
   "file_extension": ".jl",
   "mimetype": "application/julia",
   "name": "julia",
   "version": "1.7.3"
  },
  "orig_nbformat": 4
 },
 "nbformat": 4,
 "nbformat_minor": 2
}
