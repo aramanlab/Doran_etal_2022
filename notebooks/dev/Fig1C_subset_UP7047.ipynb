{
 "cells": [
  {
   "cell_type": "code",
   "execution_count": 2,
   "metadata": {},
   "outputs": [],
   "source": [
    "using DrWatson\n",
    "@quickactivate \"Doran_etal_2022\"\n",
    "\n",
    "using Muon, CSV, DataFrames"
   ]
  },
  {
   "cell_type": "code",
   "execution_count": null,
   "metadata": {},
   "outputs": [],
   "source": [
    "# rowmeta = CSV.read(datadir(\"exp_raw\", \"UP7047\", \"UProwmeta.csv\"), DataFrame);\n",
    "uniprot = readh5ad(joinpath(datadir(), \"exp_pro\", \"UP7047\", \"2020_02_UP7047.h5ad\"))\n",
    "rowmeta = uniprot.obs[:, :];"
   ]
  },
  {
   "cell_type": "code",
   "execution_count": 37,
   "metadata": {},
   "outputs": [
    {
     "data": {
      "text/plain": [
       "\"/Users/ben/projects/Doran_etal_2022/data/exp_pro/UPsubsetMSAs\""
      ]
     },
     "metadata": {},
     "output_type": "display_data"
    }
   ],
   "source": [
    "outdir = datadir(\"exp_pro\", \"UPsubsetMSAs\")\n",
    "mkpath(outdir)"
   ]
  },
  {
   "cell_type": "markdown",
   "metadata": {},
   "source": [
    "## Subset to different number of taxa\n",
    "\n",
    "* 25 taxa at Genus level (Ruminococcus)\n",
    "* 50 taxa at Family level (Rhodospirillaceae)\n",
    "* 103 taxa at Order level (Oceanospirillales)\n",
    "* 211 taxa at Class level (Bacteroidia)"
   ]
  },
  {
   "cell_type": "code",
   "execution_count": 22,
   "metadata": {},
   "outputs": [
    {
     "data": {
      "text/html": [
       "<div class=\"data-frame\"><p>2 rows × 2 columns</p><table class=\"data-frame\"><thead><tr><th></th><th>Genus</th><th>nrow</th></tr><tr><th></th><th title=\"String\">String</th><th title=\"Int64\">Int64</th></tr></thead><tbody><tr><th>1</th><td>Helicobacter</td><td>26</td></tr><tr><th>2</th><td>Ruminococcus</td><td>25</td></tr></tbody></table></div>"
      ],
      "text/latex": [
       "\\begin{tabular}{r|cc}\n",
       "\t& Genus & nrow\\\\\n",
       "\t\\hline\n",
       "\t& String & Int64\\\\\n",
       "\t\\hline\n",
       "\t1 & Helicobacter & 26 \\\\\n",
       "\t2 & Ruminococcus & 25 \\\\\n",
       "\\end{tabular}\n"
      ],
      "text/plain": [
       "\u001b[1m2×2 DataFrame\u001b[0m\n",
       "\u001b[1m Row \u001b[0m│\u001b[1m Genus        \u001b[0m\u001b[1m nrow  \u001b[0m\n",
       "\u001b[1m     \u001b[0m│\u001b[90m String       \u001b[0m\u001b[90m Int64 \u001b[0m\n",
       "─────┼─────────────────────\n",
       "   1 │ Helicobacter     26\n",
       "   2 │ Ruminococcus     25"
      ]
     },
     "metadata": {},
     "output_type": "display_data"
    }
   ],
   "source": [
    "combine(nrow, groupby(rowmeta, :Genus)) |>\n",
    "    df->sort(df, :nrow, rev=true) |>\n",
    "    df->filter(:nrow=>x->24 .< x .< 27, df)"
   ]
  },
  {
   "cell_type": "code",
   "execution_count": 51,
   "metadata": {},
   "outputs": [],
   "source": [
    "mask = findall(==(\"Ruminococcus\"), rowmeta.Genus);\n",
    "subsetMSA = Char.(replace(uniprot.X[mask, :] .> 0.0, true=>'T', false=>'A'))\n",
    "open(joinpath(outdir, \"UPsubset_taxa=25_level=Genus_group=Ruminococcus_alphabet=AT.phy\"), \"w\") do io\n",
    "    println(io, size(subsetMSA, 1), \" \", size(subsetMSA, 2))\n",
    "    for (id, row) in zip(rowmeta.proteomeID[mask], eachslice(subsetMSA, dims=1))\n",
    "        println(io, id, \"    \", join(row))\n",
    "    end\n",
    "end"
   ]
  },
  {
   "cell_type": "code",
   "execution_count": 52,
   "metadata": {},
   "outputs": [
    {
     "data": {
      "text/html": [
       "<div class=\"data-frame\"><p>2 rows × 2 columns</p><table class=\"data-frame\"><thead><tr><th></th><th>Family</th><th>nrow</th></tr><tr><th></th><th title=\"String\">String</th><th title=\"Int64\">Int64</th></tr></thead><tbody><tr><th>1</th><td>Alteromonadaceae</td><td>51</td></tr><tr><th>2</th><td>Rhodospirillaceae</td><td>50</td></tr></tbody></table></div>"
      ],
      "text/latex": [
       "\\begin{tabular}{r|cc}\n",
       "\t& Family & nrow\\\\\n",
       "\t\\hline\n",
       "\t& String & Int64\\\\\n",
       "\t\\hline\n",
       "\t1 & Alteromonadaceae & 51 \\\\\n",
       "\t2 & Rhodospirillaceae & 50 \\\\\n",
       "\\end{tabular}\n"
      ],
      "text/plain": [
       "\u001b[1m2×2 DataFrame\u001b[0m\n",
       "\u001b[1m Row \u001b[0m│\u001b[1m Family            \u001b[0m\u001b[1m nrow  \u001b[0m\n",
       "\u001b[1m     \u001b[0m│\u001b[90m String            \u001b[0m\u001b[90m Int64 \u001b[0m\n",
       "─────┼──────────────────────────\n",
       "   1 │ Alteromonadaceae      51\n",
       "   2 │ Rhodospirillaceae     50"
      ]
     },
     "metadata": {},
     "output_type": "display_data"
    }
   ],
   "source": [
    "combine(nrow, groupby(rowmeta, :Family)) |>\n",
    "    df->sort(df, :nrow, rev=true) |>\n",
    "    df->filter(:nrow=>x->48 .< x .< 52, df)"
   ]
  },
  {
   "cell_type": "code",
   "execution_count": 53,
   "metadata": {},
   "outputs": [],
   "source": [
    "mask = findall(==(\"Rhodospirillaceae\"), rowmeta.Family);\n",
    "subsetMSA = Char.(replace(uniprot.X[mask, :] .> 0.0, true=>'T', false=>'A'))\n",
    "open(joinpath(outdir, \"UPsubset_taxa=50_level=Family_group=Rhodospirillaceae_alphabet=AT.phy\"), \"w\") do io\n",
    "    println(io, size(subsetMSA, 1), \" \", size(subsetMSA, 2))\n",
    "    for (id, row) in zip(rowmeta.proteomeID[mask], eachslice(subsetMSA, dims=1))\n",
    "        println(io, id, \"    \", join(row))\n",
    "    end\n",
    "end"
   ]
  },
  {
   "cell_type": "code",
   "execution_count": 54,
   "metadata": {},
   "outputs": [
    {
     "data": {
      "text/html": [
       "<div class=\"data-frame\"><p>2 rows × 2 columns</p><table class=\"data-frame\"><thead><tr><th></th><th>Order</th><th>nrow</th></tr><tr><th></th><th title=\"String\">String</th><th title=\"Int64\">Int64</th></tr></thead><tbody><tr><th>1</th><td>Oceanospirillales</td><td>103</td></tr><tr><th>2</th><td>Pseudomonadales</td><td>97</td></tr></tbody></table></div>"
      ],
      "text/latex": [
       "\\begin{tabular}{r|cc}\n",
       "\t& Order & nrow\\\\\n",
       "\t\\hline\n",
       "\t& String & Int64\\\\\n",
       "\t\\hline\n",
       "\t1 & Oceanospirillales & 103 \\\\\n",
       "\t2 & Pseudomonadales & 97 \\\\\n",
       "\\end{tabular}\n"
      ],
      "text/plain": [
       "\u001b[1m2×2 DataFrame\u001b[0m\n",
       "\u001b[1m Row \u001b[0m│\u001b[1m Order             \u001b[0m\u001b[1m nrow  \u001b[0m\n",
       "\u001b[1m     \u001b[0m│\u001b[90m String            \u001b[0m\u001b[90m Int64 \u001b[0m\n",
       "─────┼──────────────────────────\n",
       "   1 │ Oceanospirillales    103\n",
       "   2 │ Pseudomonadales       97"
      ]
     },
     "metadata": {},
     "output_type": "display_data"
    }
   ],
   "source": [
    "combine(nrow, groupby(rowmeta, :Order)) |>\n",
    "    df->sort(df, :nrow, rev=true) |>\n",
    "    df->filter(:nrow=>x->95 .< x .< 105, df)"
   ]
  },
  {
   "cell_type": "code",
   "execution_count": 55,
   "metadata": {},
   "outputs": [],
   "source": [
    "mask = findall(==(\"Oceanospirillales\"), rowmeta.Order);\n",
    "subsetMSA = Char.(replace(uniprot.X[mask, :] .> 0.0, true=>'T', false=>'A'))\n",
    "open(joinpath(outdir, \"UPsubset_taxa=103_level=Order_group=Oceanospirillales_alphabet=AT.phy\"), \"w\") do io\n",
    "    println(io, size(subsetMSA, 1), \" \", size(subsetMSA, 2))\n",
    "    for (id, row) in zip(rowmeta.proteomeID[mask], eachslice(subsetMSA, dims=1))\n",
    "        println(io, id, \"    \", join(row))\n",
    "    end\n",
    "end"
   ]
  },
  {
   "cell_type": "code",
   "execution_count": 56,
   "metadata": {},
   "outputs": [
    {
     "data": {
      "text/html": [
       "<div class=\"data-frame\"><p>1 rows × 2 columns</p><table class=\"data-frame\"><thead><tr><th></th><th>Class</th><th>nrow</th></tr><tr><th></th><th title=\"String\">String</th><th title=\"Int64\">Int64</th></tr></thead><tbody><tr><th>1</th><td>Bacteroidia</td><td>211</td></tr></tbody></table></div>"
      ],
      "text/latex": [
       "\\begin{tabular}{r|cc}\n",
       "\t& Class & nrow\\\\\n",
       "\t\\hline\n",
       "\t& String & Int64\\\\\n",
       "\t\\hline\n",
       "\t1 & Bacteroidia & 211 \\\\\n",
       "\\end{tabular}\n"
      ],
      "text/plain": [
       "\u001b[1m1×2 DataFrame\u001b[0m\n",
       "\u001b[1m Row \u001b[0m│\u001b[1m Class       \u001b[0m\u001b[1m nrow  \u001b[0m\n",
       "\u001b[1m     \u001b[0m│\u001b[90m String      \u001b[0m\u001b[90m Int64 \u001b[0m\n",
       "─────┼────────────────────\n",
       "   1 │ Bacteroidia    211"
      ]
     },
     "metadata": {},
     "output_type": "display_data"
    }
   ],
   "source": [
    "combine(nrow, groupby(rowmeta, :Class)) |>\n",
    "    df->sort(df, :nrow, rev=true) |>\n",
    "    df->filter(:nrow=>x->190 .< x .< 215, df)"
   ]
  },
  {
   "cell_type": "code",
   "execution_count": 57,
   "metadata": {},
   "outputs": [],
   "source": [
    "mask = findall(==(\"Bacteroidia\"), rowmeta.Class);\n",
    "subsetMSA = Char.(replace(uniprot.X[mask, :] .> 0.0, true=>'T', false=>'A'))\n",
    "open(joinpath(outdir, \"UPsubset_taxa=211_level=Class_group=Bacteroidia_alphabet=AT.phy\"), \"w\") do io\n",
    "    println(io, size(subsetMSA, 1), \" \", size(subsetMSA, 2))\n",
    "    for (id, row) in zip(rowmeta.proteomeID[mask], eachslice(subsetMSA, dims=1))\n",
    "        println(io, id, \"    \", join(row))\n",
    "    end\n",
    "end"
   ]
  },
  {
   "cell_type": "markdown",
   "metadata": {},
   "source": [
    "## "
   ]
  }
 ],
 "metadata": {
  "kernelspec": {
   "display_name": "Julia 1.7.3",
   "language": "julia",
   "name": "julia-1.7"
  },
  "language_info": {
   "file_extension": ".jl",
   "mimetype": "application/julia",
   "name": "julia",
   "version": "1.7.3"
  },
  "orig_nbformat": 4
 },
 "nbformat": 4,
 "nbformat_minor": 2
}
